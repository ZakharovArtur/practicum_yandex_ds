{
 "cells": [
  {
   "cell_type": "markdown",
   "metadata": {},
   "source": [
    "# Исследование надёжности заёмщиков\n",
    "\n",
    "Заказчик — кредитный отдел банка. Нужно разобраться, влияет ли семейное положение и количество детей клиента на факт погашения кредита в срок. Входные данные от банка — статистика о платёжеспособности клиентов.\n",
    "\n",
    "Результаты исследования будут учтены при построении модели **кредитного скоринга** — специальной системы, которая оценивает способность потенциального заёмщика вернуть кредит банку."
   ]
  },
  {
   "cell_type": "markdown",
   "metadata": {},
   "source": [
    "## Шаг 1. Откройте файл с данными и изучите общую информацию"
   ]
  },
  {
   "cell_type": "code",
   "execution_count": 1,
   "metadata": {},
   "outputs": [
    {
     "name": "stdout",
     "output_type": "stream",
     "text": [
      "<class 'pandas.core.frame.DataFrame'>\n",
      "RangeIndex: 21525 entries, 0 to 21524\n",
      "Data columns (total 12 columns):\n",
      "children            21525 non-null int64\n",
      "days_employed       19351 non-null float64\n",
      "dob_years           21525 non-null int64\n",
      "education           21525 non-null object\n",
      "education_id        21525 non-null int64\n",
      "family_status       21525 non-null object\n",
      "family_status_id    21525 non-null int64\n",
      "gender              21525 non-null object\n",
      "income_type         21525 non-null object\n",
      "debt                21525 non-null int64\n",
      "total_income        19351 non-null float64\n",
      "purpose             21525 non-null object\n",
      "dtypes: float64(2), int64(5), object(5)\n",
      "memory usage: 2.0+ MB\n"
     ]
    },
    {
     "data": {
      "text/html": [
       "<div>\n",
       "<style scoped>\n",
       "    .dataframe tbody tr th:only-of-type {\n",
       "        vertical-align: middle;\n",
       "    }\n",
       "\n",
       "    .dataframe tbody tr th {\n",
       "        vertical-align: top;\n",
       "    }\n",
       "\n",
       "    .dataframe thead th {\n",
       "        text-align: right;\n",
       "    }\n",
       "</style>\n",
       "<table border=\"1\" class=\"dataframe\">\n",
       "  <thead>\n",
       "    <tr style=\"text-align: right;\">\n",
       "      <th></th>\n",
       "      <th>children</th>\n",
       "      <th>days_employed</th>\n",
       "      <th>dob_years</th>\n",
       "      <th>education</th>\n",
       "      <th>education_id</th>\n",
       "      <th>family_status</th>\n",
       "      <th>family_status_id</th>\n",
       "      <th>gender</th>\n",
       "      <th>income_type</th>\n",
       "      <th>debt</th>\n",
       "      <th>total_income</th>\n",
       "      <th>purpose</th>\n",
       "    </tr>\n",
       "  </thead>\n",
       "  <tbody>\n",
       "    <tr>\n",
       "      <td>0</td>\n",
       "      <td>1</td>\n",
       "      <td>-8437.673028</td>\n",
       "      <td>42</td>\n",
       "      <td>высшее</td>\n",
       "      <td>0</td>\n",
       "      <td>женат / замужем</td>\n",
       "      <td>0</td>\n",
       "      <td>F</td>\n",
       "      <td>сотрудник</td>\n",
       "      <td>0</td>\n",
       "      <td>253875.639453</td>\n",
       "      <td>покупка жилья</td>\n",
       "    </tr>\n",
       "    <tr>\n",
       "      <td>1</td>\n",
       "      <td>1</td>\n",
       "      <td>-4024.803754</td>\n",
       "      <td>36</td>\n",
       "      <td>среднее</td>\n",
       "      <td>1</td>\n",
       "      <td>женат / замужем</td>\n",
       "      <td>0</td>\n",
       "      <td>F</td>\n",
       "      <td>сотрудник</td>\n",
       "      <td>0</td>\n",
       "      <td>112080.014102</td>\n",
       "      <td>приобретение автомобиля</td>\n",
       "    </tr>\n",
       "    <tr>\n",
       "      <td>2</td>\n",
       "      <td>0</td>\n",
       "      <td>-5623.422610</td>\n",
       "      <td>33</td>\n",
       "      <td>Среднее</td>\n",
       "      <td>1</td>\n",
       "      <td>женат / замужем</td>\n",
       "      <td>0</td>\n",
       "      <td>M</td>\n",
       "      <td>сотрудник</td>\n",
       "      <td>0</td>\n",
       "      <td>145885.952297</td>\n",
       "      <td>покупка жилья</td>\n",
       "    </tr>\n",
       "    <tr>\n",
       "      <td>3</td>\n",
       "      <td>3</td>\n",
       "      <td>-4124.747207</td>\n",
       "      <td>32</td>\n",
       "      <td>среднее</td>\n",
       "      <td>1</td>\n",
       "      <td>женат / замужем</td>\n",
       "      <td>0</td>\n",
       "      <td>M</td>\n",
       "      <td>сотрудник</td>\n",
       "      <td>0</td>\n",
       "      <td>267628.550329</td>\n",
       "      <td>дополнительное образование</td>\n",
       "    </tr>\n",
       "    <tr>\n",
       "      <td>4</td>\n",
       "      <td>0</td>\n",
       "      <td>340266.072047</td>\n",
       "      <td>53</td>\n",
       "      <td>среднее</td>\n",
       "      <td>1</td>\n",
       "      <td>гражданский брак</td>\n",
       "      <td>1</td>\n",
       "      <td>F</td>\n",
       "      <td>пенсионер</td>\n",
       "      <td>0</td>\n",
       "      <td>158616.077870</td>\n",
       "      <td>сыграть свадьбу</td>\n",
       "    </tr>\n",
       "    <tr>\n",
       "      <td>...</td>\n",
       "      <td>...</td>\n",
       "      <td>...</td>\n",
       "      <td>...</td>\n",
       "      <td>...</td>\n",
       "      <td>...</td>\n",
       "      <td>...</td>\n",
       "      <td>...</td>\n",
       "      <td>...</td>\n",
       "      <td>...</td>\n",
       "      <td>...</td>\n",
       "      <td>...</td>\n",
       "      <td>...</td>\n",
       "    </tr>\n",
       "    <tr>\n",
       "      <td>21520</td>\n",
       "      <td>1</td>\n",
       "      <td>-4529.316663</td>\n",
       "      <td>43</td>\n",
       "      <td>среднее</td>\n",
       "      <td>1</td>\n",
       "      <td>гражданский брак</td>\n",
       "      <td>1</td>\n",
       "      <td>F</td>\n",
       "      <td>компаньон</td>\n",
       "      <td>0</td>\n",
       "      <td>224791.862382</td>\n",
       "      <td>операции с жильем</td>\n",
       "    </tr>\n",
       "    <tr>\n",
       "      <td>21521</td>\n",
       "      <td>0</td>\n",
       "      <td>343937.404131</td>\n",
       "      <td>67</td>\n",
       "      <td>среднее</td>\n",
       "      <td>1</td>\n",
       "      <td>женат / замужем</td>\n",
       "      <td>0</td>\n",
       "      <td>F</td>\n",
       "      <td>пенсионер</td>\n",
       "      <td>0</td>\n",
       "      <td>155999.806512</td>\n",
       "      <td>сделка с автомобилем</td>\n",
       "    </tr>\n",
       "    <tr>\n",
       "      <td>21522</td>\n",
       "      <td>1</td>\n",
       "      <td>-2113.346888</td>\n",
       "      <td>38</td>\n",
       "      <td>среднее</td>\n",
       "      <td>1</td>\n",
       "      <td>гражданский брак</td>\n",
       "      <td>1</td>\n",
       "      <td>M</td>\n",
       "      <td>сотрудник</td>\n",
       "      <td>1</td>\n",
       "      <td>89672.561153</td>\n",
       "      <td>недвижимость</td>\n",
       "    </tr>\n",
       "    <tr>\n",
       "      <td>21523</td>\n",
       "      <td>3</td>\n",
       "      <td>-3112.481705</td>\n",
       "      <td>38</td>\n",
       "      <td>среднее</td>\n",
       "      <td>1</td>\n",
       "      <td>женат / замужем</td>\n",
       "      <td>0</td>\n",
       "      <td>M</td>\n",
       "      <td>сотрудник</td>\n",
       "      <td>1</td>\n",
       "      <td>244093.050500</td>\n",
       "      <td>на покупку своего автомобиля</td>\n",
       "    </tr>\n",
       "    <tr>\n",
       "      <td>21524</td>\n",
       "      <td>2</td>\n",
       "      <td>-1984.507589</td>\n",
       "      <td>40</td>\n",
       "      <td>среднее</td>\n",
       "      <td>1</td>\n",
       "      <td>женат / замужем</td>\n",
       "      <td>0</td>\n",
       "      <td>F</td>\n",
       "      <td>сотрудник</td>\n",
       "      <td>0</td>\n",
       "      <td>82047.418899</td>\n",
       "      <td>на покупку автомобиля</td>\n",
       "    </tr>\n",
       "  </tbody>\n",
       "</table>\n",
       "<p>21525 rows × 12 columns</p>\n",
       "</div>"
      ],
      "text/plain": [
       "       children  days_employed  dob_years education  education_id  \\\n",
       "0             1   -8437.673028         42    высшее             0   \n",
       "1             1   -4024.803754         36   среднее             1   \n",
       "2             0   -5623.422610         33   Среднее             1   \n",
       "3             3   -4124.747207         32   среднее             1   \n",
       "4             0  340266.072047         53   среднее             1   \n",
       "...         ...            ...        ...       ...           ...   \n",
       "21520         1   -4529.316663         43   среднее             1   \n",
       "21521         0  343937.404131         67   среднее             1   \n",
       "21522         1   -2113.346888         38   среднее             1   \n",
       "21523         3   -3112.481705         38   среднее             1   \n",
       "21524         2   -1984.507589         40   среднее             1   \n",
       "\n",
       "          family_status  family_status_id gender income_type  debt  \\\n",
       "0       женат / замужем                 0      F   сотрудник     0   \n",
       "1       женат / замужем                 0      F   сотрудник     0   \n",
       "2       женат / замужем                 0      M   сотрудник     0   \n",
       "3       женат / замужем                 0      M   сотрудник     0   \n",
       "4      гражданский брак                 1      F   пенсионер     0   \n",
       "...                 ...               ...    ...         ...   ...   \n",
       "21520  гражданский брак                 1      F   компаньон     0   \n",
       "21521   женат / замужем                 0      F   пенсионер     0   \n",
       "21522  гражданский брак                 1      M   сотрудник     1   \n",
       "21523   женат / замужем                 0      M   сотрудник     1   \n",
       "21524   женат / замужем                 0      F   сотрудник     0   \n",
       "\n",
       "        total_income                       purpose  \n",
       "0      253875.639453                 покупка жилья  \n",
       "1      112080.014102       приобретение автомобиля  \n",
       "2      145885.952297                 покупка жилья  \n",
       "3      267628.550329    дополнительное образование  \n",
       "4      158616.077870               сыграть свадьбу  \n",
       "...              ...                           ...  \n",
       "21520  224791.862382             операции с жильем  \n",
       "21521  155999.806512          сделка с автомобилем  \n",
       "21522   89672.561153                  недвижимость  \n",
       "21523  244093.050500  на покупку своего автомобиля  \n",
       "21524   82047.418899         на покупку автомобиля  \n",
       "\n",
       "[21525 rows x 12 columns]"
      ]
     },
     "metadata": {},
     "output_type": "display_data"
    },
    {
     "name": "stdout",
     "output_type": "stream",
     "text": [
      "['высшее' 'среднее' 'Среднее' 'СРЕДНЕЕ' 'ВЫСШЕЕ' 'неоконченное высшее'\n",
      " 'начальное' 'Высшее' 'НЕОКОНЧЕННОЕ ВЫСШЕЕ' 'Неоконченное высшее'\n",
      " 'НАЧАЛЬНОЕ' 'Начальное' 'Ученая степень' 'УЧЕНАЯ СТЕПЕНЬ'\n",
      " 'ученая степень']\n",
      "[ 1  0  3  2 -1  4 20  5]\n"
     ]
    }
   ],
   "source": [
    "import pandas as pd\n",
    "data = pd.read_csv('/datasets/data.csv')\n",
    "data.info()\n",
    "display(data)\n",
    "print(data['education'].unique())\n",
    "print(data['children'].unique())\n",
    "#display(data.head(30))"
   ]
  },
  {
   "cell_type": "markdown",
   "metadata": {},
   "source": [
    "**Вывод**"
   ]
  },
  {
   "cell_type": "markdown",
   "metadata": {},
   "source": [
    "В доходе стоят значения типа float, будет праблемотично разбивать данные на категории.\n",
    "В days_employed обнаружены отрицательные значения, трудовой стаж не может быть минусовым.\n",
    "Пропуски данных обноружены в колонках \"days_employed\" и \"total_income\".\n",
    "Используются символы с разными регистрами, будет праблемотично разбивать данные на категории.\n",
    "В колонке children обнаружены отрицательные значения и семьи с 20 детьми, детей не можеть меньше 0, а 20 детей - слишком подозрительно много."
   ]
  },
  {
   "cell_type": "markdown",
   "metadata": {},
   "source": [
    "## Шаг 2. Предобработка данных"
   ]
  },
  {
   "cell_type": "markdown",
   "metadata": {},
   "source": [
    "### Обработка пропусков"
   ]
  },
  {
   "cell_type": "code",
   "execution_count": 2,
   "metadata": {},
   "outputs": [
    {
     "data": {
      "text/html": [
       "<div>\n",
       "<style scoped>\n",
       "    .dataframe tbody tr th:only-of-type {\n",
       "        vertical-align: middle;\n",
       "    }\n",
       "\n",
       "    .dataframe tbody tr th {\n",
       "        vertical-align: top;\n",
       "    }\n",
       "\n",
       "    .dataframe thead th {\n",
       "        text-align: right;\n",
       "    }\n",
       "</style>\n",
       "<table border=\"1\" class=\"dataframe\">\n",
       "  <thead>\n",
       "    <tr style=\"text-align: right;\">\n",
       "      <th></th>\n",
       "      <th>children</th>\n",
       "      <th>days_employed</th>\n",
       "      <th>dob_years</th>\n",
       "      <th>education</th>\n",
       "      <th>education_id</th>\n",
       "      <th>family_status</th>\n",
       "      <th>family_status_id</th>\n",
       "      <th>gender</th>\n",
       "      <th>income_type</th>\n",
       "      <th>debt</th>\n",
       "      <th>total_income</th>\n",
       "      <th>purpose</th>\n",
       "    </tr>\n",
       "  </thead>\n",
       "  <tbody>\n",
       "    <tr>\n",
       "      <td>12</td>\n",
       "      <td>0</td>\n",
       "      <td>NaN</td>\n",
       "      <td>65</td>\n",
       "      <td>среднее</td>\n",
       "      <td>1</td>\n",
       "      <td>гражданский брак</td>\n",
       "      <td>1</td>\n",
       "      <td>M</td>\n",
       "      <td>пенсионер</td>\n",
       "      <td>0</td>\n",
       "      <td>NaN</td>\n",
       "      <td>сыграть свадьбу</td>\n",
       "    </tr>\n",
       "    <tr>\n",
       "      <td>26</td>\n",
       "      <td>0</td>\n",
       "      <td>NaN</td>\n",
       "      <td>41</td>\n",
       "      <td>среднее</td>\n",
       "      <td>1</td>\n",
       "      <td>женат / замужем</td>\n",
       "      <td>0</td>\n",
       "      <td>M</td>\n",
       "      <td>госслужащий</td>\n",
       "      <td>0</td>\n",
       "      <td>NaN</td>\n",
       "      <td>образование</td>\n",
       "    </tr>\n",
       "    <tr>\n",
       "      <td>29</td>\n",
       "      <td>0</td>\n",
       "      <td>NaN</td>\n",
       "      <td>63</td>\n",
       "      <td>среднее</td>\n",
       "      <td>1</td>\n",
       "      <td>Не женат / не замужем</td>\n",
       "      <td>4</td>\n",
       "      <td>F</td>\n",
       "      <td>пенсионер</td>\n",
       "      <td>0</td>\n",
       "      <td>NaN</td>\n",
       "      <td>строительство жилой недвижимости</td>\n",
       "    </tr>\n",
       "    <tr>\n",
       "      <td>41</td>\n",
       "      <td>0</td>\n",
       "      <td>NaN</td>\n",
       "      <td>50</td>\n",
       "      <td>среднее</td>\n",
       "      <td>1</td>\n",
       "      <td>женат / замужем</td>\n",
       "      <td>0</td>\n",
       "      <td>F</td>\n",
       "      <td>госслужащий</td>\n",
       "      <td>0</td>\n",
       "      <td>NaN</td>\n",
       "      <td>сделка с подержанным автомобилем</td>\n",
       "    </tr>\n",
       "    <tr>\n",
       "      <td>55</td>\n",
       "      <td>0</td>\n",
       "      <td>NaN</td>\n",
       "      <td>54</td>\n",
       "      <td>среднее</td>\n",
       "      <td>1</td>\n",
       "      <td>гражданский брак</td>\n",
       "      <td>1</td>\n",
       "      <td>F</td>\n",
       "      <td>пенсионер</td>\n",
       "      <td>1</td>\n",
       "      <td>NaN</td>\n",
       "      <td>сыграть свадьбу</td>\n",
       "    </tr>\n",
       "    <tr>\n",
       "      <td>...</td>\n",
       "      <td>...</td>\n",
       "      <td>...</td>\n",
       "      <td>...</td>\n",
       "      <td>...</td>\n",
       "      <td>...</td>\n",
       "      <td>...</td>\n",
       "      <td>...</td>\n",
       "      <td>...</td>\n",
       "      <td>...</td>\n",
       "      <td>...</td>\n",
       "      <td>...</td>\n",
       "      <td>...</td>\n",
       "    </tr>\n",
       "    <tr>\n",
       "      <td>21489</td>\n",
       "      <td>2</td>\n",
       "      <td>NaN</td>\n",
       "      <td>47</td>\n",
       "      <td>Среднее</td>\n",
       "      <td>1</td>\n",
       "      <td>женат / замужем</td>\n",
       "      <td>0</td>\n",
       "      <td>M</td>\n",
       "      <td>компаньон</td>\n",
       "      <td>0</td>\n",
       "      <td>NaN</td>\n",
       "      <td>сделка с автомобилем</td>\n",
       "    </tr>\n",
       "    <tr>\n",
       "      <td>21495</td>\n",
       "      <td>1</td>\n",
       "      <td>NaN</td>\n",
       "      <td>50</td>\n",
       "      <td>среднее</td>\n",
       "      <td>1</td>\n",
       "      <td>гражданский брак</td>\n",
       "      <td>1</td>\n",
       "      <td>F</td>\n",
       "      <td>сотрудник</td>\n",
       "      <td>0</td>\n",
       "      <td>NaN</td>\n",
       "      <td>свадьба</td>\n",
       "    </tr>\n",
       "    <tr>\n",
       "      <td>21497</td>\n",
       "      <td>0</td>\n",
       "      <td>NaN</td>\n",
       "      <td>48</td>\n",
       "      <td>ВЫСШЕЕ</td>\n",
       "      <td>0</td>\n",
       "      <td>женат / замужем</td>\n",
       "      <td>0</td>\n",
       "      <td>F</td>\n",
       "      <td>компаньон</td>\n",
       "      <td>0</td>\n",
       "      <td>NaN</td>\n",
       "      <td>строительство недвижимости</td>\n",
       "    </tr>\n",
       "    <tr>\n",
       "      <td>21502</td>\n",
       "      <td>1</td>\n",
       "      <td>NaN</td>\n",
       "      <td>42</td>\n",
       "      <td>среднее</td>\n",
       "      <td>1</td>\n",
       "      <td>женат / замужем</td>\n",
       "      <td>0</td>\n",
       "      <td>F</td>\n",
       "      <td>сотрудник</td>\n",
       "      <td>0</td>\n",
       "      <td>NaN</td>\n",
       "      <td>строительство жилой недвижимости</td>\n",
       "    </tr>\n",
       "    <tr>\n",
       "      <td>21510</td>\n",
       "      <td>2</td>\n",
       "      <td>NaN</td>\n",
       "      <td>28</td>\n",
       "      <td>среднее</td>\n",
       "      <td>1</td>\n",
       "      <td>женат / замужем</td>\n",
       "      <td>0</td>\n",
       "      <td>F</td>\n",
       "      <td>сотрудник</td>\n",
       "      <td>0</td>\n",
       "      <td>NaN</td>\n",
       "      <td>приобретение автомобиля</td>\n",
       "    </tr>\n",
       "  </tbody>\n",
       "</table>\n",
       "<p>2174 rows × 12 columns</p>\n",
       "</div>"
      ],
      "text/plain": [
       "       children  days_employed  dob_years education  education_id  \\\n",
       "12            0            NaN         65   среднее             1   \n",
       "26            0            NaN         41   среднее             1   \n",
       "29            0            NaN         63   среднее             1   \n",
       "41            0            NaN         50   среднее             1   \n",
       "55            0            NaN         54   среднее             1   \n",
       "...         ...            ...        ...       ...           ...   \n",
       "21489         2            NaN         47   Среднее             1   \n",
       "21495         1            NaN         50   среднее             1   \n",
       "21497         0            NaN         48    ВЫСШЕЕ             0   \n",
       "21502         1            NaN         42   среднее             1   \n",
       "21510         2            NaN         28   среднее             1   \n",
       "\n",
       "               family_status  family_status_id gender  income_type  debt  \\\n",
       "12          гражданский брак                 1      M    пенсионер     0   \n",
       "26           женат / замужем                 0      M  госслужащий     0   \n",
       "29     Не женат / не замужем                 4      F    пенсионер     0   \n",
       "41           женат / замужем                 0      F  госслужащий     0   \n",
       "55          гражданский брак                 1      F    пенсионер     1   \n",
       "...                      ...               ...    ...          ...   ...   \n",
       "21489        женат / замужем                 0      M    компаньон     0   \n",
       "21495       гражданский брак                 1      F    сотрудник     0   \n",
       "21497        женат / замужем                 0      F    компаньон     0   \n",
       "21502        женат / замужем                 0      F    сотрудник     0   \n",
       "21510        женат / замужем                 0      F    сотрудник     0   \n",
       "\n",
       "       total_income                           purpose  \n",
       "12              NaN                   сыграть свадьбу  \n",
       "26              NaN                       образование  \n",
       "29              NaN  строительство жилой недвижимости  \n",
       "41              NaN  сделка с подержанным автомобилем  \n",
       "55              NaN                   сыграть свадьбу  \n",
       "...             ...                               ...  \n",
       "21489           NaN              сделка с автомобилем  \n",
       "21495           NaN                           свадьба  \n",
       "21497           NaN        строительство недвижимости  \n",
       "21502           NaN  строительство жилой недвижимости  \n",
       "21510           NaN           приобретение автомобиля  \n",
       "\n",
       "[2174 rows x 12 columns]"
      ]
     },
     "metadata": {},
     "output_type": "display_data"
    },
    {
     "data": {
      "text/html": [
       "<div>\n",
       "<style scoped>\n",
       "    .dataframe tbody tr th:only-of-type {\n",
       "        vertical-align: middle;\n",
       "    }\n",
       "\n",
       "    .dataframe tbody tr th {\n",
       "        vertical-align: top;\n",
       "    }\n",
       "\n",
       "    .dataframe thead th {\n",
       "        text-align: right;\n",
       "    }\n",
       "</style>\n",
       "<table border=\"1\" class=\"dataframe\">\n",
       "  <thead>\n",
       "    <tr style=\"text-align: right;\">\n",
       "      <th></th>\n",
       "      <th>children</th>\n",
       "      <th>days_employed</th>\n",
       "      <th>dob_years</th>\n",
       "      <th>education</th>\n",
       "      <th>education_id</th>\n",
       "      <th>family_status</th>\n",
       "      <th>family_status_id</th>\n",
       "      <th>gender</th>\n",
       "      <th>income_type</th>\n",
       "      <th>debt</th>\n",
       "      <th>total_income</th>\n",
       "      <th>purpose</th>\n",
       "    </tr>\n",
       "  </thead>\n",
       "  <tbody>\n",
       "    <tr>\n",
       "      <td>606</td>\n",
       "      <td>20</td>\n",
       "      <td>-880.221113</td>\n",
       "      <td>21</td>\n",
       "      <td>среднее</td>\n",
       "      <td>1</td>\n",
       "      <td>женат / замужем</td>\n",
       "      <td>0</td>\n",
       "      <td>M</td>\n",
       "      <td>компаньон</td>\n",
       "      <td>0</td>\n",
       "      <td>145334.865002</td>\n",
       "      <td>покупка жилья</td>\n",
       "    </tr>\n",
       "    <tr>\n",
       "      <td>720</td>\n",
       "      <td>20</td>\n",
       "      <td>-855.595512</td>\n",
       "      <td>44</td>\n",
       "      <td>среднее</td>\n",
       "      <td>1</td>\n",
       "      <td>женат / замужем</td>\n",
       "      <td>0</td>\n",
       "      <td>F</td>\n",
       "      <td>компаньон</td>\n",
       "      <td>0</td>\n",
       "      <td>112998.738649</td>\n",
       "      <td>покупка недвижимости</td>\n",
       "    </tr>\n",
       "    <tr>\n",
       "      <td>1074</td>\n",
       "      <td>20</td>\n",
       "      <td>-3310.411598</td>\n",
       "      <td>56</td>\n",
       "      <td>среднее</td>\n",
       "      <td>1</td>\n",
       "      <td>женат / замужем</td>\n",
       "      <td>0</td>\n",
       "      <td>F</td>\n",
       "      <td>сотрудник</td>\n",
       "      <td>1</td>\n",
       "      <td>229518.537004</td>\n",
       "      <td>получение образования</td>\n",
       "    </tr>\n",
       "    <tr>\n",
       "      <td>2510</td>\n",
       "      <td>20</td>\n",
       "      <td>-2714.161249</td>\n",
       "      <td>59</td>\n",
       "      <td>высшее</td>\n",
       "      <td>0</td>\n",
       "      <td>вдовец / вдова</td>\n",
       "      <td>2</td>\n",
       "      <td>F</td>\n",
       "      <td>сотрудник</td>\n",
       "      <td>0</td>\n",
       "      <td>264474.835577</td>\n",
       "      <td>операции с коммерческой недвижимостью</td>\n",
       "    </tr>\n",
       "    <tr>\n",
       "      <td>2941</td>\n",
       "      <td>20</td>\n",
       "      <td>-2161.591519</td>\n",
       "      <td>0</td>\n",
       "      <td>среднее</td>\n",
       "      <td>1</td>\n",
       "      <td>женат / замужем</td>\n",
       "      <td>0</td>\n",
       "      <td>F</td>\n",
       "      <td>сотрудник</td>\n",
       "      <td>0</td>\n",
       "      <td>199739.941398</td>\n",
       "      <td>на покупку автомобиля</td>\n",
       "    </tr>\n",
       "    <tr>\n",
       "      <td>...</td>\n",
       "      <td>...</td>\n",
       "      <td>...</td>\n",
       "      <td>...</td>\n",
       "      <td>...</td>\n",
       "      <td>...</td>\n",
       "      <td>...</td>\n",
       "      <td>...</td>\n",
       "      <td>...</td>\n",
       "      <td>...</td>\n",
       "      <td>...</td>\n",
       "      <td>...</td>\n",
       "      <td>...</td>\n",
       "    </tr>\n",
       "    <tr>\n",
       "      <td>21008</td>\n",
       "      <td>20</td>\n",
       "      <td>-1240.257910</td>\n",
       "      <td>40</td>\n",
       "      <td>среднее</td>\n",
       "      <td>1</td>\n",
       "      <td>женат / замужем</td>\n",
       "      <td>0</td>\n",
       "      <td>F</td>\n",
       "      <td>сотрудник</td>\n",
       "      <td>1</td>\n",
       "      <td>133524.010303</td>\n",
       "      <td>свой автомобиль</td>\n",
       "    </tr>\n",
       "    <tr>\n",
       "      <td>21325</td>\n",
       "      <td>20</td>\n",
       "      <td>-601.174883</td>\n",
       "      <td>37</td>\n",
       "      <td>среднее</td>\n",
       "      <td>1</td>\n",
       "      <td>женат / замужем</td>\n",
       "      <td>0</td>\n",
       "      <td>F</td>\n",
       "      <td>компаньон</td>\n",
       "      <td>0</td>\n",
       "      <td>102986.065978</td>\n",
       "      <td>профильное образование</td>\n",
       "    </tr>\n",
       "    <tr>\n",
       "      <td>21390</td>\n",
       "      <td>20</td>\n",
       "      <td>NaN</td>\n",
       "      <td>53</td>\n",
       "      <td>среднее</td>\n",
       "      <td>1</td>\n",
       "      <td>женат / замужем</td>\n",
       "      <td>0</td>\n",
       "      <td>M</td>\n",
       "      <td>компаньон</td>\n",
       "      <td>0</td>\n",
       "      <td>NaN</td>\n",
       "      <td>покупка жилой недвижимости</td>\n",
       "    </tr>\n",
       "    <tr>\n",
       "      <td>21404</td>\n",
       "      <td>20</td>\n",
       "      <td>-494.788448</td>\n",
       "      <td>52</td>\n",
       "      <td>среднее</td>\n",
       "      <td>1</td>\n",
       "      <td>женат / замужем</td>\n",
       "      <td>0</td>\n",
       "      <td>M</td>\n",
       "      <td>компаньон</td>\n",
       "      <td>0</td>\n",
       "      <td>156629.683642</td>\n",
       "      <td>операции со своей недвижимостью</td>\n",
       "    </tr>\n",
       "    <tr>\n",
       "      <td>21491</td>\n",
       "      <td>20</td>\n",
       "      <td>-173.954460</td>\n",
       "      <td>27</td>\n",
       "      <td>среднее</td>\n",
       "      <td>1</td>\n",
       "      <td>женат / замужем</td>\n",
       "      <td>0</td>\n",
       "      <td>F</td>\n",
       "      <td>сотрудник</td>\n",
       "      <td>0</td>\n",
       "      <td>155520.899688</td>\n",
       "      <td>на покупку подержанного автомобиля</td>\n",
       "    </tr>\n",
       "  </tbody>\n",
       "</table>\n",
       "<p>76 rows × 12 columns</p>\n",
       "</div>"
      ],
      "text/plain": [
       "       children  days_employed  dob_years education  education_id  \\\n",
       "606          20    -880.221113         21   среднее             1   \n",
       "720          20    -855.595512         44   среднее             1   \n",
       "1074         20   -3310.411598         56   среднее             1   \n",
       "2510         20   -2714.161249         59    высшее             0   \n",
       "2941         20   -2161.591519          0   среднее             1   \n",
       "...         ...            ...        ...       ...           ...   \n",
       "21008        20   -1240.257910         40   среднее             1   \n",
       "21325        20    -601.174883         37   среднее             1   \n",
       "21390        20            NaN         53   среднее             1   \n",
       "21404        20    -494.788448         52   среднее             1   \n",
       "21491        20    -173.954460         27   среднее             1   \n",
       "\n",
       "         family_status  family_status_id gender income_type  debt  \\\n",
       "606    женат / замужем                 0      M   компаньон     0   \n",
       "720    женат / замужем                 0      F   компаньон     0   \n",
       "1074   женат / замужем                 0      F   сотрудник     1   \n",
       "2510    вдовец / вдова                 2      F   сотрудник     0   \n",
       "2941   женат / замужем                 0      F   сотрудник     0   \n",
       "...                ...               ...    ...         ...   ...   \n",
       "21008  женат / замужем                 0      F   сотрудник     1   \n",
       "21325  женат / замужем                 0      F   компаньон     0   \n",
       "21390  женат / замужем                 0      M   компаньон     0   \n",
       "21404  женат / замужем                 0      M   компаньон     0   \n",
       "21491  женат / замужем                 0      F   сотрудник     0   \n",
       "\n",
       "        total_income                                purpose  \n",
       "606    145334.865002                          покупка жилья  \n",
       "720    112998.738649                   покупка недвижимости  \n",
       "1074   229518.537004                  получение образования  \n",
       "2510   264474.835577  операции с коммерческой недвижимостью  \n",
       "2941   199739.941398                  на покупку автомобиля  \n",
       "...              ...                                    ...  \n",
       "21008  133524.010303                        свой автомобиль  \n",
       "21325  102986.065978                 профильное образование  \n",
       "21390            NaN             покупка жилой недвижимости  \n",
       "21404  156629.683642        операции со своей недвижимостью  \n",
       "21491  155520.899688     на покупку подержанного автомобиля  \n",
       "\n",
       "[76 rows x 12 columns]"
      ]
     },
     "metadata": {},
     "output_type": "display_data"
    }
   ],
   "source": [
    "nan_data = data[data['total_income'].isna()]\n",
    "display(nan_data)\n",
    "\n",
    "display(data[data['children'] == 20])"
   ]
  },
  {
   "cell_type": "code",
   "execution_count": 3,
   "metadata": {},
   "outputs": [
    {
     "name": "stdout",
     "output_type": "stream",
     "text": [
      "сотрудник          1105\n",
      "компаньон           508\n",
      "пенсионер           413\n",
      "госслужащий         147\n",
      "предприниматель       1\n",
      "Name: income_type, dtype: int64\n"
     ]
    }
   ],
   "source": [
    "print(nan_data['income_type'].value_counts())"
   ]
  },
  {
   "cell_type": "code",
   "execution_count": 4,
   "metadata": {},
   "outputs": [
    {
     "name": "stdout",
     "output_type": "stream",
     "text": [
      "142594.39684740017\n",
      "118514.48641164352\n",
      "<class 'pandas.core.frame.DataFrame'>\n",
      "RangeIndex: 21525 entries, 0 to 21524\n",
      "Data columns (total 12 columns):\n",
      "children            21525 non-null int64\n",
      "days_employed       19351 non-null float64\n",
      "dob_years           21525 non-null int64\n",
      "education           21525 non-null object\n",
      "education_id        21525 non-null int64\n",
      "family_status       21525 non-null object\n",
      "family_status_id    21525 non-null int64\n",
      "gender              21525 non-null object\n",
      "income_type         21525 non-null object\n",
      "debt                21525 non-null int64\n",
      "total_income        21525 non-null float64\n",
      "purpose             21525 non-null object\n",
      "dtypes: float64(2), int64(5), object(5)\n",
      "memory usage: 2.0+ MB\n"
     ]
    }
   ],
   "source": [
    "# Заполним пропущенные значения в колонке 'income_type' медианным значением в зависимости от типа занятости\n",
    "\n",
    "employee_income_median = (data[data['income_type'] == 'сотрудник']['total_income'].median())\n",
    "retiree_income_median = (data[data['income_type'] == 'пенсионер']['total_income'].median())\n",
    "companion_income_median = (data[data['income_type'] == 'компаньон']['total_income'].median())\n",
    "civil_servant_income_median = (data[data['income_type'] == 'госслужащий']['total_income'].median())\n",
    "businessman_income_median = (data[data['income_type'] == 'предприниматель']['total_income'].median())\n",
    "#unemployed_income_median = (data[data['income_type'] == 'безработный']['total_income'].median())\n",
    "#decree_income_median = (data[data['income_type'] == 'в декрете']['total_income'].median())\n",
    "#student_income_median = (data[data['income_type'] == 'студент']['total_income'].median())\n",
    "\n",
    "print(employee_income_median)\n",
    "print(retiree_income_median)\n",
    "\n",
    "\n",
    "#data['total_income'] = data[data['income_type'] == 'сотрудник']['total_income'].fillna(employee_income_median)\n",
    "#data['total_income'] = data[data['income_type'] == 'пенсионер']['total_income'].fillna(retiree_income_median)\n",
    "#data['total_income'] = data[data['income_type'] == 'компаньон']['total_income'].fillna(companion_income_median)\n",
    "#data['total_income'] = data[data['income_type'] == 'сотрудник']['total_income'].fillna(employee_income_median)\n",
    "#data['total_income'] = data[data['income_type'] == 'сотрудник']['total_income'].fillna(employee_income_median)\n",
    "\n",
    "data.update(data.loc[(data['total_income'].isnull()) & (data['income_type'] == 'сотрудник'), \n",
    "                     'total_income'].fillna(employee_income_median))\n",
    "data.update(data.loc[(data['total_income'].isnull()) & (data['income_type'] == 'пенсионер'), \n",
    "                     'total_income'].fillna(retiree_income_median))\n",
    "data.update(data.loc[(data['total_income'].isnull()) & (data['income_type'] == 'компаньон'), \n",
    "                     'total_income'].fillna(companion_income_median))\n",
    "data.update(data.loc[(data['total_income'].isnull()) & (data['income_type'] == 'госслужащий'), \n",
    "                     'total_income'].fillna(civil_servant_income_median))\n",
    "data.update(data.loc[(data['total_income'].isnull()) & (data['income_type'] == 'предприниматель'), \n",
    "                     'total_income'].fillna(businessman_income_median))\n",
    "\n",
    "\n",
    "#data['days_employed'] = data['days_employed'].fillna(0)\n",
    "#nan_data = data[data['total_income'].isna()]\n",
    "\n",
    "#display(nan_data)\n",
    "#print(nan_data['income_type'].value_counts())\n",
    "#display(data.head(13))\n",
    "\n",
    "\n",
    "data.info()"
   ]
  },
  {
   "cell_type": "code",
   "execution_count": 5,
   "metadata": {},
   "outputs": [],
   "source": [
    "#заменим отрицательные числа на положительные в стаже\n",
    "def my_pozitive(value):\n",
    "    if value < 0:\n",
    "        value *= -1\n",
    "        return value\n",
    "    else:\n",
    "        return value\n",
    "data['days_employed'] = data['days_employed'].apply(my_pozitive)"
   ]
  },
  {
   "cell_type": "code",
   "execution_count": 6,
   "metadata": {},
   "outputs": [],
   "source": [
    "#заменим отрицательные числа на положительные в колоке с детьми\n",
    "data['children'] = data['children'].apply(my_pozitive)"
   ]
  },
  {
   "cell_type": "code",
   "execution_count": 7,
   "metadata": {},
   "outputs": [],
   "source": [
    "# у некоторых заемщиков выявлено наличие 20 детей, что является маловероятным, тем более при возрасте некоторых родителей в 20 лет.\n",
    "# земеним это количество детей на медианное, т.к. не понятно как эта ошибка появилась\n",
    "children_median = data.loc[data.loc[:, 'children'] != 20]['children'].median()\n",
    "data['children'] = data['children'].replace(20, children_median)\n"
   ]
  },
  {
   "cell_type": "markdown",
   "metadata": {},
   "source": [
    "**Вывод**"
   ]
  },
  {
   "cell_type": "markdown",
   "metadata": {},
   "source": [
    "Пропуски данных обноружены в колонках \"days_employed\" и \"total_income\", причём они находятся в одних и тех же строках.\n",
    "Учитывая то, что мы не знаем должностей кредиторов, заполняем пропуски медианным уровнем дохода по каждому типу занятости.\n",
    "Пропуски в трудовом стаже пропускаем или удаляем колонку целиком, т.к. данная информация, в текущем задании, нам не пригодится.\n",
    "\n",
    "Предположительно, данную информацию заемщики целенаправленно не указывают. Необходимо обсудить с коллегами, в том числе с разработчиками, о возможных причинах и повышения мотивации в предоставлении достоверных данных потенциальными заемщиками."
   ]
  },
  {
   "cell_type": "markdown",
   "metadata": {},
   "source": [
    "### Замена типа данных"
   ]
  },
  {
   "cell_type": "code",
   "execution_count": 8,
   "metadata": {},
   "outputs": [
    {
     "name": "stdout",
     "output_type": "stream",
     "text": [
      "<class 'pandas.core.frame.DataFrame'>\n",
      "RangeIndex: 21525 entries, 0 to 21524\n",
      "Data columns (total 12 columns):\n",
      "children            21525 non-null int64\n",
      "days_employed       19351 non-null float64\n",
      "dob_years           21525 non-null int64\n",
      "education           21525 non-null object\n",
      "education_id        21525 non-null int64\n",
      "family_status       21525 non-null object\n",
      "family_status_id    21525 non-null int64\n",
      "gender              21525 non-null object\n",
      "income_type         21525 non-null object\n",
      "debt                21525 non-null int64\n",
      "total_income        21525 non-null int64\n",
      "purpose             21525 non-null object\n",
      "dtypes: float64(1), int64(6), object(5)\n",
      "memory usage: 2.0+ MB\n"
     ]
    }
   ],
   "source": [
    "data['total_income'] = data['total_income'].astype('int')\n",
    "#data['days_employed'] = data['days_employed'].astype('int')\n",
    "data.info()\n",
    "#display(data[data['days_employed'].isna()])"
   ]
  },
  {
   "cell_type": "markdown",
   "metadata": {},
   "source": [
    "**Вывод**"
   ]
  },
  {
   "cell_type": "markdown",
   "metadata": {},
   "source": [
    "В доходе стояли значения типа float - заменили их на int."
   ]
  },
  {
   "cell_type": "markdown",
   "metadata": {},
   "source": [
    "### Обработка дубликатов"
   ]
  },
  {
   "cell_type": "code",
   "execution_count": 9,
   "metadata": {},
   "outputs": [
    {
     "name": "stdout",
     "output_type": "stream",
     "text": [
      "<class 'pandas.core.frame.DataFrame'>\n",
      "RangeIndex: 21454 entries, 0 to 21453\n",
      "Data columns (total 12 columns):\n",
      "children            21454 non-null int64\n",
      "days_employed       19351 non-null float64\n",
      "dob_years           21454 non-null int64\n",
      "education           21454 non-null object\n",
      "education_id        21454 non-null int64\n",
      "family_status       21454 non-null object\n",
      "family_status_id    21454 non-null int64\n",
      "gender              21454 non-null object\n",
      "income_type         21454 non-null object\n",
      "debt                21454 non-null int64\n",
      "total_income        21454 non-null int64\n",
      "purpose             21454 non-null object\n",
      "dtypes: float64(1), int64(6), object(5)\n",
      "memory usage: 2.0+ MB\n"
     ]
    }
   ],
   "source": [
    "#print(data['education'].unique())\n",
    "data['education'] = data['education'].str.lower()\n",
    "data['family_status'] = data['family_status'].str.lower()\n",
    "data['gender'] = data['gender'].str.lower()\n",
    "data['purpose'] = data['purpose'].str.lower()\n",
    "\n",
    "#display(data[data.duplicated()].sort_values(by='dob_years'))\n",
    "data = data.drop_duplicates().reset_index(drop=True)\n",
    "#print(data.duplicated().sum())\n",
    "data.info()"
   ]
  },
  {
   "cell_type": "markdown",
   "metadata": {},
   "source": [
    "**Вывод**"
   ]
  },
  {
   "cell_type": "markdown",
   "metadata": {},
   "source": [
    "Для того чтобы не пропустить дубликаты, привели все символы к нижнему регистру.\n",
    "Проверили в Dataframe наличие дублирования строк. нам было необходимо выявить полное совпадение строк, поэтому был выбран вункция duplicates().\n",
    "Возможными причинами дубликатов являются:\n",
    "- ручное копирование\n",
    "- обьединение нескольких баз данных\n",
    "и маловероятное, но это все же разные люди или же один и тот же взявший кредит на одно и то же в течении года. Для исключения данной вероятности необходимы уникальные данные каждого челокека и дата с временем получения кредита.\n",
    "\n",
    "Хотя остается вопрос, имеет ли свысл делать лемматизацию до выявления дубликатов?"
   ]
  },
  {
   "cell_type": "markdown",
   "metadata": {},
   "source": [
    "### Лемматизация"
   ]
  },
  {
   "cell_type": "code",
   "execution_count": 10,
   "metadata": {},
   "outputs": [],
   "source": [
    "#data[\"purpose\"].iloc[0]"
   ]
  },
  {
   "cell_type": "code",
   "execution_count": 11,
   "metadata": {},
   "outputs": [],
   "source": [
    "#''.join(m.lemmatize(data[\"purpose\"].iloc[0])).strip()"
   ]
  },
  {
   "cell_type": "code",
   "execution_count": 12,
   "metadata": {},
   "outputs": [],
   "source": [
    "#data[\"purpose\"].apply(lambda x: ''.join(m.lemmatize(x)).strip())"
   ]
  },
  {
   "cell_type": "code",
   "execution_count": 13,
   "metadata": {},
   "outputs": [],
   "source": [
    "from pymystem3 import Mystem\n",
    "m = Mystem()\n",
    "\n",
    "\n",
    "def my_lemmatization(text):\n",
    "    text = ''.join(m.lemmatize(text)).strip()\n",
    "    return text"
   ]
  },
  {
   "cell_type": "code",
   "execution_count": 14,
   "metadata": {},
   "outputs": [],
   "source": [
    "data[\"purpose_lemm\"] = data[\"purpose\"].apply(my_lemmatization)"
   ]
  },
  {
   "cell_type": "code",
   "execution_count": 15,
   "metadata": {},
   "outputs": [
    {
     "data": {
      "text/html": [
       "<div>\n",
       "<style scoped>\n",
       "    .dataframe tbody tr th:only-of-type {\n",
       "        vertical-align: middle;\n",
       "    }\n",
       "\n",
       "    .dataframe tbody tr th {\n",
       "        vertical-align: top;\n",
       "    }\n",
       "\n",
       "    .dataframe thead th {\n",
       "        text-align: right;\n",
       "    }\n",
       "</style>\n",
       "<table border=\"1\" class=\"dataframe\">\n",
       "  <thead>\n",
       "    <tr style=\"text-align: right;\">\n",
       "      <th></th>\n",
       "      <th>children</th>\n",
       "      <th>days_employed</th>\n",
       "      <th>dob_years</th>\n",
       "      <th>education</th>\n",
       "      <th>education_id</th>\n",
       "      <th>family_status</th>\n",
       "      <th>family_status_id</th>\n",
       "      <th>gender</th>\n",
       "      <th>income_type</th>\n",
       "      <th>debt</th>\n",
       "      <th>total_income</th>\n",
       "      <th>purpose</th>\n",
       "      <th>purpose_lemm</th>\n",
       "    </tr>\n",
       "  </thead>\n",
       "  <tbody>\n",
       "    <tr>\n",
       "      <td>0</td>\n",
       "      <td>1</td>\n",
       "      <td>8437.673028</td>\n",
       "      <td>42</td>\n",
       "      <td>высшее</td>\n",
       "      <td>0</td>\n",
       "      <td>женат / замужем</td>\n",
       "      <td>0</td>\n",
       "      <td>f</td>\n",
       "      <td>сотрудник</td>\n",
       "      <td>0</td>\n",
       "      <td>253875</td>\n",
       "      <td>покупка жилья</td>\n",
       "      <td>покупка жилье</td>\n",
       "    </tr>\n",
       "    <tr>\n",
       "      <td>1</td>\n",
       "      <td>1</td>\n",
       "      <td>4024.803754</td>\n",
       "      <td>36</td>\n",
       "      <td>среднее</td>\n",
       "      <td>1</td>\n",
       "      <td>женат / замужем</td>\n",
       "      <td>0</td>\n",
       "      <td>f</td>\n",
       "      <td>сотрудник</td>\n",
       "      <td>0</td>\n",
       "      <td>112080</td>\n",
       "      <td>приобретение автомобиля</td>\n",
       "      <td>приобретение автомобиль</td>\n",
       "    </tr>\n",
       "    <tr>\n",
       "      <td>2</td>\n",
       "      <td>0</td>\n",
       "      <td>5623.422610</td>\n",
       "      <td>33</td>\n",
       "      <td>среднее</td>\n",
       "      <td>1</td>\n",
       "      <td>женат / замужем</td>\n",
       "      <td>0</td>\n",
       "      <td>m</td>\n",
       "      <td>сотрудник</td>\n",
       "      <td>0</td>\n",
       "      <td>145885</td>\n",
       "      <td>покупка жилья</td>\n",
       "      <td>покупка жилье</td>\n",
       "    </tr>\n",
       "    <tr>\n",
       "      <td>3</td>\n",
       "      <td>3</td>\n",
       "      <td>4124.747207</td>\n",
       "      <td>32</td>\n",
       "      <td>среднее</td>\n",
       "      <td>1</td>\n",
       "      <td>женат / замужем</td>\n",
       "      <td>0</td>\n",
       "      <td>m</td>\n",
       "      <td>сотрудник</td>\n",
       "      <td>0</td>\n",
       "      <td>267628</td>\n",
       "      <td>дополнительное образование</td>\n",
       "      <td>дополнительный образование</td>\n",
       "    </tr>\n",
       "    <tr>\n",
       "      <td>4</td>\n",
       "      <td>0</td>\n",
       "      <td>340266.072047</td>\n",
       "      <td>53</td>\n",
       "      <td>среднее</td>\n",
       "      <td>1</td>\n",
       "      <td>гражданский брак</td>\n",
       "      <td>1</td>\n",
       "      <td>f</td>\n",
       "      <td>пенсионер</td>\n",
       "      <td>0</td>\n",
       "      <td>158616</td>\n",
       "      <td>сыграть свадьбу</td>\n",
       "      <td>сыграть свадьба</td>\n",
       "    </tr>\n",
       "    <tr>\n",
       "      <td>...</td>\n",
       "      <td>...</td>\n",
       "      <td>...</td>\n",
       "      <td>...</td>\n",
       "      <td>...</td>\n",
       "      <td>...</td>\n",
       "      <td>...</td>\n",
       "      <td>...</td>\n",
       "      <td>...</td>\n",
       "      <td>...</td>\n",
       "      <td>...</td>\n",
       "      <td>...</td>\n",
       "      <td>...</td>\n",
       "      <td>...</td>\n",
       "    </tr>\n",
       "    <tr>\n",
       "      <td>21449</td>\n",
       "      <td>1</td>\n",
       "      <td>4529.316663</td>\n",
       "      <td>43</td>\n",
       "      <td>среднее</td>\n",
       "      <td>1</td>\n",
       "      <td>гражданский брак</td>\n",
       "      <td>1</td>\n",
       "      <td>f</td>\n",
       "      <td>компаньон</td>\n",
       "      <td>0</td>\n",
       "      <td>224791</td>\n",
       "      <td>операции с жильем</td>\n",
       "      <td>операция с жилье</td>\n",
       "    </tr>\n",
       "    <tr>\n",
       "      <td>21450</td>\n",
       "      <td>0</td>\n",
       "      <td>343937.404131</td>\n",
       "      <td>67</td>\n",
       "      <td>среднее</td>\n",
       "      <td>1</td>\n",
       "      <td>женат / замужем</td>\n",
       "      <td>0</td>\n",
       "      <td>f</td>\n",
       "      <td>пенсионер</td>\n",
       "      <td>0</td>\n",
       "      <td>155999</td>\n",
       "      <td>сделка с автомобилем</td>\n",
       "      <td>сделка с автомобиль</td>\n",
       "    </tr>\n",
       "    <tr>\n",
       "      <td>21451</td>\n",
       "      <td>1</td>\n",
       "      <td>2113.346888</td>\n",
       "      <td>38</td>\n",
       "      <td>среднее</td>\n",
       "      <td>1</td>\n",
       "      <td>гражданский брак</td>\n",
       "      <td>1</td>\n",
       "      <td>m</td>\n",
       "      <td>сотрудник</td>\n",
       "      <td>1</td>\n",
       "      <td>89672</td>\n",
       "      <td>недвижимость</td>\n",
       "      <td>недвижимость</td>\n",
       "    </tr>\n",
       "    <tr>\n",
       "      <td>21452</td>\n",
       "      <td>3</td>\n",
       "      <td>3112.481705</td>\n",
       "      <td>38</td>\n",
       "      <td>среднее</td>\n",
       "      <td>1</td>\n",
       "      <td>женат / замужем</td>\n",
       "      <td>0</td>\n",
       "      <td>m</td>\n",
       "      <td>сотрудник</td>\n",
       "      <td>1</td>\n",
       "      <td>244093</td>\n",
       "      <td>на покупку своего автомобиля</td>\n",
       "      <td>на покупка свой автомобиль</td>\n",
       "    </tr>\n",
       "    <tr>\n",
       "      <td>21453</td>\n",
       "      <td>2</td>\n",
       "      <td>1984.507589</td>\n",
       "      <td>40</td>\n",
       "      <td>среднее</td>\n",
       "      <td>1</td>\n",
       "      <td>женат / замужем</td>\n",
       "      <td>0</td>\n",
       "      <td>f</td>\n",
       "      <td>сотрудник</td>\n",
       "      <td>0</td>\n",
       "      <td>82047</td>\n",
       "      <td>на покупку автомобиля</td>\n",
       "      <td>на покупка автомобиль</td>\n",
       "    </tr>\n",
       "  </tbody>\n",
       "</table>\n",
       "<p>21454 rows × 13 columns</p>\n",
       "</div>"
      ],
      "text/plain": [
       "       children  days_employed  dob_years education  education_id  \\\n",
       "0             1    8437.673028         42    высшее             0   \n",
       "1             1    4024.803754         36   среднее             1   \n",
       "2             0    5623.422610         33   среднее             1   \n",
       "3             3    4124.747207         32   среднее             1   \n",
       "4             0  340266.072047         53   среднее             1   \n",
       "...         ...            ...        ...       ...           ...   \n",
       "21449         1    4529.316663         43   среднее             1   \n",
       "21450         0  343937.404131         67   среднее             1   \n",
       "21451         1    2113.346888         38   среднее             1   \n",
       "21452         3    3112.481705         38   среднее             1   \n",
       "21453         2    1984.507589         40   среднее             1   \n",
       "\n",
       "          family_status  family_status_id gender income_type  debt  \\\n",
       "0       женат / замужем                 0      f   сотрудник     0   \n",
       "1       женат / замужем                 0      f   сотрудник     0   \n",
       "2       женат / замужем                 0      m   сотрудник     0   \n",
       "3       женат / замужем                 0      m   сотрудник     0   \n",
       "4      гражданский брак                 1      f   пенсионер     0   \n",
       "...                 ...               ...    ...         ...   ...   \n",
       "21449  гражданский брак                 1      f   компаньон     0   \n",
       "21450   женат / замужем                 0      f   пенсионер     0   \n",
       "21451  гражданский брак                 1      m   сотрудник     1   \n",
       "21452   женат / замужем                 0      m   сотрудник     1   \n",
       "21453   женат / замужем                 0      f   сотрудник     0   \n",
       "\n",
       "       total_income                       purpose                purpose_lemm  \n",
       "0            253875                 покупка жилья               покупка жилье  \n",
       "1            112080       приобретение автомобиля     приобретение автомобиль  \n",
       "2            145885                 покупка жилья               покупка жилье  \n",
       "3            267628    дополнительное образование  дополнительный образование  \n",
       "4            158616               сыграть свадьбу             сыграть свадьба  \n",
       "...             ...                           ...                         ...  \n",
       "21449        224791             операции с жильем            операция с жилье  \n",
       "21450        155999          сделка с автомобилем         сделка с автомобиль  \n",
       "21451         89672                  недвижимость                недвижимость  \n",
       "21452        244093  на покупку своего автомобиля  на покупка свой автомобиль  \n",
       "21453         82047         на покупку автомобиля       на покупка автомобиль  \n",
       "\n",
       "[21454 rows x 13 columns]"
      ]
     },
     "metadata": {},
     "output_type": "display_data"
    }
   ],
   "source": [
    "display(data)"
   ]
  },
  {
   "cell_type": "markdown",
   "metadata": {},
   "source": [
    "**Вывод**"
   ]
  },
  {
   "cell_type": "markdown",
   "metadata": {},
   "source": [
    "Создали отдельную колонку с целями кредитования преведенными к единой лемме для возможности дальнейшей категоризации."
   ]
  },
  {
   "cell_type": "markdown",
   "metadata": {},
   "source": [
    "### Категоризация данных"
   ]
  },
  {
   "cell_type": "code",
   "execution_count": 16,
   "metadata": {},
   "outputs": [
    {
     "name": "stdout",
     "output_type": "stream",
     "text": [
      "недвижимость/жилье           9500\n",
      "автомобиль                   4306\n",
      "образование                  4013\n",
      "свадьба                      2324\n",
      "коммерческий недвижимость    1311\n",
      "Name: purpose_category, dtype: int64\n"
     ]
    }
   ],
   "source": [
    "#print(data['purpose_lemm'].value_counts())\n",
    "def my_id_purpose(text):\n",
    "    if 'автомобиль' in text:\n",
    "        return 'автомобиль'\n",
    "    if 'свадьба' in text:\n",
    "        return 'свадьба'\n",
    "    if 'коммерческий недвижимость' in text:\n",
    "        return 'коммерческий недвижимость'\n",
    "    if 'недвижимость' in text:\n",
    "        return 'недвижимость/жилье'\n",
    "    if 'жилье' in text:\n",
    "        return 'недвижимость/жилье'\n",
    "    if 'образование' in text:\n",
    "        return 'образование'\n",
    "    return 'прочее'  \n",
    "        \n",
    "data[\"purpose_category\"] = data[\"purpose_lemm\"].apply(my_id_purpose)\n",
    "print(data['purpose_category'].value_counts())\n",
    "\n",
    "#Создадим словарь целей кредитовая\n",
    "#df_columns = ['my_purpose', \"purpose_id\"]\n",
    "#df_data = [['автомобиль', 1], ['свадьба', 2], ['коммерческий недвижимость', 3], ['недвижимость/жилье', 4], ['образование', 5]]\n",
    "#support_df = pd.DataFrame(data = df_data, columns = df_columns)\n",
    "#display(support_df) "
   ]
  },
  {
   "cell_type": "code",
   "execution_count": 17,
   "metadata": {},
   "outputs": [
    {
     "data": {
      "text/html": [
       "<div>\n",
       "<style scoped>\n",
       "    .dataframe tbody tr th:only-of-type {\n",
       "        vertical-align: middle;\n",
       "    }\n",
       "\n",
       "    .dataframe tbody tr th {\n",
       "        vertical-align: top;\n",
       "    }\n",
       "\n",
       "    .dataframe thead th {\n",
       "        text-align: right;\n",
       "    }\n",
       "</style>\n",
       "<table border=\"1\" class=\"dataframe\">\n",
       "  <thead>\n",
       "    <tr style=\"text-align: right;\">\n",
       "      <th></th>\n",
       "      <th>children</th>\n",
       "      <th>days_employed</th>\n",
       "      <th>dob_years</th>\n",
       "      <th>education</th>\n",
       "      <th>education_id</th>\n",
       "      <th>family_status</th>\n",
       "      <th>family_status_id</th>\n",
       "      <th>gender</th>\n",
       "      <th>income_type</th>\n",
       "      <th>debt</th>\n",
       "      <th>total_income</th>\n",
       "      <th>purpose</th>\n",
       "      <th>purpose_lemm</th>\n",
       "      <th>purpose_category</th>\n",
       "    </tr>\n",
       "  </thead>\n",
       "  <tbody>\n",
       "    <tr>\n",
       "      <td>14555</td>\n",
       "      <td>0</td>\n",
       "      <td>359219.059341</td>\n",
       "      <td>57</td>\n",
       "      <td>среднее</td>\n",
       "      <td>1</td>\n",
       "      <td>женат / замужем</td>\n",
       "      <td>0</td>\n",
       "      <td>f</td>\n",
       "      <td>пенсионер</td>\n",
       "      <td>1</td>\n",
       "      <td>20667</td>\n",
       "      <td>недвижимость</td>\n",
       "      <td>недвижимость</td>\n",
       "      <td>недвижимость/жилье</td>\n",
       "    </tr>\n",
       "    <tr>\n",
       "      <td>12983</td>\n",
       "      <td>0</td>\n",
       "      <td>369708.589113</td>\n",
       "      <td>37</td>\n",
       "      <td>среднее</td>\n",
       "      <td>1</td>\n",
       "      <td>гражданский брак</td>\n",
       "      <td>1</td>\n",
       "      <td>m</td>\n",
       "      <td>пенсионер</td>\n",
       "      <td>0</td>\n",
       "      <td>21205</td>\n",
       "      <td>заняться высшим образованием</td>\n",
       "      <td>заниматься высокий образование</td>\n",
       "      <td>образование</td>\n",
       "    </tr>\n",
       "    <tr>\n",
       "      <td>16138</td>\n",
       "      <td>1</td>\n",
       "      <td>3642.820023</td>\n",
       "      <td>52</td>\n",
       "      <td>среднее</td>\n",
       "      <td>1</td>\n",
       "      <td>женат / замужем</td>\n",
       "      <td>0</td>\n",
       "      <td>m</td>\n",
       "      <td>сотрудник</td>\n",
       "      <td>0</td>\n",
       "      <td>21367</td>\n",
       "      <td>приобретение автомобиля</td>\n",
       "      <td>приобретение автомобиль</td>\n",
       "      <td>автомобиль</td>\n",
       "    </tr>\n",
       "    <tr>\n",
       "      <td>1598</td>\n",
       "      <td>0</td>\n",
       "      <td>359726.104207</td>\n",
       "      <td>68</td>\n",
       "      <td>среднее</td>\n",
       "      <td>1</td>\n",
       "      <td>гражданский брак</td>\n",
       "      <td>1</td>\n",
       "      <td>m</td>\n",
       "      <td>пенсионер</td>\n",
       "      <td>0</td>\n",
       "      <td>21695</td>\n",
       "      <td>на проведение свадьбы</td>\n",
       "      <td>на проведение свадьба</td>\n",
       "      <td>свадьба</td>\n",
       "    </tr>\n",
       "    <tr>\n",
       "      <td>14247</td>\n",
       "      <td>0</td>\n",
       "      <td>346602.453782</td>\n",
       "      <td>61</td>\n",
       "      <td>среднее</td>\n",
       "      <td>1</td>\n",
       "      <td>женат / замужем</td>\n",
       "      <td>0</td>\n",
       "      <td>f</td>\n",
       "      <td>пенсионер</td>\n",
       "      <td>0</td>\n",
       "      <td>21895</td>\n",
       "      <td>недвижимость</td>\n",
       "      <td>недвижимость</td>\n",
       "      <td>недвижимость/жилье</td>\n",
       "    </tr>\n",
       "    <tr>\n",
       "      <td>...</td>\n",
       "      <td>...</td>\n",
       "      <td>...</td>\n",
       "      <td>...</td>\n",
       "      <td>...</td>\n",
       "      <td>...</td>\n",
       "      <td>...</td>\n",
       "      <td>...</td>\n",
       "      <td>...</td>\n",
       "      <td>...</td>\n",
       "      <td>...</td>\n",
       "      <td>...</td>\n",
       "      <td>...</td>\n",
       "      <td>...</td>\n",
       "      <td>...</td>\n",
       "    </tr>\n",
       "    <tr>\n",
       "      <td>17137</td>\n",
       "      <td>0</td>\n",
       "      <td>5734.127087</td>\n",
       "      <td>42</td>\n",
       "      <td>высшее</td>\n",
       "      <td>0</td>\n",
       "      <td>гражданский брак</td>\n",
       "      <td>1</td>\n",
       "      <td>m</td>\n",
       "      <td>компаньон</td>\n",
       "      <td>0</td>\n",
       "      <td>1711309</td>\n",
       "      <td>сыграть свадьбу</td>\n",
       "      <td>сыграть свадьба</td>\n",
       "      <td>свадьба</td>\n",
       "    </tr>\n",
       "    <tr>\n",
       "      <td>20742</td>\n",
       "      <td>0</td>\n",
       "      <td>4719.273476</td>\n",
       "      <td>61</td>\n",
       "      <td>среднее</td>\n",
       "      <td>1</td>\n",
       "      <td>не женат / не замужем</td>\n",
       "      <td>4</td>\n",
       "      <td>f</td>\n",
       "      <td>сотрудник</td>\n",
       "      <td>0</td>\n",
       "      <td>1715018</td>\n",
       "      <td>покупка жилья для семьи</td>\n",
       "      <td>покупка жилье для семья</td>\n",
       "      <td>недвижимость/жилье</td>\n",
       "    </tr>\n",
       "    <tr>\n",
       "      <td>9159</td>\n",
       "      <td>1</td>\n",
       "      <td>5248.554336</td>\n",
       "      <td>35</td>\n",
       "      <td>среднее</td>\n",
       "      <td>1</td>\n",
       "      <td>гражданский брак</td>\n",
       "      <td>1</td>\n",
       "      <td>m</td>\n",
       "      <td>сотрудник</td>\n",
       "      <td>0</td>\n",
       "      <td>1726276</td>\n",
       "      <td>дополнительное образование</td>\n",
       "      <td>дополнительный образование</td>\n",
       "      <td>образование</td>\n",
       "    </tr>\n",
       "    <tr>\n",
       "      <td>19548</td>\n",
       "      <td>1</td>\n",
       "      <td>2577.664662</td>\n",
       "      <td>39</td>\n",
       "      <td>высшее</td>\n",
       "      <td>0</td>\n",
       "      <td>женат / замужем</td>\n",
       "      <td>0</td>\n",
       "      <td>m</td>\n",
       "      <td>компаньон</td>\n",
       "      <td>1</td>\n",
       "      <td>2200852</td>\n",
       "      <td>строительство недвижимости</td>\n",
       "      <td>строительство недвижимость</td>\n",
       "      <td>недвижимость/жилье</td>\n",
       "    </tr>\n",
       "    <tr>\n",
       "      <td>12390</td>\n",
       "      <td>0</td>\n",
       "      <td>1477.438114</td>\n",
       "      <td>44</td>\n",
       "      <td>высшее</td>\n",
       "      <td>0</td>\n",
       "      <td>женат / замужем</td>\n",
       "      <td>0</td>\n",
       "      <td>m</td>\n",
       "      <td>компаньон</td>\n",
       "      <td>0</td>\n",
       "      <td>2265604</td>\n",
       "      <td>ремонт жилью</td>\n",
       "      <td>ремонт жилье</td>\n",
       "      <td>недвижимость/жилье</td>\n",
       "    </tr>\n",
       "  </tbody>\n",
       "</table>\n",
       "<p>21454 rows × 14 columns</p>\n",
       "</div>"
      ],
      "text/plain": [
       "       children  days_employed  dob_years education  education_id  \\\n",
       "14555         0  359219.059341         57   среднее             1   \n",
       "12983         0  369708.589113         37   среднее             1   \n",
       "16138         1    3642.820023         52   среднее             1   \n",
       "1598          0  359726.104207         68   среднее             1   \n",
       "14247         0  346602.453782         61   среднее             1   \n",
       "...         ...            ...        ...       ...           ...   \n",
       "17137         0    5734.127087         42    высшее             0   \n",
       "20742         0    4719.273476         61   среднее             1   \n",
       "9159          1    5248.554336         35   среднее             1   \n",
       "19548         1    2577.664662         39    высшее             0   \n",
       "12390         0    1477.438114         44    высшее             0   \n",
       "\n",
       "               family_status  family_status_id gender income_type  debt  \\\n",
       "14555        женат / замужем                 0      f   пенсионер     1   \n",
       "12983       гражданский брак                 1      m   пенсионер     0   \n",
       "16138        женат / замужем                 0      m   сотрудник     0   \n",
       "1598        гражданский брак                 1      m   пенсионер     0   \n",
       "14247        женат / замужем                 0      f   пенсионер     0   \n",
       "...                      ...               ...    ...         ...   ...   \n",
       "17137       гражданский брак                 1      m   компаньон     0   \n",
       "20742  не женат / не замужем                 4      f   сотрудник     0   \n",
       "9159        гражданский брак                 1      m   сотрудник     0   \n",
       "19548        женат / замужем                 0      m   компаньон     1   \n",
       "12390        женат / замужем                 0      m   компаньон     0   \n",
       "\n",
       "       total_income                       purpose  \\\n",
       "14555         20667                  недвижимость   \n",
       "12983         21205  заняться высшим образованием   \n",
       "16138         21367       приобретение автомобиля   \n",
       "1598          21695         на проведение свадьбы   \n",
       "14247         21895                  недвижимость   \n",
       "...             ...                           ...   \n",
       "17137       1711309               сыграть свадьбу   \n",
       "20742       1715018       покупка жилья для семьи   \n",
       "9159        1726276    дополнительное образование   \n",
       "19548       2200852    строительство недвижимости   \n",
       "12390       2265604                  ремонт жилью   \n",
       "\n",
       "                         purpose_lemm    purpose_category  \n",
       "14555                    недвижимость  недвижимость/жилье  \n",
       "12983  заниматься высокий образование         образование  \n",
       "16138         приобретение автомобиль          автомобиль  \n",
       "1598            на проведение свадьба             свадьба  \n",
       "14247                    недвижимость  недвижимость/жилье  \n",
       "...                               ...                 ...  \n",
       "17137                 сыграть свадьба             свадьба  \n",
       "20742         покупка жилье для семья  недвижимость/жилье  \n",
       "9159       дополнительный образование         образование  \n",
       "19548      строительство недвижимость  недвижимость/жилье  \n",
       "12390                    ремонт жилье  недвижимость/жилье  \n",
       "\n",
       "[21454 rows x 14 columns]"
      ]
     },
     "metadata": {},
     "output_type": "display_data"
    },
    {
     "name": "stdout",
     "output_type": "stream",
     "text": [
      "До 150000 руб, Нижний средний класс    7160\n",
      "До 250000 руб, Предсредний класс       7018\n",
      "До 100000 руб, Выше бедности           4388\n",
      "От 250000 руб, Средний класс           2813\n",
      "До 36000 руб, Бедные                     75\n",
      "Name: total_income_category, dtype: int64\n"
     ]
    }
   ],
   "source": [
    "display(data.sort_values(by='total_income'))\n",
    "\n",
    "# разобьем на категории исходя из уровня дохода на основании данных ЯндексДзена\n",
    "def total_income_category(income):\n",
    "    if income < 36000:\n",
    "        return 'До 36000 руб, Бедные'\n",
    "    elif 36000 <= income < 100000:\n",
    "        return 'До 100000 руб, Выше бедности'\n",
    "    elif 100000 <= income < 150000:\n",
    "        return 'До 150000 руб, Нижний средний класс'\n",
    "    elif 150000 <= income < 250000:\n",
    "        return 'До 250000 руб, Предсредний класс'\n",
    "    else:\n",
    "        return 'От 250000 руб, Средний класс'\n",
    "    \n",
    "data[\"total_income_category\"] = data[\"total_income\"].apply(total_income_category)\n",
    "print(data['total_income_category'].value_counts())"
   ]
  },
  {
   "cell_type": "markdown",
   "metadata": {},
   "source": [
    "**Вывод**"
   ]
  },
  {
   "cell_type": "markdown",
   "metadata": {},
   "source": [
    "Данные категоризованы исходя из целей кредита, причем коммерческая недвижимости вымедена в отдельную категорию, т.к. ее берут ля осуществления предпренимательской деятельности, и уровня дохода заемщиков\n"
   ]
  },
  {
   "cell_type": "markdown",
   "metadata": {},
   "source": [
    "## Шаг 3. Ответьте на вопросы"
   ]
  },
  {
   "cell_type": "markdown",
   "metadata": {},
   "source": [
    "### Есть ли зависимость между наличием детей и возвратом кредита в срок?"
   ]
  },
  {
   "cell_type": "code",
   "execution_count": 18,
   "metadata": {},
   "outputs": [
    {
     "data": {
      "text/html": [
       "<div>\n",
       "<style scoped>\n",
       "    .dataframe tbody tr th:only-of-type {\n",
       "        vertical-align: middle;\n",
       "    }\n",
       "\n",
       "    .dataframe tbody tr th {\n",
       "        vertical-align: top;\n",
       "    }\n",
       "\n",
       "    .dataframe thead tr th {\n",
       "        text-align: left;\n",
       "    }\n",
       "\n",
       "    .dataframe thead tr:last-of-type th {\n",
       "        text-align: right;\n",
       "    }\n",
       "</style>\n",
       "<table border=\"1\" class=\"dataframe\">\n",
       "  <thead>\n",
       "    <tr>\n",
       "      <th></th>\n",
       "      <th>count</th>\n",
       "      <th>sum</th>\n",
       "      <th>ratio</th>\n",
       "    </tr>\n",
       "    <tr>\n",
       "      <th></th>\n",
       "      <th>debt</th>\n",
       "      <th>debt</th>\n",
       "      <th></th>\n",
       "    </tr>\n",
       "    <tr>\n",
       "      <th>children_category</th>\n",
       "      <th></th>\n",
       "      <th></th>\n",
       "      <th></th>\n",
       "    </tr>\n",
       "  </thead>\n",
       "  <tbody>\n",
       "    <tr>\n",
       "      <td>бездетные</td>\n",
       "      <td>14167</td>\n",
       "      <td>1071</td>\n",
       "      <td>0.075598</td>\n",
       "    </tr>\n",
       "    <tr>\n",
       "      <td>с детьми</td>\n",
       "      <td>7287</td>\n",
       "      <td>670</td>\n",
       "      <td>0.091945</td>\n",
       "    </tr>\n",
       "  </tbody>\n",
       "</table>\n",
       "</div>"
      ],
      "text/plain": [
       "                   count   sum     ratio\n",
       "                    debt  debt          \n",
       "children_category                       \n",
       "бездетные          14167  1071  0.075598\n",
       "с детьми            7287   670  0.091945"
      ]
     },
     "metadata": {},
     "output_type": "display_data"
    }
   ],
   "source": [
    "def my_category_children(text):\n",
    "    if text < 1:\n",
    "        return 'бездетные'\n",
    "    return 'с детьми'\n",
    "        \n",
    "data[\"children_category\"] = data[\"children\"].apply(my_category_children)\n",
    "\n",
    "dependence_on_children = data.pivot_table(index='children_category', values='debt', aggfunc=['count', 'sum'])\n",
    "dependence_on_children['ratio'] = dependence_on_children['sum'] / dependence_on_children['count']\n",
    "#dependence_on_children = pd.DataFrame()\n",
    "#dependence_on_children['count_debt'] = data.groupby('children_category')['debt'].count()\n",
    "#dependence_on_children['sum_debt'] = data.groupby('children_category')['debt'].sum()\n",
    "#dependence_on_children['ratio'] = dependence_on_children['sum_debt'] / dependence_on_children['count_debt']\n",
    "\n",
    "display(dependence_on_children)"
   ]
  },
  {
   "cell_type": "markdown",
   "metadata": {},
   "source": [
    "**Вывод**\n"
   ]
  },
  {
   "cell_type": "markdown",
   "metadata": {},
   "source": [
    "Зависимость есть, люди без детей являются более надежными заемщиками."
   ]
  },
  {
   "cell_type": "markdown",
   "metadata": {},
   "source": [
    "### Есть ли зависимость между семейным положением и возвратом кредита в срок?"
   ]
  },
  {
   "cell_type": "code",
   "execution_count": 19,
   "metadata": {},
   "outputs": [
    {
     "data": {
      "text/html": [
       "<div>\n",
       "<style scoped>\n",
       "    .dataframe tbody tr th:only-of-type {\n",
       "        vertical-align: middle;\n",
       "    }\n",
       "\n",
       "    .dataframe tbody tr th {\n",
       "        vertical-align: top;\n",
       "    }\n",
       "\n",
       "    .dataframe thead th {\n",
       "        text-align: right;\n",
       "    }\n",
       "</style>\n",
       "<table border=\"1\" class=\"dataframe\">\n",
       "  <thead>\n",
       "    <tr style=\"text-align: right;\">\n",
       "      <th></th>\n",
       "      <th>count_debt</th>\n",
       "      <th>sum_debt</th>\n",
       "      <th>ratio</th>\n",
       "    </tr>\n",
       "    <tr>\n",
       "      <th>family_status</th>\n",
       "      <th></th>\n",
       "      <th></th>\n",
       "      <th></th>\n",
       "    </tr>\n",
       "  </thead>\n",
       "  <tbody>\n",
       "    <tr>\n",
       "      <td>в разводе</td>\n",
       "      <td>1195</td>\n",
       "      <td>85</td>\n",
       "      <td>0.071130</td>\n",
       "    </tr>\n",
       "    <tr>\n",
       "      <td>вдовец / вдова</td>\n",
       "      <td>959</td>\n",
       "      <td>63</td>\n",
       "      <td>0.065693</td>\n",
       "    </tr>\n",
       "    <tr>\n",
       "      <td>гражданский брак</td>\n",
       "      <td>4151</td>\n",
       "      <td>388</td>\n",
       "      <td>0.093471</td>\n",
       "    </tr>\n",
       "    <tr>\n",
       "      <td>женат / замужем</td>\n",
       "      <td>12339</td>\n",
       "      <td>931</td>\n",
       "      <td>0.075452</td>\n",
       "    </tr>\n",
       "    <tr>\n",
       "      <td>не женат / не замужем</td>\n",
       "      <td>2810</td>\n",
       "      <td>274</td>\n",
       "      <td>0.097509</td>\n",
       "    </tr>\n",
       "  </tbody>\n",
       "</table>\n",
       "</div>"
      ],
      "text/plain": [
       "                       count_debt  sum_debt     ratio\n",
       "family_status                                        \n",
       "в разводе                    1195        85  0.071130\n",
       "вдовец / вдова                959        63  0.065693\n",
       "гражданский брак             4151       388  0.093471\n",
       "женат / замужем             12339       931  0.075452\n",
       "не женат / не замужем        2810       274  0.097509"
      ]
     },
     "metadata": {},
     "output_type": "display_data"
    }
   ],
   "source": [
    "dependence_on_family_status = pd.DataFrame()\n",
    "dependence_on_family_status['count_debt'] = data.groupby('family_status')['debt'].count()\n",
    "dependence_on_family_status['sum_debt'] = data.groupby('family_status')['debt'].sum()\n",
    "dependence_on_family_status['ratio'] = dependence_on_family_status['sum_debt'] / dependence_on_family_status['count_debt']\n",
    "\n",
    "display(dependence_on_family_status)"
   ]
  },
  {
   "cell_type": "markdown",
   "metadata": {},
   "source": [
    "**Вывод**"
   ]
  },
  {
   "cell_type": "markdown",
   "metadata": {},
   "source": [
    "Зависимость есть. Люди которые в разводе или овдовели имеют меньше просрочек чем, те которые в данный момент замужем, а те кто не был женат или состаит в гражданском браке - являются самымы частыми неплатильщиками в данной выборке."
   ]
  },
  {
   "cell_type": "markdown",
   "metadata": {},
   "source": [
    "### Есть ли зависимость между уровнем дохода и возвратом кредита в срок?"
   ]
  },
  {
   "cell_type": "code",
   "execution_count": 20,
   "metadata": {},
   "outputs": [
    {
     "data": {
      "text/html": [
       "<div>\n",
       "<style scoped>\n",
       "    .dataframe tbody tr th:only-of-type {\n",
       "        vertical-align: middle;\n",
       "    }\n",
       "\n",
       "    .dataframe tbody tr th {\n",
       "        vertical-align: top;\n",
       "    }\n",
       "\n",
       "    .dataframe thead th {\n",
       "        text-align: right;\n",
       "    }\n",
       "</style>\n",
       "<table border=\"1\" class=\"dataframe\">\n",
       "  <thead>\n",
       "    <tr style=\"text-align: right;\">\n",
       "      <th></th>\n",
       "      <th>count_total_income_category</th>\n",
       "      <th>sum_total_income_category</th>\n",
       "      <th>result_total_income_category</th>\n",
       "    </tr>\n",
       "    <tr>\n",
       "      <th>total_income_category</th>\n",
       "      <th></th>\n",
       "      <th></th>\n",
       "      <th></th>\n",
       "    </tr>\n",
       "  </thead>\n",
       "  <tbody>\n",
       "    <tr>\n",
       "      <td>До 100000 руб, Выше бедности</td>\n",
       "      <td>4388</td>\n",
       "      <td>350</td>\n",
       "      <td>0.079763</td>\n",
       "    </tr>\n",
       "    <tr>\n",
       "      <td>До 150000 руб, Нижний средний класс</td>\n",
       "      <td>7160</td>\n",
       "      <td>624</td>\n",
       "      <td>0.087151</td>\n",
       "    </tr>\n",
       "    <tr>\n",
       "      <td>До 250000 руб, Предсредний класс</td>\n",
       "      <td>7018</td>\n",
       "      <td>569</td>\n",
       "      <td>0.081077</td>\n",
       "    </tr>\n",
       "    <tr>\n",
       "      <td>До 36000 руб, Бедные</td>\n",
       "      <td>75</td>\n",
       "      <td>4</td>\n",
       "      <td>0.053333</td>\n",
       "    </tr>\n",
       "    <tr>\n",
       "      <td>От 250000 руб, Средний класс</td>\n",
       "      <td>2813</td>\n",
       "      <td>194</td>\n",
       "      <td>0.068966</td>\n",
       "    </tr>\n",
       "  </tbody>\n",
       "</table>\n",
       "</div>"
      ],
      "text/plain": [
       "                                     count_total_income_category  \\\n",
       "total_income_category                                              \n",
       "До 100000 руб, Выше бедности                                4388   \n",
       "До 150000 руб, Нижний средний класс                         7160   \n",
       "До 250000 руб, Предсредний класс                            7018   \n",
       "До 36000 руб, Бедные                                          75   \n",
       "От 250000 руб, Средний класс                                2813   \n",
       "\n",
       "                                     sum_total_income_category  \\\n",
       "total_income_category                                            \n",
       "До 100000 руб, Выше бедности                               350   \n",
       "До 150000 руб, Нижний средний класс                        624   \n",
       "До 250000 руб, Предсредний класс                           569   \n",
       "До 36000 руб, Бедные                                         4   \n",
       "От 250000 руб, Средний класс                               194   \n",
       "\n",
       "                                     result_total_income_category  \n",
       "total_income_category                                              \n",
       "До 100000 руб, Выше бедности                             0.079763  \n",
       "До 150000 руб, Нижний средний класс                      0.087151  \n",
       "До 250000 руб, Предсредний класс                         0.081077  \n",
       "До 36000 руб, Бедные                                     0.053333  \n",
       "От 250000 руб, Средний класс                             0.068966  "
      ]
     },
     "metadata": {},
     "output_type": "display_data"
    }
   ],
   "source": [
    "dependence_on_total_income_category = pd.DataFrame()\n",
    "dependence_on_total_income_category['count_total_income_category'] = data.groupby('total_income_category')['debt'].count()\n",
    "dependence_on_total_income_category['sum_total_income_category'] = data.groupby('total_income_category')['debt'].sum()\n",
    "dependence_on_total_income_category['result_total_income_category'] = (dependence_on_total_income_category['sum_total_income_category'] / \n",
    "                                                             dependence_on_total_income_category['count_total_income_category'])\n",
    "\n",
    "display(dependence_on_total_income_category)"
   ]
  },
  {
   "cell_type": "markdown",
   "metadata": {},
   "source": [
    "**Вывод**"
   ]
  },
  {
   "cell_type": "markdown",
   "metadata": {},
   "source": [
    "По бедным не хватает выборки для однозначного трактования данных, что означает что банк в данный момент редко кредитует данную категорию заемщиков.\n",
    "\n",
    "По остальным категориям:\n",
    " * образцовыми платильщиками являются представители Среднего класса, с доходами от 250 т.р.\n",
    " * следом по надежности в порядке убывания, со значительным отрывом, представители с доходами \"Выше бедности\" и представители Предсреднего класса\n",
    " * худшими платильщиками являются представители Нижнего среднего класса, с доходами от 100 до 150 т.р. \n",
    " \n"
   ]
  },
  {
   "cell_type": "markdown",
   "metadata": {},
   "source": [
    "### Как разные цели кредита влияют на его возврат в срок?"
   ]
  },
  {
   "cell_type": "code",
   "execution_count": 21,
   "metadata": {},
   "outputs": [
    {
     "data": {
      "text/html": [
       "<div>\n",
       "<style scoped>\n",
       "    .dataframe tbody tr th:only-of-type {\n",
       "        vertical-align: middle;\n",
       "    }\n",
       "\n",
       "    .dataframe tbody tr th {\n",
       "        vertical-align: top;\n",
       "    }\n",
       "\n",
       "    .dataframe thead th {\n",
       "        text-align: right;\n",
       "    }\n",
       "</style>\n",
       "<table border=\"1\" class=\"dataframe\">\n",
       "  <thead>\n",
       "    <tr style=\"text-align: right;\">\n",
       "      <th></th>\n",
       "      <th>count_purpose_category</th>\n",
       "      <th>sum_purpose_category</th>\n",
       "      <th>result_purpose_category</th>\n",
       "    </tr>\n",
       "    <tr>\n",
       "      <th>purpose_category</th>\n",
       "      <th></th>\n",
       "      <th></th>\n",
       "      <th></th>\n",
       "    </tr>\n",
       "  </thead>\n",
       "  <tbody>\n",
       "    <tr>\n",
       "      <td>автомобиль</td>\n",
       "      <td>4306</td>\n",
       "      <td>403</td>\n",
       "      <td>0.093590</td>\n",
       "    </tr>\n",
       "    <tr>\n",
       "      <td>коммерческий недвижимость</td>\n",
       "      <td>1311</td>\n",
       "      <td>99</td>\n",
       "      <td>0.075515</td>\n",
       "    </tr>\n",
       "    <tr>\n",
       "      <td>недвижимость/жилье</td>\n",
       "      <td>9500</td>\n",
       "      <td>683</td>\n",
       "      <td>0.071895</td>\n",
       "    </tr>\n",
       "    <tr>\n",
       "      <td>образование</td>\n",
       "      <td>4013</td>\n",
       "      <td>370</td>\n",
       "      <td>0.092200</td>\n",
       "    </tr>\n",
       "    <tr>\n",
       "      <td>свадьба</td>\n",
       "      <td>2324</td>\n",
       "      <td>186</td>\n",
       "      <td>0.080034</td>\n",
       "    </tr>\n",
       "  </tbody>\n",
       "</table>\n",
       "</div>"
      ],
      "text/plain": [
       "                           count_purpose_category  sum_purpose_category  \\\n",
       "purpose_category                                                          \n",
       "автомобиль                                   4306                   403   \n",
       "коммерческий недвижимость                    1311                    99   \n",
       "недвижимость/жилье                           9500                   683   \n",
       "образование                                  4013                   370   \n",
       "свадьба                                      2324                   186   \n",
       "\n",
       "                           result_purpose_category  \n",
       "purpose_category                                    \n",
       "автомобиль                                0.093590  \n",
       "коммерческий недвижимость                 0.075515  \n",
       "недвижимость/жилье                        0.071895  \n",
       "образование                               0.092200  \n",
       "свадьба                                   0.080034  "
      ]
     },
     "metadata": {},
     "output_type": "display_data"
    }
   ],
   "source": [
    "dependence_on_purpose_category = pd.DataFrame()\n",
    "dependence_on_purpose_category['count_purpose_category'] = data.groupby('purpose_category')['debt'].count()\n",
    "dependence_on_purpose_category['sum_purpose_category'] = data.groupby('purpose_category')['debt'].sum()\n",
    "dependence_on_purpose_category['result_purpose_category'] = (dependence_on_purpose_category['sum_purpose_category'] / \n",
    "                                                             dependence_on_purpose_category['count_purpose_category'])\n",
    "\n",
    "display(dependence_on_purpose_category)"
   ]
  },
  {
   "cell_type": "markdown",
   "metadata": {},
   "source": [
    "**Вывод**"
   ]
  },
  {
   "cell_type": "markdown",
   "metadata": {},
   "source": [
    "Чаще всего платят в срок с люди взявшие деньги на недвижимость вне зависимости на какую, хуже тех кто нужен кредит на авто и образование. Взявшие кредиты на свадьбу просрачивают реже чем те кто брал кредит на образование, но чаще чем люди взявшие деньги на недвижимость."
   ]
  },
  {
   "cell_type": "markdown",
   "metadata": {},
   "source": [
    "## Шаг 4. Общий вывод"
   ]
  },
  {
   "cell_type": "markdown",
   "metadata": {},
   "source": [
    "Общий вывод - лучшим кредитором является представитель Среднего класса, с доходом от 250 т.р., в разводе или вдовец, без детей и берущий кредит на недвижимость. "
   ]
  },
  {
   "cell_type": "code",
   "execution_count": null,
   "metadata": {},
   "outputs": [],
   "source": []
  }
 ],
 "metadata": {
  "ExecuteTimeLog": [
   {
    "duration": 787,
    "start_time": "2021-12-29T13:31:56.056Z"
   },
   {
    "duration": 732,
    "start_time": "2021-12-30T17:52:42.695Z"
   },
   {
    "duration": 62,
    "start_time": "2021-12-30T19:06:28.281Z"
   },
   {
    "duration": 54,
    "start_time": "2021-12-30T19:06:53.258Z"
   },
   {
    "duration": 72,
    "start_time": "2021-12-30T19:07:36.829Z"
   },
   {
    "duration": 898,
    "start_time": "2021-12-31T09:10:09.598Z"
   },
   {
    "duration": 110,
    "start_time": "2021-12-31T09:14:57.520Z"
   },
   {
    "duration": 127,
    "start_time": "2021-12-31T09:15:15.940Z"
   },
   {
    "duration": 136,
    "start_time": "2021-12-31T09:23:57.296Z"
   },
   {
    "duration": 124,
    "start_time": "2021-12-31T09:24:53.022Z"
   },
   {
    "duration": 337,
    "start_time": "2021-12-31T11:30:19.737Z"
   },
   {
    "duration": 290,
    "start_time": "2021-12-31T11:30:33.883Z"
   },
   {
    "duration": 907,
    "start_time": "2021-12-31T11:30:49.987Z"
   },
   {
    "duration": 22,
    "start_time": "2021-12-31T11:30:58.381Z"
   },
   {
    "duration": 22,
    "start_time": "2021-12-31T11:31:18.450Z"
   },
   {
    "duration": 322,
    "start_time": "2021-12-31T11:36:33.014Z"
   },
   {
    "duration": 26,
    "start_time": "2021-12-31T11:37:16.195Z"
   },
   {
    "duration": 33,
    "start_time": "2021-12-31T11:57:49.143Z"
   },
   {
    "duration": 36,
    "start_time": "2021-12-31T12:05:48.270Z"
   },
   {
    "duration": 43,
    "start_time": "2021-12-31T12:06:21.965Z"
   },
   {
    "duration": 14,
    "start_time": "2021-12-31T12:06:34.467Z"
   },
   {
    "duration": 13,
    "start_time": "2021-12-31T12:06:46.128Z"
   },
   {
    "duration": 21,
    "start_time": "2021-12-31T12:06:52.467Z"
   },
   {
    "duration": 13,
    "start_time": "2021-12-31T12:07:14.168Z"
   },
   {
    "duration": 11,
    "start_time": "2021-12-31T12:07:20.856Z"
   },
   {
    "duration": 124,
    "start_time": "2021-12-31T12:07:38.587Z"
   },
   {
    "duration": 32,
    "start_time": "2021-12-31T12:07:44.529Z"
   },
   {
    "duration": 37,
    "start_time": "2021-12-31T12:07:50.571Z"
   },
   {
    "duration": 37,
    "start_time": "2021-12-31T12:07:55.351Z"
   },
   {
    "duration": 14,
    "start_time": "2021-12-31T12:08:01.475Z"
   },
   {
    "duration": 5,
    "start_time": "2021-12-31T12:08:17.960Z"
   },
   {
    "duration": 21,
    "start_time": "2021-12-31T14:00:00.269Z"
   },
   {
    "duration": 26,
    "start_time": "2021-12-31T14:00:51.984Z"
   },
   {
    "duration": 274,
    "start_time": "2021-12-31T14:04:43.663Z"
   },
   {
    "duration": 69,
    "start_time": "2021-12-31T14:07:16.164Z"
   },
   {
    "duration": 61,
    "start_time": "2021-12-31T14:25:23.340Z"
   },
   {
    "duration": 410,
    "start_time": "2021-12-31T14:28:46.598Z"
   },
   {
    "duration": 59,
    "start_time": "2021-12-31T14:29:38.739Z"
   },
   {
    "duration": 67,
    "start_time": "2021-12-31T14:30:28.871Z"
   },
   {
    "duration": 24,
    "start_time": "2021-12-31T14:32:46.606Z"
   },
   {
    "duration": 21,
    "start_time": "2021-12-31T14:48:30.827Z"
   },
   {
    "duration": 13,
    "start_time": "2021-12-31T14:56:56.410Z"
   },
   {
    "duration": 27,
    "start_time": "2021-12-31T14:57:35.305Z"
   },
   {
    "duration": 7129,
    "start_time": "2021-12-31T15:00:27.011Z"
   },
   {
    "duration": 38,
    "start_time": "2021-12-31T15:07:07.090Z"
   },
   {
    "duration": 46,
    "start_time": "2021-12-31T15:07:45.753Z"
   },
   {
    "duration": 60,
    "start_time": "2021-12-31T15:08:01.617Z"
   },
   {
    "duration": 336,
    "start_time": "2021-12-31T15:09:33.225Z"
   },
   {
    "duration": 60,
    "start_time": "2021-12-31T15:09:59.985Z"
   },
   {
    "duration": 104,
    "start_time": "2021-12-31T15:11:40.594Z"
   },
   {
    "duration": 44,
    "start_time": "2021-12-31T15:13:48.758Z"
   },
   {
    "duration": 49,
    "start_time": "2021-12-31T15:13:57.521Z"
   },
   {
    "duration": 129,
    "start_time": "2021-12-31T15:14:05.647Z"
   },
   {
    "duration": 6,
    "start_time": "2021-12-31T15:14:09.629Z"
   },
   {
    "duration": 54,
    "start_time": "2021-12-31T15:14:13.002Z"
   },
   {
    "duration": 119,
    "start_time": "2021-12-31T15:15:45.517Z"
   },
   {
    "duration": 339,
    "start_time": "2021-12-31T15:28:49.643Z"
   },
   {
    "duration": 102,
    "start_time": "2021-12-31T15:29:34.208Z"
   },
   {
    "duration": 368,
    "start_time": "2021-12-31T15:29:38.026Z"
   },
   {
    "duration": 120,
    "start_time": "2021-12-31T15:29:59.020Z"
   },
   {
    "duration": 113,
    "start_time": "2021-12-31T15:30:54.424Z"
   },
   {
    "duration": 172,
    "start_time": "2021-12-31T16:13:31.310Z"
   },
   {
    "duration": 118,
    "start_time": "2021-12-31T16:14:07.157Z"
   },
   {
    "duration": 94,
    "start_time": "2021-12-31T16:18:50.968Z"
   },
   {
    "duration": 106,
    "start_time": "2021-12-31T17:02:04.911Z"
   },
   {
    "duration": 34,
    "start_time": "2021-12-31T17:02:08.404Z"
   },
   {
    "duration": 11,
    "start_time": "2021-12-31T17:03:28.489Z"
   },
   {
    "duration": 11,
    "start_time": "2021-12-31T17:03:32.329Z"
   },
   {
    "duration": 100,
    "start_time": "2021-12-31T17:03:35.854Z"
   },
   {
    "duration": 33,
    "start_time": "2021-12-31T17:03:40.293Z"
   },
   {
    "duration": 267,
    "start_time": "2021-12-31T17:03:44.360Z"
   },
   {
    "duration": 36,
    "start_time": "2021-12-31T17:10:35.338Z"
   },
   {
    "duration": 25,
    "start_time": "2021-12-31T17:10:40.410Z"
   },
   {
    "duration": 15,
    "start_time": "2021-12-31T17:10:56.314Z"
   },
   {
    "duration": 283,
    "start_time": "2021-12-31T17:16:41.171Z"
   },
   {
    "duration": 88,
    "start_time": "2021-12-31T17:17:52.174Z"
   },
   {
    "duration": 305,
    "start_time": "2021-12-31T17:17:54.884Z"
   },
   {
    "duration": 280,
    "start_time": "2021-12-31T17:18:48.005Z"
   },
   {
    "duration": 90,
    "start_time": "2021-12-31T17:21:33.998Z"
   },
   {
    "duration": 109,
    "start_time": "2021-12-31T17:22:01.362Z"
   },
   {
    "duration": 292,
    "start_time": "2021-12-31T17:23:28.527Z"
   },
   {
    "duration": 276,
    "start_time": "2021-12-31T17:26:02.468Z"
   },
   {
    "duration": 904,
    "start_time": "2021-12-31T17:26:09.047Z"
   },
   {
    "duration": 324,
    "start_time": "2021-12-31T17:28:40.063Z"
   },
   {
    "duration": 302,
    "start_time": "2021-12-31T17:29:31.458Z"
   },
   {
    "duration": 1176,
    "start_time": "2021-12-31T17:35:33.391Z"
   },
   {
    "duration": 1200,
    "start_time": "2021-12-31T17:35:58.403Z"
   },
   {
    "duration": 12111,
    "start_time": "2021-12-31T17:37:26.267Z"
   },
   {
    "duration": 137,
    "start_time": "2021-12-31T17:39:26.860Z"
   },
   {
    "duration": 12133,
    "start_time": "2021-12-31T17:41:13.534Z"
   },
   {
    "duration": 102,
    "start_time": "2021-12-31T17:42:49.824Z"
   },
   {
    "duration": 106,
    "start_time": "2021-12-31T17:43:06.122Z"
   },
   {
    "duration": 853,
    "start_time": "2021-12-31T17:43:18.484Z"
   },
   {
    "duration": 90,
    "start_time": "2021-12-31T17:43:30.576Z"
   },
   {
    "duration": 100,
    "start_time": "2021-12-31T17:43:39.322Z"
   },
   {
    "duration": 306,
    "start_time": "2021-12-31T18:07:52.150Z"
   },
   {
    "duration": 134,
    "start_time": "2021-12-31T18:17:40.462Z"
   },
   {
    "duration": 87,
    "start_time": "2021-12-31T18:17:48.052Z"
   },
   {
    "duration": 92,
    "start_time": "2021-12-31T18:18:21.220Z"
   },
   {
    "duration": 105,
    "start_time": "2021-12-31T18:18:30.768Z"
   },
   {
    "duration": 294,
    "start_time": "2021-12-31T18:24:48.912Z"
   },
   {
    "duration": 100,
    "start_time": "2021-12-31T18:25:48.437Z"
   },
   {
    "duration": 34,
    "start_time": "2021-12-31T18:25:52.876Z"
   },
   {
    "duration": 17,
    "start_time": "2021-12-31T18:25:56.496Z"
   },
   {
    "duration": 93,
    "start_time": "2021-12-31T18:25:59.665Z"
   },
   {
    "duration": 820,
    "start_time": "2022-01-01T11:29:18.265Z"
   },
   {
    "duration": 38,
    "start_time": "2022-01-01T11:29:25.199Z"
   },
   {
    "duration": 19,
    "start_time": "2022-01-01T11:29:30.241Z"
   },
   {
    "duration": 97,
    "start_time": "2022-01-01T11:29:38.025Z"
   },
   {
    "duration": 11233,
    "start_time": "2022-01-01T11:29:43.551Z"
   },
   {
    "duration": 292,
    "start_time": "2022-01-01T11:32:19.834Z"
   },
   {
    "duration": 948,
    "start_time": "2022-01-01T18:00:53.120Z"
   },
   {
    "duration": 36,
    "start_time": "2022-01-01T18:01:14.743Z"
   },
   {
    "duration": 18,
    "start_time": "2022-01-01T18:01:18.862Z"
   },
   {
    "duration": 100,
    "start_time": "2022-01-01T18:01:23.713Z"
   },
   {
    "duration": 9,
    "start_time": "2022-01-01T18:02:25.140Z"
   },
   {
    "duration": 18,
    "start_time": "2022-01-01T18:02:38.120Z"
   },
   {
    "duration": 8,
    "start_time": "2022-01-01T18:02:47.521Z"
   },
   {
    "duration": 5,
    "start_time": "2022-01-01T18:02:53.782Z"
   },
   {
    "duration": 908,
    "start_time": "2022-01-01T18:03:32.950Z"
   },
   {
    "duration": 371,
    "start_time": "2022-01-01T18:19:21.092Z"
   },
   {
    "duration": 7,
    "start_time": "2022-01-01T18:19:34.892Z"
   },
   {
    "duration": 5,
    "start_time": "2022-01-01T18:20:15.583Z"
   },
   {
    "duration": 6,
    "start_time": "2022-01-01T18:20:26.730Z"
   },
   {
    "duration": 6,
    "start_time": "2022-01-01T18:20:40.591Z"
   },
   {
    "duration": 6,
    "start_time": "2022-01-01T18:20:53.293Z"
   },
   {
    "duration": 826,
    "start_time": "2022-01-01T18:21:26.213Z"
   },
   {
    "duration": 3,
    "start_time": "2022-01-01T18:23:46.221Z"
   },
   {
    "duration": 2265,
    "start_time": "2022-01-01T18:24:15.052Z"
   },
   {
    "duration": 5,
    "start_time": "2022-01-01T18:24:28.702Z"
   },
   {
    "duration": 3535,
    "start_time": "2022-01-01T18:26:02.743Z"
   },
   {
    "duration": 4,
    "start_time": "2022-01-01T18:28:26.602Z"
   },
   {
    "duration": 3509,
    "start_time": "2022-01-01T18:28:45.670Z"
   },
   {
    "duration": 332,
    "start_time": "2022-01-02T13:17:03.312Z"
   },
   {
    "duration": 665,
    "start_time": "2022-01-02T13:17:08.289Z"
   },
   {
    "duration": 24,
    "start_time": "2022-01-02T13:17:22.040Z"
   },
   {
    "duration": 14,
    "start_time": "2022-01-02T13:17:26.108Z"
   },
   {
    "duration": 73,
    "start_time": "2022-01-02T13:17:29.112Z"
   },
   {
    "duration": 2,
    "start_time": "2022-01-02T13:17:40.135Z"
   },
   {
    "duration": 1432,
    "start_time": "2022-01-02T13:17:42.474Z"
   },
   {
    "duration": 7,
    "start_time": "2022-01-02T13:18:01.425Z"
   },
   {
    "duration": 3,
    "start_time": "2022-01-02T13:18:04.335Z"
   },
   {
    "duration": 3865,
    "start_time": "2022-01-02T13:18:06.499Z"
   },
   {
    "duration": 19,
    "start_time": "2022-01-02T13:18:11.880Z"
   },
   {
    "duration": 3047,
    "start_time": "2022-01-02T13:19:17.778Z"
   },
   {
    "duration": 19,
    "start_time": "2022-01-02T13:19:21.301Z"
   },
   {
    "duration": 9,
    "start_time": "2022-01-02T14:13:18.339Z"
   },
   {
    "duration": 824,
    "start_time": "2022-01-03T09:11:42.391Z"
   },
   {
    "duration": 36,
    "start_time": "2022-01-03T09:11:46.787Z"
   },
   {
    "duration": 19,
    "start_time": "2022-01-03T09:11:51.886Z"
   },
   {
    "duration": 102,
    "start_time": "2022-01-03T09:11:55.909Z"
   },
   {
    "duration": 9,
    "start_time": "2022-01-03T09:12:01.264Z"
   },
   {
    "duration": 4,
    "start_time": "2022-01-03T09:12:12.599Z"
   },
   {
    "duration": 4592,
    "start_time": "2022-01-03T09:12:14.794Z"
   },
   {
    "duration": 32,
    "start_time": "2022-01-03T09:12:19.389Z"
   },
   {
    "duration": 25,
    "start_time": "2022-01-03T09:38:57.615Z"
   },
   {
    "duration": 407,
    "start_time": "2022-01-03T10:05:41.173Z"
   },
   {
    "duration": 28,
    "start_time": "2022-01-03T10:10:32.652Z"
   },
   {
    "duration": 30,
    "start_time": "2022-01-03T10:27:34.777Z"
   },
   {
    "duration": 31,
    "start_time": "2022-01-03T10:27:56.744Z"
   },
   {
    "duration": 30,
    "start_time": "2022-01-03T10:31:28.752Z"
   },
   {
    "duration": 28,
    "start_time": "2022-01-03T12:59:42.541Z"
   },
   {
    "duration": 21,
    "start_time": "2022-01-03T13:00:38.360Z"
   },
   {
    "duration": 11,
    "start_time": "2022-01-03T13:01:08.775Z"
   },
   {
    "duration": 9,
    "start_time": "2022-01-03T13:01:27.907Z"
   },
   {
    "duration": 12,
    "start_time": "2022-01-03T13:01:31.908Z"
   },
   {
    "duration": 109,
    "start_time": "2022-01-03T13:01:36.699Z"
   },
   {
    "duration": 33,
    "start_time": "2022-01-03T13:01:41.116Z"
   },
   {
    "duration": 9,
    "start_time": "2022-01-03T13:03:04.146Z"
   },
   {
    "duration": 4041,
    "start_time": "2022-01-03T13:08:26.748Z"
   },
   {
    "duration": 3658,
    "start_time": "2022-01-03T13:08:31.045Z"
   },
   {
    "duration": 7252,
    "start_time": "2022-01-03T13:11:37.325Z"
   },
   {
    "duration": 10,
    "start_time": "2022-01-03T13:12:15.469Z"
   },
   {
    "duration": 8,
    "start_time": "2022-01-03T13:12:28.012Z"
   },
   {
    "duration": 8,
    "start_time": "2022-01-03T13:21:37.137Z"
   },
   {
    "duration": 12,
    "start_time": "2022-01-03T13:22:47.938Z"
   },
   {
    "duration": 10,
    "start_time": "2022-01-03T13:26:35.618Z"
   },
   {
    "duration": 21,
    "start_time": "2022-01-03T13:26:56.203Z"
   },
   {
    "duration": 37,
    "start_time": "2022-01-03T13:27:06.963Z"
   },
   {
    "duration": 11,
    "start_time": "2022-01-03T13:28:52.106Z"
   },
   {
    "duration": 320,
    "start_time": "2022-01-03T13:32:53.137Z"
   },
   {
    "duration": 293,
    "start_time": "2022-01-03T13:33:34.910Z"
   },
   {
    "duration": 16,
    "start_time": "2022-01-03T13:33:43.469Z"
   },
   {
    "duration": 7397,
    "start_time": "2022-01-03T13:34:18.158Z"
   },
   {
    "duration": 39,
    "start_time": "2022-01-03T13:36:00.141Z"
   },
   {
    "duration": 44,
    "start_time": "2022-01-03T13:36:45.204Z"
   },
   {
    "duration": 38,
    "start_time": "2022-01-03T13:39:03.526Z"
   },
   {
    "duration": 9,
    "start_time": "2022-01-03T13:45:02.310Z"
   },
   {
    "duration": 21,
    "start_time": "2022-01-03T14:11:08.983Z"
   },
   {
    "duration": 35,
    "start_time": "2022-01-03T14:13:43.977Z"
   },
   {
    "duration": 7,
    "start_time": "2022-01-03T14:14:00.847Z"
   },
   {
    "duration": 25,
    "start_time": "2022-01-03T14:15:46.914Z"
   },
   {
    "duration": 38,
    "start_time": "2022-01-03T14:16:36.357Z"
   },
   {
    "duration": 7,
    "start_time": "2022-01-03T14:16:40.888Z"
   },
   {
    "duration": 35,
    "start_time": "2022-01-03T14:16:55.492Z"
   },
   {
    "duration": 101,
    "start_time": "2022-01-03T16:40:11.313Z"
   },
   {
    "duration": 37,
    "start_time": "2022-01-03T16:40:16.115Z"
   },
   {
    "duration": 27,
    "start_time": "2022-01-03T16:40:42.091Z"
   },
   {
    "duration": 50,
    "start_time": "2022-01-03T16:48:26.631Z"
   },
   {
    "duration": 63,
    "start_time": "2022-01-03T16:49:04.913Z"
   },
   {
    "duration": 42,
    "start_time": "2022-01-03T16:50:56.734Z"
   },
   {
    "duration": 34,
    "start_time": "2022-01-03T16:51:03.446Z"
   },
   {
    "duration": 30,
    "start_time": "2022-01-03T16:52:40.362Z"
   },
   {
    "duration": 65,
    "start_time": "2022-01-03T16:53:07.333Z"
   },
   {
    "duration": 35,
    "start_time": "2022-01-03T16:53:44.688Z"
   },
   {
    "duration": 10,
    "start_time": "2022-01-03T16:53:48.541Z"
   },
   {
    "duration": 36,
    "start_time": "2022-01-03T16:54:27.106Z"
   },
   {
    "duration": 9,
    "start_time": "2022-01-03T16:54:35.170Z"
   },
   {
    "duration": 34,
    "start_time": "2022-01-03T16:56:25.915Z"
   },
   {
    "duration": 34,
    "start_time": "2022-01-03T16:57:11.987Z"
   },
   {
    "duration": 9,
    "start_time": "2022-01-03T16:57:16.505Z"
   },
   {
    "duration": 44,
    "start_time": "2022-01-03T17:01:39.777Z"
   },
   {
    "duration": 46,
    "start_time": "2022-01-03T17:02:12.705Z"
   },
   {
    "duration": 51,
    "start_time": "2022-01-03T17:02:26.980Z"
   },
   {
    "duration": 73,
    "start_time": "2022-01-03T17:02:53.960Z"
   },
   {
    "duration": 80,
    "start_time": "2022-01-03T17:06:46.038Z"
   },
   {
    "duration": 73,
    "start_time": "2022-01-03T17:09:41.344Z"
   },
   {
    "duration": 101,
    "start_time": "2022-01-03T17:09:49.487Z"
   },
   {
    "duration": 74,
    "start_time": "2022-01-03T17:09:57.987Z"
   },
   {
    "duration": 75,
    "start_time": "2022-01-03T17:10:16.066Z"
   },
   {
    "duration": 83,
    "start_time": "2022-01-03T17:10:51.840Z"
   },
   {
    "duration": 52,
    "start_time": "2022-01-03T17:14:02.454Z"
   },
   {
    "duration": 7442,
    "start_time": "2022-01-03T17:14:06.108Z"
   },
   {
    "duration": 605,
    "start_time": "2022-01-03T17:14:30.830Z"
   },
   {
    "duration": 35,
    "start_time": "2022-01-03T17:14:53.796Z"
   },
   {
    "duration": 79,
    "start_time": "2022-01-03T17:15:08.029Z"
   },
   {
    "duration": 76,
    "start_time": "2022-01-03T17:17:48.819Z"
   },
   {
    "duration": 75,
    "start_time": "2022-01-03T17:18:08.276Z"
   },
   {
    "duration": 70,
    "start_time": "2022-01-03T17:19:00.661Z"
   },
   {
    "duration": 89,
    "start_time": "2022-01-03T17:20:20.883Z"
   },
   {
    "duration": 88,
    "start_time": "2022-01-03T17:20:28.439Z"
   },
   {
    "duration": 34,
    "start_time": "2022-01-03T17:21:18.979Z"
   },
   {
    "duration": 8,
    "start_time": "2022-01-03T17:21:21.645Z"
   },
   {
    "duration": 94,
    "start_time": "2022-01-03T17:21:24.480Z"
   },
   {
    "duration": 77,
    "start_time": "2022-01-03T17:23:08.949Z"
   },
   {
    "duration": 65,
    "start_time": "2022-01-03T17:23:52.580Z"
   },
   {
    "duration": 102,
    "start_time": "2022-01-03T17:24:00.764Z"
   },
   {
    "duration": 34,
    "start_time": "2022-01-03T17:24:05.399Z"
   },
   {
    "duration": 63,
    "start_time": "2022-01-03T17:24:40.652Z"
   },
   {
    "duration": 35,
    "start_time": "2022-01-03T17:26:06.712Z"
   },
   {
    "duration": 37,
    "start_time": "2022-01-03T17:27:04.383Z"
   },
   {
    "duration": 37,
    "start_time": "2022-01-03T17:27:59.082Z"
   },
   {
    "duration": 36,
    "start_time": "2022-01-03T17:29:12.497Z"
   },
   {
    "duration": 101,
    "start_time": "2022-01-03T17:29:31.908Z"
   },
   {
    "duration": 35,
    "start_time": "2022-01-03T17:29:37.095Z"
   },
   {
    "duration": 7,
    "start_time": "2022-01-03T17:29:40.059Z"
   },
   {
    "duration": 37,
    "start_time": "2022-01-03T17:30:10.147Z"
   },
   {
    "duration": 40,
    "start_time": "2022-01-03T17:30:23.828Z"
   },
   {
    "duration": 41,
    "start_time": "2022-01-03T17:32:35.868Z"
   },
   {
    "duration": 49,
    "start_time": "2022-01-03T17:33:16.362Z"
   },
   {
    "duration": 145,
    "start_time": "2022-01-03T17:36:27.699Z"
   },
   {
    "duration": 53,
    "start_time": "2022-01-03T17:39:20.338Z"
   },
   {
    "duration": 43,
    "start_time": "2022-01-03T17:45:25.295Z"
   },
   {
    "duration": 33,
    "start_time": "2022-01-03T17:45:51.069Z"
   },
   {
    "duration": 36,
    "start_time": "2022-01-03T17:45:58.801Z"
   },
   {
    "duration": 8,
    "start_time": "2022-01-03T17:46:06.328Z"
   },
   {
    "duration": 8,
    "start_time": "2022-01-03T17:46:12.397Z"
   },
   {
    "duration": 33,
    "start_time": "2022-01-03T17:46:22.366Z"
   },
   {
    "duration": 37,
    "start_time": "2022-01-03T17:46:28.886Z"
   },
   {
    "duration": 37,
    "start_time": "2022-01-03T17:46:45.917Z"
   },
   {
    "duration": 870,
    "start_time": "2022-01-03T17:47:38.364Z"
   },
   {
    "duration": 36,
    "start_time": "2022-01-03T17:47:44.856Z"
   },
   {
    "duration": 34,
    "start_time": "2022-01-03T17:48:31.089Z"
   },
   {
    "duration": 7,
    "start_time": "2022-01-03T17:48:36.462Z"
   },
   {
    "duration": 30,
    "start_time": "2022-01-03T17:49:26.510Z"
   },
   {
    "duration": 58,
    "start_time": "2022-01-03T17:51:46.592Z"
   },
   {
    "duration": 366,
    "start_time": "2022-01-03T17:59:11.902Z"
   },
   {
    "duration": 101,
    "start_time": "2022-01-03T17:59:38.876Z"
   },
   {
    "duration": 277,
    "start_time": "2022-01-03T17:59:57.709Z"
   },
   {
    "duration": 287,
    "start_time": "2022-01-03T18:01:02.952Z"
   },
   {
    "duration": 267,
    "start_time": "2022-01-03T18:01:59.757Z"
   },
   {
    "duration": 276,
    "start_time": "2022-01-03T18:06:39.581Z"
   },
   {
    "duration": 270,
    "start_time": "2022-01-03T18:07:28.627Z"
   },
   {
    "duration": 6,
    "start_time": "2022-01-03T18:07:40.868Z"
   },
   {
    "duration": 91,
    "start_time": "2022-01-03T18:14:29.018Z"
   },
   {
    "duration": 10,
    "start_time": "2022-01-03T18:14:56.140Z"
   },
   {
    "duration": 11,
    "start_time": "2022-01-03T18:15:00.474Z"
   },
   {
    "duration": 10,
    "start_time": "2022-01-03T18:15:07.261Z"
   },
   {
    "duration": 4165,
    "start_time": "2022-01-03T18:15:57.311Z"
   },
   {
    "duration": 9,
    "start_time": "2022-01-03T18:22:29.781Z"
   },
   {
    "duration": 544,
    "start_time": "2022-01-03T18:44:54.584Z"
   },
   {
    "duration": 89,
    "start_time": "2022-01-03T19:03:00.208Z"
   },
   {
    "duration": 81,
    "start_time": "2022-01-03T19:09:32.946Z"
   },
   {
    "duration": 91,
    "start_time": "2022-01-03T19:10:25.266Z"
   },
   {
    "duration": 89,
    "start_time": "2022-01-03T19:11:07.983Z"
   },
   {
    "duration": 73,
    "start_time": "2022-01-03T19:12:13.520Z"
   },
   {
    "duration": 4,
    "start_time": "2022-01-03T19:12:47.485Z"
   },
   {
    "duration": 5,
    "start_time": "2022-01-03T19:13:14.562Z"
   },
   {
    "duration": 32,
    "start_time": "2022-01-03T19:13:27.506Z"
   },
   {
    "duration": 100,
    "start_time": "2022-01-03T19:14:12.731Z"
   },
   {
    "duration": 93,
    "start_time": "2022-01-03T19:14:51.096Z"
   },
   {
    "duration": 107,
    "start_time": "2022-01-03T19:15:35.660Z"
   },
   {
    "duration": 88,
    "start_time": "2022-01-03T19:15:47.753Z"
   },
   {
    "duration": 91,
    "start_time": "2022-01-03T19:18:37.062Z"
   },
   {
    "duration": 280,
    "start_time": "2022-01-03T19:19:24.354Z"
   },
   {
    "duration": 281,
    "start_time": "2022-01-03T19:19:35.003Z"
   },
   {
    "duration": 17,
    "start_time": "2022-01-03T19:20:27.392Z"
   },
   {
    "duration": -631,
    "start_time": "2022-01-03T19:23:05.481Z"
   },
   {
    "duration": 4,
    "start_time": "2022-01-03T19:23:07.448Z"
   },
   {
    "duration": 6498,
    "start_time": "2022-01-03T19:23:16.408Z"
   },
   {
    "duration": 358,
    "start_time": "2022-01-03T19:23:22.550Z"
   },
   {
    "duration": 4,
    "start_time": "2022-01-03T19:23:28.654Z"
   },
   {
    "duration": 31,
    "start_time": "2022-01-03T19:23:31.748Z"
   },
   {
    "duration": 6720,
    "start_time": "2022-01-03T19:23:35.272Z"
   },
   {
    "duration": 7974,
    "start_time": "2022-01-03T19:23:46.901Z"
   },
   {
    "duration": 4697,
    "start_time": "2022-01-03T19:25:49.216Z"
   },
   {
    "duration": 31,
    "start_time": "2022-01-03T19:25:57.983Z"
   },
   {
    "duration": 33,
    "start_time": "2022-01-03T19:26:09.851Z"
   },
   {
    "duration": 269,
    "start_time": "2022-01-03T21:16:55.195Z"
   },
   {
    "duration": 23,
    "start_time": "2022-01-03T21:17:06.878Z"
   },
   {
    "duration": 54,
    "start_time": "2022-01-03T21:17:13.184Z"
   },
   {
    "duration": 690,
    "start_time": "2022-01-04T09:11:38.672Z"
   },
   {
    "duration": 257,
    "start_time": "2022-01-04T09:12:12.954Z"
   },
   {
    "duration": 4,
    "start_time": "2022-01-04T09:12:32.684Z"
   },
   {
    "duration": 8,
    "start_time": "2022-01-04T09:15:50.694Z"
   },
   {
    "duration": 64,
    "start_time": "2022-01-04T09:18:00.300Z"
   },
   {
    "duration": 93,
    "start_time": "2022-01-04T09:20:34.443Z"
   },
   {
    "duration": 58,
    "start_time": "2022-01-04T09:20:45.201Z"
   },
   {
    "duration": 12,
    "start_time": "2022-01-04T09:20:59.032Z"
   },
   {
    "duration": 15,
    "start_time": "2022-01-04T09:24:18.962Z"
   },
   {
    "duration": 173,
    "start_time": "2022-01-04T09:27:14.073Z"
   },
   {
    "duration": 10,
    "start_time": "2022-01-04T09:27:25.364Z"
   },
   {
    "duration": 9,
    "start_time": "2022-01-04T09:27:27.416Z"
   },
   {
    "duration": 72,
    "start_time": "2022-01-04T09:27:41.824Z"
   },
   {
    "duration": 50,
    "start_time": "2022-01-04T09:27:46.759Z"
   },
   {
    "duration": 9,
    "start_time": "2022-01-04T09:27:50.268Z"
   },
   {
    "duration": 9,
    "start_time": "2022-01-04T09:27:52.757Z"
   },
   {
    "duration": 175,
    "start_time": "2022-01-04T09:28:04.660Z"
   },
   {
    "duration": 74,
    "start_time": "2022-01-04T09:28:08.510Z"
   },
   {
    "duration": 23,
    "start_time": "2022-01-04T09:28:13.955Z"
   },
   {
    "duration": 5,
    "start_time": "2022-01-04T09:28:17.319Z"
   },
   {
    "duration": 62,
    "start_time": "2022-01-04T09:28:21.205Z"
   },
   {
    "duration": 10,
    "start_time": "2022-01-04T09:28:23.140Z"
   },
   {
    "duration": 10,
    "start_time": "2022-01-04T09:28:24.343Z"
   },
   {
    "duration": 12,
    "start_time": "2022-01-04T09:28:27.883Z"
   },
   {
    "duration": 68,
    "start_time": "2022-01-04T09:28:30.450Z"
   },
   {
    "duration": 5,
    "start_time": "2022-01-04T09:28:34.517Z"
   },
   {
    "duration": 3586,
    "start_time": "2022-01-04T09:28:38.659Z"
   },
   {
    "duration": 23,
    "start_time": "2022-01-04T09:28:42.539Z"
   },
   {
    "duration": 27,
    "start_time": "2022-01-04T09:28:47.202Z"
   },
   {
    "duration": 22,
    "start_time": "2022-01-04T09:28:54.207Z"
   },
   {
    "duration": 12,
    "start_time": "2022-01-04T09:30:38.708Z"
   },
   {
    "duration": 13,
    "start_time": "2022-01-04T09:30:45.331Z"
   },
   {
    "duration": 35,
    "start_time": "2022-01-04T09:32:16.003Z"
   },
   {
    "duration": 171,
    "start_time": "2022-01-04T09:51:08.299Z"
   },
   {
    "duration": 11,
    "start_time": "2022-01-04T09:51:30.359Z"
   },
   {
    "duration": 13,
    "start_time": "2022-01-04T09:51:39.631Z"
   },
   {
    "duration": 15,
    "start_time": "2022-01-04T10:06:29.004Z"
   },
   {
    "duration": 175,
    "start_time": "2022-01-04T10:20:12.609Z"
   },
   {
    "duration": 190,
    "start_time": "2022-01-04T10:21:36.103Z"
   },
   {
    "duration": 186,
    "start_time": "2022-01-04T10:22:48.393Z"
   },
   {
    "duration": 175,
    "start_time": "2022-01-04T10:23:05.179Z"
   },
   {
    "duration": 14,
    "start_time": "2022-01-04T10:23:14.468Z"
   },
   {
    "duration": 13,
    "start_time": "2022-01-04T10:23:37.751Z"
   },
   {
    "duration": 16,
    "start_time": "2022-01-04T11:04:47.393Z"
   },
   {
    "duration": 21,
    "start_time": "2022-01-04T11:05:06.385Z"
   },
   {
    "duration": 705,
    "start_time": "2022-01-05T10:48:56.200Z"
   },
   {
    "duration": 23,
    "start_time": "2022-01-05T10:57:11.588Z"
   },
   {
    "duration": 65,
    "start_time": "2022-01-05T10:57:18.366Z"
   },
   {
    "duration": 34,
    "start_time": "2022-01-05T10:57:24.112Z"
   },
   {
    "duration": 5,
    "start_time": "2022-01-05T10:57:27.738Z"
   },
   {
    "duration": 52,
    "start_time": "2022-01-05T10:57:34.851Z"
   },
   {
    "duration": 9,
    "start_time": "2022-01-05T10:57:36.192Z"
   },
   {
    "duration": 9,
    "start_time": "2022-01-05T10:57:37.472Z"
   },
   {
    "duration": 6,
    "start_time": "2022-01-05T10:57:38.024Z"
   },
   {
    "duration": 16,
    "start_time": "2022-01-05T10:57:47.076Z"
   },
   {
    "duration": 59,
    "start_time": "2022-01-05T10:57:55.181Z"
   },
   {
    "duration": 7,
    "start_time": "2022-01-05T10:58:03.165Z"
   },
   {
    "duration": 3295,
    "start_time": "2022-01-05T10:58:04.365Z"
   },
   {
    "duration": 33,
    "start_time": "2022-01-05T10:58:07.663Z"
   },
   {
    "duration": 15,
    "start_time": "2022-01-05T10:58:12.031Z"
   },
   {
    "duration": 25,
    "start_time": "2022-01-05T10:58:12.106Z"
   },
   {
    "duration": 57,
    "start_time": "2022-01-05T11:44:54.997Z"
   },
   {
    "duration": 35,
    "start_time": "2022-01-05T11:45:56.020Z"
   },
   {
    "duration": 152,
    "start_time": "2022-01-05T11:46:26.641Z"
   },
   {
    "duration": 36,
    "start_time": "2022-01-05T11:46:59.702Z"
   },
   {
    "duration": 36,
    "start_time": "2022-01-05T11:48:21.744Z"
   },
   {
    "duration": 37,
    "start_time": "2022-01-05T11:49:37.637Z"
   },
   {
    "duration": 35,
    "start_time": "2022-01-05T11:52:39.923Z"
   },
   {
    "duration": 14,
    "start_time": "2022-01-05T11:57:52.214Z"
   },
   {
    "duration": 8614,
    "start_time": "2022-01-05T11:59:07.342Z"
   },
   {
    "duration": 14,
    "start_time": "2022-01-05T12:03:26.778Z"
   },
   {
    "duration": 265,
    "start_time": "2022-01-05T12:22:25.943Z"
   },
   {
    "duration": 51,
    "start_time": "2022-01-05T12:23:34.377Z"
   },
   {
    "duration": 2,
    "start_time": "2022-01-05T12:39:44.973Z"
   },
   {
    "duration": 3,
    "start_time": "2022-01-05T12:39:47.967Z"
   },
   {
    "duration": 2,
    "start_time": "2022-01-05T12:39:50.083Z"
   },
   {
    "duration": 93,
    "start_time": "2022-01-05T21:09:24.460Z"
   },
   {
    "duration": 80,
    "start_time": "2022-01-05T21:09:24.560Z"
   },
   {
    "duration": 8,
    "start_time": "2022-01-05T21:09:24.644Z"
   },
   {
    "duration": 108,
    "start_time": "2022-01-05T21:09:24.655Z"
   },
   {
    "duration": 12,
    "start_time": "2022-01-05T21:09:24.766Z"
   },
   {
    "duration": 16,
    "start_time": "2022-01-05T21:09:24.780Z"
   },
   {
    "duration": 29,
    "start_time": "2022-01-05T21:09:24.798Z"
   },
   {
    "duration": 15,
    "start_time": "2022-01-05T21:09:24.830Z"
   },
   {
    "duration": 114,
    "start_time": "2022-01-05T21:09:24.847Z"
   },
   {
    "duration": 2,
    "start_time": "2022-01-05T21:09:24.964Z"
   },
   {
    "duration": 6,
    "start_time": "2022-01-05T21:09:24.968Z"
   },
   {
    "duration": 6,
    "start_time": "2022-01-05T21:09:24.976Z"
   },
   {
    "duration": 50,
    "start_time": "2022-01-05T21:09:24.984Z"
   },
   {
    "duration": 5092,
    "start_time": "2022-01-05T21:09:25.037Z"
   },
   {
    "duration": 38,
    "start_time": "2022-01-05T21:09:30.132Z"
   },
   {
    "duration": 23,
    "start_time": "2022-01-05T21:09:30.173Z"
   },
   {
    "duration": 86,
    "start_time": "2022-01-05T21:09:30.199Z"
   },
   {
    "duration": 52,
    "start_time": "2022-01-05T21:09:30.288Z"
   },
   {
    "duration": 23,
    "start_time": "2022-01-05T21:09:30.343Z"
   },
   {
    "duration": 56,
    "start_time": "2022-01-05T21:09:30.369Z"
   },
   {
    "duration": 31,
    "start_time": "2022-01-05T21:09:30.428Z"
   },
   {
    "duration": 938,
    "start_time": "2022-01-05T21:09:56.573Z"
   },
   {
    "duration": 77,
    "start_time": "2022-01-05T21:09:57.514Z"
   },
   {
    "duration": 33,
    "start_time": "2022-01-05T21:09:57.596Z"
   },
   {
    "duration": 96,
    "start_time": "2022-01-05T21:09:57.632Z"
   },
   {
    "duration": 13,
    "start_time": "2022-01-05T21:09:57.730Z"
   },
   {
    "duration": 13,
    "start_time": "2022-01-05T21:09:57.746Z"
   },
   {
    "duration": 12,
    "start_time": "2022-01-05T21:09:57.761Z"
   },
   {
    "duration": 48,
    "start_time": "2022-01-05T21:09:57.777Z"
   },
   {
    "duration": 115,
    "start_time": "2022-01-05T21:09:57.828Z"
   },
   {
    "duration": 4,
    "start_time": "2022-01-05T21:09:57.945Z"
   },
   {
    "duration": 7,
    "start_time": "2022-01-05T21:09:57.951Z"
   },
   {
    "duration": 7,
    "start_time": "2022-01-05T21:09:57.960Z"
   },
   {
    "duration": 11,
    "start_time": "2022-01-05T21:09:57.969Z"
   },
   {
    "duration": 4957,
    "start_time": "2022-01-05T21:09:57.982Z"
   },
   {
    "duration": 45,
    "start_time": "2022-01-05T21:10:02.942Z"
   },
   {
    "duration": 48,
    "start_time": "2022-01-05T21:10:02.991Z"
   },
   {
    "duration": 86,
    "start_time": "2022-01-05T21:10:03.041Z"
   },
   {
    "duration": 28,
    "start_time": "2022-01-05T21:10:03.130Z"
   },
   {
    "duration": 23,
    "start_time": "2022-01-05T21:10:03.160Z"
   },
   {
    "duration": 51,
    "start_time": "2022-01-05T21:10:03.185Z"
   },
   {
    "duration": 21,
    "start_time": "2022-01-05T21:10:03.239Z"
   },
   {
    "duration": 299,
    "start_time": "2022-01-19T21:32:01.936Z"
   },
   {
    "duration": 231,
    "start_time": "2022-01-19T21:32:46.143Z"
   },
   {
    "duration": 675,
    "start_time": "2022-01-19T21:33:03.705Z"
   },
   {
    "duration": 45,
    "start_time": "2022-01-19T21:33:08.555Z"
   },
   {
    "duration": 6,
    "start_time": "2022-01-19T21:33:13.041Z"
   },
   {
    "duration": 65,
    "start_time": "2022-01-19T21:33:13.682Z"
   },
   {
    "duration": 9,
    "start_time": "2022-01-19T21:33:14.549Z"
   },
   {
    "duration": 10,
    "start_time": "2022-01-19T21:33:14.967Z"
   },
   {
    "duration": 8,
    "start_time": "2022-01-19T21:33:15.439Z"
   },
   {
    "duration": 13,
    "start_time": "2022-01-19T21:33:18.440Z"
   },
   {
    "duration": 71,
    "start_time": "2022-01-19T21:33:21.486Z"
   },
   {
    "duration": 3,
    "start_time": "2022-01-19T21:33:24.219Z"
   },
   {
    "duration": 2,
    "start_time": "2022-01-19T21:33:24.582Z"
   },
   {
    "duration": 3,
    "start_time": "2022-01-19T21:33:24.913Z"
   },
   {
    "duration": 7,
    "start_time": "2022-01-19T21:33:25.220Z"
   },
   {
    "duration": 3619,
    "start_time": "2022-01-19T21:33:26.086Z"
   },
   {
    "duration": 39,
    "start_time": "2022-01-19T21:33:29.708Z"
   },
   {
    "duration": 17,
    "start_time": "2022-01-19T21:33:33.767Z"
   },
   {
    "duration": 48,
    "start_time": "2022-01-19T21:33:35.704Z"
   },
   {
    "duration": 345,
    "start_time": "2022-01-19T21:33:40.120Z"
   },
   {
    "duration": 437,
    "start_time": "2022-01-19T21:35:11.819Z"
   },
   {
    "duration": 53,
    "start_time": "2022-01-19T21:38:08.903Z"
   },
   {
    "duration": 355,
    "start_time": "2022-01-19T21:40:56.918Z"
   },
   {
    "duration": 376,
    "start_time": "2022-01-19T21:41:10.713Z"
   },
   {
    "duration": 273,
    "start_time": "2022-01-19T21:42:07.582Z"
   },
   {
    "duration": 48,
    "start_time": "2022-01-19T21:42:35.533Z"
   },
   {
    "duration": 12,
    "start_time": "2022-01-19T21:43:51.658Z"
   },
   {
    "duration": 1171,
    "start_time": "2022-01-19T21:50:39.028Z"
   },
   {
    "duration": 1166,
    "start_time": "2022-01-19T21:50:58.165Z"
   },
   {
    "duration": 23,
    "start_time": "2022-01-19T21:51:11.926Z"
   },
   {
    "duration": 18,
    "start_time": "2022-01-19T21:51:22.110Z"
   },
   {
    "duration": 27,
    "start_time": "2022-01-19T22:01:31.602Z"
   },
   {
    "duration": 28,
    "start_time": "2022-01-19T22:02:14.465Z"
   },
   {
    "duration": 64,
    "start_time": "2022-01-19T22:04:53.102Z"
   },
   {
    "duration": 78,
    "start_time": "2022-01-19T22:05:02.644Z"
   },
   {
    "duration": 93,
    "start_time": "2022-01-19T22:11:53.463Z"
   },
   {
    "duration": 74,
    "start_time": "2022-01-19T22:13:54.841Z"
   },
   {
    "duration": 648,
    "start_time": "2022-01-20T19:38:48.762Z"
   },
   {
    "duration": 38,
    "start_time": "2022-01-20T19:38:49.413Z"
   },
   {
    "duration": 5,
    "start_time": "2022-01-20T19:38:49.453Z"
   },
   {
    "duration": 84,
    "start_time": "2022-01-20T19:38:49.460Z"
   },
   {
    "duration": 10,
    "start_time": "2022-01-20T19:38:49.546Z"
   },
   {
    "duration": 13,
    "start_time": "2022-01-20T19:38:49.558Z"
   },
   {
    "duration": 24,
    "start_time": "2022-01-20T19:38:49.573Z"
   },
   {
    "duration": 12,
    "start_time": "2022-01-20T19:38:49.600Z"
   },
   {
    "duration": 84,
    "start_time": "2022-01-20T19:38:49.613Z"
   },
   {
    "duration": 2,
    "start_time": "2022-01-20T19:38:49.699Z"
   },
   {
    "duration": 5,
    "start_time": "2022-01-20T19:38:49.703Z"
   },
   {
    "duration": 4,
    "start_time": "2022-01-20T19:38:49.710Z"
   },
   {
    "duration": 8,
    "start_time": "2022-01-20T19:38:49.716Z"
   },
   {
    "duration": 3478,
    "start_time": "2022-01-20T19:38:49.726Z"
   },
   {
    "duration": 24,
    "start_time": "2022-01-20T19:38:53.206Z"
   },
   {
    "duration": 22,
    "start_time": "2022-01-20T19:38:53.231Z"
   },
   {
    "duration": 63,
    "start_time": "2022-01-20T19:38:53.255Z"
   },
   {
    "duration": 35,
    "start_time": "2022-01-20T19:38:53.320Z"
   },
   {
    "duration": 15,
    "start_time": "2022-01-20T19:38:53.357Z"
   },
   {
    "duration": 36,
    "start_time": "2022-01-20T19:38:53.374Z"
   },
   {
    "duration": 14,
    "start_time": "2022-01-20T19:38:53.412Z"
   }
  ],
  "kernelspec": {
   "display_name": "Python 3 (ipykernel)",
   "language": "python",
   "name": "python3"
  },
  "language_info": {
   "codemirror_mode": {
    "name": "ipython",
    "version": 3
   },
   "file_extension": ".py",
   "mimetype": "text/x-python",
   "name": "python",
   "nbconvert_exporter": "python",
   "pygments_lexer": "ipython3",
   "version": "3.10.4"
  },
  "toc": {
   "base_numbering": 1,
   "nav_menu": {},
   "number_sections": true,
   "sideBar": true,
   "skip_h1_title": true,
   "title_cell": "Table of Contents",
   "title_sidebar": "Contents",
   "toc_cell": false,
   "toc_position": {},
   "toc_section_display": true,
   "toc_window_display": false
  }
 },
 "nbformat": 4,
 "nbformat_minor": 2
}
