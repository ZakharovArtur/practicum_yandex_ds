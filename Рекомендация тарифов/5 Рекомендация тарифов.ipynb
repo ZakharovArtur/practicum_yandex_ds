{
 "cells": [
  {
   "cell_type": "markdown",
   "metadata": {},
   "source": [
    "# Рекомендация тарифов"
   ]
  },
  {
   "cell_type": "markdown",
   "metadata": {},
   "source": [
    "В вашем распоряжении данные о поведении клиентов, которые уже перешли на эти тарифы (из проекта курса «Статистический анализ данных»). Нужно построить модель для задачи классификации, которая выберет подходящий тариф. Предобработка данных не понадобится — вы её уже сделали.\n",
    "\n",
    "Постройте модель с максимально большим значением *accuracy*. Чтобы сдать проект успешно, нужно довести долю правильных ответов по крайней мере до 0.75. Проверьте *accuracy* на тестовой выборке самостоятельно."
   ]
  },
  {
   "cell_type": "markdown",
   "metadata": {},
   "source": [
    "## Откройте и изучите файл"
   ]
  },
  {
   "cell_type": "code",
   "execution_count": 1,
   "metadata": {},
   "outputs": [],
   "source": [
    "#прописываем нужные нам библиотеки \n",
    "import pandas as pd\n",
    "from sklearn.model_selection import train_test_split\n",
    "from sklearn.tree import DecisionTreeClassifier\n",
    "from sklearn.metrics import accuracy_score\n",
    "from sklearn.ensemble import RandomForestClassifier\n",
    "from sklearn.linear_model import LogisticRegression\n",
    "from sklearn.linear_model import LinearRegression\n",
    "from sklearn.dummy import DummyClassifier"
   ]
  },
  {
   "cell_type": "code",
   "execution_count": 2,
   "metadata": {},
   "outputs": [],
   "source": [
    "df = pd.read_csv('/datasets/users_behavior.csv')"
   ]
  },
  {
   "cell_type": "code",
   "execution_count": 3,
   "metadata": {},
   "outputs": [
    {
     "data": {
      "text/html": [
       "<div>\n",
       "<style scoped>\n",
       "    .dataframe tbody tr th:only-of-type {\n",
       "        vertical-align: middle;\n",
       "    }\n",
       "\n",
       "    .dataframe tbody tr th {\n",
       "        vertical-align: top;\n",
       "    }\n",
       "\n",
       "    .dataframe thead th {\n",
       "        text-align: right;\n",
       "    }\n",
       "</style>\n",
       "<table border=\"1\" class=\"dataframe\">\n",
       "  <thead>\n",
       "    <tr style=\"text-align: right;\">\n",
       "      <th></th>\n",
       "      <th>calls</th>\n",
       "      <th>minutes</th>\n",
       "      <th>messages</th>\n",
       "      <th>mb_used</th>\n",
       "      <th>is_ultra</th>\n",
       "    </tr>\n",
       "  </thead>\n",
       "  <tbody>\n",
       "    <tr>\n",
       "      <th>0</th>\n",
       "      <td>40.0</td>\n",
       "      <td>311.90</td>\n",
       "      <td>83.0</td>\n",
       "      <td>19915.42</td>\n",
       "      <td>0</td>\n",
       "    </tr>\n",
       "    <tr>\n",
       "      <th>1</th>\n",
       "      <td>85.0</td>\n",
       "      <td>516.75</td>\n",
       "      <td>56.0</td>\n",
       "      <td>22696.96</td>\n",
       "      <td>0</td>\n",
       "    </tr>\n",
       "    <tr>\n",
       "      <th>2</th>\n",
       "      <td>77.0</td>\n",
       "      <td>467.66</td>\n",
       "      <td>86.0</td>\n",
       "      <td>21060.45</td>\n",
       "      <td>0</td>\n",
       "    </tr>\n",
       "    <tr>\n",
       "      <th>3</th>\n",
       "      <td>106.0</td>\n",
       "      <td>745.53</td>\n",
       "      <td>81.0</td>\n",
       "      <td>8437.39</td>\n",
       "      <td>1</td>\n",
       "    </tr>\n",
       "    <tr>\n",
       "      <th>4</th>\n",
       "      <td>66.0</td>\n",
       "      <td>418.74</td>\n",
       "      <td>1.0</td>\n",
       "      <td>14502.75</td>\n",
       "      <td>0</td>\n",
       "    </tr>\n",
       "  </tbody>\n",
       "</table>\n",
       "</div>"
      ],
      "text/plain": [
       "   calls  minutes  messages   mb_used  is_ultra\n",
       "0   40.0   311.90      83.0  19915.42         0\n",
       "1   85.0   516.75      56.0  22696.96         0\n",
       "2   77.0   467.66      86.0  21060.45         0\n",
       "3  106.0   745.53      81.0   8437.39         1\n",
       "4   66.0   418.74       1.0  14502.75         0"
      ]
     },
     "execution_count": 3,
     "metadata": {},
     "output_type": "execute_result"
    }
   ],
   "source": [
    "df.head()"
   ]
  },
  {
   "cell_type": "markdown",
   "metadata": {},
   "source": [
    "## Разбейте данные на выборки"
   ]
  },
  {
   "cell_type": "code",
   "execution_count": 4,
   "metadata": {
    "scrolled": true
   },
   "outputs": [
    {
     "name": "stdout",
     "output_type": "stream",
     "text": [
      "Обучающая выборка: (1928, 4)\n",
      "(1928,)\n",
      "Валидационная выборка: (643, 4)\n",
      "(643,)\n",
      "Тестовая выборка: (643, 4)\n",
      "(643,)\n"
     ]
    }
   ],
   "source": [
    "features = df.drop(['is_ultra'], axis =1)\n",
    "target = df['is_ultra']\n",
    "\n",
    "\n",
    "features_train, features_test, target_train, target_test = train_test_split(features, target, test_size=0.4, random_state=12345)\n",
    "features_test, features_valid, target_test, target_valid = train_test_split(features_test, target_test, test_size=0.5, random_state=12345)\n",
    "\n",
    "print('Обучающая выборка:',features_train.shape)\n",
    "print(target_train.shape)\n",
    "print('Валидационная выборка:',features_valid.shape)\n",
    "print(target_valid.shape)\n",
    "print('Тестовая выборка:',features_test.shape)\n",
    "print(target_test.shape)"
   ]
  },
  {
   "cell_type": "markdown",
   "metadata": {},
   "source": [
    "Разбили нашу выборку в соотношении 3:1:1"
   ]
  },
  {
   "cell_type": "markdown",
   "metadata": {},
   "source": [
    "## Исследуйте модели"
   ]
  },
  {
   "cell_type": "code",
   "execution_count": 5,
   "metadata": {
    "scrolled": true
   },
   "outputs": [
    {
     "name": "stdout",
     "output_type": "stream",
     "text": [
      "max_depth = 1 : 0.7356143079315708\n",
      "max_depth = 2 : 0.7744945567651633\n",
      "max_depth = 3 : 0.7791601866251944\n",
      "max_depth = 4 : 0.7744945567651633\n",
      "max_depth = 5 : 0.7838258164852255\n"
     ]
    }
   ],
   "source": [
    "#Дерево решений\n",
    "for depth in range(1, 6):\n",
    "    model = DecisionTreeClassifier(max_depth=depth, random_state=12345)\n",
    "    model.fit(features_train, target_train)\n",
    "    predictions_valid = model.predict(features_valid)\n",
    "   \n",
    "    print(\"max_depth =\", depth, \": \", end='')\n",
    "    print(accuracy_score(target_valid, predictions_valid)) "
   ]
  },
  {
   "cell_type": "markdown",
   "metadata": {},
   "source": [
    "Наилочная точность выборки оказалась 0.78, при глубине дерева 5"
   ]
  },
  {
   "cell_type": "code",
   "execution_count": 6,
   "metadata": {
    "scrolled": true
   },
   "outputs": [
    {
     "name": "stdout",
     "output_type": "stream",
     "text": [
      "Accuracy наилучшей модели на валидационной выборке: 0.7962674961119751 При количестве деревьев: 48\n"
     ]
    }
   ],
   "source": [
    "# Инициализируем  модель случайного леса\n",
    "best_model = None\n",
    "best_est = 0\n",
    "best_result = 0\n",
    "for est in range(10, 60):\n",
    "    model = RandomForestClassifier(random_state=12345, n_estimators=est) \n",
    "    model.fit(features_train,target_train) \n",
    "    result = model.score(features_valid,target_valid) \n",
    "    if result > best_result:\n",
    "        best_model = model \n",
    "        best_result = result \n",
    "        best_est = est\n",
    "\n",
    "print(\"Accuracy наилучшей модели на валидационной выборке:\", best_result, \"При количестве деревьев:\", best_est)"
   ]
  },
  {
   "cell_type": "code",
   "execution_count": 7,
   "metadata": {},
   "outputs": [
    {
     "name": "stdout",
     "output_type": "stream",
     "text": [
      "Accuracy модели логистической регрессии на валидационной выборке: 0.6842923794712286\n"
     ]
    }
   ],
   "source": [
    "model = LogisticRegression(random_state=12345)# инициализируйте модель логистической регрессии с параметром random_state=12345\n",
    "model.fit(features_train,target_train) # обучите модель на тренировочной выборке\n",
    "result = model.score(features_valid,target_valid) # получите метрику качества модели на валидационной выборке\n",
    "\n",
    "print(\"Accuracy модели логистической регрессии на валидационной выборке:\", result)"
   ]
  },
  {
   "cell_type": "markdown",
   "metadata": {},
   "source": [
    "**Пока что можно сделать вывод, что лучше всего себя показывает метод случайного леса**"
   ]
  },
  {
   "cell_type": "markdown",
   "metadata": {},
   "source": [
    "## Проверьте модель на тестовой выборке"
   ]
  },
  {
   "cell_type": "code",
   "execution_count": 8,
   "metadata": {},
   "outputs": [
    {
     "name": "stdout",
     "output_type": "stream",
     "text": [
      "0.7791601866251944\n"
     ]
    }
   ],
   "source": [
    "#Дерево решений\n",
    "model_dt=DecisionTreeClassifier(random_state=12345, max_depth=5, min_samples_leaf=1, min_samples_split= 3)\n",
    "model_dt.fit(features_train, target_train)\n",
    "accuracy_dt=model_dt.score(features_test, target_test)\n",
    "print(accuracy_dt)"
   ]
  },
  {
   "cell_type": "code",
   "execution_count": 9,
   "metadata": {},
   "outputs": [
    {
     "name": "stdout",
     "output_type": "stream",
     "text": [
      "0.7993779160186625\n"
     ]
    }
   ],
   "source": [
    "#Случайный лес\n",
    "model_dt=RandomForestClassifier(random_state=12345, max_depth=10, min_samples_leaf=1, min_samples_split= 3)\n",
    "model_dt.fit(features_train, target_train)\n",
    "accuracy_dt=model_dt.score(features_test, target_test)\n",
    "print(accuracy_dt)"
   ]
  },
  {
   "cell_type": "code",
   "execution_count": 10,
   "metadata": {},
   "outputs": [
    {
     "name": "stdout",
     "output_type": "stream",
     "text": [
      "0.7107309486780715\n"
     ]
    }
   ],
   "source": [
    "#логическая регрессия\n",
    "model_dt=LogisticRegression(random_state=12345)\n",
    "model_dt.fit(features_train, target_train)\n",
    "accuracy_dt=model_dt.score(features_test, target_test)\n",
    "print(accuracy_dt)"
   ]
  },
  {
   "cell_type": "markdown",
   "metadata": {},
   "source": [
    "**Лучше всего себя показал метод \"Случайный лес\" с точность практически 80%, хоть ему и потребовалось дольше времени на создание модели и расчеты.**\n",
    "\n",
    "**Следом, с небольшим отстованием, метод \"Дерево решений\" с точность 78%, этот метод подойдет при необходимости получить быстрый результат**"
   ]
  },
  {
   "cell_type": "markdown",
   "metadata": {},
   "source": [
    "## (бонус) Проверьте модели на адекватность"
   ]
  },
  {
   "cell_type": "code",
   "execution_count": 11,
   "metadata": {},
   "outputs": [
    {
     "data": {
      "text/plain": [
       "0.6924273858921162"
      ]
     },
     "execution_count": 11,
     "metadata": {},
     "output_type": "execute_result"
    }
   ],
   "source": [
    "\n",
    "dummy_clf = DummyClassifier(strategy=\"most_frequent\", random_state=0)\n",
    "dummy_clf.fit(features_train, target_train)\n",
    "dummy_clf.score(features_train, target_train)"
   ]
  },
  {
   "cell_type": "markdown",
   "metadata": {},
   "source": [
    "**Используя фиктивный классификатор, со стратегией предсказывания самого частого класса в данных обучения, мы получили эффективность предсказания 69%, что указывает на адекватность всех трех обученных моделей**\n",
    "\n",
    "**Модель логистической регрессии имеет точность предсказания всего на пару процентов выше чем квазиклассификатор.**"
   ]
  },
  {
   "cell_type": "markdown",
   "metadata": {},
   "source": [
    "## Вывод:"
   ]
  },
  {
   "cell_type": "markdown",
   "metadata": {},
   "source": [
    "1. Наилучшую эффективность показала модель по методу \"Случайный лес\", с точностью предсказания практически 80%.\n",
    "\n",
    "2. Для получения быстрых результатов, предлагаю использовать модель по методу \"Дерево решений\", с точностью предсказания практически 78%, т.к. моделе \"Случайный лес\" требуется больше вычислительных ресурсов и времени"
   ]
  },
  {
   "cell_type": "code",
   "execution_count": null,
   "metadata": {},
   "outputs": [],
   "source": []
  }
 ],
 "metadata": {
  "ExecuteTimeLog": [
   {
    "duration": 1172,
    "start_time": "2022-03-25T09:26:43.434Z"
   },
   {
    "duration": 29,
    "start_time": "2022-03-25T09:26:44.608Z"
   },
   {
    "duration": 17,
    "start_time": "2022-03-25T09:26:44.639Z"
   },
   {
    "duration": 11,
    "start_time": "2022-03-25T09:33:03.998Z"
   },
   {
    "duration": 37,
    "start_time": "2022-03-25T09:36:15.605Z"
   },
   {
    "duration": 318,
    "start_time": "2022-03-25T09:38:26.155Z"
   },
   {
    "duration": 2380,
    "start_time": "2022-03-25T09:39:41.447Z"
   },
   {
    "duration": 280,
    "start_time": "2022-03-25T09:39:57.959Z"
   },
   {
    "duration": 3992,
    "start_time": "2022-03-25T09:40:11.476Z"
   },
   {
    "duration": 3967,
    "start_time": "2022-03-25T09:42:17.067Z"
   },
   {
    "duration": 3978,
    "start_time": "2022-03-25T09:43:44.324Z"
   },
   {
    "duration": 29,
    "start_time": "2022-03-25T09:47:24.669Z"
   },
   {
    "duration": 7099,
    "start_time": "2022-03-25T09:47:40.105Z"
   },
   {
    "duration": 25,
    "start_time": "2022-03-25T09:47:52.660Z"
   },
   {
    "duration": 12,
    "start_time": "2022-03-25T09:50:40.011Z"
   },
   {
    "duration": 339,
    "start_time": "2022-03-25T09:50:42.167Z"
   },
   {
    "duration": 41,
    "start_time": "2022-03-25T09:50:45.537Z"
   },
   {
    "duration": 20703,
    "start_time": "2022-03-25T09:52:49.288Z"
   },
   {
    "duration": 7062,
    "start_time": "2022-03-25T09:53:20.994Z"
   },
   {
    "duration": 169,
    "start_time": "2022-03-25T09:58:45.348Z"
   },
   {
    "duration": 6,
    "start_time": "2022-03-25T10:06:08.449Z"
   },
   {
    "duration": 6,
    "start_time": "2022-03-25T11:08:28.799Z"
   },
   {
    "duration": 5,
    "start_time": "2022-03-25T11:51:39.006Z"
   },
   {
    "duration": 21,
    "start_time": "2022-03-25T11:51:40.238Z"
   },
   {
    "duration": 10,
    "start_time": "2022-03-25T11:51:42.380Z"
   },
   {
    "duration": 10,
    "start_time": "2022-03-25T11:51:48.340Z"
   },
   {
    "duration": 40,
    "start_time": "2022-03-25T11:51:55.538Z"
   },
   {
    "duration": 7688,
    "start_time": "2022-03-25T11:52:00.111Z"
   },
   {
    "duration": 28,
    "start_time": "2022-03-25T11:52:13.305Z"
   },
   {
    "duration": 14,
    "start_time": "2022-03-25T11:52:21.360Z"
   },
   {
    "duration": 362,
    "start_time": "2022-03-25T11:52:22.454Z"
   },
   {
    "duration": 38,
    "start_time": "2022-03-25T11:52:28.255Z"
   },
   {
    "duration": 7,
    "start_time": "2022-03-25T11:52:31.758Z"
   },
   {
    "duration": 4,
    "start_time": "2022-03-25T11:58:08.288Z"
   },
   {
    "duration": 108,
    "start_time": "2022-03-25T11:58:09.507Z"
   },
   {
    "duration": 11,
    "start_time": "2022-03-25T11:58:10.655Z"
   },
   {
    "duration": 11,
    "start_time": "2022-03-25T11:58:13.499Z"
   },
   {
    "duration": 49,
    "start_time": "2022-03-25T11:58:20.430Z"
   },
   {
    "duration": 7483,
    "start_time": "2022-03-25T11:58:23.170Z"
   },
   {
    "duration": 28,
    "start_time": "2022-03-25T11:58:32.401Z"
   },
   {
    "duration": 13,
    "start_time": "2022-03-25T11:58:34.767Z"
   },
   {
    "duration": 343,
    "start_time": "2022-03-25T11:58:35.680Z"
   },
   {
    "duration": 29,
    "start_time": "2022-03-25T11:58:36.807Z"
   },
   {
    "duration": 8,
    "start_time": "2022-03-25T11:58:39.145Z"
   },
   {
    "duration": 7,
    "start_time": "2022-03-25T11:58:49.880Z"
   },
   {
    "duration": 1657,
    "start_time": "2022-03-25T17:09:18.423Z"
   },
   {
    "duration": 83,
    "start_time": "2022-03-25T17:09:20.082Z"
   },
   {
    "duration": 34,
    "start_time": "2022-03-25T17:09:20.167Z"
   },
   {
    "duration": 16,
    "start_time": "2022-03-25T17:09:20.203Z"
   },
   {
    "duration": 67,
    "start_time": "2022-03-25T17:09:20.222Z"
   },
   {
    "duration": 10306,
    "start_time": "2022-03-25T17:09:20.292Z"
   },
   {
    "duration": 36,
    "start_time": "2022-03-25T17:09:30.600Z"
   },
   {
    "duration": 15,
    "start_time": "2022-03-25T17:09:30.639Z"
   },
   {
    "duration": 478,
    "start_time": "2022-03-25T17:09:30.685Z"
   },
   {
    "duration": 48,
    "start_time": "2022-03-25T17:09:31.165Z"
   },
   {
    "duration": 8,
    "start_time": "2022-03-25T17:09:31.215Z"
   }
  ],
  "kernelspec": {
   "display_name": "Python 3 (ipykernel)",
   "language": "python",
   "name": "python3"
  },
  "language_info": {
   "codemirror_mode": {
    "name": "ipython",
    "version": 3
   },
   "file_extension": ".py",
   "mimetype": "text/x-python",
   "name": "python",
   "nbconvert_exporter": "python",
   "pygments_lexer": "ipython3",
   "version": "3.10.4"
  },
  "toc": {
   "base_numbering": 1,
   "nav_menu": {},
   "number_sections": true,
   "sideBar": true,
   "skip_h1_title": true,
   "title_cell": "Table of Contents",
   "title_sidebar": "Contents",
   "toc_cell": false,
   "toc_position": {},
   "toc_section_display": true,
   "toc_window_display": false
  }
 },
 "nbformat": 4,
 "nbformat_minor": 2
}
