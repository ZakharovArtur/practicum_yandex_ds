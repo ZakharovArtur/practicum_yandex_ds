{
 "cells": [
  {
   "cell_type": "markdown",
   "metadata": {},
   "source": [
    "# Выбор локации для скважины"
   ]
  },
  {
   "cell_type": "markdown",
   "metadata": {},
   "source": [
    "Допустим, вы работаете в добывающей компании «ГлавРосГосНефть». Нужно решить, где бурить новую скважину.\n",
    "\n",
    "Вам предоставлены пробы нефти в трёх регионах: в каждом 10 000 месторождений, где измерили качество нефти и объём её запасов. Постройте модель машинного обучения, которая поможет определить регион, где добыча принесёт наибольшую прибыль. Проанализируйте возможную прибыль и риски техникой *Bootstrap.*\n",
    "\n",
    "Шаги для выбора локации:\n",
    "\n",
    "- В избранном регионе ищут месторождения, для каждого определяют значения признаков;\n",
    "- Строят модель и оценивают объём запасов;\n",
    "- Выбирают месторождения с самым высокими оценками значений. Количество месторождений зависит от бюджета компании и стоимости разработки одной скважины;\n",
    "- Прибыль равна суммарной прибыли отобранных месторождений."
   ]
  },
  {
   "cell_type": "markdown",
   "metadata": {},
   "source": [
    "## Загрузка и подготовка данных"
   ]
  },
  {
   "cell_type": "code",
   "execution_count": 12,
   "metadata": {},
   "outputs": [],
   "source": [
    "import pandas as pd\n",
    "from IPython.display import display #импортируем метод дисплей для красивого вывода таблиц (не применяя print)\n",
    "pd.set_option('display.max_columns', None) #реализуем возможность вывода всех столбцов на экран\n",
    "pd.set_option('display.float_format', '{:.3f}'.format) #выаодим значения float до 3 знаков после запятой\n",
    "\n",
    "from sklearn.model_selection import train_test_split # деление на 2 выборки\n",
    "\n",
    "from sklearn.preprocessing import StandardScaler # для масштабирования количественных признаков\n",
    "\n",
    "from sklearn.model_selection import GridSearchCV # для поиска оптимальных параметров\n",
    "import matplotlib.pyplot as plt\n",
    "import numpy as np\n",
    "import plotly.express as px\n",
    "import seaborn as sns\n",
    "import warnings\n",
    "warnings.filterwarnings('ignore')\n",
    "from sklearn.metrics import mean_squared_error # для расчета MSE и RMSE\n",
    "from sklearn.linear_model import LinearRegression # линейная регрессия\n",
    "from scipy import stats as st # для доверительного интервала"
   ]
  },
  {
   "cell_type": "code",
   "execution_count": 2,
   "metadata": {},
   "outputs": [
    {
     "data": {
      "text/html": [
       "<div>\n",
       "<style scoped>\n",
       "    .dataframe tbody tr th:only-of-type {\n",
       "        vertical-align: middle;\n",
       "    }\n",
       "\n",
       "    .dataframe tbody tr th {\n",
       "        vertical-align: top;\n",
       "    }\n",
       "\n",
       "    .dataframe thead th {\n",
       "        text-align: right;\n",
       "    }\n",
       "</style>\n",
       "<table border=\"1\" class=\"dataframe\">\n",
       "  <thead>\n",
       "    <tr style=\"text-align: right;\">\n",
       "      <th></th>\n",
       "      <th>id</th>\n",
       "      <th>f0</th>\n",
       "      <th>f1</th>\n",
       "      <th>f2</th>\n",
       "      <th>product</th>\n",
       "    </tr>\n",
       "  </thead>\n",
       "  <tbody>\n",
       "    <tr>\n",
       "      <th>0</th>\n",
       "      <td>txEyH</td>\n",
       "      <td>0.706</td>\n",
       "      <td>-0.498</td>\n",
       "      <td>1.221</td>\n",
       "      <td>105.280</td>\n",
       "    </tr>\n",
       "    <tr>\n",
       "      <th>1</th>\n",
       "      <td>2acmU</td>\n",
       "      <td>1.335</td>\n",
       "      <td>-0.340</td>\n",
       "      <td>4.365</td>\n",
       "      <td>73.038</td>\n",
       "    </tr>\n",
       "    <tr>\n",
       "      <th>2</th>\n",
       "      <td>409Wp</td>\n",
       "      <td>1.023</td>\n",
       "      <td>0.152</td>\n",
       "      <td>1.420</td>\n",
       "      <td>85.266</td>\n",
       "    </tr>\n",
       "    <tr>\n",
       "      <th>3</th>\n",
       "      <td>iJLyR</td>\n",
       "      <td>-0.032</td>\n",
       "      <td>0.139</td>\n",
       "      <td>2.979</td>\n",
       "      <td>168.621</td>\n",
       "    </tr>\n",
       "    <tr>\n",
       "      <th>4</th>\n",
       "      <td>Xdl7t</td>\n",
       "      <td>1.988</td>\n",
       "      <td>0.155</td>\n",
       "      <td>4.752</td>\n",
       "      <td>154.037</td>\n",
       "    </tr>\n",
       "  </tbody>\n",
       "</table>\n",
       "</div>"
      ],
      "text/plain": [
       "      id     f0     f1    f2  product\n",
       "0  txEyH  0.706 -0.498 1.221  105.280\n",
       "1  2acmU  1.335 -0.340 4.365   73.038\n",
       "2  409Wp  1.023  0.152 1.420   85.266\n",
       "3  iJLyR -0.032  0.139 2.979  168.621\n",
       "4  Xdl7t  1.988  0.155 4.752  154.037"
      ]
     },
     "metadata": {},
     "output_type": "display_data"
    },
    {
     "data": {
      "text/html": [
       "<div>\n",
       "<style scoped>\n",
       "    .dataframe tbody tr th:only-of-type {\n",
       "        vertical-align: middle;\n",
       "    }\n",
       "\n",
       "    .dataframe tbody tr th {\n",
       "        vertical-align: top;\n",
       "    }\n",
       "\n",
       "    .dataframe thead th {\n",
       "        text-align: right;\n",
       "    }\n",
       "</style>\n",
       "<table border=\"1\" class=\"dataframe\">\n",
       "  <thead>\n",
       "    <tr style=\"text-align: right;\">\n",
       "      <th></th>\n",
       "      <th>id</th>\n",
       "      <th>f0</th>\n",
       "      <th>f1</th>\n",
       "      <th>f2</th>\n",
       "      <th>product</th>\n",
       "    </tr>\n",
       "  </thead>\n",
       "  <tbody>\n",
       "    <tr>\n",
       "      <th>0</th>\n",
       "      <td>kBEdx</td>\n",
       "      <td>-15.001</td>\n",
       "      <td>-8.276</td>\n",
       "      <td>-0.006</td>\n",
       "      <td>3.179</td>\n",
       "    </tr>\n",
       "    <tr>\n",
       "      <th>1</th>\n",
       "      <td>62mP7</td>\n",
       "      <td>14.272</td>\n",
       "      <td>-3.475</td>\n",
       "      <td>0.999</td>\n",
       "      <td>26.953</td>\n",
       "    </tr>\n",
       "    <tr>\n",
       "      <th>2</th>\n",
       "      <td>vyE1P</td>\n",
       "      <td>6.263</td>\n",
       "      <td>-5.948</td>\n",
       "      <td>5.001</td>\n",
       "      <td>134.766</td>\n",
       "    </tr>\n",
       "    <tr>\n",
       "      <th>3</th>\n",
       "      <td>KcrkZ</td>\n",
       "      <td>-13.081</td>\n",
       "      <td>-11.506</td>\n",
       "      <td>4.999</td>\n",
       "      <td>137.945</td>\n",
       "    </tr>\n",
       "    <tr>\n",
       "      <th>4</th>\n",
       "      <td>AHL4O</td>\n",
       "      <td>12.702</td>\n",
       "      <td>-8.147</td>\n",
       "      <td>5.004</td>\n",
       "      <td>134.766</td>\n",
       "    </tr>\n",
       "  </tbody>\n",
       "</table>\n",
       "</div>"
      ],
      "text/plain": [
       "      id      f0      f1     f2  product\n",
       "0  kBEdx -15.001  -8.276 -0.006    3.179\n",
       "1  62mP7  14.272  -3.475  0.999   26.953\n",
       "2  vyE1P   6.263  -5.948  5.001  134.766\n",
       "3  KcrkZ -13.081 -11.506  4.999  137.945\n",
       "4  AHL4O  12.702  -8.147  5.004  134.766"
      ]
     },
     "metadata": {},
     "output_type": "display_data"
    },
    {
     "data": {
      "text/html": [
       "<div>\n",
       "<style scoped>\n",
       "    .dataframe tbody tr th:only-of-type {\n",
       "        vertical-align: middle;\n",
       "    }\n",
       "\n",
       "    .dataframe tbody tr th {\n",
       "        vertical-align: top;\n",
       "    }\n",
       "\n",
       "    .dataframe thead th {\n",
       "        text-align: right;\n",
       "    }\n",
       "</style>\n",
       "<table border=\"1\" class=\"dataframe\">\n",
       "  <thead>\n",
       "    <tr style=\"text-align: right;\">\n",
       "      <th></th>\n",
       "      <th>id</th>\n",
       "      <th>f0</th>\n",
       "      <th>f1</th>\n",
       "      <th>f2</th>\n",
       "      <th>product</th>\n",
       "    </tr>\n",
       "  </thead>\n",
       "  <tbody>\n",
       "    <tr>\n",
       "      <th>0</th>\n",
       "      <td>fwXo0</td>\n",
       "      <td>-1.147</td>\n",
       "      <td>0.963</td>\n",
       "      <td>-0.829</td>\n",
       "      <td>27.759</td>\n",
       "    </tr>\n",
       "    <tr>\n",
       "      <th>1</th>\n",
       "      <td>WJtFt</td>\n",
       "      <td>0.263</td>\n",
       "      <td>0.270</td>\n",
       "      <td>-2.530</td>\n",
       "      <td>56.070</td>\n",
       "    </tr>\n",
       "    <tr>\n",
       "      <th>2</th>\n",
       "      <td>ovLUW</td>\n",
       "      <td>0.195</td>\n",
       "      <td>0.289</td>\n",
       "      <td>-5.586</td>\n",
       "      <td>62.872</td>\n",
       "    </tr>\n",
       "    <tr>\n",
       "      <th>3</th>\n",
       "      <td>q6cA6</td>\n",
       "      <td>2.236</td>\n",
       "      <td>-0.554</td>\n",
       "      <td>0.930</td>\n",
       "      <td>114.573</td>\n",
       "    </tr>\n",
       "    <tr>\n",
       "      <th>4</th>\n",
       "      <td>WPMUX</td>\n",
       "      <td>-0.516</td>\n",
       "      <td>1.716</td>\n",
       "      <td>5.899</td>\n",
       "      <td>149.601</td>\n",
       "    </tr>\n",
       "  </tbody>\n",
       "</table>\n",
       "</div>"
      ],
      "text/plain": [
       "      id     f0     f1     f2  product\n",
       "0  fwXo0 -1.147  0.963 -0.829   27.759\n",
       "1  WJtFt  0.263  0.270 -2.530   56.070\n",
       "2  ovLUW  0.195  0.289 -5.586   62.872\n",
       "3  q6cA6  2.236 -0.554  0.930  114.573\n",
       "4  WPMUX -0.516  1.716  5.899  149.601"
      ]
     },
     "metadata": {},
     "output_type": "display_data"
    }
   ],
   "source": [
    "geo_data_0 = pd.read_csv('/datasets/geo_data_0.csv')\n",
    "geo_data_1 = pd.read_csv('/datasets/geo_data_1.csv')\n",
    "geo_data_2 = pd.read_csv('/datasets/geo_data_2.csv')\n",
    "display(geo_data_0.head())\n",
    "display(geo_data_1.head())\n",
    "display(geo_data_2.head())"
   ]
  },
  {
   "cell_type": "code",
   "execution_count": 3,
   "metadata": {},
   "outputs": [
    {
     "name": "stdout",
     "output_type": "stream",
     "text": [
      "<class 'pandas.core.frame.DataFrame'>\n",
      "RangeIndex: 100000 entries, 0 to 99999\n",
      "Data columns (total 5 columns):\n",
      " #   Column   Non-Null Count   Dtype  \n",
      "---  ------   --------------   -----  \n",
      " 0   id       100000 non-null  object \n",
      " 1   f0       100000 non-null  float64\n",
      " 2   f1       100000 non-null  float64\n",
      " 3   f2       100000 non-null  float64\n",
      " 4   product  100000 non-null  float64\n",
      "dtypes: float64(4), object(1)\n",
      "memory usage: 3.8+ MB\n",
      "None\n",
      "<class 'pandas.core.frame.DataFrame'>\n",
      "RangeIndex: 100000 entries, 0 to 99999\n",
      "Data columns (total 5 columns):\n",
      " #   Column   Non-Null Count   Dtype  \n",
      "---  ------   --------------   -----  \n",
      " 0   id       100000 non-null  object \n",
      " 1   f0       100000 non-null  float64\n",
      " 2   f1       100000 non-null  float64\n",
      " 3   f2       100000 non-null  float64\n",
      " 4   product  100000 non-null  float64\n",
      "dtypes: float64(4), object(1)\n",
      "memory usage: 3.8+ MB\n",
      "None\n",
      "<class 'pandas.core.frame.DataFrame'>\n",
      "RangeIndex: 100000 entries, 0 to 99999\n",
      "Data columns (total 5 columns):\n",
      " #   Column   Non-Null Count   Dtype  \n",
      "---  ------   --------------   -----  \n",
      " 0   id       100000 non-null  object \n",
      " 1   f0       100000 non-null  float64\n",
      " 2   f1       100000 non-null  float64\n",
      " 3   f2       100000 non-null  float64\n",
      " 4   product  100000 non-null  float64\n",
      "dtypes: float64(4), object(1)\n",
      "memory usage: 3.8+ MB\n",
      "None\n"
     ]
    }
   ],
   "source": [
    "print(geo_data_0.info())\n",
    "print(geo_data_1.info())\n",
    "print(geo_data_2.info())"
   ]
  },
  {
   "cell_type": "code",
   "execution_count": 4,
   "metadata": {},
   "outputs": [
    {
     "data": {
      "text/html": [
       "<div>\n",
       "<style scoped>\n",
       "    .dataframe tbody tr th:only-of-type {\n",
       "        vertical-align: middle;\n",
       "    }\n",
       "\n",
       "    .dataframe tbody tr th {\n",
       "        vertical-align: top;\n",
       "    }\n",
       "\n",
       "    .dataframe thead th {\n",
       "        text-align: right;\n",
       "    }\n",
       "</style>\n",
       "<table border=\"1\" class=\"dataframe\">\n",
       "  <thead>\n",
       "    <tr style=\"text-align: right;\">\n",
       "      <th></th>\n",
       "      <th>f0</th>\n",
       "      <th>f1</th>\n",
       "      <th>f2</th>\n",
       "      <th>product</th>\n",
       "    </tr>\n",
       "  </thead>\n",
       "  <tbody>\n",
       "    <tr>\n",
       "      <th>count</th>\n",
       "      <td>100000.000</td>\n",
       "      <td>100000.000</td>\n",
       "      <td>100000.000</td>\n",
       "      <td>100000.000</td>\n",
       "    </tr>\n",
       "    <tr>\n",
       "      <th>mean</th>\n",
       "      <td>0.500</td>\n",
       "      <td>0.250</td>\n",
       "      <td>2.503</td>\n",
       "      <td>92.500</td>\n",
       "    </tr>\n",
       "    <tr>\n",
       "      <th>std</th>\n",
       "      <td>0.872</td>\n",
       "      <td>0.504</td>\n",
       "      <td>3.248</td>\n",
       "      <td>44.289</td>\n",
       "    </tr>\n",
       "    <tr>\n",
       "      <th>min</th>\n",
       "      <td>-1.409</td>\n",
       "      <td>-0.848</td>\n",
       "      <td>-12.088</td>\n",
       "      <td>0.000</td>\n",
       "    </tr>\n",
       "    <tr>\n",
       "      <th>25%</th>\n",
       "      <td>-0.073</td>\n",
       "      <td>-0.201</td>\n",
       "      <td>0.288</td>\n",
       "      <td>56.498</td>\n",
       "    </tr>\n",
       "    <tr>\n",
       "      <th>50%</th>\n",
       "      <td>0.502</td>\n",
       "      <td>0.250</td>\n",
       "      <td>2.516</td>\n",
       "      <td>91.850</td>\n",
       "    </tr>\n",
       "    <tr>\n",
       "      <th>75%</th>\n",
       "      <td>1.074</td>\n",
       "      <td>0.701</td>\n",
       "      <td>4.715</td>\n",
       "      <td>128.564</td>\n",
       "    </tr>\n",
       "    <tr>\n",
       "      <th>max</th>\n",
       "      <td>2.362</td>\n",
       "      <td>1.344</td>\n",
       "      <td>16.004</td>\n",
       "      <td>185.364</td>\n",
       "    </tr>\n",
       "  </tbody>\n",
       "</table>\n",
       "</div>"
      ],
      "text/plain": [
       "              f0         f1         f2    product\n",
       "count 100000.000 100000.000 100000.000 100000.000\n",
       "mean       0.500      0.250      2.503     92.500\n",
       "std        0.872      0.504      3.248     44.289\n",
       "min       -1.409     -0.848    -12.088      0.000\n",
       "25%       -0.073     -0.201      0.288     56.498\n",
       "50%        0.502      0.250      2.516     91.850\n",
       "75%        1.074      0.701      4.715    128.564\n",
       "max        2.362      1.344     16.004    185.364"
      ]
     },
     "metadata": {},
     "output_type": "display_data"
    },
    {
     "data": {
      "text/html": [
       "<div>\n",
       "<style scoped>\n",
       "    .dataframe tbody tr th:only-of-type {\n",
       "        vertical-align: middle;\n",
       "    }\n",
       "\n",
       "    .dataframe tbody tr th {\n",
       "        vertical-align: top;\n",
       "    }\n",
       "\n",
       "    .dataframe thead th {\n",
       "        text-align: right;\n",
       "    }\n",
       "</style>\n",
       "<table border=\"1\" class=\"dataframe\">\n",
       "  <thead>\n",
       "    <tr style=\"text-align: right;\">\n",
       "      <th></th>\n",
       "      <th>f0</th>\n",
       "      <th>f1</th>\n",
       "      <th>f2</th>\n",
       "      <th>product</th>\n",
       "    </tr>\n",
       "  </thead>\n",
       "  <tbody>\n",
       "    <tr>\n",
       "      <th>count</th>\n",
       "      <td>100000.000</td>\n",
       "      <td>100000.000</td>\n",
       "      <td>100000.000</td>\n",
       "      <td>100000.000</td>\n",
       "    </tr>\n",
       "    <tr>\n",
       "      <th>mean</th>\n",
       "      <td>1.141</td>\n",
       "      <td>-4.797</td>\n",
       "      <td>2.495</td>\n",
       "      <td>68.825</td>\n",
       "    </tr>\n",
       "    <tr>\n",
       "      <th>std</th>\n",
       "      <td>8.966</td>\n",
       "      <td>5.120</td>\n",
       "      <td>1.704</td>\n",
       "      <td>45.944</td>\n",
       "    </tr>\n",
       "    <tr>\n",
       "      <th>min</th>\n",
       "      <td>-31.610</td>\n",
       "      <td>-26.359</td>\n",
       "      <td>-0.018</td>\n",
       "      <td>0.000</td>\n",
       "    </tr>\n",
       "    <tr>\n",
       "      <th>25%</th>\n",
       "      <td>-6.299</td>\n",
       "      <td>-8.268</td>\n",
       "      <td>1.000</td>\n",
       "      <td>26.953</td>\n",
       "    </tr>\n",
       "    <tr>\n",
       "      <th>50%</th>\n",
       "      <td>1.153</td>\n",
       "      <td>-4.813</td>\n",
       "      <td>2.011</td>\n",
       "      <td>57.086</td>\n",
       "    </tr>\n",
       "    <tr>\n",
       "      <th>75%</th>\n",
       "      <td>8.621</td>\n",
       "      <td>-1.333</td>\n",
       "      <td>4.000</td>\n",
       "      <td>107.813</td>\n",
       "    </tr>\n",
       "    <tr>\n",
       "      <th>max</th>\n",
       "      <td>29.422</td>\n",
       "      <td>18.734</td>\n",
       "      <td>5.020</td>\n",
       "      <td>137.945</td>\n",
       "    </tr>\n",
       "  </tbody>\n",
       "</table>\n",
       "</div>"
      ],
      "text/plain": [
       "              f0         f1         f2    product\n",
       "count 100000.000 100000.000 100000.000 100000.000\n",
       "mean       1.141     -4.797      2.495     68.825\n",
       "std        8.966      5.120      1.704     45.944\n",
       "min      -31.610    -26.359     -0.018      0.000\n",
       "25%       -6.299     -8.268      1.000     26.953\n",
       "50%        1.153     -4.813      2.011     57.086\n",
       "75%        8.621     -1.333      4.000    107.813\n",
       "max       29.422     18.734      5.020    137.945"
      ]
     },
     "metadata": {},
     "output_type": "display_data"
    },
    {
     "data": {
      "text/html": [
       "<div>\n",
       "<style scoped>\n",
       "    .dataframe tbody tr th:only-of-type {\n",
       "        vertical-align: middle;\n",
       "    }\n",
       "\n",
       "    .dataframe tbody tr th {\n",
       "        vertical-align: top;\n",
       "    }\n",
       "\n",
       "    .dataframe thead th {\n",
       "        text-align: right;\n",
       "    }\n",
       "</style>\n",
       "<table border=\"1\" class=\"dataframe\">\n",
       "  <thead>\n",
       "    <tr style=\"text-align: right;\">\n",
       "      <th></th>\n",
       "      <th>f0</th>\n",
       "      <th>f1</th>\n",
       "      <th>f2</th>\n",
       "      <th>product</th>\n",
       "    </tr>\n",
       "  </thead>\n",
       "  <tbody>\n",
       "    <tr>\n",
       "      <th>count</th>\n",
       "      <td>100000.000</td>\n",
       "      <td>100000.000</td>\n",
       "      <td>100000.000</td>\n",
       "      <td>100000.000</td>\n",
       "    </tr>\n",
       "    <tr>\n",
       "      <th>mean</th>\n",
       "      <td>0.002</td>\n",
       "      <td>-0.002</td>\n",
       "      <td>2.495</td>\n",
       "      <td>95.000</td>\n",
       "    </tr>\n",
       "    <tr>\n",
       "      <th>std</th>\n",
       "      <td>1.732</td>\n",
       "      <td>1.730</td>\n",
       "      <td>3.473</td>\n",
       "      <td>44.750</td>\n",
       "    </tr>\n",
       "    <tr>\n",
       "      <th>min</th>\n",
       "      <td>-8.760</td>\n",
       "      <td>-7.084</td>\n",
       "      <td>-11.970</td>\n",
       "      <td>0.000</td>\n",
       "    </tr>\n",
       "    <tr>\n",
       "      <th>25%</th>\n",
       "      <td>-1.162</td>\n",
       "      <td>-1.175</td>\n",
       "      <td>0.130</td>\n",
       "      <td>59.450</td>\n",
       "    </tr>\n",
       "    <tr>\n",
       "      <th>50%</th>\n",
       "      <td>0.009</td>\n",
       "      <td>-0.009</td>\n",
       "      <td>2.484</td>\n",
       "      <td>94.926</td>\n",
       "    </tr>\n",
       "    <tr>\n",
       "      <th>75%</th>\n",
       "      <td>1.159</td>\n",
       "      <td>1.164</td>\n",
       "      <td>4.859</td>\n",
       "      <td>130.595</td>\n",
       "    </tr>\n",
       "    <tr>\n",
       "      <th>max</th>\n",
       "      <td>7.238</td>\n",
       "      <td>7.845</td>\n",
       "      <td>16.739</td>\n",
       "      <td>190.030</td>\n",
       "    </tr>\n",
       "  </tbody>\n",
       "</table>\n",
       "</div>"
      ],
      "text/plain": [
       "              f0         f1         f2    product\n",
       "count 100000.000 100000.000 100000.000 100000.000\n",
       "mean       0.002     -0.002      2.495     95.000\n",
       "std        1.732      1.730      3.473     44.750\n",
       "min       -8.760     -7.084    -11.970      0.000\n",
       "25%       -1.162     -1.175      0.130     59.450\n",
       "50%        0.009     -0.009      2.484     94.926\n",
       "75%        1.159      1.164      4.859    130.595\n",
       "max        7.238      7.845     16.739    190.030"
      ]
     },
     "metadata": {},
     "output_type": "display_data"
    }
   ],
   "source": [
    "display(geo_data_0.describe())\n",
    "display(geo_data_1.describe())\n",
    "display(geo_data_2.describe())"
   ]
  },
  {
   "cell_type": "markdown",
   "metadata": {},
   "source": [
    "Т.к. мы будем использовать эти данные для прогнозирования, то столбцы с id нам не нужны, удалим их из датасетов."
   ]
  },
  {
   "cell_type": "code",
   "execution_count": 5,
   "metadata": {},
   "outputs": [],
   "source": [
    "geo_data_0 = geo_data_0.drop('id', axis=1)\n",
    "geo_data_1 = geo_data_1.drop('id', axis=1)\n",
    "geo_data_2 = geo_data_2.drop('id', axis=1)"
   ]
  },
  {
   "cell_type": "markdown",
   "metadata": {},
   "source": [
    "**Вывод:** Данные загружены и проанализированы, необходимости в серьезной обработке или необходимости в заполнении пропущенных данных не выявлено. переходим далее."
   ]
  },
  {
   "cell_type": "markdown",
   "metadata": {},
   "source": [
    "## Обучение и проверка модели"
   ]
  },
  {
   "cell_type": "markdown",
   "metadata": {},
   "source": [
    "Подготовим данные. Изначально выделим признаки и целевой признак, далее разделим на обучающую и валидационную выборки в соотношении 75:25 и отмасштабируем."
   ]
  },
  {
   "cell_type": "code",
   "execution_count": 9,
   "metadata": {},
   "outputs": [],
   "source": [
    "# т.к. работаем с 3-мя регионами подготовим отдельную функцию деления данных\n",
    "def prepare (geo_data_region):\n",
    "    features = geo_data_region.drop('product', axis=1)\n",
    "    target = geo_data_region['product']\n",
    "    # разделим выборки в пропорции 25 к 75\n",
    "    features_train, features_valid, target_train, target_valid = train_test_split(features, target, \n",
    "                                                                                  test_size=0.25, random_state=12345)\n",
    "    # проведем масштабирование\n",
    "    numeric = ['f0', 'f1', 'f2']\n",
    "    scaler = StandardScaler()\n",
    "    scaler.fit(features_train[numeric])\n",
    "\n",
    "    features_train[numeric] = scaler.transform(features_train[numeric])\n",
    "    features_valid[numeric] = scaler.transform(features_valid[numeric])\n",
    "    \n",
    "    return features_train, features_valid, target_train, target_valid   "
   ]
  },
  {
   "cell_type": "code",
   "execution_count": 10,
   "metadata": {},
   "outputs": [
    {
     "name": "stdout",
     "output_type": "stream",
     "text": [
      "(75000, 3)\n",
      "(25000, 3)\n",
      "(75000,)\n",
      "(25000,)\n"
     ]
    }
   ],
   "source": [
    "# получим features и target для 3-х регионов\n",
    "features_train_0, features_valid_0, target_train_0, target_valid_0 = prepare(geo_data_0)\n",
    "features_train_1, features_valid_1, target_train_1, target_valid_1 = prepare(geo_data_1)\n",
    "features_train_2, features_valid_2, target_train_2, target_valid_2 = prepare(geo_data_2)\n",
    "# проверим работу функции на одном из регионов\n",
    "print(features_train_0.shape)\n",
    "print(features_valid_0.shape)\n",
    "print(target_train_0.shape)\n",
    "print(target_valid_0.shape)"
   ]
  },
  {
   "cell_type": "code",
   "execution_count": 11,
   "metadata": {},
   "outputs": [
    {
     "data": {
      "text/html": [
       "<div>\n",
       "<style scoped>\n",
       "    .dataframe tbody tr th:only-of-type {\n",
       "        vertical-align: middle;\n",
       "    }\n",
       "\n",
       "    .dataframe tbody tr th {\n",
       "        vertical-align: top;\n",
       "    }\n",
       "\n",
       "    .dataframe thead th {\n",
       "        text-align: right;\n",
       "    }\n",
       "</style>\n",
       "<table border=\"1\" class=\"dataframe\">\n",
       "  <thead>\n",
       "    <tr style=\"text-align: right;\">\n",
       "      <th></th>\n",
       "      <th>f0</th>\n",
       "      <th>f1</th>\n",
       "      <th>f2</th>\n",
       "    </tr>\n",
       "  </thead>\n",
       "  <tbody>\n",
       "    <tr>\n",
       "      <th>count</th>\n",
       "      <td>75000.000</td>\n",
       "      <td>75000.000</td>\n",
       "      <td>75000.000</td>\n",
       "    </tr>\n",
       "    <tr>\n",
       "      <th>mean</th>\n",
       "      <td>0.000</td>\n",
       "      <td>-0.000</td>\n",
       "      <td>0.000</td>\n",
       "    </tr>\n",
       "    <tr>\n",
       "      <th>std</th>\n",
       "      <td>1.000</td>\n",
       "      <td>1.000</td>\n",
       "      <td>1.000</td>\n",
       "    </tr>\n",
       "    <tr>\n",
       "      <th>min</th>\n",
       "      <td>-2.186</td>\n",
       "      <td>-2.178</td>\n",
       "      <td>-3.891</td>\n",
       "    </tr>\n",
       "    <tr>\n",
       "      <th>25%</th>\n",
       "      <td>-0.658</td>\n",
       "      <td>-0.893</td>\n",
       "      <td>-0.680</td>\n",
       "    </tr>\n",
       "    <tr>\n",
       "      <th>50%</th>\n",
       "      <td>0.002</td>\n",
       "      <td>-0.001</td>\n",
       "      <td>0.004</td>\n",
       "    </tr>\n",
       "    <tr>\n",
       "      <th>75%</th>\n",
       "      <td>0.657</td>\n",
       "      <td>0.893</td>\n",
       "      <td>0.683</td>\n",
       "    </tr>\n",
       "    <tr>\n",
       "      <th>max</th>\n",
       "      <td>2.139</td>\n",
       "      <td>2.169</td>\n",
       "      <td>4.154</td>\n",
       "    </tr>\n",
       "  </tbody>\n",
       "</table>\n",
       "</div>"
      ],
      "text/plain": [
       "             f0        f1        f2\n",
       "count 75000.000 75000.000 75000.000\n",
       "mean      0.000    -0.000     0.000\n",
       "std       1.000     1.000     1.000\n",
       "min      -2.186    -2.178    -3.891\n",
       "25%      -0.658    -0.893    -0.680\n",
       "50%       0.002    -0.001     0.004\n",
       "75%       0.657     0.893     0.683\n",
       "max       2.139     2.169     4.154"
      ]
     },
     "execution_count": 11,
     "metadata": {},
     "output_type": "execute_result"
    }
   ],
   "source": [
    "features_train_0.describe() # проверим как прошло масштабирование"
   ]
  },
  {
   "cell_type": "markdown",
   "metadata": {},
   "source": [
    "Обучим модель линейной регрессии, получим предсказания, средний запас предсказанного сырья и RMSE модели."
   ]
  },
  {
   "cell_type": "code",
   "execution_count": 12,
   "metadata": {},
   "outputs": [],
   "source": [
    "# создаем фнкцию для получения результатов моделирования\n",
    "def modeling(features_train, features_valid, target_train, target_valid):\n",
    "    \n",
    "    model = LinearRegression() # инициализируем модель LinearRegression\n",
    "    model.fit(features_train, target_train) # обучаем модель на тренировочной выборке\n",
    "    predictions_valid = pd.Series(model.predict(features_valid)) # получаем предсказания модели на валидационной выборке\n",
    "\n",
    "    rmse = mean_squared_error(target_valid, predictions_valid)**0.5 # считаем значение метрики RMSE на валидационной выборке\n",
    "    mean_pred_pr = predictions_valid.mean()\n",
    "    \n",
    "    return predictions_valid, rmse, mean_pred_pr"
   ]
  },
  {
   "cell_type": "code",
   "execution_count": 13,
   "metadata": {},
   "outputs": [
    {
     "name": "stdout",
     "output_type": "stream",
     "text": [
      "Для региона 1 средний запас предсказанного сырья составил 92.59, а RMSE модели 37.58\n",
      "Для региона 2 средний запас предсказанного сырья составил 68.73, а RMSE модели 0.89\n",
      "Для региона 3 средний запас предсказанного сырья составил 94.97, а RMSE модели 40.03\n"
     ]
    }
   ],
   "source": [
    "# получим данные для всех регионов\n",
    "predictions_valid_0, rmse_0, mean_pred_pr_0 = modeling(features_train_0, features_valid_0, target_train_0, target_valid_0)\n",
    "predictions_valid_1, rmse_1, mean_pred_pr_1 = modeling(features_train_1, features_valid_1, target_train_1, target_valid_1)\n",
    "predictions_valid_2, rmse_2, mean_pred_pr_2 = modeling(features_train_2, features_valid_2, target_train_2, target_valid_2)\n",
    "print('Для региона 1 средний запас предсказанного сырья составил {:.2f}, а RMSE модели {:.2f}'.format(mean_pred_pr_0, rmse_0))\n",
    "print('Для региона 2 средний запас предсказанного сырья составил {:.2f}, а RMSE модели {:.2f}'.format(mean_pred_pr_1, rmse_1))\n",
    "print('Для региона 3 средний запас предсказанного сырья составил {:.2f}, а RMSE модели {:.2f}'.format(mean_pred_pr_2, rmse_2))"
   ]
  },
  {
   "cell_type": "markdown",
   "metadata": {},
   "source": [
    "Для оценки правильности работы модели покажем истинные средние запасы по каждому региону."
   ]
  },
  {
   "cell_type": "code",
   "execution_count": 14,
   "metadata": {},
   "outputs": [
    {
     "name": "stdout",
     "output_type": "stream",
     "text": [
      "Для региона 1 истинный средний запас сырья равен 92.08\n",
      "Для региона 2 истинный средний запас сырья равен 68.72\n",
      "Для региона 3 истинный средний запас сырья равен 94.88\n"
     ]
    }
   ],
   "source": [
    "print('Для региона 1 истинный средний запас сырья равен {:.2f}'.format(target_valid_0.mean()))\n",
    "print('Для региона 2 истинный средний запас сырья равен {:.2f}'.format(target_valid_1.mean()))\n",
    "print('Для региона 3 истинный средний запас сырья равен {:.2f}'.format(target_valid_2.mean()))"
   ]
  },
  {
   "cell_type": "markdown",
   "metadata": {},
   "source": [
    "По результату проведенного моделирования можно сказать следующее:\n",
    "\n",
    "* Все 3 модели предсказывают близкие к истинным значения.\n",
    "* Наилучшими прогнозными свойствами обладает модель 2, т.к. признак f2 имеет прямую зависимость с целевым признаком и определяет поведение модели. Предсказательные способности моделей для 1 и 3 регионов примерно одинаковые (согласно параметрам RMSE)."
   ]
  },
  {
   "cell_type": "markdown",
   "metadata": {},
   "source": [
    "## Подготовка к расчёту прибыли"
   ]
  },
  {
   "cell_type": "code",
   "execution_count": 15,
   "metadata": {},
   "outputs": [],
   "source": [
    "explore_count = 500 # количество точек для исследования\n",
    "mining_count = 200 # количество точек для разработки\n",
    "mining_budget = 10_000 # бюджет на разработку скважин в регионе в млн. руб.\n",
    "revenue_per_barrel = 0.45 # доход с 1 тыс баррель в млн. руб\n",
    "loss_probability = 0.025 # максимальная вероятность убытков\n",
    "bootstrap_samples = 1000"
   ]
  },
  {
   "cell_type": "markdown",
   "metadata": {},
   "source": [
    "Для расчета достаточного объема сырья для безубыточной разработки новой скважины необходимо:\n",
    "\n",
    "* Вычислить допустимые средние затраты на разработку одной скважины - разделить бюджет на количество скважин.\n",
    "* Вычислить какое количество в тыс. баррель необходимо для покрытия затрат на одну скважину."
   ]
  },
  {
   "cell_type": "code",
   "execution_count": 16,
   "metadata": {},
   "outputs": [
    {
     "name": "stdout",
     "output_type": "stream",
     "text": [
      "Необходимый объем сырья для безубыточной разработки 1 скважины в тыс. баррелей 111.11\n"
     ]
    }
   ],
   "source": [
    "budget_per_borehole = mining_budget / mining_count # затраты на разработку одной скважины\n",
    "\n",
    "# необходимый объем сырья для безубыточной разработки 1 скважины в тыс. баррелей\n",
    "sufficient_product_volume = budget_per_borehole / revenue_per_barrel\n",
    "print('Необходимый объем сырья для безубыточной разработки 1 скважины в тыс. баррелей {:.2f}'.format(sufficient_product_volume))"
   ]
  },
  {
   "cell_type": "markdown",
   "metadata": {},
   "source": [
    "Необходимый объем сырья для того, чтобы разработка скважины была окупаемой составил 111 тыс. баррелей. Средние значения запасов сырья для всех трех регионов ниже необходимого объема, что говорит о том, что при осуществлении разработки скважин, выбранных случайным образом, имеется высокая доля риска не окупить затраченный бюджет. Поэтому важно иметь модель, которая наиболее корректно предсказывала бы объем продукта в зависимости от известных факторов. В следующем этапе проверим работоспособность созданных ранее моделей для определения скважин с максимальными значениями предсказаний."
   ]
  },
  {
   "cell_type": "markdown",
   "metadata": {},
   "source": [
    "**Расчёт прибыли 200 самых привлекательных скважин (исходя из всех предсказаний модели)**"
   ]
  },
  {
   "cell_type": "markdown",
   "metadata": {},
   "source": [
    "Произведем выбор скважин с максимальными значениями предсказаний. По условиям задачи для разработки берутся 200 лучших скважин. Для выбранных скважин найдем соответствующие им истинные значения и по ним проведем расчет прибыли. Добавим все в функцию, чтобы не дублировать код для каждого региона."
   ]
  },
  {
   "cell_type": "code",
   "execution_count": 18,
   "metadata": {},
   "outputs": [],
   "source": [
    "def income_calc(target_valid, predictions_valid):\n",
    "    pred_choice = predictions_valid.sort_values(ascending=False).head(200) # выбираем 200 скважин с максимальным объемом нефти\n",
    "    target_choice = target_valid.reset_index(drop=True)[pred_choice.index] # определяем верные значения для отобранных 200 скважин\n",
    "    income = target_choice.sum() * revenue_per_barrel # доход в млн. рублей с 200 скважин\n",
    "    return income"
   ]
  },
  {
   "cell_type": "code",
   "execution_count": 19,
   "metadata": {},
   "outputs": [
    {
     "name": "stdout",
     "output_type": "stream",
     "text": [
      "Прибыль в с 200 выбранных по предсказаниям модели скважин составит:\n",
      "для региона 1 - 3320.826 млн. руб.\n",
      "для региона 2 - 2415.087 млн. руб.\n",
      "для региона 3 - 2710.350 млн. руб.\n"
     ]
    }
   ],
   "source": [
    "print('Прибыль в с 200 выбранных по предсказаниям модели скважин составит:')\n",
    "print('для региона 1 - {:.3f} млн. руб.'.format(income_calc(target_valid_0, predictions_valid_0) - mining_budget))\n",
    "print('для региона 2 - {:.3f} млн. руб.'.format(income_calc(target_valid_1, predictions_valid_1) - mining_budget))\n",
    "print('для региона 3 - {:.3f} млн. руб.'.format(income_calc(target_valid_2, predictions_valid_2) - mining_budget))"
   ]
  },
  {
   "cell_type": "markdown",
   "metadata": {},
   "source": [
    "Таким образом, мы получили очень высокие значения прибыли для каждого региона (от 2.4 млрд руб. до 3.2 млрд руб). При условии что мы проведем геолоразведку по 25 000 точкам, что повлечет за собой несоизмеримые с вложениями затраты. Согласно требованиям заказчика мы можем провести геолоразведку только по 500 точкам. "
   ]
  },
  {
   "cell_type": "markdown",
   "metadata": {},
   "source": [
    "## Расчёт прибыли и рисков для каждого региона (для 500 случайных скважин)"
   ]
  },
  {
   "cell_type": "markdown",
   "metadata": {},
   "source": [
    "Модифицируем формулу расчета выручки для варианта, когда задается количество скважин, по которым производится поиск наибольших значений продукта."
   ]
  },
  {
   "cell_type": "code",
   "execution_count": 21,
   "metadata": {},
   "outputs": [],
   "source": [
    "def revenue (target_valid, predictions_valid, mining_count):\n",
    "    pred_choice = predictions_valid.sort_values(ascending=False) # сортируем скважины по значениям их предсказаний\n",
    "    \n",
    "    # определяем верные значения для отобранных случайных скважин и берем только нужное количество\n",
    "    target_choice = target_valid[pred_choice.index][:mining_count]\n",
    "    income = target_choice.sum() * revenue_per_barrel # доход в млн. рублей\n",
    "    return income"
   ]
  },
  {
   "cell_type": "markdown",
   "metadata": {},
   "source": [
    "Формула для расчета выручки для n случайных скважин создана, определим распределение прибыли с помощью техники Bootstrap для 1000 выборок. Внутри каждой выборки будем считать выручку и оценивать не убыточна ли она. По итогу 1000 циклов получим распределение выручек, из которых определим среднюю выручку для региона, доверительный интервал и вероятностьполучить отрицательную выручку."
   ]
  },
  {
   "cell_type": "code",
   "execution_count": 22,
   "metadata": {},
   "outputs": [],
   "source": [
    "# создадим ф-ю для применения для каждого региона\n",
    "def income_distribution (predictions_valid, target_valid, bootstrap_samples, explore_count):\n",
    "    state = np.random.RandomState(12345)\n",
    "    \n",
    "    count = 0 # с помощью этого счетчика будем считать вероятность убытков в регионе\n",
    "\n",
    "    values = [] # здесь будут все значения выручек для 1000 выборок\n",
    "    \n",
    "    for i in range(bootstrap_samples): # создаем 1000 выборок\n",
    "    \n",
    "        # у целевого признака валидац. выборки сбрасываем индексы и случайно выбираем нужное количество скважин\n",
    "        target_subsample = target_valid.reset_index(drop=True).sample(explore_count, replace=True, random_state=state)\n",
    "        \n",
    "        # из предсказаний выбираем строки соответствующие отобранным строкам в целевом признаке\n",
    "        probs_subsample = predictions_valid[target_subsample.index]\n",
    "        \n",
    "        # считаем выручку для отобранных строк, но только для нужного количества скважин\n",
    "        rev = revenue(target_subsample, probs_subsample, mining_count) - mining_budget\n",
    "        # добавляем выручку в список выручек всех выборок\n",
    "        values.append(rev)\n",
    "        \n",
    "        #проверяем не является выборка убыточной, если является, то увеличиваем счетчик\n",
    "        if rev < 0:\n",
    "            count +=1\n",
    "\n",
    "    values = pd.Series(values)\n",
    "    \n",
    "    #посчитаем и выведем среднюю выручку\n",
    "    mean = values.mean()\n",
    "    print(\"Средняя выручка:\", mean, 'млн рублей')\n",
    "    \n",
    "    # посчитаем и выведем 95-% доверительный интервал\n",
    "    confidence_interval = st.t.interval(0.95, len(values)-1, values.mean(), np.std(values, ddof=1))\n",
    "    print(\"95%-ый доверительный интервал:\", confidence_interval)\n",
    "    \n",
    "    pvalue = 1. * count / bootstrap_samples\n",
    "    if pvalue < loss_probability:\n",
    "        print(\"Вероятность убытков равна {:.2%} и является меньше допустимой, регион подходит по критериям\".format(pvalue))\n",
    "    else:\n",
    "        print(\"Вероятность убытков равна {:.2%} и является больше допустимой, регион не подходит по критериям\".format(pvalue))    \n",
    "    \n",
    "    # построим распределение выручки по региону\n",
    "    plt.figure()\n",
    "    _ = plt.hist(values,  bins=100)\n",
    "    \n",
    "    # левая граница доверительного интервала\n",
    "    one_x12, one_y12 = [confidence_interval[0],confidence_interval[0]], [0, 30]\n",
    "    # правая граница доверительного интервала\n",
    "    two_x12, two_y12 = [confidence_interval[1],confidence_interval[1]], [0, 30]\n",
    "    plt.title('Гистограмма распределения прибыли')\n",
    "    plt.xlabel('Прибыль в млн. рублей')\n",
    "    plt.plot(one_x12, one_y12, two_x12, two_y12, marker = 'o')"
   ]
  },
  {
   "cell_type": "code",
   "execution_count": 23,
   "metadata": {},
   "outputs": [
    {
     "name": "stdout",
     "output_type": "stream",
     "text": [
      "Для первого региона при случайном выборе 500 скважин получаются следующие показатели\n",
      "Средняя выручка: 425.9385269105927 млн рублей\n",
      "95%-ый доверительный интервал: (-118.17308158673279, 970.0501354079182)\n",
      "Вероятность убытков равна 6.00% и является больше допустимой, регион не подходит по критериям\n"
     ]
    },
    {
     "data": {
      "image/png": "[encoded data removed]",
      "text/plain": [
       "<Figure size 432x288 with 1 Axes>"
      ]
     },
     "metadata": {
      "needs_background": "light"
     },
     "output_type": "display_data"
    }
   ],
   "source": [
    "print('Для первого региона при случайном выборе 500 скважин получаются следующие показатели')\n",
    "income_distribution (predictions_valid_0, target_valid_0, bootstrap_samples, explore_count)"
   ]
  },
  {
   "cell_type": "code",
   "execution_count": 24,
   "metadata": {},
   "outputs": [
    {
     "name": "stdout",
     "output_type": "stream",
     "text": [
      "Для второго региона при случайном выборе 500 скважин получаются следующие показатели\n",
      "Средняя выручка: 515.2227734432902 млн рублей\n",
      "95%-ый доверительный интервал: (85.11198847686433, 945.333558409716)\n",
      "Вероятность убытков равна 1.00% и является меньше допустимой, регион подходит по критериям\n"
     ]
    },
    {
     "data": {
      "image/png": "[encoded data removed]",
      "text/plain": [
       "<Figure size 432x288 with 1 Axes>"
      ]
     },
     "metadata": {
      "needs_background": "light"
     },
     "output_type": "display_data"
    }
   ],
   "source": [
    "print('Для второго региона при случайном выборе 500 скважин получаются следующие показатели')\n",
    "income_distribution (predictions_valid_1, target_valid_1, bootstrap_samples, explore_count)"
   ]
  },
  {
   "cell_type": "code",
   "execution_count": 26,
   "metadata": {},
   "outputs": [
    {
     "name": "stdout",
     "output_type": "stream",
     "text": [
      "Для третьего региона при случайном выборе 500 скважин получаются следующие показатели\n",
      "Средняя выручка: 435.00836278275585 млн рублей\n",
      "95%-ый доверительный интервал: (-120.12349557730545, 990.1402211428172)\n",
      "Вероятность убытков равна 6.40% и является больше допустимой, регион не подходит по критериям\n"
     ]
    },
    {
     "data": {
      "image/png": "[encoded data removed]",
      "text/plain": [
       "<Figure size 432x288 with 1 Axes>"
      ]
     },
     "metadata": {
      "needs_background": "light"
     },
     "output_type": "display_data"
    }
   ],
   "source": [
    "print('Для третьего региона при случайном выборе 500 скважин получаются следующие показатели')\n",
    "income_distribution (predictions_valid_2, target_valid_2, bootstrap_samples, explore_count)"
   ]
  },
  {
   "cell_type": "markdown",
   "metadata": {},
   "source": [
    "**Общий вывод:**"
   ]
  },
  {
   "cell_type": "markdown",
   "metadata": {},
   "source": [
    "Из полученных данных видно следующее:\n",
    "\n",
    "* При случайном выборе 500 скважин для проведения геолоразведки, потенциальная прибыль падает в среднем в 6 раз (с 3 млрд рублей до 0,5 млрд рублей) по сравнению с ситуацией, если бы мы проводили разведку для всего объема скважин.\n",
    "* Согласно расчитанной средней выручке все три региона являются прибыльными, средние чеки приняли значения: регион 1 - 426 млн. рублей, регион 2 - 515 млн. рублей, регион 3 - 435 млн. рублей.\n",
    "* 1-ый и 3-й регионы обладают очень высокой вероятностью убытков (6 и 6.4 % соответственно), поэтому не проходят по критериям установленной бизнес-задачи (вероятность убытков должна быть меньше 2,5 %). Также эта ситуация хорошо описывается 95-% доврительным интервалом. Левая граница, которая отделяет 2.5 % данных для 1-го и 3-го регионов принимает отрицательное значение, что говорит о том, что более 2.5 % выборок имеют отрицательную прибыль.\n",
    "* 2-й регион оказался лидирующим по всем показателям. Он обладает наибольшим средним чеком, а также единственный соответствует условию по минимальной вероятности убытков (левая граница 95-% доверительного интервала - положительная). \n",
    "\n",
    "**Для дальнейшей разработки заказчику предлагается принять только 2-й регион.**"
   ]
  },
  {
   "cell_type": "code",
   "execution_count": null,
   "metadata": {},
   "outputs": [],
   "source": []
  }
 ],
 "metadata": {
  "ExecuteTimeLog": [
   {
    "duration": 1562,
    "start_time": "2022-03-29T20:29:34.738Z"
   },
   {
    "duration": 144,
    "start_time": "2022-03-29T20:29:36.302Z"
   },
   {
    "duration": 66,
    "start_time": "2022-03-29T20:30:31.486Z"
   },
   {
    "duration": 376,
    "start_time": "2022-03-29T20:32:00.182Z"
   },
   {
    "duration": 356,
    "start_time": "2022-03-29T20:32:10.730Z"
   },
   {
    "duration": 373,
    "start_time": "2022-03-29T20:32:39.151Z"
   },
   {
    "duration": 357,
    "start_time": "2022-03-29T20:33:08.344Z"
   },
   {
    "duration": 34,
    "start_time": "2022-03-29T20:34:40.958Z"
   },
   {
    "duration": 12,
    "start_time": "2022-03-29T20:39:48.692Z"
   },
   {
    "duration": 96,
    "start_time": "2022-03-29T20:40:59.532Z"
   },
   {
    "duration": 4,
    "start_time": "2022-03-29T20:48:56.630Z"
   },
   {
    "duration": 73,
    "start_time": "2022-03-29T20:49:13.652Z"
   },
   {
    "duration": 2864,
    "start_time": "2022-03-30T06:49:53.749Z"
   },
   {
    "duration": 689,
    "start_time": "2022-03-30T06:49:56.616Z"
   },
   {
    "duration": 52,
    "start_time": "2022-03-30T06:49:57.308Z"
   },
   {
    "duration": 142,
    "start_time": "2022-03-30T06:49:57.384Z"
   },
   {
    "duration": 18,
    "start_time": "2022-03-30T06:49:57.528Z"
   },
   {
    "duration": 7,
    "start_time": "2022-03-30T06:49:57.548Z"
   },
   {
    "duration": 135,
    "start_time": "2022-03-30T06:49:57.556Z"
   },
   {
    "duration": 37,
    "start_time": "2022-03-30T06:49:57.693Z"
   },
   {
    "duration": 6,
    "start_time": "2022-03-30T06:53:45.360Z"
   },
   {
    "duration": 99,
    "start_time": "2022-03-30T06:53:45.598Z"
   },
   {
    "duration": 38,
    "start_time": "2022-03-30T06:53:46.088Z"
   },
   {
    "duration": 5,
    "start_time": "2022-03-30T06:53:47.180Z"
   },
   {
    "duration": 269,
    "start_time": "2022-03-30T06:53:48.220Z"
   },
   {
    "duration": 9,
    "start_time": "2022-03-30T06:53:50.295Z"
   },
   {
    "duration": 4,
    "start_time": "2022-03-30T06:57:51.898Z"
   },
   {
    "duration": 6,
    "start_time": "2022-03-30T06:57:55.248Z"
   },
   {
    "duration": 136,
    "start_time": "2022-03-30T06:59:19.820Z"
   },
   {
    "duration": 5,
    "start_time": "2022-03-30T07:00:15.617Z"
   },
   {
    "duration": 21,
    "start_time": "2022-03-30T07:00:27.318Z"
   },
   {
    "duration": 108,
    "start_time": "2022-03-30T07:08:40.512Z"
   },
   {
    "duration": 5,
    "start_time": "2022-03-30T07:09:53.199Z"
   },
   {
    "duration": 12,
    "start_time": "2022-03-30T07:09:54.990Z"
   },
   {
    "duration": 2464,
    "start_time": "2022-03-30T07:09:56.575Z"
   },
   {
    "duration": 2547,
    "start_time": "2022-03-30T07:09:59.043Z"
   },
   {
    "duration": 183,
    "start_time": "2022-03-30T07:10:01.593Z"
   },
   {
    "duration": 2570,
    "start_time": "2022-03-30T07:10:41.531Z"
   },
   {
    "duration": 215,
    "start_time": "2022-03-31T05:07:13.470Z"
   },
   {
    "duration": 222,
    "start_time": "2022-03-31T05:07:20.758Z"
   },
   {
    "duration": 204,
    "start_time": "2022-03-31T05:07:49.556Z"
   },
   {
    "duration": 2451,
    "start_time": "2022-03-31T05:08:00.955Z"
   },
   {
    "duration": 7,
    "start_time": "2022-03-31T05:08:04.040Z"
   },
   {
    "duration": 207,
    "start_time": "2022-03-31T05:08:09.177Z"
   },
   {
    "duration": 247,
    "start_time": "2022-03-31T05:09:49.657Z"
   },
   {
    "duration": 207,
    "start_time": "2022-03-31T05:09:59.167Z"
   },
   {
    "duration": 188,
    "start_time": "2022-03-31T05:09:59.651Z"
   },
   {
    "duration": 222,
    "start_time": "2022-03-31T05:11:19.358Z"
   },
   {
    "duration": 194,
    "start_time": "2022-03-31T05:11:27.793Z"
   },
   {
    "duration": 7,
    "start_time": "2022-03-31T05:11:38.283Z"
   },
   {
    "duration": 4,
    "start_time": "2022-03-31T05:11:43.335Z"
   }
  ],
  "kernelspec": {
   "display_name": "Python 3 (ipykernel)",
   "language": "python",
   "name": "python3"
  },
  "language_info": {
   "codemirror_mode": {
    "name": "ipython",
    "version": 3
   },
   "file_extension": ".py",
   "mimetype": "text/x-python",
   "name": "python",
   "nbconvert_exporter": "python",
   "pygments_lexer": "ipython3",
   "version": "3.10.4"
  },
  "toc": {
   "base_numbering": 1,
   "nav_menu": {},
   "number_sections": true,
   "sideBar": true,
   "skip_h1_title": true,
   "title_cell": "Table of Contents",
   "title_sidebar": "Contents",
   "toc_cell": false,
   "toc_position": {},
   "toc_section_display": true,
   "toc_window_display": true
  }
 },
 "nbformat": 4,
 "nbformat_minor": 2
}
