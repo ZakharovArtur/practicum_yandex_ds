{
 "cells": [
  {
   "cell_type": "markdown",
   "metadata": {},
   "source": [
    "# Определение перспективного тарифа для телеком-компании"
   ]
  },
  {
   "cell_type": "markdown",
   "metadata": {},
   "source": [
    "Клиентам предлагают два тарифных плана: «Смарт» и «Ультра». Чтобы скорректировать рекламный бюджет, коммерческий департамент хочет понять, какой тариф приносит больше денег.\n",
    "\n",
    "Предстоит сделать предварительный анализ тарифов на небольшой выборке клиентов. В распоряжении данные 500 пользователей «Мегалайна»: кто они, откуда, каким тарифом пользуются, сколько звонков и сообщений каждый отправил за 2018 год. Нужно проанализировать поведение клиентов и сделать вывод — какой тариф лучше."
   ]
  },
  {
   "cell_type": "markdown",
   "metadata": {},
   "source": [
    "Импортируем библиотеки "
   ]
  },
  {
   "cell_type": "code",
   "execution_count": 1,
   "metadata": {},
   "outputs": [],
   "source": [
    "import pandas as pd\n",
    "import numpy as np\n",
    "from scipy import stats as st"
   ]
  },
  {
   "cell_type": "markdown",
   "metadata": {},
   "source": [
    "### Шаг.  Откройте файл с данными и изучите общую информацию\n",
    "\n",
    "Путь к файлам:\n",
    "\n",
    "/datasets/calls.csv. Скачать датасет\n",
    "\n",
    "/datasets/internet.csv. Скачать датасет\n",
    "\n",
    "/datasets/messages.csv. Скачать датасет\n",
    "\n",
    "/datasets/tariffs.csv. Скачать датасет\n",
    "\n",
    "/datasets/users.csv. Скачать датасет"
   ]
  },
  {
   "cell_type": "code",
   "execution_count": 2,
   "metadata": {},
   "outputs": [
    {
     "name": "stdout",
     "output_type": "stream",
     "text": [
      "<class 'pandas.core.frame.DataFrame'>\n",
      "RangeIndex: 202607 entries, 0 to 202606\n",
      "Data columns (total 4 columns):\n",
      "id           202607 non-null object\n",
      "call_date    202607 non-null object\n",
      "duration     202607 non-null float64\n",
      "user_id      202607 non-null int64\n",
      "dtypes: float64(1), int64(1), object(2)\n",
      "memory usage: 6.2+ MB\n"
     ]
    },
    {
     "data": {
      "text/html": [
       "<div>\n",
       "<style scoped>\n",
       "    .dataframe tbody tr th:only-of-type {\n",
       "        vertical-align: middle;\n",
       "    }\n",
       "\n",
       "    .dataframe tbody tr th {\n",
       "        vertical-align: top;\n",
       "    }\n",
       "\n",
       "    .dataframe thead th {\n",
       "        text-align: right;\n",
       "    }\n",
       "</style>\n",
       "<table border=\"1\" class=\"dataframe\">\n",
       "  <thead>\n",
       "    <tr style=\"text-align: right;\">\n",
       "      <th></th>\n",
       "      <th>id</th>\n",
       "      <th>call_date</th>\n",
       "      <th>duration</th>\n",
       "      <th>user_id</th>\n",
       "    </tr>\n",
       "  </thead>\n",
       "  <tbody>\n",
       "    <tr>\n",
       "      <td>0</td>\n",
       "      <td>1000_0</td>\n",
       "      <td>2018-07-25</td>\n",
       "      <td>0.00</td>\n",
       "      <td>1000</td>\n",
       "    </tr>\n",
       "    <tr>\n",
       "      <td>1</td>\n",
       "      <td>1000_1</td>\n",
       "      <td>2018-08-17</td>\n",
       "      <td>0.00</td>\n",
       "      <td>1000</td>\n",
       "    </tr>\n",
       "    <tr>\n",
       "      <td>2</td>\n",
       "      <td>1000_2</td>\n",
       "      <td>2018-06-11</td>\n",
       "      <td>2.85</td>\n",
       "      <td>1000</td>\n",
       "    </tr>\n",
       "    <tr>\n",
       "      <td>3</td>\n",
       "      <td>1000_3</td>\n",
       "      <td>2018-09-21</td>\n",
       "      <td>13.80</td>\n",
       "      <td>1000</td>\n",
       "    </tr>\n",
       "    <tr>\n",
       "      <td>4</td>\n",
       "      <td>1000_4</td>\n",
       "      <td>2018-12-15</td>\n",
       "      <td>5.18</td>\n",
       "      <td>1000</td>\n",
       "    </tr>\n",
       "  </tbody>\n",
       "</table>\n",
       "</div>"
      ],
      "text/plain": [
       "       id   call_date  duration  user_id\n",
       "0  1000_0  2018-07-25      0.00     1000\n",
       "1  1000_1  2018-08-17      0.00     1000\n",
       "2  1000_2  2018-06-11      2.85     1000\n",
       "3  1000_3  2018-09-21     13.80     1000\n",
       "4  1000_4  2018-12-15      5.18     1000"
      ]
     },
     "metadata": {},
     "output_type": "display_data"
    },
    {
     "name": "stdout",
     "output_type": "stream",
     "text": [
      "\n",
      "<class 'pandas.core.frame.DataFrame'>\n",
      "RangeIndex: 149396 entries, 0 to 149395\n",
      "Data columns (total 5 columns):\n",
      "Unnamed: 0      149396 non-null int64\n",
      "id              149396 non-null object\n",
      "mb_used         149396 non-null float64\n",
      "session_date    149396 non-null object\n",
      "user_id         149396 non-null int64\n",
      "dtypes: float64(1), int64(2), object(2)\n",
      "memory usage: 5.7+ MB\n"
     ]
    },
    {
     "data": {
      "text/html": [
       "<div>\n",
       "<style scoped>\n",
       "    .dataframe tbody tr th:only-of-type {\n",
       "        vertical-align: middle;\n",
       "    }\n",
       "\n",
       "    .dataframe tbody tr th {\n",
       "        vertical-align: top;\n",
       "    }\n",
       "\n",
       "    .dataframe thead th {\n",
       "        text-align: right;\n",
       "    }\n",
       "</style>\n",
       "<table border=\"1\" class=\"dataframe\">\n",
       "  <thead>\n",
       "    <tr style=\"text-align: right;\">\n",
       "      <th></th>\n",
       "      <th>Unnamed: 0</th>\n",
       "      <th>id</th>\n",
       "      <th>mb_used</th>\n",
       "      <th>session_date</th>\n",
       "      <th>user_id</th>\n",
       "    </tr>\n",
       "  </thead>\n",
       "  <tbody>\n",
       "    <tr>\n",
       "      <td>0</td>\n",
       "      <td>0</td>\n",
       "      <td>1000_0</td>\n",
       "      <td>112.95</td>\n",
       "      <td>2018-11-25</td>\n",
       "      <td>1000</td>\n",
       "    </tr>\n",
       "    <tr>\n",
       "      <td>1</td>\n",
       "      <td>1</td>\n",
       "      <td>1000_1</td>\n",
       "      <td>1052.81</td>\n",
       "      <td>2018-09-07</td>\n",
       "      <td>1000</td>\n",
       "    </tr>\n",
       "    <tr>\n",
       "      <td>2</td>\n",
       "      <td>2</td>\n",
       "      <td>1000_2</td>\n",
       "      <td>1197.26</td>\n",
       "      <td>2018-06-25</td>\n",
       "      <td>1000</td>\n",
       "    </tr>\n",
       "    <tr>\n",
       "      <td>3</td>\n",
       "      <td>3</td>\n",
       "      <td>1000_3</td>\n",
       "      <td>550.27</td>\n",
       "      <td>2018-08-22</td>\n",
       "      <td>1000</td>\n",
       "    </tr>\n",
       "    <tr>\n",
       "      <td>4</td>\n",
       "      <td>4</td>\n",
       "      <td>1000_4</td>\n",
       "      <td>302.56</td>\n",
       "      <td>2018-09-24</td>\n",
       "      <td>1000</td>\n",
       "    </tr>\n",
       "  </tbody>\n",
       "</table>\n",
       "</div>"
      ],
      "text/plain": [
       "   Unnamed: 0      id  mb_used session_date  user_id\n",
       "0           0  1000_0   112.95   2018-11-25     1000\n",
       "1           1  1000_1  1052.81   2018-09-07     1000\n",
       "2           2  1000_2  1197.26   2018-06-25     1000\n",
       "3           3  1000_3   550.27   2018-08-22     1000\n",
       "4           4  1000_4   302.56   2018-09-24     1000"
      ]
     },
     "metadata": {},
     "output_type": "display_data"
    },
    {
     "name": "stdout",
     "output_type": "stream",
     "text": [
      "\n",
      "<class 'pandas.core.frame.DataFrame'>\n",
      "RangeIndex: 123036 entries, 0 to 123035\n",
      "Data columns (total 3 columns):\n",
      "id              123036 non-null object\n",
      "message_date    123036 non-null object\n",
      "user_id         123036 non-null int64\n",
      "dtypes: int64(1), object(2)\n",
      "memory usage: 2.8+ MB\n"
     ]
    },
    {
     "data": {
      "text/html": [
       "<div>\n",
       "<style scoped>\n",
       "    .dataframe tbody tr th:only-of-type {\n",
       "        vertical-align: middle;\n",
       "    }\n",
       "\n",
       "    .dataframe tbody tr th {\n",
       "        vertical-align: top;\n",
       "    }\n",
       "\n",
       "    .dataframe thead th {\n",
       "        text-align: right;\n",
       "    }\n",
       "</style>\n",
       "<table border=\"1\" class=\"dataframe\">\n",
       "  <thead>\n",
       "    <tr style=\"text-align: right;\">\n",
       "      <th></th>\n",
       "      <th>id</th>\n",
       "      <th>message_date</th>\n",
       "      <th>user_id</th>\n",
       "    </tr>\n",
       "  </thead>\n",
       "  <tbody>\n",
       "    <tr>\n",
       "      <td>0</td>\n",
       "      <td>1000_0</td>\n",
       "      <td>2018-06-27</td>\n",
       "      <td>1000</td>\n",
       "    </tr>\n",
       "    <tr>\n",
       "      <td>1</td>\n",
       "      <td>1000_1</td>\n",
       "      <td>2018-10-08</td>\n",
       "      <td>1000</td>\n",
       "    </tr>\n",
       "    <tr>\n",
       "      <td>2</td>\n",
       "      <td>1000_2</td>\n",
       "      <td>2018-08-04</td>\n",
       "      <td>1000</td>\n",
       "    </tr>\n",
       "    <tr>\n",
       "      <td>3</td>\n",
       "      <td>1000_3</td>\n",
       "      <td>2018-06-16</td>\n",
       "      <td>1000</td>\n",
       "    </tr>\n",
       "    <tr>\n",
       "      <td>4</td>\n",
       "      <td>1000_4</td>\n",
       "      <td>2018-12-05</td>\n",
       "      <td>1000</td>\n",
       "    </tr>\n",
       "  </tbody>\n",
       "</table>\n",
       "</div>"
      ],
      "text/plain": [
       "       id message_date  user_id\n",
       "0  1000_0   2018-06-27     1000\n",
       "1  1000_1   2018-10-08     1000\n",
       "2  1000_2   2018-08-04     1000\n",
       "3  1000_3   2018-06-16     1000\n",
       "4  1000_4   2018-12-05     1000"
      ]
     },
     "metadata": {},
     "output_type": "display_data"
    },
    {
     "name": "stdout",
     "output_type": "stream",
     "text": [
      "\n",
      "<class 'pandas.core.frame.DataFrame'>\n",
      "RangeIndex: 2 entries, 0 to 1\n",
      "Data columns (total 8 columns):\n",
      "messages_included        2 non-null int64\n",
      "mb_per_month_included    2 non-null int64\n",
      "minutes_included         2 non-null int64\n",
      "rub_monthly_fee          2 non-null int64\n",
      "rub_per_gb               2 non-null int64\n",
      "rub_per_message          2 non-null int64\n",
      "rub_per_minute           2 non-null int64\n",
      "tariff_name              2 non-null object\n",
      "dtypes: int64(7), object(1)\n",
      "memory usage: 256.0+ bytes\n"
     ]
    },
    {
     "data": {
      "text/html": [
       "<div>\n",
       "<style scoped>\n",
       "    .dataframe tbody tr th:only-of-type {\n",
       "        vertical-align: middle;\n",
       "    }\n",
       "\n",
       "    .dataframe tbody tr th {\n",
       "        vertical-align: top;\n",
       "    }\n",
       "\n",
       "    .dataframe thead th {\n",
       "        text-align: right;\n",
       "    }\n",
       "</style>\n",
       "<table border=\"1\" class=\"dataframe\">\n",
       "  <thead>\n",
       "    <tr style=\"text-align: right;\">\n",
       "      <th></th>\n",
       "      <th>messages_included</th>\n",
       "      <th>mb_per_month_included</th>\n",
       "      <th>minutes_included</th>\n",
       "      <th>rub_monthly_fee</th>\n",
       "      <th>rub_per_gb</th>\n",
       "      <th>rub_per_message</th>\n",
       "      <th>rub_per_minute</th>\n",
       "      <th>tariff_name</th>\n",
       "    </tr>\n",
       "  </thead>\n",
       "  <tbody>\n",
       "    <tr>\n",
       "      <td>0</td>\n",
       "      <td>50</td>\n",
       "      <td>15360</td>\n",
       "      <td>500</td>\n",
       "      <td>550</td>\n",
       "      <td>200</td>\n",
       "      <td>3</td>\n",
       "      <td>3</td>\n",
       "      <td>smart</td>\n",
       "    </tr>\n",
       "    <tr>\n",
       "      <td>1</td>\n",
       "      <td>1000</td>\n",
       "      <td>30720</td>\n",
       "      <td>3000</td>\n",
       "      <td>1950</td>\n",
       "      <td>150</td>\n",
       "      <td>1</td>\n",
       "      <td>1</td>\n",
       "      <td>ultra</td>\n",
       "    </tr>\n",
       "  </tbody>\n",
       "</table>\n",
       "</div>"
      ],
      "text/plain": [
       "   messages_included  mb_per_month_included  minutes_included  \\\n",
       "0                 50                  15360               500   \n",
       "1               1000                  30720              3000   \n",
       "\n",
       "   rub_monthly_fee  rub_per_gb  rub_per_message  rub_per_minute tariff_name  \n",
       "0              550         200                3               3       smart  \n",
       "1             1950         150                1               1       ultra  "
      ]
     },
     "metadata": {},
     "output_type": "display_data"
    },
    {
     "name": "stdout",
     "output_type": "stream",
     "text": [
      "\n",
      "<class 'pandas.core.frame.DataFrame'>\n",
      "RangeIndex: 500 entries, 0 to 499\n",
      "Data columns (total 8 columns):\n",
      "user_id       500 non-null int64\n",
      "age           500 non-null int64\n",
      "churn_date    38 non-null object\n",
      "city          500 non-null object\n",
      "first_name    500 non-null object\n",
      "last_name     500 non-null object\n",
      "reg_date      500 non-null object\n",
      "tariff        500 non-null object\n",
      "dtypes: int64(2), object(6)\n",
      "memory usage: 31.4+ KB\n"
     ]
    },
    {
     "data": {
      "text/html": [
       "<div>\n",
       "<style scoped>\n",
       "    .dataframe tbody tr th:only-of-type {\n",
       "        vertical-align: middle;\n",
       "    }\n",
       "\n",
       "    .dataframe tbody tr th {\n",
       "        vertical-align: top;\n",
       "    }\n",
       "\n",
       "    .dataframe thead th {\n",
       "        text-align: right;\n",
       "    }\n",
       "</style>\n",
       "<table border=\"1\" class=\"dataframe\">\n",
       "  <thead>\n",
       "    <tr style=\"text-align: right;\">\n",
       "      <th></th>\n",
       "      <th>user_id</th>\n",
       "      <th>age</th>\n",
       "      <th>churn_date</th>\n",
       "      <th>city</th>\n",
       "      <th>first_name</th>\n",
       "      <th>last_name</th>\n",
       "      <th>reg_date</th>\n",
       "      <th>tariff</th>\n",
       "    </tr>\n",
       "  </thead>\n",
       "  <tbody>\n",
       "    <tr>\n",
       "      <td>0</td>\n",
       "      <td>1000</td>\n",
       "      <td>52</td>\n",
       "      <td>NaN</td>\n",
       "      <td>Краснодар</td>\n",
       "      <td>Рафаил</td>\n",
       "      <td>Верещагин</td>\n",
       "      <td>2018-05-25</td>\n",
       "      <td>ultra</td>\n",
       "    </tr>\n",
       "    <tr>\n",
       "      <td>1</td>\n",
       "      <td>1001</td>\n",
       "      <td>41</td>\n",
       "      <td>NaN</td>\n",
       "      <td>Москва</td>\n",
       "      <td>Иван</td>\n",
       "      <td>Ежов</td>\n",
       "      <td>2018-11-01</td>\n",
       "      <td>smart</td>\n",
       "    </tr>\n",
       "    <tr>\n",
       "      <td>2</td>\n",
       "      <td>1002</td>\n",
       "      <td>59</td>\n",
       "      <td>NaN</td>\n",
       "      <td>Стерлитамак</td>\n",
       "      <td>Евгений</td>\n",
       "      <td>Абрамович</td>\n",
       "      <td>2018-06-17</td>\n",
       "      <td>smart</td>\n",
       "    </tr>\n",
       "    <tr>\n",
       "      <td>3</td>\n",
       "      <td>1003</td>\n",
       "      <td>23</td>\n",
       "      <td>NaN</td>\n",
       "      <td>Москва</td>\n",
       "      <td>Белла</td>\n",
       "      <td>Белякова</td>\n",
       "      <td>2018-08-17</td>\n",
       "      <td>ultra</td>\n",
       "    </tr>\n",
       "    <tr>\n",
       "      <td>4</td>\n",
       "      <td>1004</td>\n",
       "      <td>68</td>\n",
       "      <td>NaN</td>\n",
       "      <td>Новокузнецк</td>\n",
       "      <td>Татьяна</td>\n",
       "      <td>Авдеенко</td>\n",
       "      <td>2018-05-14</td>\n",
       "      <td>ultra</td>\n",
       "    </tr>\n",
       "  </tbody>\n",
       "</table>\n",
       "</div>"
      ],
      "text/plain": [
       "   user_id  age churn_date         city first_name  last_name    reg_date  \\\n",
       "0     1000   52        NaN    Краснодар     Рафаил  Верещагин  2018-05-25   \n",
       "1     1001   41        NaN       Москва       Иван       Ежов  2018-11-01   \n",
       "2     1002   59        NaN  Стерлитамак    Евгений  Абрамович  2018-06-17   \n",
       "3     1003   23        NaN       Москва      Белла   Белякова  2018-08-17   \n",
       "4     1004   68        NaN  Новокузнецк    Татьяна   Авдеенко  2018-05-14   \n",
       "\n",
       "  tariff  \n",
       "0  ultra  \n",
       "1  smart  \n",
       "2  smart  \n",
       "3  ultra  \n",
       "4  ultra  "
      ]
     },
     "execution_count": 2,
     "metadata": {},
     "output_type": "execute_result"
    }
   ],
   "source": [
    "calls_data = pd.read_csv('/datasets/calls.csv')\n",
    "internet_data = pd.read_csv('/datasets/internet.csv')\n",
    "messages_data = pd.read_csv('/datasets/messages.csv')\n",
    "tariffs_data = pd.read_csv('/datasets/tariffs.csv')\n",
    "users_data = pd.read_csv('/datasets/users.csv')\n",
    "\n",
    "calls_data.info()\n",
    "display(calls_data.head())\n",
    "print()\n",
    "internet_data.info()\n",
    "display(internet_data.head())\n",
    "print()\n",
    "messages_data.info()\n",
    "display(messages_data.head())\n",
    "print()\n",
    "tariffs_data.info()\n",
    "display(tariffs_data.head())\n",
    "print()\n",
    "users_data.info()\n",
    "users_data.head()"
   ]
  },
  {
   "cell_type": "markdown",
   "metadata": {},
   "source": [
    "#### Вывод:\n",
    "- Обнаружен неверный формат даты во всех таблицах с датами\n",
    "- Необходимо округлить время звонков и мегабайты трафика в большую сторону в соответствии с условиями тарифов"
   ]
  },
  {
   "cell_type": "markdown",
   "metadata": {},
   "source": [
    "### Шаг. Подготовьте данные"
   ]
  },
  {
   "cell_type": "markdown",
   "metadata": {},
   "source": [
    "#### Приведем даты к формату datetime"
   ]
  },
  {
   "cell_type": "code",
   "execution_count": 3,
   "metadata": {},
   "outputs": [],
   "source": [
    "calls_data['call_date'] = pd.to_datetime(calls_data['call_date'], format='%Y-%m-%d')\n",
    "internet_data['session_date'] = pd.to_datetime(internet_data['session_date'], format='%Y-%m-%d')\n",
    "messages_data['message_date'] = pd.to_datetime(messages_data['message_date'], format='%Y-%m-%d')\n",
    "users_data['churn_date'] = pd.to_datetime(users_data['churn_date'], format='%Y-%m-%d')\n",
    "users_data['reg_date'] = pd.to_datetime(users_data['reg_date'], format='%Y-%m-%d')\n"
   ]
  },
  {
   "cell_type": "code",
   "execution_count": 4,
   "metadata": {},
   "outputs": [
    {
     "name": "stdout",
     "output_type": "stream",
     "text": [
      "<class 'pandas.core.frame.DataFrame'>\n",
      "RangeIndex: 500 entries, 0 to 499\n",
      "Data columns (total 8 columns):\n",
      "user_id       500 non-null int64\n",
      "age           500 non-null int64\n",
      "churn_date    38 non-null datetime64[ns]\n",
      "city          500 non-null object\n",
      "first_name    500 non-null object\n",
      "last_name     500 non-null object\n",
      "reg_date      500 non-null datetime64[ns]\n",
      "tariff        500 non-null object\n",
      "dtypes: datetime64[ns](2), int64(2), object(4)\n",
      "memory usage: 31.4+ KB\n"
     ]
    },
    {
     "data": {
      "text/html": [
       "<div>\n",
       "<style scoped>\n",
       "    .dataframe tbody tr th:only-of-type {\n",
       "        vertical-align: middle;\n",
       "    }\n",
       "\n",
       "    .dataframe tbody tr th {\n",
       "        vertical-align: top;\n",
       "    }\n",
       "\n",
       "    .dataframe thead th {\n",
       "        text-align: right;\n",
       "    }\n",
       "</style>\n",
       "<table border=\"1\" class=\"dataframe\">\n",
       "  <thead>\n",
       "    <tr style=\"text-align: right;\">\n",
       "      <th></th>\n",
       "      <th>user_id</th>\n",
       "      <th>age</th>\n",
       "      <th>churn_date</th>\n",
       "      <th>city</th>\n",
       "      <th>first_name</th>\n",
       "      <th>last_name</th>\n",
       "      <th>reg_date</th>\n",
       "      <th>tariff</th>\n",
       "    </tr>\n",
       "  </thead>\n",
       "  <tbody>\n",
       "    <tr>\n",
       "      <td>0</td>\n",
       "      <td>1000</td>\n",
       "      <td>52</td>\n",
       "      <td>NaT</td>\n",
       "      <td>Краснодар</td>\n",
       "      <td>Рафаил</td>\n",
       "      <td>Верещагин</td>\n",
       "      <td>2018-05-25</td>\n",
       "      <td>ultra</td>\n",
       "    </tr>\n",
       "    <tr>\n",
       "      <td>1</td>\n",
       "      <td>1001</td>\n",
       "      <td>41</td>\n",
       "      <td>NaT</td>\n",
       "      <td>Москва</td>\n",
       "      <td>Иван</td>\n",
       "      <td>Ежов</td>\n",
       "      <td>2018-11-01</td>\n",
       "      <td>smart</td>\n",
       "    </tr>\n",
       "    <tr>\n",
       "      <td>2</td>\n",
       "      <td>1002</td>\n",
       "      <td>59</td>\n",
       "      <td>NaT</td>\n",
       "      <td>Стерлитамак</td>\n",
       "      <td>Евгений</td>\n",
       "      <td>Абрамович</td>\n",
       "      <td>2018-06-17</td>\n",
       "      <td>smart</td>\n",
       "    </tr>\n",
       "    <tr>\n",
       "      <td>3</td>\n",
       "      <td>1003</td>\n",
       "      <td>23</td>\n",
       "      <td>NaT</td>\n",
       "      <td>Москва</td>\n",
       "      <td>Белла</td>\n",
       "      <td>Белякова</td>\n",
       "      <td>2018-08-17</td>\n",
       "      <td>ultra</td>\n",
       "    </tr>\n",
       "    <tr>\n",
       "      <td>4</td>\n",
       "      <td>1004</td>\n",
       "      <td>68</td>\n",
       "      <td>NaT</td>\n",
       "      <td>Новокузнецк</td>\n",
       "      <td>Татьяна</td>\n",
       "      <td>Авдеенко</td>\n",
       "      <td>2018-05-14</td>\n",
       "      <td>ultra</td>\n",
       "    </tr>\n",
       "  </tbody>\n",
       "</table>\n",
       "</div>"
      ],
      "text/plain": [
       "   user_id  age churn_date         city first_name  last_name   reg_date  \\\n",
       "0     1000   52        NaT    Краснодар     Рафаил  Верещагин 2018-05-25   \n",
       "1     1001   41        NaT       Москва       Иван       Ежов 2018-11-01   \n",
       "2     1002   59        NaT  Стерлитамак    Евгений  Абрамович 2018-06-17   \n",
       "3     1003   23        NaT       Москва      Белла   Белякова 2018-08-17   \n",
       "4     1004   68        NaT  Новокузнецк    Татьяна   Авдеенко 2018-05-14   \n",
       "\n",
       "  tariff  \n",
       "0  ultra  \n",
       "1  smart  \n",
       "2  smart  \n",
       "3  ultra  \n",
       "4  ultra  "
      ]
     },
     "metadata": {},
     "output_type": "display_data"
    }
   ],
   "source": [
    "users_data.info()\n",
    "display(users_data.head())"
   ]
  },
  {
   "cell_type": "markdown",
   "metadata": {},
   "source": [
    "#### добавляем столбец month"
   ]
  },
  {
   "cell_type": "code",
   "execution_count": 5,
   "metadata": {},
   "outputs": [
    {
     "data": {
      "text/html": [
       "<div>\n",
       "<style scoped>\n",
       "    .dataframe tbody tr th:only-of-type {\n",
       "        vertical-align: middle;\n",
       "    }\n",
       "\n",
       "    .dataframe tbody tr th {\n",
       "        vertical-align: top;\n",
       "    }\n",
       "\n",
       "    .dataframe thead th {\n",
       "        text-align: right;\n",
       "    }\n",
       "</style>\n",
       "<table border=\"1\" class=\"dataframe\">\n",
       "  <thead>\n",
       "    <tr style=\"text-align: right;\">\n",
       "      <th></th>\n",
       "      <th>Unnamed: 0</th>\n",
       "      <th>id</th>\n",
       "      <th>mb_used</th>\n",
       "      <th>session_date</th>\n",
       "      <th>user_id</th>\n",
       "      <th>month</th>\n",
       "    </tr>\n",
       "  </thead>\n",
       "  <tbody>\n",
       "    <tr>\n",
       "      <td>0</td>\n",
       "      <td>0</td>\n",
       "      <td>1000_0</td>\n",
       "      <td>112.95</td>\n",
       "      <td>2018-11-25</td>\n",
       "      <td>1000</td>\n",
       "      <td>11</td>\n",
       "    </tr>\n",
       "    <tr>\n",
       "      <td>1</td>\n",
       "      <td>1</td>\n",
       "      <td>1000_1</td>\n",
       "      <td>1052.81</td>\n",
       "      <td>2018-09-07</td>\n",
       "      <td>1000</td>\n",
       "      <td>9</td>\n",
       "    </tr>\n",
       "    <tr>\n",
       "      <td>2</td>\n",
       "      <td>2</td>\n",
       "      <td>1000_2</td>\n",
       "      <td>1197.26</td>\n",
       "      <td>2018-06-25</td>\n",
       "      <td>1000</td>\n",
       "      <td>6</td>\n",
       "    </tr>\n",
       "    <tr>\n",
       "      <td>3</td>\n",
       "      <td>3</td>\n",
       "      <td>1000_3</td>\n",
       "      <td>550.27</td>\n",
       "      <td>2018-08-22</td>\n",
       "      <td>1000</td>\n",
       "      <td>8</td>\n",
       "    </tr>\n",
       "    <tr>\n",
       "      <td>4</td>\n",
       "      <td>4</td>\n",
       "      <td>1000_4</td>\n",
       "      <td>302.56</td>\n",
       "      <td>2018-09-24</td>\n",
       "      <td>1000</td>\n",
       "      <td>9</td>\n",
       "    </tr>\n",
       "    <tr>\n",
       "      <td>...</td>\n",
       "      <td>...</td>\n",
       "      <td>...</td>\n",
       "      <td>...</td>\n",
       "      <td>...</td>\n",
       "      <td>...</td>\n",
       "      <td>...</td>\n",
       "    </tr>\n",
       "    <tr>\n",
       "      <td>149391</td>\n",
       "      <td>149391</td>\n",
       "      <td>1499_152</td>\n",
       "      <td>318.90</td>\n",
       "      <td>2018-10-03</td>\n",
       "      <td>1499</td>\n",
       "      <td>10</td>\n",
       "    </tr>\n",
       "    <tr>\n",
       "      <td>149392</td>\n",
       "      <td>149392</td>\n",
       "      <td>1499_153</td>\n",
       "      <td>490.13</td>\n",
       "      <td>2018-12-14</td>\n",
       "      <td>1499</td>\n",
       "      <td>12</td>\n",
       "    </tr>\n",
       "    <tr>\n",
       "      <td>149393</td>\n",
       "      <td>149393</td>\n",
       "      <td>1499_154</td>\n",
       "      <td>0.00</td>\n",
       "      <td>2018-10-27</td>\n",
       "      <td>1499</td>\n",
       "      <td>10</td>\n",
       "    </tr>\n",
       "    <tr>\n",
       "      <td>149394</td>\n",
       "      <td>149394</td>\n",
       "      <td>1499_155</td>\n",
       "      <td>1246.32</td>\n",
       "      <td>2018-11-26</td>\n",
       "      <td>1499</td>\n",
       "      <td>11</td>\n",
       "    </tr>\n",
       "    <tr>\n",
       "      <td>149395</td>\n",
       "      <td>149395</td>\n",
       "      <td>1499_156</td>\n",
       "      <td>544.37</td>\n",
       "      <td>2018-10-26</td>\n",
       "      <td>1499</td>\n",
       "      <td>10</td>\n",
       "    </tr>\n",
       "  </tbody>\n",
       "</table>\n",
       "<p>149396 rows × 6 columns</p>\n",
       "</div>"
      ],
      "text/plain": [
       "        Unnamed: 0        id  mb_used session_date  user_id  month\n",
       "0                0    1000_0   112.95   2018-11-25     1000     11\n",
       "1                1    1000_1  1052.81   2018-09-07     1000      9\n",
       "2                2    1000_2  1197.26   2018-06-25     1000      6\n",
       "3                3    1000_3   550.27   2018-08-22     1000      8\n",
       "4                4    1000_4   302.56   2018-09-24     1000      9\n",
       "...            ...       ...      ...          ...      ...    ...\n",
       "149391      149391  1499_152   318.90   2018-10-03     1499     10\n",
       "149392      149392  1499_153   490.13   2018-12-14     1499     12\n",
       "149393      149393  1499_154     0.00   2018-10-27     1499     10\n",
       "149394      149394  1499_155  1246.32   2018-11-26     1499     11\n",
       "149395      149395  1499_156   544.37   2018-10-26     1499     10\n",
       "\n",
       "[149396 rows x 6 columns]"
      ]
     },
     "execution_count": 5,
     "metadata": {},
     "output_type": "execute_result"
    }
   ],
   "source": [
    "calls_data['month'] = pd.DatetimeIndex(calls_data['call_date']).month\n",
    "internet_data['month'] = pd.DatetimeIndex(internet_data['session_date']).month\n",
    "messages_data['month'] = pd.DatetimeIndex(messages_data['message_date']).month\n",
    "internet_data"
   ]
  },
  {
   "cell_type": "markdown",
   "metadata": {},
   "source": [
    "#### округлим в большую сторону звонки"
   ]
  },
  {
   "cell_type": "code",
   "execution_count": 6,
   "metadata": {},
   "outputs": [
    {
     "data": {
      "text/html": [
       "<div>\n",
       "<style scoped>\n",
       "    .dataframe tbody tr th:only-of-type {\n",
       "        vertical-align: middle;\n",
       "    }\n",
       "\n",
       "    .dataframe tbody tr th {\n",
       "        vertical-align: top;\n",
       "    }\n",
       "\n",
       "    .dataframe thead th {\n",
       "        text-align: right;\n",
       "    }\n",
       "</style>\n",
       "<table border=\"1\" class=\"dataframe\">\n",
       "  <thead>\n",
       "    <tr style=\"text-align: right;\">\n",
       "      <th></th>\n",
       "      <th>id</th>\n",
       "      <th>call_date</th>\n",
       "      <th>duration</th>\n",
       "      <th>user_id</th>\n",
       "      <th>month</th>\n",
       "    </tr>\n",
       "  </thead>\n",
       "  <tbody>\n",
       "    <tr>\n",
       "      <td>0</td>\n",
       "      <td>1000_0</td>\n",
       "      <td>2018-07-25</td>\n",
       "      <td>0.0</td>\n",
       "      <td>1000</td>\n",
       "      <td>7</td>\n",
       "    </tr>\n",
       "    <tr>\n",
       "      <td>1</td>\n",
       "      <td>1000_1</td>\n",
       "      <td>2018-08-17</td>\n",
       "      <td>0.0</td>\n",
       "      <td>1000</td>\n",
       "      <td>8</td>\n",
       "    </tr>\n",
       "    <tr>\n",
       "      <td>2</td>\n",
       "      <td>1000_2</td>\n",
       "      <td>2018-06-11</td>\n",
       "      <td>3.0</td>\n",
       "      <td>1000</td>\n",
       "      <td>6</td>\n",
       "    </tr>\n",
       "    <tr>\n",
       "      <td>3</td>\n",
       "      <td>1000_3</td>\n",
       "      <td>2018-09-21</td>\n",
       "      <td>14.0</td>\n",
       "      <td>1000</td>\n",
       "      <td>9</td>\n",
       "    </tr>\n",
       "    <tr>\n",
       "      <td>4</td>\n",
       "      <td>1000_4</td>\n",
       "      <td>2018-12-15</td>\n",
       "      <td>6.0</td>\n",
       "      <td>1000</td>\n",
       "      <td>12</td>\n",
       "    </tr>\n",
       "    <tr>\n",
       "      <td>...</td>\n",
       "      <td>...</td>\n",
       "      <td>...</td>\n",
       "      <td>...</td>\n",
       "      <td>...</td>\n",
       "      <td>...</td>\n",
       "    </tr>\n",
       "    <tr>\n",
       "      <td>202602</td>\n",
       "      <td>1499_215</td>\n",
       "      <td>2018-12-26</td>\n",
       "      <td>1.0</td>\n",
       "      <td>1499</td>\n",
       "      <td>12</td>\n",
       "    </tr>\n",
       "    <tr>\n",
       "      <td>202603</td>\n",
       "      <td>1499_216</td>\n",
       "      <td>2018-10-18</td>\n",
       "      <td>19.0</td>\n",
       "      <td>1499</td>\n",
       "      <td>10</td>\n",
       "    </tr>\n",
       "    <tr>\n",
       "      <td>202604</td>\n",
       "      <td>1499_217</td>\n",
       "      <td>2018-11-10</td>\n",
       "      <td>11.0</td>\n",
       "      <td>1499</td>\n",
       "      <td>11</td>\n",
       "    </tr>\n",
       "    <tr>\n",
       "      <td>202605</td>\n",
       "      <td>1499_218</td>\n",
       "      <td>2018-10-06</td>\n",
       "      <td>5.0</td>\n",
       "      <td>1499</td>\n",
       "      <td>10</td>\n",
       "    </tr>\n",
       "    <tr>\n",
       "      <td>202606</td>\n",
       "      <td>1499_219</td>\n",
       "      <td>2018-12-14</td>\n",
       "      <td>20.0</td>\n",
       "      <td>1499</td>\n",
       "      <td>12</td>\n",
       "    </tr>\n",
       "  </tbody>\n",
       "</table>\n",
       "<p>202607 rows × 5 columns</p>\n",
       "</div>"
      ],
      "text/plain": [
       "              id  call_date  duration  user_id  month\n",
       "0         1000_0 2018-07-25       0.0     1000      7\n",
       "1         1000_1 2018-08-17       0.0     1000      8\n",
       "2         1000_2 2018-06-11       3.0     1000      6\n",
       "3         1000_3 2018-09-21      14.0     1000      9\n",
       "4         1000_4 2018-12-15       6.0     1000     12\n",
       "...          ...        ...       ...      ...    ...\n",
       "202602  1499_215 2018-12-26       1.0     1499     12\n",
       "202603  1499_216 2018-10-18      19.0     1499     10\n",
       "202604  1499_217 2018-11-10      11.0     1499     11\n",
       "202605  1499_218 2018-10-06       5.0     1499     10\n",
       "202606  1499_219 2018-12-14      20.0     1499     12\n",
       "\n",
       "[202607 rows x 5 columns]"
      ]
     },
     "metadata": {},
     "output_type": "display_data"
    },
    {
     "data": {
      "text/html": [
       "<div>\n",
       "<style scoped>\n",
       "    .dataframe tbody tr th:only-of-type {\n",
       "        vertical-align: middle;\n",
       "    }\n",
       "\n",
       "    .dataframe tbody tr th {\n",
       "        vertical-align: top;\n",
       "    }\n",
       "\n",
       "    .dataframe thead th {\n",
       "        text-align: right;\n",
       "    }\n",
       "</style>\n",
       "<table border=\"1\" class=\"dataframe\">\n",
       "  <thead>\n",
       "    <tr style=\"text-align: right;\">\n",
       "      <th></th>\n",
       "      <th></th>\n",
       "      <th>count_call</th>\n",
       "      <th>duration_call</th>\n",
       "    </tr>\n",
       "    <tr>\n",
       "      <th>month</th>\n",
       "      <th>user_id</th>\n",
       "      <th></th>\n",
       "      <th></th>\n",
       "    </tr>\n",
       "  </thead>\n",
       "  <tbody>\n",
       "    <tr>\n",
       "      <td rowspan=\"5\" valign=\"top\">1</td>\n",
       "      <td>1005</td>\n",
       "      <td>15</td>\n",
       "      <td>95.0</td>\n",
       "    </tr>\n",
       "    <tr>\n",
       "      <td>1032</td>\n",
       "      <td>61</td>\n",
       "      <td>380.0</td>\n",
       "    </tr>\n",
       "    <tr>\n",
       "      <td>1045</td>\n",
       "      <td>1</td>\n",
       "      <td>9.0</td>\n",
       "    </tr>\n",
       "    <tr>\n",
       "      <td>1055</td>\n",
       "      <td>64</td>\n",
       "      <td>551.0</td>\n",
       "    </tr>\n",
       "    <tr>\n",
       "      <td>1071</td>\n",
       "      <td>24</td>\n",
       "      <td>194.0</td>\n",
       "    </tr>\n",
       "    <tr>\n",
       "      <td>...</td>\n",
       "      <td>...</td>\n",
       "      <td>...</td>\n",
       "      <td>...</td>\n",
       "    </tr>\n",
       "    <tr>\n",
       "      <td rowspan=\"5\" valign=\"top\">12</td>\n",
       "      <td>1494</td>\n",
       "      <td>62</td>\n",
       "      <td>418.0</td>\n",
       "    </tr>\n",
       "    <tr>\n",
       "      <td>1495</td>\n",
       "      <td>155</td>\n",
       "      <td>1031.0</td>\n",
       "    </tr>\n",
       "    <tr>\n",
       "      <td>1496</td>\n",
       "      <td>80</td>\n",
       "      <td>518.0</td>\n",
       "    </tr>\n",
       "    <tr>\n",
       "      <td>1497</td>\n",
       "      <td>71</td>\n",
       "      <td>545.0</td>\n",
       "    </tr>\n",
       "    <tr>\n",
       "      <td>1499</td>\n",
       "      <td>69</td>\n",
       "      <td>492.0</td>\n",
       "    </tr>\n",
       "  </tbody>\n",
       "</table>\n",
       "<p>3174 rows × 2 columns</p>\n",
       "</div>"
      ],
      "text/plain": [
       "               count_call  duration_call\n",
       "month user_id                           \n",
       "1     1005             15           95.0\n",
       "      1032             61          380.0\n",
       "      1045              1            9.0\n",
       "      1055             64          551.0\n",
       "      1071             24          194.0\n",
       "...                   ...            ...\n",
       "12    1494             62          418.0\n",
       "      1495            155         1031.0\n",
       "      1496             80          518.0\n",
       "      1497             71          545.0\n",
       "      1499             69          492.0\n",
       "\n",
       "[3174 rows x 2 columns]"
      ]
     },
     "metadata": {},
     "output_type": "display_data"
    }
   ],
   "source": [
    "calls_data['duration'] = calls_data['duration'].apply(np.ceil)\n",
    "display(calls_data)\n",
    "pivot_calls_data = calls_data.pivot_table(index = ['month', 'user_id'], values = 'duration', aggfunc = ('sum', 'count'))\n",
    "pivot_calls_data = pivot_calls_data.rename(columns = {'count' : 'count_call', 'sum' : 'duration_call'})\n",
    "display(pivot_calls_data)"
   ]
  },
  {
   "cell_type": "markdown",
   "metadata": {},
   "source": [
    "#### округлим в большую сторону интернет трафик"
   ]
  },
  {
   "cell_type": "code",
   "execution_count": 7,
   "metadata": {},
   "outputs": [
    {
     "data": {
      "text/html": [
       "<div>\n",
       "<style scoped>\n",
       "    .dataframe tbody tr th:only-of-type {\n",
       "        vertical-align: middle;\n",
       "    }\n",
       "\n",
       "    .dataframe tbody tr th {\n",
       "        vertical-align: top;\n",
       "    }\n",
       "\n",
       "    .dataframe thead th {\n",
       "        text-align: right;\n",
       "    }\n",
       "</style>\n",
       "<table border=\"1\" class=\"dataframe\">\n",
       "  <thead>\n",
       "    <tr style=\"text-align: right;\">\n",
       "      <th></th>\n",
       "      <th></th>\n",
       "      <th>count_session</th>\n",
       "      <th>mb_used</th>\n",
       "      <th>gb_used</th>\n",
       "    </tr>\n",
       "    <tr>\n",
       "      <th>month</th>\n",
       "      <th>user_id</th>\n",
       "      <th></th>\n",
       "      <th></th>\n",
       "      <th></th>\n",
       "    </tr>\n",
       "  </thead>\n",
       "  <tbody>\n",
       "    <tr>\n",
       "      <td rowspan=\"5\" valign=\"top\">1</td>\n",
       "      <td>1005</td>\n",
       "      <td>6</td>\n",
       "      <td>2727.97</td>\n",
       "      <td>3.0</td>\n",
       "    </tr>\n",
       "    <tr>\n",
       "      <td>1032</td>\n",
       "      <td>62</td>\n",
       "      <td>24127.69</td>\n",
       "      <td>24.0</td>\n",
       "    </tr>\n",
       "    <tr>\n",
       "      <td>1045</td>\n",
       "      <td>5</td>\n",
       "      <td>2346.71</td>\n",
       "      <td>3.0</td>\n",
       "    </tr>\n",
       "    <tr>\n",
       "      <td>1055</td>\n",
       "      <td>47</td>\n",
       "      <td>17090.88</td>\n",
       "      <td>17.0</td>\n",
       "    </tr>\n",
       "    <tr>\n",
       "      <td>1071</td>\n",
       "      <td>40</td>\n",
       "      <td>15604.34</td>\n",
       "      <td>16.0</td>\n",
       "    </tr>\n",
       "    <tr>\n",
       "      <td>...</td>\n",
       "      <td>...</td>\n",
       "      <td>...</td>\n",
       "      <td>...</td>\n",
       "      <td>...</td>\n",
       "    </tr>\n",
       "    <tr>\n",
       "      <td rowspan=\"5\" valign=\"top\">12</td>\n",
       "      <td>1494</td>\n",
       "      <td>49</td>\n",
       "      <td>17621.21</td>\n",
       "      <td>18.0</td>\n",
       "    </tr>\n",
       "    <tr>\n",
       "      <td>1495</td>\n",
       "      <td>47</td>\n",
       "      <td>23426.76</td>\n",
       "      <td>23.0</td>\n",
       "    </tr>\n",
       "    <tr>\n",
       "      <td>1496</td>\n",
       "      <td>68</td>\n",
       "      <td>20736.15</td>\n",
       "      <td>21.0</td>\n",
       "    </tr>\n",
       "    <tr>\n",
       "      <td>1497</td>\n",
       "      <td>47</td>\n",
       "      <td>19918.60</td>\n",
       "      <td>20.0</td>\n",
       "    </tr>\n",
       "    <tr>\n",
       "      <td>1499</td>\n",
       "      <td>45</td>\n",
       "      <td>13055.58</td>\n",
       "      <td>13.0</td>\n",
       "    </tr>\n",
       "  </tbody>\n",
       "</table>\n",
       "<p>3203 rows × 3 columns</p>\n",
       "</div>"
      ],
      "text/plain": [
       "               count_session   mb_used  gb_used\n",
       "month user_id                                  \n",
       "1     1005                 6   2727.97      3.0\n",
       "      1032                62  24127.69     24.0\n",
       "      1045                 5   2346.71      3.0\n",
       "      1055                47  17090.88     17.0\n",
       "      1071                40  15604.34     16.0\n",
       "...                      ...       ...      ...\n",
       "12    1494                49  17621.21     18.0\n",
       "      1495                47  23426.76     23.0\n",
       "      1496                68  20736.15     21.0\n",
       "      1497                47  19918.60     20.0\n",
       "      1499                45  13055.58     13.0\n",
       "\n",
       "[3203 rows x 3 columns]"
      ]
     },
     "metadata": {},
     "output_type": "display_data"
    }
   ],
   "source": [
    "pivot_internet_data = internet_data.pivot_table(index = ['month', 'user_id'], values = 'mb_used', aggfunc = ('sum', 'count'))\n",
    "pivot_internet_data['gb_used'] = np.ceil(pivot_internet_data['sum']/1024)\n",
    "pivot_internet_data = pivot_internet_data.rename(columns = {'count' : 'count_session', 'sum' : 'mb_used'})\n",
    "display(pivot_internet_data)"
   ]
  },
  {
   "cell_type": "markdown",
   "metadata": {},
   "source": [
    "#### посчитаем отправленные сообщения"
   ]
  },
  {
   "cell_type": "code",
   "execution_count": 8,
   "metadata": {},
   "outputs": [
    {
     "data": {
      "text/html": [
       "<div>\n",
       "<style scoped>\n",
       "    .dataframe tbody tr th:only-of-type {\n",
       "        vertical-align: middle;\n",
       "    }\n",
       "\n",
       "    .dataframe tbody tr th {\n",
       "        vertical-align: top;\n",
       "    }\n",
       "\n",
       "    .dataframe thead th {\n",
       "        text-align: right;\n",
       "    }\n",
       "</style>\n",
       "<table border=\"1\" class=\"dataframe\">\n",
       "  <thead>\n",
       "    <tr style=\"text-align: right;\">\n",
       "      <th></th>\n",
       "      <th></th>\n",
       "      <th>count_messages</th>\n",
       "    </tr>\n",
       "    <tr>\n",
       "      <th>month</th>\n",
       "      <th>user_id</th>\n",
       "      <th></th>\n",
       "    </tr>\n",
       "  </thead>\n",
       "  <tbody>\n",
       "    <tr>\n",
       "      <td rowspan=\"5\" valign=\"top\">1</td>\n",
       "      <td>1005</td>\n",
       "      <td>7</td>\n",
       "    </tr>\n",
       "    <tr>\n",
       "      <td>1032</td>\n",
       "      <td>38</td>\n",
       "    </tr>\n",
       "    <tr>\n",
       "      <td>1045</td>\n",
       "      <td>5</td>\n",
       "    </tr>\n",
       "    <tr>\n",
       "      <td>1055</td>\n",
       "      <td>30</td>\n",
       "    </tr>\n",
       "    <tr>\n",
       "      <td>1071</td>\n",
       "      <td>16</td>\n",
       "    </tr>\n",
       "    <tr>\n",
       "      <td>...</td>\n",
       "      <td>...</td>\n",
       "      <td>...</td>\n",
       "    </tr>\n",
       "    <tr>\n",
       "      <td rowspan=\"5\" valign=\"top\">12</td>\n",
       "      <td>1493</td>\n",
       "      <td>78</td>\n",
       "    </tr>\n",
       "    <tr>\n",
       "      <td>1495</td>\n",
       "      <td>84</td>\n",
       "    </tr>\n",
       "    <tr>\n",
       "      <td>1496</td>\n",
       "      <td>51</td>\n",
       "    </tr>\n",
       "    <tr>\n",
       "      <td>1497</td>\n",
       "      <td>17</td>\n",
       "    </tr>\n",
       "    <tr>\n",
       "      <td>1499</td>\n",
       "      <td>66</td>\n",
       "    </tr>\n",
       "  </tbody>\n",
       "</table>\n",
       "<p>2717 rows × 1 columns</p>\n",
       "</div>"
      ],
      "text/plain": [
       "               count_messages\n",
       "month user_id                \n",
       "1     1005                  7\n",
       "      1032                 38\n",
       "      1045                  5\n",
       "      1055                 30\n",
       "      1071                 16\n",
       "...                       ...\n",
       "12    1493                 78\n",
       "      1495                 84\n",
       "      1496                 51\n",
       "      1497                 17\n",
       "      1499                 66\n",
       "\n",
       "[2717 rows x 1 columns]"
      ]
     },
     "metadata": {},
     "output_type": "display_data"
    }
   ],
   "source": [
    "pivot_messages_data = messages_data.pivot_table(index = ['month', 'user_id'], values = 'id', aggfunc = 'count')\n",
    "pivot_messages_data = pivot_messages_data.rename(columns = {'id' : 'count_messages'})\n",
    "display(pivot_messages_data)"
   ]
  },
  {
   "cell_type": "markdown",
   "metadata": {},
   "source": [
    "#### создадим ключ"
   ]
  },
  {
   "cell_type": "code",
   "execution_count": 9,
   "metadata": {},
   "outputs": [
    {
     "data": {
      "text/html": [
       "<div>\n",
       "<style scoped>\n",
       "    .dataframe tbody tr th:only-of-type {\n",
       "        vertical-align: middle;\n",
       "    }\n",
       "\n",
       "    .dataframe tbody tr th {\n",
       "        vertical-align: top;\n",
       "    }\n",
       "\n",
       "    .dataframe thead th {\n",
       "        text-align: right;\n",
       "    }\n",
       "</style>\n",
       "<table border=\"1\" class=\"dataframe\">\n",
       "  <thead>\n",
       "    <tr style=\"text-align: right;\">\n",
       "      <th></th>\n",
       "      <th></th>\n",
       "    </tr>\n",
       "    <tr>\n",
       "      <th>month</th>\n",
       "      <th>user_id</th>\n",
       "    </tr>\n",
       "  </thead>\n",
       "  <tbody>\n",
       "    <tr>\n",
       "      <td rowspan=\"5\" valign=\"top\">1</td>\n",
       "      <td>1005</td>\n",
       "    </tr>\n",
       "    <tr>\n",
       "      <td>1032</td>\n",
       "    </tr>\n",
       "    <tr>\n",
       "      <td>1045</td>\n",
       "    </tr>\n",
       "    <tr>\n",
       "      <td>1055</td>\n",
       "    </tr>\n",
       "    <tr>\n",
       "      <td>1071</td>\n",
       "    </tr>\n",
       "    <tr>\n",
       "      <td>...</td>\n",
       "      <td>...</td>\n",
       "    </tr>\n",
       "    <tr>\n",
       "      <td rowspan=\"5\" valign=\"top\">12</td>\n",
       "      <td>1494</td>\n",
       "    </tr>\n",
       "    <tr>\n",
       "      <td>1495</td>\n",
       "    </tr>\n",
       "    <tr>\n",
       "      <td>1496</td>\n",
       "    </tr>\n",
       "    <tr>\n",
       "      <td>1497</td>\n",
       "    </tr>\n",
       "    <tr>\n",
       "      <td>1499</td>\n",
       "    </tr>\n",
       "  </tbody>\n",
       "</table>\n",
       "<p>3214 rows × 0 columns</p>\n",
       "</div>"
      ],
      "text/plain": [
       "Empty DataFrame\n",
       "Columns: []\n",
       "Index: [(1, 1005), (1, 1032), (1, 1045), (1, 1055), (1, 1071), (1, 1113), (1, 1120), (1, 1126), (1, 1134), (1, 1135), (1, 1155), (1, 1168), (1, 1176), (1, 1189), (1, 1193), (1, 1204), (1, 1219), (1, 1227), (1, 1238), (1, 1254), (1, 1282), (1, 1299), (1, 1302), (1, 1308), (1, 1337), (1, 1340), (1, 1372), (1, 1373), (1, 1375), (1, 1378), (1, 1381), (1, 1385), (1, 1394), (1, 1395), (1, 1396), (1, 1401), (1, 1423), (1, 1429), (1, 1433), (1, 1453), (1, 1472), (1, 1475), (1, 1496), (2, 1005), (2, 1006), (2, 1032), (2, 1045), (2, 1055), (2, 1071), (2, 1072), (2, 1089), (2, 1104), (2, 1109), (2, 1113), (2, 1120), (2, 1126), (2, 1134), (2, 1135), (2, 1152), (2, 1155), (2, 1157), (2, 1158), (2, 1168), (2, 1174), (2, 1176), (2, 1180), (2, 1186), (2, 1188), (2, 1189), (2, 1193), (2, 1204), (2, 1217), (2, 1219), (2, 1227), (2, 1238), (2, 1240), (2, 1251), (2, 1254), (2, 1255), (2, 1277), (2, 1282), (2, 1285), (2, 1291), (2, 1292), (2, 1294), (2, 1299), (2, 1302), (2, 1308), (2, 1321), (2, 1330), (2, 1337), (2, 1340), (2, 1358), (2, 1370), (2, 1372), (2, 1373), (2, 1375), (2, 1377), (2, 1378), (2, 1381), ...]\n",
       "\n",
       "[3214 rows x 0 columns]"
      ]
     },
     "execution_count": 9,
     "metadata": {},
     "output_type": "execute_result"
    }
   ],
   "source": [
    "key_data = calls_data.append(internet_data, sort=False)\n",
    "key_data = key_data.append(messages_data, sort=False)\n",
    "key_data = key_data.pivot_table(index = ['month', 'user_id'], values = 'id', aggfunc = 'count')\n",
    "key_data = key_data.drop([\"id\"], axis=1)\n",
    "key_data"
   ]
  },
  {
   "cell_type": "markdown",
   "metadata": {},
   "source": [
    "#### обьединение сводных таблиц"
   ]
  },
  {
   "cell_type": "code",
   "execution_count": 10,
   "metadata": {},
   "outputs": [
    {
     "name": "stdout",
     "output_type": "stream",
     "text": [
      "<class 'pandas.core.frame.DataFrame'>\n",
      "MultiIndex: 3214 entries, (1005, 1) to (1499, 12)\n",
      "Data columns (total 5 columns):\n",
      "count_call        3174 non-null float64\n",
      "duration_call     3174 non-null float64\n",
      "count_session     3203 non-null float64\n",
      "gb_used           3203 non-null float64\n",
      "count_messages    2717 non-null float64\n",
      "dtypes: float64(5)\n",
      "memory usage: 139.1 KB\n"
     ]
    },
    {
     "data": {
      "text/html": [
       "<div>\n",
       "<style scoped>\n",
       "    .dataframe tbody tr th:only-of-type {\n",
       "        vertical-align: middle;\n",
       "    }\n",
       "\n",
       "    .dataframe tbody tr th {\n",
       "        vertical-align: top;\n",
       "    }\n",
       "\n",
       "    .dataframe thead th {\n",
       "        text-align: right;\n",
       "    }\n",
       "</style>\n",
       "<table border=\"1\" class=\"dataframe\">\n",
       "  <thead>\n",
       "    <tr style=\"text-align: right;\">\n",
       "      <th></th>\n",
       "      <th></th>\n",
       "      <th>count_call</th>\n",
       "      <th>duration_call</th>\n",
       "      <th>count_session</th>\n",
       "      <th>gb_used</th>\n",
       "      <th>count_messages</th>\n",
       "    </tr>\n",
       "    <tr>\n",
       "      <th>user_id</th>\n",
       "      <th>month</th>\n",
       "      <th></th>\n",
       "      <th></th>\n",
       "      <th></th>\n",
       "      <th></th>\n",
       "      <th></th>\n",
       "    </tr>\n",
       "  </thead>\n",
       "  <tbody>\n",
       "    <tr>\n",
       "      <td>1005</td>\n",
       "      <td>1</td>\n",
       "      <td>15.0</td>\n",
       "      <td>95.0</td>\n",
       "      <td>6.0</td>\n",
       "      <td>3.0</td>\n",
       "      <td>7.0</td>\n",
       "    </tr>\n",
       "    <tr>\n",
       "      <td>1032</td>\n",
       "      <td>1</td>\n",
       "      <td>61.0</td>\n",
       "      <td>380.0</td>\n",
       "      <td>62.0</td>\n",
       "      <td>24.0</td>\n",
       "      <td>38.0</td>\n",
       "    </tr>\n",
       "    <tr>\n",
       "      <td>1045</td>\n",
       "      <td>1</td>\n",
       "      <td>1.0</td>\n",
       "      <td>9.0</td>\n",
       "      <td>5.0</td>\n",
       "      <td>3.0</td>\n",
       "      <td>5.0</td>\n",
       "    </tr>\n",
       "    <tr>\n",
       "      <td>1055</td>\n",
       "      <td>1</td>\n",
       "      <td>64.0</td>\n",
       "      <td>551.0</td>\n",
       "      <td>47.0</td>\n",
       "      <td>17.0</td>\n",
       "      <td>30.0</td>\n",
       "    </tr>\n",
       "    <tr>\n",
       "      <td>1071</td>\n",
       "      <td>1</td>\n",
       "      <td>24.0</td>\n",
       "      <td>194.0</td>\n",
       "      <td>40.0</td>\n",
       "      <td>16.0</td>\n",
       "      <td>16.0</td>\n",
       "    </tr>\n",
       "    <tr>\n",
       "      <td>...</td>\n",
       "      <td>...</td>\n",
       "      <td>...</td>\n",
       "      <td>...</td>\n",
       "      <td>...</td>\n",
       "      <td>...</td>\n",
       "      <td>...</td>\n",
       "    </tr>\n",
       "    <tr>\n",
       "      <td>1494</td>\n",
       "      <td>12</td>\n",
       "      <td>62.0</td>\n",
       "      <td>418.0</td>\n",
       "      <td>49.0</td>\n",
       "      <td>18.0</td>\n",
       "      <td>NaN</td>\n",
       "    </tr>\n",
       "    <tr>\n",
       "      <td>1495</td>\n",
       "      <td>12</td>\n",
       "      <td>155.0</td>\n",
       "      <td>1031.0</td>\n",
       "      <td>47.0</td>\n",
       "      <td>23.0</td>\n",
       "      <td>84.0</td>\n",
       "    </tr>\n",
       "    <tr>\n",
       "      <td>1496</td>\n",
       "      <td>12</td>\n",
       "      <td>80.0</td>\n",
       "      <td>518.0</td>\n",
       "      <td>68.0</td>\n",
       "      <td>21.0</td>\n",
       "      <td>51.0</td>\n",
       "    </tr>\n",
       "    <tr>\n",
       "      <td>1497</td>\n",
       "      <td>12</td>\n",
       "      <td>71.0</td>\n",
       "      <td>545.0</td>\n",
       "      <td>47.0</td>\n",
       "      <td>20.0</td>\n",
       "      <td>17.0</td>\n",
       "    </tr>\n",
       "    <tr>\n",
       "      <td>1499</td>\n",
       "      <td>12</td>\n",
       "      <td>69.0</td>\n",
       "      <td>492.0</td>\n",
       "      <td>45.0</td>\n",
       "      <td>13.0</td>\n",
       "      <td>66.0</td>\n",
       "    </tr>\n",
       "  </tbody>\n",
       "</table>\n",
       "<p>3214 rows × 5 columns</p>\n",
       "</div>"
      ],
      "text/plain": [
       "               count_call  duration_call  count_session  gb_used  \\\n",
       "user_id month                                                      \n",
       "1005    1            15.0           95.0            6.0      3.0   \n",
       "1032    1            61.0          380.0           62.0     24.0   \n",
       "1045    1             1.0            9.0            5.0      3.0   \n",
       "1055    1            64.0          551.0           47.0     17.0   \n",
       "1071    1            24.0          194.0           40.0     16.0   \n",
       "...                   ...            ...            ...      ...   \n",
       "1494    12           62.0          418.0           49.0     18.0   \n",
       "1495    12          155.0         1031.0           47.0     23.0   \n",
       "1496    12           80.0          518.0           68.0     21.0   \n",
       "1497    12           71.0          545.0           47.0     20.0   \n",
       "1499    12           69.0          492.0           45.0     13.0   \n",
       "\n",
       "               count_messages  \n",
       "user_id month                  \n",
       "1005    1                 7.0  \n",
       "1032    1                38.0  \n",
       "1045    1                 5.0  \n",
       "1055    1                30.0  \n",
       "1071    1                16.0  \n",
       "...                       ...  \n",
       "1494    12                NaN  \n",
       "1495    12               84.0  \n",
       "1496    12               51.0  \n",
       "1497    12               17.0  \n",
       "1499    12               66.0  \n",
       "\n",
       "[3214 rows x 5 columns]"
      ]
     },
     "execution_count": 10,
     "metadata": {},
     "output_type": "execute_result"
    }
   ],
   "source": [
    "total_data = key_data.merge(pivot_calls_data, on=['user_id', 'month'], how='left')\n",
    "total_data = total_data.merge(pivot_internet_data, on=['user_id', 'month'], how='left').drop([\"mb_used\"], axis=1)\n",
    "total_data = total_data.merge(pivot_messages_data, on=['user_id', 'month'], how='left')\n",
    "total_data.info()\n",
    "total_data"
   ]
  },
  {
   "cell_type": "markdown",
   "metadata": {},
   "source": [
    "#### добавим в таблицу название тарифа и город пользователя"
   ]
  },
  {
   "cell_type": "code",
   "execution_count": 11,
   "metadata": {},
   "outputs": [
    {
     "name": "stdout",
     "output_type": "stream",
     "text": [
      "<class 'pandas.core.frame.DataFrame'>\n",
      "Int64Index: 3214 entries, 0 to 3213\n",
      "Data columns (total 8 columns):\n",
      "user_id           3214 non-null int64\n",
      "count_call        3174 non-null float64\n",
      "duration_call     3174 non-null float64\n",
      "count_session     3203 non-null float64\n",
      "gb_used           3203 non-null float64\n",
      "count_messages    2717 non-null float64\n",
      "city              3214 non-null object\n",
      "tariff            3214 non-null object\n",
      "dtypes: float64(5), int64(1), object(2)\n",
      "memory usage: 226.0+ KB\n"
     ]
    },
    {
     "data": {
      "text/html": [
       "<div>\n",
       "<style scoped>\n",
       "    .dataframe tbody tr th:only-of-type {\n",
       "        vertical-align: middle;\n",
       "    }\n",
       "\n",
       "    .dataframe tbody tr th {\n",
       "        vertical-align: top;\n",
       "    }\n",
       "\n",
       "    .dataframe thead th {\n",
       "        text-align: right;\n",
       "    }\n",
       "</style>\n",
       "<table border=\"1\" class=\"dataframe\">\n",
       "  <thead>\n",
       "    <tr style=\"text-align: right;\">\n",
       "      <th></th>\n",
       "      <th>user_id</th>\n",
       "      <th>count_call</th>\n",
       "      <th>duration_call</th>\n",
       "      <th>count_session</th>\n",
       "      <th>gb_used</th>\n",
       "      <th>count_messages</th>\n",
       "      <th>city</th>\n",
       "      <th>tariff</th>\n",
       "    </tr>\n",
       "  </thead>\n",
       "  <tbody>\n",
       "    <tr>\n",
       "      <td>0</td>\n",
       "      <td>1005</td>\n",
       "      <td>15.0</td>\n",
       "      <td>95.0</td>\n",
       "      <td>6.0</td>\n",
       "      <td>3.0</td>\n",
       "      <td>7.0</td>\n",
       "      <td>Набережные Челны</td>\n",
       "      <td>smart</td>\n",
       "    </tr>\n",
       "    <tr>\n",
       "      <td>1</td>\n",
       "      <td>1032</td>\n",
       "      <td>61.0</td>\n",
       "      <td>380.0</td>\n",
       "      <td>62.0</td>\n",
       "      <td>24.0</td>\n",
       "      <td>38.0</td>\n",
       "      <td>Ульяновск</td>\n",
       "      <td>smart</td>\n",
       "    </tr>\n",
       "    <tr>\n",
       "      <td>2</td>\n",
       "      <td>1045</td>\n",
       "      <td>1.0</td>\n",
       "      <td>9.0</td>\n",
       "      <td>5.0</td>\n",
       "      <td>3.0</td>\n",
       "      <td>5.0</td>\n",
       "      <td>Улан-Удэ</td>\n",
       "      <td>smart</td>\n",
       "    </tr>\n",
       "    <tr>\n",
       "      <td>3</td>\n",
       "      <td>1055</td>\n",
       "      <td>64.0</td>\n",
       "      <td>551.0</td>\n",
       "      <td>47.0</td>\n",
       "      <td>17.0</td>\n",
       "      <td>30.0</td>\n",
       "      <td>Казань</td>\n",
       "      <td>smart</td>\n",
       "    </tr>\n",
       "    <tr>\n",
       "      <td>4</td>\n",
       "      <td>1071</td>\n",
       "      <td>24.0</td>\n",
       "      <td>194.0</td>\n",
       "      <td>40.0</td>\n",
       "      <td>16.0</td>\n",
       "      <td>16.0</td>\n",
       "      <td>Омск</td>\n",
       "      <td>smart</td>\n",
       "    </tr>\n",
       "    <tr>\n",
       "      <td>...</td>\n",
       "      <td>...</td>\n",
       "      <td>...</td>\n",
       "      <td>...</td>\n",
       "      <td>...</td>\n",
       "      <td>...</td>\n",
       "      <td>...</td>\n",
       "      <td>...</td>\n",
       "      <td>...</td>\n",
       "    </tr>\n",
       "    <tr>\n",
       "      <td>3209</td>\n",
       "      <td>1494</td>\n",
       "      <td>62.0</td>\n",
       "      <td>418.0</td>\n",
       "      <td>49.0</td>\n",
       "      <td>18.0</td>\n",
       "      <td>NaN</td>\n",
       "      <td>Омск</td>\n",
       "      <td>smart</td>\n",
       "    </tr>\n",
       "    <tr>\n",
       "      <td>3210</td>\n",
       "      <td>1495</td>\n",
       "      <td>155.0</td>\n",
       "      <td>1031.0</td>\n",
       "      <td>47.0</td>\n",
       "      <td>23.0</td>\n",
       "      <td>84.0</td>\n",
       "      <td>Иркутск</td>\n",
       "      <td>ultra</td>\n",
       "    </tr>\n",
       "    <tr>\n",
       "      <td>3211</td>\n",
       "      <td>1496</td>\n",
       "      <td>80.0</td>\n",
       "      <td>518.0</td>\n",
       "      <td>68.0</td>\n",
       "      <td>21.0</td>\n",
       "      <td>51.0</td>\n",
       "      <td>Вологда</td>\n",
       "      <td>smart</td>\n",
       "    </tr>\n",
       "    <tr>\n",
       "      <td>3212</td>\n",
       "      <td>1497</td>\n",
       "      <td>71.0</td>\n",
       "      <td>545.0</td>\n",
       "      <td>47.0</td>\n",
       "      <td>20.0</td>\n",
       "      <td>17.0</td>\n",
       "      <td>Челябинск</td>\n",
       "      <td>smart</td>\n",
       "    </tr>\n",
       "    <tr>\n",
       "      <td>3213</td>\n",
       "      <td>1499</td>\n",
       "      <td>69.0</td>\n",
       "      <td>492.0</td>\n",
       "      <td>45.0</td>\n",
       "      <td>13.0</td>\n",
       "      <td>66.0</td>\n",
       "      <td>Пермь</td>\n",
       "      <td>smart</td>\n",
       "    </tr>\n",
       "  </tbody>\n",
       "</table>\n",
       "<p>3214 rows × 8 columns</p>\n",
       "</div>"
      ],
      "text/plain": [
       "      user_id  count_call  duration_call  count_session  gb_used  \\\n",
       "0        1005        15.0           95.0            6.0      3.0   \n",
       "1        1032        61.0          380.0           62.0     24.0   \n",
       "2        1045         1.0            9.0            5.0      3.0   \n",
       "3        1055        64.0          551.0           47.0     17.0   \n",
       "4        1071        24.0          194.0           40.0     16.0   \n",
       "...       ...         ...            ...            ...      ...   \n",
       "3209     1494        62.0          418.0           49.0     18.0   \n",
       "3210     1495       155.0         1031.0           47.0     23.0   \n",
       "3211     1496        80.0          518.0           68.0     21.0   \n",
       "3212     1497        71.0          545.0           47.0     20.0   \n",
       "3213     1499        69.0          492.0           45.0     13.0   \n",
       "\n",
       "      count_messages              city tariff  \n",
       "0                7.0  Набережные Челны  smart  \n",
       "1               38.0         Ульяновск  smart  \n",
       "2                5.0          Улан-Удэ  smart  \n",
       "3               30.0            Казань  smart  \n",
       "4               16.0              Омск  smart  \n",
       "...              ...               ...    ...  \n",
       "3209             NaN              Омск  smart  \n",
       "3210            84.0           Иркутск  ultra  \n",
       "3211            51.0           Вологда  smart  \n",
       "3212            17.0         Челябинск  smart  \n",
       "3213            66.0             Пермь  smart  \n",
       "\n",
       "[3214 rows x 8 columns]"
      ]
     },
     "execution_count": 11,
     "metadata": {},
     "output_type": "execute_result"
    }
   ],
   "source": [
    "total_data = total_data.merge(users_data[['user_id', 'city', 'tariff']], on='user_id', how='left')\n",
    "total_data.info()\n",
    "total_data"
   ]
  },
  {
   "cell_type": "code",
   "execution_count": 12,
   "metadata": {},
   "outputs": [
    {
     "data": {
      "text/html": [
       "<div>\n",
       "<style scoped>\n",
       "    .dataframe tbody tr th:only-of-type {\n",
       "        vertical-align: middle;\n",
       "    }\n",
       "\n",
       "    .dataframe tbody tr th {\n",
       "        vertical-align: top;\n",
       "    }\n",
       "\n",
       "    .dataframe thead th {\n",
       "        text-align: right;\n",
       "    }\n",
       "</style>\n",
       "<table border=\"1\" class=\"dataframe\">\n",
       "  <thead>\n",
       "    <tr style=\"text-align: right;\">\n",
       "      <th></th>\n",
       "      <th>messages_included</th>\n",
       "      <th>mb_per_month_included</th>\n",
       "      <th>minutes_included</th>\n",
       "      <th>rub_monthly_fee</th>\n",
       "      <th>rub_per_gb</th>\n",
       "      <th>rub_per_message</th>\n",
       "      <th>rub_per_minute</th>\n",
       "      <th>tariff_name</th>\n",
       "    </tr>\n",
       "  </thead>\n",
       "  <tbody>\n",
       "    <tr>\n",
       "      <td>0</td>\n",
       "      <td>50</td>\n",
       "      <td>15360</td>\n",
       "      <td>500</td>\n",
       "      <td>550</td>\n",
       "      <td>200</td>\n",
       "      <td>3</td>\n",
       "      <td>3</td>\n",
       "      <td>smart</td>\n",
       "    </tr>\n",
       "    <tr>\n",
       "      <td>1</td>\n",
       "      <td>1000</td>\n",
       "      <td>30720</td>\n",
       "      <td>3000</td>\n",
       "      <td>1950</td>\n",
       "      <td>150</td>\n",
       "      <td>1</td>\n",
       "      <td>1</td>\n",
       "      <td>ultra</td>\n",
       "    </tr>\n",
       "  </tbody>\n",
       "</table>\n",
       "</div>"
      ],
      "text/plain": [
       "   messages_included  mb_per_month_included  minutes_included  \\\n",
       "0                 50                  15360               500   \n",
       "1               1000                  30720              3000   \n",
       "\n",
       "   rub_monthly_fee  rub_per_gb  rub_per_message  rub_per_minute tariff_name  \n",
       "0              550         200                3               3       smart  \n",
       "1             1950         150                1               1       ultra  "
      ]
     },
     "execution_count": 12,
     "metadata": {},
     "output_type": "execute_result"
    }
   ],
   "source": [
    "tariffs_data"
   ]
  },
  {
   "cell_type": "markdown",
   "metadata": {},
   "source": [
    "#### посчитаем ежемесячные платежи пользователей, для этого сначало создадим функцию "
   ]
  },
  {
   "cell_type": "code",
   "execution_count": 13,
   "metadata": {},
   "outputs": [],
   "source": [
    "def price_formula(row):\n",
    "    if row['tariff'] == 'smart':\n",
    "        if row['duration_call'] > 500:\n",
    "            bill_for_calls = (row['duration_call'] - 500) * 3     \n",
    "        else:\n",
    "            bill_for_calls = 0\n",
    "            \n",
    "        if row['count_messages'] > 50:\n",
    "            bill_for_messages = (row['count_messages'] - 50) * 3\n",
    "        else:\n",
    "            bill_for_messages = 0\n",
    "            \n",
    "        if row['gb_used'] > 15:\n",
    "            bill_for_gb = (row['gb_used'] - 15) * 200\n",
    "        else:\n",
    "            bill_for_gb = 0\n",
    "            \n",
    "        total_cost = bill_for_calls + bill_for_messages + bill_for_gb + 550\n",
    "        \n",
    "    elif row['tariff'] == 'ultra':\n",
    "        if row['duration_call'] > 3000:\n",
    "            bill_for_calls = (row['duration_call'] - 3000) * 1    \n",
    "        else:\n",
    "            bill_for_calls = 0\n",
    "            \n",
    "        if row['count_messages'] > 1000:\n",
    "            bill_for_messages = (row['count_messages'] - 1000) * 1\n",
    "        else:\n",
    "            bill_for_messages = 0\n",
    "            \n",
    "        if row['gb_used'] > (30720 / 1024):\n",
    "            bill_for_gb = (row['gb_used'] - (30720 / 1024)) * 150\n",
    "        else:\n",
    "            bill_for_gb = 0\n",
    "        \n",
    "        total_cost = bill_for_calls + bill_for_messages + bill_for_gb + 1950\n",
    "        \n",
    "    return total_cost"
   ]
  },
  {
   "cell_type": "code",
   "execution_count": 14,
   "metadata": {},
   "outputs": [
    {
     "name": "stdout",
     "output_type": "stream",
     "text": [
      "<class 'pandas.core.frame.DataFrame'>\n",
      "Int64Index: 3214 entries, 0 to 3213\n",
      "Data columns (total 9 columns):\n",
      "user_id           3214 non-null int64\n",
      "count_call        3174 non-null float64\n",
      "duration_call     3174 non-null float64\n",
      "count_session     3203 non-null float64\n",
      "gb_used           3203 non-null float64\n",
      "count_messages    2717 non-null float64\n",
      "city              3214 non-null object\n",
      "tariff            3214 non-null object\n",
      "total_cost        3214 non-null float64\n",
      "dtypes: float64(6), int64(1), object(2)\n",
      "memory usage: 251.1+ KB\n"
     ]
    },
    {
     "data": {
      "text/html": [
       "<div>\n",
       "<style scoped>\n",
       "    .dataframe tbody tr th:only-of-type {\n",
       "        vertical-align: middle;\n",
       "    }\n",
       "\n",
       "    .dataframe tbody tr th {\n",
       "        vertical-align: top;\n",
       "    }\n",
       "\n",
       "    .dataframe thead th {\n",
       "        text-align: right;\n",
       "    }\n",
       "</style>\n",
       "<table border=\"1\" class=\"dataframe\">\n",
       "  <thead>\n",
       "    <tr style=\"text-align: right;\">\n",
       "      <th></th>\n",
       "      <th>user_id</th>\n",
       "      <th>count_call</th>\n",
       "      <th>duration_call</th>\n",
       "      <th>count_session</th>\n",
       "      <th>gb_used</th>\n",
       "      <th>count_messages</th>\n",
       "      <th>city</th>\n",
       "      <th>tariff</th>\n",
       "      <th>total_cost</th>\n",
       "    </tr>\n",
       "  </thead>\n",
       "  <tbody>\n",
       "    <tr>\n",
       "      <td>0</td>\n",
       "      <td>1005</td>\n",
       "      <td>15.0</td>\n",
       "      <td>95.0</td>\n",
       "      <td>6.0</td>\n",
       "      <td>3.0</td>\n",
       "      <td>7.0</td>\n",
       "      <td>Набережные Челны</td>\n",
       "      <td>smart</td>\n",
       "      <td>550.0</td>\n",
       "    </tr>\n",
       "    <tr>\n",
       "      <td>1</td>\n",
       "      <td>1032</td>\n",
       "      <td>61.0</td>\n",
       "      <td>380.0</td>\n",
       "      <td>62.0</td>\n",
       "      <td>24.0</td>\n",
       "      <td>38.0</td>\n",
       "      <td>Ульяновск</td>\n",
       "      <td>smart</td>\n",
       "      <td>2350.0</td>\n",
       "    </tr>\n",
       "    <tr>\n",
       "      <td>2</td>\n",
       "      <td>1045</td>\n",
       "      <td>1.0</td>\n",
       "      <td>9.0</td>\n",
       "      <td>5.0</td>\n",
       "      <td>3.0</td>\n",
       "      <td>5.0</td>\n",
       "      <td>Улан-Удэ</td>\n",
       "      <td>smart</td>\n",
       "      <td>550.0</td>\n",
       "    </tr>\n",
       "    <tr>\n",
       "      <td>3</td>\n",
       "      <td>1055</td>\n",
       "      <td>64.0</td>\n",
       "      <td>551.0</td>\n",
       "      <td>47.0</td>\n",
       "      <td>17.0</td>\n",
       "      <td>30.0</td>\n",
       "      <td>Казань</td>\n",
       "      <td>smart</td>\n",
       "      <td>1103.0</td>\n",
       "    </tr>\n",
       "    <tr>\n",
       "      <td>4</td>\n",
       "      <td>1071</td>\n",
       "      <td>24.0</td>\n",
       "      <td>194.0</td>\n",
       "      <td>40.0</td>\n",
       "      <td>16.0</td>\n",
       "      <td>16.0</td>\n",
       "      <td>Омск</td>\n",
       "      <td>smart</td>\n",
       "      <td>750.0</td>\n",
       "    </tr>\n",
       "    <tr>\n",
       "      <td>...</td>\n",
       "      <td>...</td>\n",
       "      <td>...</td>\n",
       "      <td>...</td>\n",
       "      <td>...</td>\n",
       "      <td>...</td>\n",
       "      <td>...</td>\n",
       "      <td>...</td>\n",
       "      <td>...</td>\n",
       "      <td>...</td>\n",
       "    </tr>\n",
       "    <tr>\n",
       "      <td>3209</td>\n",
       "      <td>1494</td>\n",
       "      <td>62.0</td>\n",
       "      <td>418.0</td>\n",
       "      <td>49.0</td>\n",
       "      <td>18.0</td>\n",
       "      <td>NaN</td>\n",
       "      <td>Омск</td>\n",
       "      <td>smart</td>\n",
       "      <td>1150.0</td>\n",
       "    </tr>\n",
       "    <tr>\n",
       "      <td>3210</td>\n",
       "      <td>1495</td>\n",
       "      <td>155.0</td>\n",
       "      <td>1031.0</td>\n",
       "      <td>47.0</td>\n",
       "      <td>23.0</td>\n",
       "      <td>84.0</td>\n",
       "      <td>Иркутск</td>\n",
       "      <td>ultra</td>\n",
       "      <td>1950.0</td>\n",
       "    </tr>\n",
       "    <tr>\n",
       "      <td>3211</td>\n",
       "      <td>1496</td>\n",
       "      <td>80.0</td>\n",
       "      <td>518.0</td>\n",
       "      <td>68.0</td>\n",
       "      <td>21.0</td>\n",
       "      <td>51.0</td>\n",
       "      <td>Вологда</td>\n",
       "      <td>smart</td>\n",
       "      <td>1807.0</td>\n",
       "    </tr>\n",
       "    <tr>\n",
       "      <td>3212</td>\n",
       "      <td>1497</td>\n",
       "      <td>71.0</td>\n",
       "      <td>545.0</td>\n",
       "      <td>47.0</td>\n",
       "      <td>20.0</td>\n",
       "      <td>17.0</td>\n",
       "      <td>Челябинск</td>\n",
       "      <td>smart</td>\n",
       "      <td>1685.0</td>\n",
       "    </tr>\n",
       "    <tr>\n",
       "      <td>3213</td>\n",
       "      <td>1499</td>\n",
       "      <td>69.0</td>\n",
       "      <td>492.0</td>\n",
       "      <td>45.0</td>\n",
       "      <td>13.0</td>\n",
       "      <td>66.0</td>\n",
       "      <td>Пермь</td>\n",
       "      <td>smart</td>\n",
       "      <td>598.0</td>\n",
       "    </tr>\n",
       "  </tbody>\n",
       "</table>\n",
       "<p>3214 rows × 9 columns</p>\n",
       "</div>"
      ],
      "text/plain": [
       "      user_id  count_call  duration_call  count_session  gb_used  \\\n",
       "0        1005        15.0           95.0            6.0      3.0   \n",
       "1        1032        61.0          380.0           62.0     24.0   \n",
       "2        1045         1.0            9.0            5.0      3.0   \n",
       "3        1055        64.0          551.0           47.0     17.0   \n",
       "4        1071        24.0          194.0           40.0     16.0   \n",
       "...       ...         ...            ...            ...      ...   \n",
       "3209     1494        62.0          418.0           49.0     18.0   \n",
       "3210     1495       155.0         1031.0           47.0     23.0   \n",
       "3211     1496        80.0          518.0           68.0     21.0   \n",
       "3212     1497        71.0          545.0           47.0     20.0   \n",
       "3213     1499        69.0          492.0           45.0     13.0   \n",
       "\n",
       "      count_messages              city tariff  total_cost  \n",
       "0                7.0  Набережные Челны  smart       550.0  \n",
       "1               38.0         Ульяновск  smart      2350.0  \n",
       "2                5.0          Улан-Удэ  smart       550.0  \n",
       "3               30.0            Казань  smart      1103.0  \n",
       "4               16.0              Омск  smart       750.0  \n",
       "...              ...               ...    ...         ...  \n",
       "3209             NaN              Омск  smart      1150.0  \n",
       "3210            84.0           Иркутск  ultra      1950.0  \n",
       "3211            51.0           Вологда  smart      1807.0  \n",
       "3212            17.0         Челябинск  smart      1685.0  \n",
       "3213            66.0             Пермь  smart       598.0  \n",
       "\n",
       "[3214 rows x 9 columns]"
      ]
     },
     "execution_count": 14,
     "metadata": {},
     "output_type": "execute_result"
    }
   ],
   "source": [
    "total_data['total_cost'] = total_data.apply(price_formula, axis=1)\n",
    "total_data.info()\n",
    "total_data"
   ]
  },
  {
   "cell_type": "markdown",
   "metadata": {},
   "source": [
    "\n",
    "#### Заполним пропущенные значения\n"
   ]
  },
  {
   "cell_type": "code",
   "execution_count": 15,
   "metadata": {},
   "outputs": [
    {
     "name": "stdout",
     "output_type": "stream",
     "text": [
      "<class 'pandas.core.frame.DataFrame'>\n",
      "Int64Index: 3214 entries, 0 to 3213\n",
      "Data columns (total 9 columns):\n",
      "user_id           3214 non-null int64\n",
      "count_call        3214 non-null float64\n",
      "duration_call     3214 non-null float64\n",
      "count_session     3214 non-null float64\n",
      "gb_used           3214 non-null float64\n",
      "count_messages    3214 non-null float64\n",
      "city              3214 non-null object\n",
      "tariff            3214 non-null object\n",
      "total_cost        3214 non-null float64\n",
      "dtypes: float64(6), int64(1), object(2)\n",
      "memory usage: 251.1+ KB\n"
     ]
    },
    {
     "data": {
      "text/html": [
       "<div>\n",
       "<style scoped>\n",
       "    .dataframe tbody tr th:only-of-type {\n",
       "        vertical-align: middle;\n",
       "    }\n",
       "\n",
       "    .dataframe tbody tr th {\n",
       "        vertical-align: top;\n",
       "    }\n",
       "\n",
       "    .dataframe thead th {\n",
       "        text-align: right;\n",
       "    }\n",
       "</style>\n",
       "<table border=\"1\" class=\"dataframe\">\n",
       "  <thead>\n",
       "    <tr style=\"text-align: right;\">\n",
       "      <th></th>\n",
       "      <th>user_id</th>\n",
       "      <th>count_call</th>\n",
       "      <th>duration_call</th>\n",
       "      <th>count_session</th>\n",
       "      <th>gb_used</th>\n",
       "      <th>count_messages</th>\n",
       "      <th>city</th>\n",
       "      <th>tariff</th>\n",
       "      <th>total_cost</th>\n",
       "    </tr>\n",
       "  </thead>\n",
       "  <tbody>\n",
       "    <tr>\n",
       "      <td>0</td>\n",
       "      <td>1005</td>\n",
       "      <td>15.0</td>\n",
       "      <td>95.0</td>\n",
       "      <td>6.0</td>\n",
       "      <td>3.0</td>\n",
       "      <td>7.0</td>\n",
       "      <td>Набережные Челны</td>\n",
       "      <td>smart</td>\n",
       "      <td>550.0</td>\n",
       "    </tr>\n",
       "    <tr>\n",
       "      <td>1</td>\n",
       "      <td>1032</td>\n",
       "      <td>61.0</td>\n",
       "      <td>380.0</td>\n",
       "      <td>62.0</td>\n",
       "      <td>24.0</td>\n",
       "      <td>38.0</td>\n",
       "      <td>Ульяновск</td>\n",
       "      <td>smart</td>\n",
       "      <td>2350.0</td>\n",
       "    </tr>\n",
       "    <tr>\n",
       "      <td>2</td>\n",
       "      <td>1045</td>\n",
       "      <td>1.0</td>\n",
       "      <td>9.0</td>\n",
       "      <td>5.0</td>\n",
       "      <td>3.0</td>\n",
       "      <td>5.0</td>\n",
       "      <td>Улан-Удэ</td>\n",
       "      <td>smart</td>\n",
       "      <td>550.0</td>\n",
       "    </tr>\n",
       "    <tr>\n",
       "      <td>3</td>\n",
       "      <td>1055</td>\n",
       "      <td>64.0</td>\n",
       "      <td>551.0</td>\n",
       "      <td>47.0</td>\n",
       "      <td>17.0</td>\n",
       "      <td>30.0</td>\n",
       "      <td>Казань</td>\n",
       "      <td>smart</td>\n",
       "      <td>1103.0</td>\n",
       "    </tr>\n",
       "    <tr>\n",
       "      <td>4</td>\n",
       "      <td>1071</td>\n",
       "      <td>24.0</td>\n",
       "      <td>194.0</td>\n",
       "      <td>40.0</td>\n",
       "      <td>16.0</td>\n",
       "      <td>16.0</td>\n",
       "      <td>Омск</td>\n",
       "      <td>smart</td>\n",
       "      <td>750.0</td>\n",
       "    </tr>\n",
       "    <tr>\n",
       "      <td>...</td>\n",
       "      <td>...</td>\n",
       "      <td>...</td>\n",
       "      <td>...</td>\n",
       "      <td>...</td>\n",
       "      <td>...</td>\n",
       "      <td>...</td>\n",
       "      <td>...</td>\n",
       "      <td>...</td>\n",
       "      <td>...</td>\n",
       "    </tr>\n",
       "    <tr>\n",
       "      <td>3209</td>\n",
       "      <td>1494</td>\n",
       "      <td>62.0</td>\n",
       "      <td>418.0</td>\n",
       "      <td>49.0</td>\n",
       "      <td>18.0</td>\n",
       "      <td>0.0</td>\n",
       "      <td>Омск</td>\n",
       "      <td>smart</td>\n",
       "      <td>1150.0</td>\n",
       "    </tr>\n",
       "    <tr>\n",
       "      <td>3210</td>\n",
       "      <td>1495</td>\n",
       "      <td>155.0</td>\n",
       "      <td>1031.0</td>\n",
       "      <td>47.0</td>\n",
       "      <td>23.0</td>\n",
       "      <td>84.0</td>\n",
       "      <td>Иркутск</td>\n",
       "      <td>ultra</td>\n",
       "      <td>1950.0</td>\n",
       "    </tr>\n",
       "    <tr>\n",
       "      <td>3211</td>\n",
       "      <td>1496</td>\n",
       "      <td>80.0</td>\n",
       "      <td>518.0</td>\n",
       "      <td>68.0</td>\n",
       "      <td>21.0</td>\n",
       "      <td>51.0</td>\n",
       "      <td>Вологда</td>\n",
       "      <td>smart</td>\n",
       "      <td>1807.0</td>\n",
       "    </tr>\n",
       "    <tr>\n",
       "      <td>3212</td>\n",
       "      <td>1497</td>\n",
       "      <td>71.0</td>\n",
       "      <td>545.0</td>\n",
       "      <td>47.0</td>\n",
       "      <td>20.0</td>\n",
       "      <td>17.0</td>\n",
       "      <td>Челябинск</td>\n",
       "      <td>smart</td>\n",
       "      <td>1685.0</td>\n",
       "    </tr>\n",
       "    <tr>\n",
       "      <td>3213</td>\n",
       "      <td>1499</td>\n",
       "      <td>69.0</td>\n",
       "      <td>492.0</td>\n",
       "      <td>45.0</td>\n",
       "      <td>13.0</td>\n",
       "      <td>66.0</td>\n",
       "      <td>Пермь</td>\n",
       "      <td>smart</td>\n",
       "      <td>598.0</td>\n",
       "    </tr>\n",
       "  </tbody>\n",
       "</table>\n",
       "<p>3214 rows × 9 columns</p>\n",
       "</div>"
      ],
      "text/plain": [
       "      user_id  count_call  duration_call  count_session  gb_used  \\\n",
       "0        1005        15.0           95.0            6.0      3.0   \n",
       "1        1032        61.0          380.0           62.0     24.0   \n",
       "2        1045         1.0            9.0            5.0      3.0   \n",
       "3        1055        64.0          551.0           47.0     17.0   \n",
       "4        1071        24.0          194.0           40.0     16.0   \n",
       "...       ...         ...            ...            ...      ...   \n",
       "3209     1494        62.0          418.0           49.0     18.0   \n",
       "3210     1495       155.0         1031.0           47.0     23.0   \n",
       "3211     1496        80.0          518.0           68.0     21.0   \n",
       "3212     1497        71.0          545.0           47.0     20.0   \n",
       "3213     1499        69.0          492.0           45.0     13.0   \n",
       "\n",
       "      count_messages              city tariff  total_cost  \n",
       "0                7.0  Набережные Челны  smart       550.0  \n",
       "1               38.0         Ульяновск  smart      2350.0  \n",
       "2                5.0          Улан-Удэ  smart       550.0  \n",
       "3               30.0            Казань  smart      1103.0  \n",
       "4               16.0              Омск  smart       750.0  \n",
       "...              ...               ...    ...         ...  \n",
       "3209             0.0              Омск  smart      1150.0  \n",
       "3210            84.0           Иркутск  ultra      1950.0  \n",
       "3211            51.0           Вологда  smart      1807.0  \n",
       "3212            17.0         Челябинск  smart      1685.0  \n",
       "3213            66.0             Пермь  smart       598.0  \n",
       "\n",
       "[3214 rows x 9 columns]"
      ]
     },
     "execution_count": 15,
     "metadata": {},
     "output_type": "execute_result"
    }
   ],
   "source": [
    "total_data['count_call'] = total_data['count_call'].fillna(0)\n",
    "total_data['duration_call'] = total_data['duration_call'].fillna(0)\n",
    "total_data['count_session'] = total_data['count_session'].fillna(0)\n",
    "total_data['gb_used'] = total_data['gb_used'].fillna(0)\n",
    "total_data['count_messages'] = total_data['count_messages'].fillna(0)\n",
    "\n",
    "total_data.info()\n",
    "total_data"
   ]
  },
  {
   "cell_type": "markdown",
   "metadata": {},
   "source": [
    "#### посчитаем общую сумму счетов для каждого абонента и количество месяцев использования "
   ]
  },
  {
   "cell_type": "code",
   "execution_count": 16,
   "metadata": {},
   "outputs": [
    {
     "data": {
      "text/html": [
       "<div>\n",
       "<style scoped>\n",
       "    .dataframe tbody tr th:only-of-type {\n",
       "        vertical-align: middle;\n",
       "    }\n",
       "\n",
       "    .dataframe tbody tr th {\n",
       "        vertical-align: top;\n",
       "    }\n",
       "\n",
       "    .dataframe thead th {\n",
       "        text-align: right;\n",
       "    }\n",
       "</style>\n",
       "<table border=\"1\" class=\"dataframe\">\n",
       "  <thead>\n",
       "    <tr style=\"text-align: right;\">\n",
       "      <th></th>\n",
       "      <th>user_id</th>\n",
       "      <th>tariff</th>\n",
       "      <th>city</th>\n",
       "      <th>mean_count_messages</th>\n",
       "      <th>mean_duration_call</th>\n",
       "      <th>mean_gb_used</th>\n",
       "      <th>mean_cost</th>\n",
       "      <th>median_count_messages</th>\n",
       "      <th>median_duration_call</th>\n",
       "      <th>median_gb_used</th>\n",
       "      <th>median_cost</th>\n",
       "      <th>count_month</th>\n",
       "    </tr>\n",
       "  </thead>\n",
       "  <tbody>\n",
       "    <tr>\n",
       "      <td>0</td>\n",
       "      <td>1000</td>\n",
       "      <td>ultra</td>\n",
       "      <td>Краснодар</td>\n",
       "      <td>62.0</td>\n",
       "      <td>320.750000</td>\n",
       "      <td>13.625000</td>\n",
       "      <td>1950.000000</td>\n",
       "      <td>65.0</td>\n",
       "      <td>339.0</td>\n",
       "      <td>14.5</td>\n",
       "      <td>1950.0</td>\n",
       "      <td>8</td>\n",
       "    </tr>\n",
       "    <tr>\n",
       "      <td>1</td>\n",
       "      <td>1001</td>\n",
       "      <td>smart</td>\n",
       "      <td>Москва</td>\n",
       "      <td>0.0</td>\n",
       "      <td>422.000000</td>\n",
       "      <td>16.000000</td>\n",
       "      <td>850.000000</td>\n",
       "      <td>0.0</td>\n",
       "      <td>422.0</td>\n",
       "      <td>16.0</td>\n",
       "      <td>850.0</td>\n",
       "      <td>2</td>\n",
       "    </tr>\n",
       "    <tr>\n",
       "      <td>2</td>\n",
       "      <td>1002</td>\n",
       "      <td>smart</td>\n",
       "      <td>Стерлитамак</td>\n",
       "      <td>10.0</td>\n",
       "      <td>216.714286</td>\n",
       "      <td>16.714286</td>\n",
       "      <td>1035.714286</td>\n",
       "      <td>11.0</td>\n",
       "      <td>214.0</td>\n",
       "      <td>18.0</td>\n",
       "      <td>1150.0</td>\n",
       "      <td>7</td>\n",
       "    </tr>\n",
       "    <tr>\n",
       "      <td>3</td>\n",
       "      <td>1003</td>\n",
       "      <td>ultra</td>\n",
       "      <td>Москва</td>\n",
       "      <td>76.0</td>\n",
       "      <td>764.400000</td>\n",
       "      <td>11.800000</td>\n",
       "      <td>1950.000000</td>\n",
       "      <td>83.0</td>\n",
       "      <td>824.0</td>\n",
       "      <td>12.0</td>\n",
       "      <td>1950.0</td>\n",
       "      <td>5</td>\n",
       "    </tr>\n",
       "    <tr>\n",
       "      <td>4</td>\n",
       "      <td>1004</td>\n",
       "      <td>ultra</td>\n",
       "      <td>Новокузнецк</td>\n",
       "      <td>149.0</td>\n",
       "      <td>123.375000</td>\n",
       "      <td>18.750000</td>\n",
       "      <td>1950.000000</td>\n",
       "      <td>154.5</td>\n",
       "      <td>132.5</td>\n",
       "      <td>18.0</td>\n",
       "      <td>1950.0</td>\n",
       "      <td>8</td>\n",
       "    </tr>\n",
       "    <tr>\n",
       "      <td>...</td>\n",
       "      <td>...</td>\n",
       "      <td>...</td>\n",
       "      <td>...</td>\n",
       "      <td>...</td>\n",
       "      <td>...</td>\n",
       "      <td>...</td>\n",
       "      <td>...</td>\n",
       "      <td>...</td>\n",
       "      <td>...</td>\n",
       "      <td>...</td>\n",
       "      <td>...</td>\n",
       "      <td>...</td>\n",
       "    </tr>\n",
       "    <tr>\n",
       "      <td>493</td>\n",
       "      <td>1495</td>\n",
       "      <td>ultra</td>\n",
       "      <td>Иркутск</td>\n",
       "      <td>68.0</td>\n",
       "      <td>784.000000</td>\n",
       "      <td>25.400000</td>\n",
       "      <td>2310.000000</td>\n",
       "      <td>82.0</td>\n",
       "      <td>954.0</td>\n",
       "      <td>29.0</td>\n",
       "      <td>1950.0</td>\n",
       "      <td>5</td>\n",
       "    </tr>\n",
       "    <tr>\n",
       "      <td>494</td>\n",
       "      <td>1496</td>\n",
       "      <td>smart</td>\n",
       "      <td>Вологда</td>\n",
       "      <td>39.0</td>\n",
       "      <td>498.666667</td>\n",
       "      <td>22.500000</td>\n",
       "      <td>2362.583333</td>\n",
       "      <td>41.5</td>\n",
       "      <td>524.0</td>\n",
       "      <td>24.0</td>\n",
       "      <td>2473.0</td>\n",
       "      <td>12</td>\n",
       "    </tr>\n",
       "    <tr>\n",
       "      <td>495</td>\n",
       "      <td>1497</td>\n",
       "      <td>smart</td>\n",
       "      <td>Челябинск</td>\n",
       "      <td>17.0</td>\n",
       "      <td>468.666667</td>\n",
       "      <td>15.333333</td>\n",
       "      <td>928.333333</td>\n",
       "      <td>17.0</td>\n",
       "      <td>490.0</td>\n",
       "      <td>14.0</td>\n",
       "      <td>550.0</td>\n",
       "      <td>3</td>\n",
       "    </tr>\n",
       "    <tr>\n",
       "      <td>496</td>\n",
       "      <td>1498</td>\n",
       "      <td>smart</td>\n",
       "      <td>Владикавказ</td>\n",
       "      <td>42.0</td>\n",
       "      <td>323.250000</td>\n",
       "      <td>18.750000</td>\n",
       "      <td>1659.000000</td>\n",
       "      <td>43.0</td>\n",
       "      <td>323.5</td>\n",
       "      <td>21.5</td>\n",
       "      <td>1850.0</td>\n",
       "      <td>4</td>\n",
       "    </tr>\n",
       "    <tr>\n",
       "      <td>497</td>\n",
       "      <td>1499</td>\n",
       "      <td>smart</td>\n",
       "      <td>Пермь</td>\n",
       "      <td>46.0</td>\n",
       "      <td>405.750000</td>\n",
       "      <td>12.750000</td>\n",
       "      <td>952.750000</td>\n",
       "      <td>53.5</td>\n",
       "      <td>470.5</td>\n",
       "      <td>15.5</td>\n",
       "      <td>874.0</td>\n",
       "      <td>4</td>\n",
       "    </tr>\n",
       "  </tbody>\n",
       "</table>\n",
       "<p>498 rows × 12 columns</p>\n",
       "</div>"
      ],
      "text/plain": [
       "     user_id tariff         city  mean_count_messages  mean_duration_call  \\\n",
       "0       1000  ultra    Краснодар                 62.0          320.750000   \n",
       "1       1001  smart       Москва                  0.0          422.000000   \n",
       "2       1002  smart  Стерлитамак                 10.0          216.714286   \n",
       "3       1003  ultra       Москва                 76.0          764.400000   \n",
       "4       1004  ultra  Новокузнецк                149.0          123.375000   \n",
       "..       ...    ...          ...                  ...                 ...   \n",
       "493     1495  ultra      Иркутск                 68.0          784.000000   \n",
       "494     1496  smart      Вологда                 39.0          498.666667   \n",
       "495     1497  smart    Челябинск                 17.0          468.666667   \n",
       "496     1498  smart  Владикавказ                 42.0          323.250000   \n",
       "497     1499  smart        Пермь                 46.0          405.750000   \n",
       "\n",
       "     mean_gb_used    mean_cost  median_count_messages  median_duration_call  \\\n",
       "0       13.625000  1950.000000                   65.0                 339.0   \n",
       "1       16.000000   850.000000                    0.0                 422.0   \n",
       "2       16.714286  1035.714286                   11.0                 214.0   \n",
       "3       11.800000  1950.000000                   83.0                 824.0   \n",
       "4       18.750000  1950.000000                  154.5                 132.5   \n",
       "..            ...          ...                    ...                   ...   \n",
       "493     25.400000  2310.000000                   82.0                 954.0   \n",
       "494     22.500000  2362.583333                   41.5                 524.0   \n",
       "495     15.333333   928.333333                   17.0                 490.0   \n",
       "496     18.750000  1659.000000                   43.0                 323.5   \n",
       "497     12.750000   952.750000                   53.5                 470.5   \n",
       "\n",
       "     median_gb_used  median_cost  count_month  \n",
       "0              14.5       1950.0            8  \n",
       "1              16.0        850.0            2  \n",
       "2              18.0       1150.0            7  \n",
       "3              12.0       1950.0            5  \n",
       "4              18.0       1950.0            8  \n",
       "..              ...          ...          ...  \n",
       "493            29.0       1950.0            5  \n",
       "494            24.0       2473.0           12  \n",
       "495            14.0        550.0            3  \n",
       "496            21.5       1850.0            4  \n",
       "497            15.5        874.0            4  \n",
       "\n",
       "[498 rows x 12 columns]"
      ]
     },
     "execution_count": 16,
     "metadata": {},
     "output_type": "execute_result"
    }
   ],
   "source": [
    "pivot_total_data = total_data.pivot_table(index = ['user_id', 'tariff', 'city'], values = ['total_cost', 'duration_call', 'count_messages', 'gb_used'], aggfunc = ['mean', 'median', 'count'])\n",
    "pivot_total_data.columns = [ 'mean_count_messages', 'mean_duration_call', 'mean_gb_used', 'mean_cost', 'median_count_messages', 'median_duration_call', 'median_gb_used', 'median_cost', 'count_messages', 'duration_call', 'gb_used', 'count_month']\n",
    "#pivot_total_data = pivot_total_data.rename({'mean' : 'mean_cost', 'median' : 'median_cost', 'sum' : 'sum_cost', 'count' : 'count_month'}, axis = 1).reset_index()\n",
    "pivot_total_data = pivot_total_data.reset_index()\n",
    "pivot_total_data = pivot_total_data.drop([\"count_messages\", 'duration_call', 'gb_used'], axis=1)\n",
    "pivot_total_data"
   ]
  },
  {
   "cell_type": "code",
   "execution_count": 17,
   "metadata": {},
   "outputs": [],
   "source": [
    "#total_data"
   ]
  },
  {
   "cell_type": "markdown",
   "metadata": {},
   "source": [
    "#### в итоговой сводной таблице нет двух абонентов, выявим их и выясним причины"
   ]
  },
  {
   "cell_type": "code",
   "execution_count": 18,
   "metadata": {},
   "outputs": [
    {
     "data": {
      "text/html": [
       "<div>\n",
       "<style scoped>\n",
       "    .dataframe tbody tr th:only-of-type {\n",
       "        vertical-align: middle;\n",
       "    }\n",
       "\n",
       "    .dataframe tbody tr th {\n",
       "        vertical-align: top;\n",
       "    }\n",
       "\n",
       "    .dataframe thead th {\n",
       "        text-align: right;\n",
       "    }\n",
       "</style>\n",
       "<table border=\"1\" class=\"dataframe\">\n",
       "  <thead>\n",
       "    <tr style=\"text-align: right;\">\n",
       "      <th></th>\n",
       "      <th>user_id</th>\n",
       "    </tr>\n",
       "  </thead>\n",
       "  <tbody>\n",
       "    <tr>\n",
       "      <td>128</td>\n",
       "      <td>1128</td>\n",
       "    </tr>\n",
       "    <tr>\n",
       "      <td>371</td>\n",
       "      <td>1371</td>\n",
       "    </tr>\n",
       "  </tbody>\n",
       "</table>\n",
       "</div>"
      ],
      "text/plain": [
       "     user_id\n",
       "128     1128\n",
       "371     1371"
      ]
     },
     "execution_count": 18,
     "metadata": {},
     "output_type": "execute_result"
    }
   ],
   "source": [
    "user_id = users_data.drop(['age', 'churn_date', 'city', 'first_name', 'last_name', 'reg_date', 'tariff'], axis=1)\n",
    "\n",
    "eror_user_id = user_id.query('user_id not in @pivot_total_data.user_id')\n",
    "eror_user_id"
   ]
  },
  {
   "cell_type": "code",
   "execution_count": 19,
   "metadata": {},
   "outputs": [
    {
     "data": {
      "text/html": [
       "<div>\n",
       "<style scoped>\n",
       "    .dataframe tbody tr th:only-of-type {\n",
       "        vertical-align: middle;\n",
       "    }\n",
       "\n",
       "    .dataframe tbody tr th {\n",
       "        vertical-align: top;\n",
       "    }\n",
       "\n",
       "    .dataframe thead th {\n",
       "        text-align: right;\n",
       "    }\n",
       "</style>\n",
       "<table border=\"1\" class=\"dataframe\">\n",
       "  <thead>\n",
       "    <tr style=\"text-align: right;\">\n",
       "      <th></th>\n",
       "      <th>user_id</th>\n",
       "      <th>age</th>\n",
       "      <th>churn_date</th>\n",
       "      <th>city</th>\n",
       "      <th>first_name</th>\n",
       "      <th>last_name</th>\n",
       "      <th>reg_date</th>\n",
       "      <th>tariff</th>\n",
       "    </tr>\n",
       "  </thead>\n",
       "  <tbody>\n",
       "    <tr>\n",
       "      <td>128</td>\n",
       "      <td>1128</td>\n",
       "      <td>51</td>\n",
       "      <td>2018-12-23</td>\n",
       "      <td>Волжский</td>\n",
       "      <td>Ксения</td>\n",
       "      <td>Агаева</td>\n",
       "      <td>2018-12-15</td>\n",
       "      <td>ultra</td>\n",
       "    </tr>\n",
       "    <tr>\n",
       "      <td>371</td>\n",
       "      <td>1371</td>\n",
       "      <td>50</td>\n",
       "      <td>2018-12-30</td>\n",
       "      <td>Омск</td>\n",
       "      <td>Ириней</td>\n",
       "      <td>Трофимов</td>\n",
       "      <td>2018-12-25</td>\n",
       "      <td>smart</td>\n",
       "    </tr>\n",
       "  </tbody>\n",
       "</table>\n",
       "</div>"
      ],
      "text/plain": [
       "     user_id  age churn_date      city first_name last_name   reg_date tariff\n",
       "128     1128   51 2018-12-23  Волжский     Ксения    Агаева 2018-12-15  ultra\n",
       "371     1371   50 2018-12-30      Омск     Ириней  Трофимов 2018-12-25  smart"
      ]
     },
     "execution_count": 19,
     "metadata": {},
     "output_type": "execute_result"
    }
   ],
   "source": [
    "users_data[(users_data['user_id'] == 1128) | (users_data['user_id'] == 1371)]"
   ]
  },
  {
   "cell_type": "code",
   "execution_count": 20,
   "metadata": {},
   "outputs": [
    {
     "data": {
      "text/html": [
       "<div>\n",
       "<style scoped>\n",
       "    .dataframe tbody tr th:only-of-type {\n",
       "        vertical-align: middle;\n",
       "    }\n",
       "\n",
       "    .dataframe tbody tr th {\n",
       "        vertical-align: top;\n",
       "    }\n",
       "\n",
       "    .dataframe thead th {\n",
       "        text-align: right;\n",
       "    }\n",
       "</style>\n",
       "<table border=\"1\" class=\"dataframe\">\n",
       "  <thead>\n",
       "    <tr style=\"text-align: right;\">\n",
       "      <th></th>\n",
       "      <th>user_id</th>\n",
       "      <th>count_call</th>\n",
       "      <th>duration_call</th>\n",
       "      <th>count_session</th>\n",
       "      <th>gb_used</th>\n",
       "      <th>count_messages</th>\n",
       "      <th>city</th>\n",
       "      <th>tariff</th>\n",
       "      <th>total_cost</th>\n",
       "    </tr>\n",
       "  </thead>\n",
       "  <tbody>\n",
       "  </tbody>\n",
       "</table>\n",
       "</div>"
      ],
      "text/plain": [
       "Empty DataFrame\n",
       "Columns: [user_id, count_call, duration_call, count_session, gb_used, count_messages, city, tariff, total_cost]\n",
       "Index: []"
      ]
     },
     "execution_count": 20,
     "metadata": {},
     "output_type": "execute_result"
    }
   ],
   "source": [
    "total_data[(total_data['user_id'] == 1128) | (total_data['user_id'] == 1371)]"
   ]
  },
  {
   "cell_type": "markdown",
   "metadata": {},
   "source": [
    "##### данные абоненты подключились и через несколько дней отключились не сделав ни одной операции"
   ]
  },
  {
   "cell_type": "code",
   "execution_count": 21,
   "metadata": {
    "scrolled": true
   },
   "outputs": [
    {
     "data": {
      "text/html": [
       "<div>\n",
       "<style scoped>\n",
       "    .dataframe tbody tr th:only-of-type {\n",
       "        vertical-align: middle;\n",
       "    }\n",
       "\n",
       "    .dataframe tbody tr th {\n",
       "        vertical-align: top;\n",
       "    }\n",
       "\n",
       "    .dataframe thead th {\n",
       "        text-align: right;\n",
       "    }\n",
       "</style>\n",
       "<table border=\"1\" class=\"dataframe\">\n",
       "  <thead>\n",
       "    <tr style=\"text-align: right;\">\n",
       "      <th></th>\n",
       "      <th>user_id</th>\n",
       "      <th>tariff</th>\n",
       "      <th>city</th>\n",
       "      <th>mean_count_messages</th>\n",
       "      <th>mean_duration_call</th>\n",
       "      <th>mean_gb_used</th>\n",
       "      <th>mean_cost</th>\n",
       "      <th>median_count_messages</th>\n",
       "      <th>median_duration_call</th>\n",
       "      <th>median_gb_used</th>\n",
       "      <th>median_cost</th>\n",
       "      <th>count_month</th>\n",
       "    </tr>\n",
       "  </thead>\n",
       "  <tbody>\n",
       "    <tr>\n",
       "      <td>0</td>\n",
       "      <td>1000</td>\n",
       "      <td>ultra</td>\n",
       "      <td>Краснодар</td>\n",
       "      <td>62.0</td>\n",
       "      <td>320.750000</td>\n",
       "      <td>13.625000</td>\n",
       "      <td>1950.000000</td>\n",
       "      <td>65.0</td>\n",
       "      <td>339.0</td>\n",
       "      <td>14.5</td>\n",
       "      <td>1950.0</td>\n",
       "      <td>8</td>\n",
       "    </tr>\n",
       "    <tr>\n",
       "      <td>1</td>\n",
       "      <td>1001</td>\n",
       "      <td>smart</td>\n",
       "      <td>Москва</td>\n",
       "      <td>0.0</td>\n",
       "      <td>422.000000</td>\n",
       "      <td>16.000000</td>\n",
       "      <td>850.000000</td>\n",
       "      <td>0.0</td>\n",
       "      <td>422.0</td>\n",
       "      <td>16.0</td>\n",
       "      <td>850.0</td>\n",
       "      <td>2</td>\n",
       "    </tr>\n",
       "    <tr>\n",
       "      <td>2</td>\n",
       "      <td>1002</td>\n",
       "      <td>smart</td>\n",
       "      <td>Стерлитамак</td>\n",
       "      <td>10.0</td>\n",
       "      <td>216.714286</td>\n",
       "      <td>16.714286</td>\n",
       "      <td>1035.714286</td>\n",
       "      <td>11.0</td>\n",
       "      <td>214.0</td>\n",
       "      <td>18.0</td>\n",
       "      <td>1150.0</td>\n",
       "      <td>7</td>\n",
       "    </tr>\n",
       "    <tr>\n",
       "      <td>3</td>\n",
       "      <td>1003</td>\n",
       "      <td>ultra</td>\n",
       "      <td>Москва</td>\n",
       "      <td>76.0</td>\n",
       "      <td>764.400000</td>\n",
       "      <td>11.800000</td>\n",
       "      <td>1950.000000</td>\n",
       "      <td>83.0</td>\n",
       "      <td>824.0</td>\n",
       "      <td>12.0</td>\n",
       "      <td>1950.0</td>\n",
       "      <td>5</td>\n",
       "    </tr>\n",
       "    <tr>\n",
       "      <td>4</td>\n",
       "      <td>1004</td>\n",
       "      <td>ultra</td>\n",
       "      <td>Новокузнецк</td>\n",
       "      <td>149.0</td>\n",
       "      <td>123.375000</td>\n",
       "      <td>18.750000</td>\n",
       "      <td>1950.000000</td>\n",
       "      <td>154.5</td>\n",
       "      <td>132.5</td>\n",
       "      <td>18.0</td>\n",
       "      <td>1950.0</td>\n",
       "      <td>8</td>\n",
       "    </tr>\n",
       "    <tr>\n",
       "      <td>...</td>\n",
       "      <td>...</td>\n",
       "      <td>...</td>\n",
       "      <td>...</td>\n",
       "      <td>...</td>\n",
       "      <td>...</td>\n",
       "      <td>...</td>\n",
       "      <td>...</td>\n",
       "      <td>...</td>\n",
       "      <td>...</td>\n",
       "      <td>...</td>\n",
       "      <td>...</td>\n",
       "      <td>...</td>\n",
       "    </tr>\n",
       "    <tr>\n",
       "      <td>493</td>\n",
       "      <td>1495</td>\n",
       "      <td>ultra</td>\n",
       "      <td>Иркутск</td>\n",
       "      <td>68.0</td>\n",
       "      <td>784.000000</td>\n",
       "      <td>25.400000</td>\n",
       "      <td>2310.000000</td>\n",
       "      <td>82.0</td>\n",
       "      <td>954.0</td>\n",
       "      <td>29.0</td>\n",
       "      <td>1950.0</td>\n",
       "      <td>5</td>\n",
       "    </tr>\n",
       "    <tr>\n",
       "      <td>494</td>\n",
       "      <td>1496</td>\n",
       "      <td>smart</td>\n",
       "      <td>Вологда</td>\n",
       "      <td>39.0</td>\n",
       "      <td>498.666667</td>\n",
       "      <td>22.500000</td>\n",
       "      <td>2362.583333</td>\n",
       "      <td>41.5</td>\n",
       "      <td>524.0</td>\n",
       "      <td>24.0</td>\n",
       "      <td>2473.0</td>\n",
       "      <td>12</td>\n",
       "    </tr>\n",
       "    <tr>\n",
       "      <td>495</td>\n",
       "      <td>1497</td>\n",
       "      <td>smart</td>\n",
       "      <td>Челябинск</td>\n",
       "      <td>17.0</td>\n",
       "      <td>468.666667</td>\n",
       "      <td>15.333333</td>\n",
       "      <td>928.333333</td>\n",
       "      <td>17.0</td>\n",
       "      <td>490.0</td>\n",
       "      <td>14.0</td>\n",
       "      <td>550.0</td>\n",
       "      <td>3</td>\n",
       "    </tr>\n",
       "    <tr>\n",
       "      <td>496</td>\n",
       "      <td>1498</td>\n",
       "      <td>smart</td>\n",
       "      <td>Владикавказ</td>\n",
       "      <td>42.0</td>\n",
       "      <td>323.250000</td>\n",
       "      <td>18.750000</td>\n",
       "      <td>1659.000000</td>\n",
       "      <td>43.0</td>\n",
       "      <td>323.5</td>\n",
       "      <td>21.5</td>\n",
       "      <td>1850.0</td>\n",
       "      <td>4</td>\n",
       "    </tr>\n",
       "    <tr>\n",
       "      <td>497</td>\n",
       "      <td>1499</td>\n",
       "      <td>smart</td>\n",
       "      <td>Пермь</td>\n",
       "      <td>46.0</td>\n",
       "      <td>405.750000</td>\n",
       "      <td>12.750000</td>\n",
       "      <td>952.750000</td>\n",
       "      <td>53.5</td>\n",
       "      <td>470.5</td>\n",
       "      <td>15.5</td>\n",
       "      <td>874.0</td>\n",
       "      <td>4</td>\n",
       "    </tr>\n",
       "  </tbody>\n",
       "</table>\n",
       "<p>498 rows × 12 columns</p>\n",
       "</div>"
      ],
      "text/plain": [
       "     user_id tariff         city  mean_count_messages  mean_duration_call  \\\n",
       "0       1000  ultra    Краснодар                 62.0          320.750000   \n",
       "1       1001  smart       Москва                  0.0          422.000000   \n",
       "2       1002  smart  Стерлитамак                 10.0          216.714286   \n",
       "3       1003  ultra       Москва                 76.0          764.400000   \n",
       "4       1004  ultra  Новокузнецк                149.0          123.375000   \n",
       "..       ...    ...          ...                  ...                 ...   \n",
       "493     1495  ultra      Иркутск                 68.0          784.000000   \n",
       "494     1496  smart      Вологда                 39.0          498.666667   \n",
       "495     1497  smart    Челябинск                 17.0          468.666667   \n",
       "496     1498  smart  Владикавказ                 42.0          323.250000   \n",
       "497     1499  smart        Пермь                 46.0          405.750000   \n",
       "\n",
       "     mean_gb_used    mean_cost  median_count_messages  median_duration_call  \\\n",
       "0       13.625000  1950.000000                   65.0                 339.0   \n",
       "1       16.000000   850.000000                    0.0                 422.0   \n",
       "2       16.714286  1035.714286                   11.0                 214.0   \n",
       "3       11.800000  1950.000000                   83.0                 824.0   \n",
       "4       18.750000  1950.000000                  154.5                 132.5   \n",
       "..            ...          ...                    ...                   ...   \n",
       "493     25.400000  2310.000000                   82.0                 954.0   \n",
       "494     22.500000  2362.583333                   41.5                 524.0   \n",
       "495     15.333333   928.333333                   17.0                 490.0   \n",
       "496     18.750000  1659.000000                   43.0                 323.5   \n",
       "497     12.750000   952.750000                   53.5                 470.5   \n",
       "\n",
       "     median_gb_used  median_cost  count_month  \n",
       "0              14.5       1950.0            8  \n",
       "1              16.0        850.0            2  \n",
       "2              18.0       1150.0            7  \n",
       "3              12.0       1950.0            5  \n",
       "4              18.0       1950.0            8  \n",
       "..              ...          ...          ...  \n",
       "493            29.0       1950.0            5  \n",
       "494            24.0       2473.0           12  \n",
       "495            14.0        550.0            3  \n",
       "496            21.5       1850.0            4  \n",
       "497            15.5        874.0            4  \n",
       "\n",
       "[498 rows x 12 columns]"
      ]
     },
     "execution_count": 21,
     "metadata": {},
     "output_type": "execute_result"
    }
   ],
   "source": [
    "pivot_total_data"
   ]
  },
  {
   "cell_type": "markdown",
   "metadata": {},
   "source": [
    "### Анализ данных"
   ]
  },
  {
   "cell_type": "markdown",
   "metadata": {},
   "source": [
    "#### разделим сводную таблицу по тарифам"
   ]
  },
  {
   "cell_type": "code",
   "execution_count": 51,
   "metadata": {},
   "outputs": [
    {
     "data": {
      "text/html": [
       "<div>\n",
       "<style scoped>\n",
       "    .dataframe tbody tr th:only-of-type {\n",
       "        vertical-align: middle;\n",
       "    }\n",
       "\n",
       "    .dataframe tbody tr th {\n",
       "        vertical-align: top;\n",
       "    }\n",
       "\n",
       "    .dataframe thead th {\n",
       "        text-align: right;\n",
       "    }\n",
       "</style>\n",
       "<table border=\"1\" class=\"dataframe\">\n",
       "  <thead>\n",
       "    <tr style=\"text-align: right;\">\n",
       "      <th></th>\n",
       "      <th>user_id</th>\n",
       "      <th>count_call</th>\n",
       "      <th>duration_call</th>\n",
       "      <th>count_session</th>\n",
       "      <th>gb_used</th>\n",
       "      <th>count_messages</th>\n",
       "      <th>city</th>\n",
       "      <th>tariff</th>\n",
       "      <th>total_cost</th>\n",
       "    </tr>\n",
       "  </thead>\n",
       "  <tbody>\n",
       "    <tr>\n",
       "      <td>0</td>\n",
       "      <td>1005</td>\n",
       "      <td>15.0</td>\n",
       "      <td>95.0</td>\n",
       "      <td>6.0</td>\n",
       "      <td>3.0</td>\n",
       "      <td>7.0</td>\n",
       "      <td>Набережные Челны</td>\n",
       "      <td>smart</td>\n",
       "      <td>550.0</td>\n",
       "    </tr>\n",
       "    <tr>\n",
       "      <td>1</td>\n",
       "      <td>1032</td>\n",
       "      <td>61.0</td>\n",
       "      <td>380.0</td>\n",
       "      <td>62.0</td>\n",
       "      <td>24.0</td>\n",
       "      <td>38.0</td>\n",
       "      <td>Ульяновск</td>\n",
       "      <td>smart</td>\n",
       "      <td>2350.0</td>\n",
       "    </tr>\n",
       "    <tr>\n",
       "      <td>2</td>\n",
       "      <td>1045</td>\n",
       "      <td>1.0</td>\n",
       "      <td>9.0</td>\n",
       "      <td>5.0</td>\n",
       "      <td>3.0</td>\n",
       "      <td>5.0</td>\n",
       "      <td>Улан-Удэ</td>\n",
       "      <td>smart</td>\n",
       "      <td>550.0</td>\n",
       "    </tr>\n",
       "    <tr>\n",
       "      <td>3</td>\n",
       "      <td>1055</td>\n",
       "      <td>64.0</td>\n",
       "      <td>551.0</td>\n",
       "      <td>47.0</td>\n",
       "      <td>17.0</td>\n",
       "      <td>30.0</td>\n",
       "      <td>Казань</td>\n",
       "      <td>smart</td>\n",
       "      <td>1103.0</td>\n",
       "    </tr>\n",
       "    <tr>\n",
       "      <td>4</td>\n",
       "      <td>1071</td>\n",
       "      <td>24.0</td>\n",
       "      <td>194.0</td>\n",
       "      <td>40.0</td>\n",
       "      <td>16.0</td>\n",
       "      <td>16.0</td>\n",
       "      <td>Омск</td>\n",
       "      <td>smart</td>\n",
       "      <td>750.0</td>\n",
       "    </tr>\n",
       "    <tr>\n",
       "      <td>...</td>\n",
       "      <td>...</td>\n",
       "      <td>...</td>\n",
       "      <td>...</td>\n",
       "      <td>...</td>\n",
       "      <td>...</td>\n",
       "      <td>...</td>\n",
       "      <td>...</td>\n",
       "      <td>...</td>\n",
       "      <td>...</td>\n",
       "    </tr>\n",
       "    <tr>\n",
       "      <td>3207</td>\n",
       "      <td>1492</td>\n",
       "      <td>102.0</td>\n",
       "      <td>781.0</td>\n",
       "      <td>74.0</td>\n",
       "      <td>25.0</td>\n",
       "      <td>19.0</td>\n",
       "      <td>Санкт-Петербург</td>\n",
       "      <td>smart</td>\n",
       "      <td>3393.0</td>\n",
       "    </tr>\n",
       "    <tr>\n",
       "      <td>3209</td>\n",
       "      <td>1494</td>\n",
       "      <td>62.0</td>\n",
       "      <td>418.0</td>\n",
       "      <td>49.0</td>\n",
       "      <td>18.0</td>\n",
       "      <td>0.0</td>\n",
       "      <td>Омск</td>\n",
       "      <td>smart</td>\n",
       "      <td>1150.0</td>\n",
       "    </tr>\n",
       "    <tr>\n",
       "      <td>3211</td>\n",
       "      <td>1496</td>\n",
       "      <td>80.0</td>\n",
       "      <td>518.0</td>\n",
       "      <td>68.0</td>\n",
       "      <td>21.0</td>\n",
       "      <td>51.0</td>\n",
       "      <td>Вологда</td>\n",
       "      <td>smart</td>\n",
       "      <td>1807.0</td>\n",
       "    </tr>\n",
       "    <tr>\n",
       "      <td>3212</td>\n",
       "      <td>1497</td>\n",
       "      <td>71.0</td>\n",
       "      <td>545.0</td>\n",
       "      <td>47.0</td>\n",
       "      <td>20.0</td>\n",
       "      <td>17.0</td>\n",
       "      <td>Челябинск</td>\n",
       "      <td>smart</td>\n",
       "      <td>1685.0</td>\n",
       "    </tr>\n",
       "    <tr>\n",
       "      <td>3213</td>\n",
       "      <td>1499</td>\n",
       "      <td>69.0</td>\n",
       "      <td>492.0</td>\n",
       "      <td>45.0</td>\n",
       "      <td>13.0</td>\n",
       "      <td>66.0</td>\n",
       "      <td>Пермь</td>\n",
       "      <td>smart</td>\n",
       "      <td>598.0</td>\n",
       "    </tr>\n",
       "  </tbody>\n",
       "</table>\n",
       "<p>2229 rows × 9 columns</p>\n",
       "</div>"
      ],
      "text/plain": [
       "      user_id  count_call  duration_call  count_session  gb_used  \\\n",
       "0        1005        15.0           95.0            6.0      3.0   \n",
       "1        1032        61.0          380.0           62.0     24.0   \n",
       "2        1045         1.0            9.0            5.0      3.0   \n",
       "3        1055        64.0          551.0           47.0     17.0   \n",
       "4        1071        24.0          194.0           40.0     16.0   \n",
       "...       ...         ...            ...            ...      ...   \n",
       "3207     1492       102.0          781.0           74.0     25.0   \n",
       "3209     1494        62.0          418.0           49.0     18.0   \n",
       "3211     1496        80.0          518.0           68.0     21.0   \n",
       "3212     1497        71.0          545.0           47.0     20.0   \n",
       "3213     1499        69.0          492.0           45.0     13.0   \n",
       "\n",
       "      count_messages              city tariff  total_cost  \n",
       "0                7.0  Набережные Челны  smart       550.0  \n",
       "1               38.0         Ульяновск  smart      2350.0  \n",
       "2                5.0          Улан-Удэ  smart       550.0  \n",
       "3               30.0            Казань  smart      1103.0  \n",
       "4               16.0              Омск  smart       750.0  \n",
       "...              ...               ...    ...         ...  \n",
       "3207            19.0   Санкт-Петербург  smart      3393.0  \n",
       "3209             0.0              Омск  smart      1150.0  \n",
       "3211            51.0           Вологда  smart      1807.0  \n",
       "3212            17.0         Челябинск  smart      1685.0  \n",
       "3213            66.0             Пермь  smart       598.0  \n",
       "\n",
       "[2229 rows x 9 columns]"
      ]
     },
     "metadata": {},
     "output_type": "display_data"
    }
   ],
   "source": [
    "smart_data = total_data.query('tariff == \"smart\"')\n",
    "ultra_data = total_data.query('tariff == \"ultra\"')\n",
    "display(smart_data)"
   ]
  },
  {
   "cell_type": "markdown",
   "metadata": {},
   "source": [
    "#### Проанализируем звонки"
   ]
  },
  {
   "cell_type": "code",
   "execution_count": 23,
   "metadata": {},
   "outputs": [
    {
     "data": {
      "text/html": [
       "<div>\n",
       "<style scoped>\n",
       "    .dataframe tbody tr th:only-of-type {\n",
       "        vertical-align: middle;\n",
       "    }\n",
       "\n",
       "    .dataframe tbody tr th {\n",
       "        vertical-align: top;\n",
       "    }\n",
       "\n",
       "    .dataframe thead th {\n",
       "        text-align: right;\n",
       "    }\n",
       "</style>\n",
       "<table border=\"1\" class=\"dataframe\">\n",
       "  <thead>\n",
       "    <tr style=\"text-align: right;\">\n",
       "      <th></th>\n",
       "      <th>duration_call</th>\n",
       "    </tr>\n",
       "  </thead>\n",
       "  <tbody>\n",
       "    <tr>\n",
       "      <td>count</td>\n",
       "      <td>2229.000000</td>\n",
       "    </tr>\n",
       "    <tr>\n",
       "      <td>mean</td>\n",
       "      <td>417.934948</td>\n",
       "    </tr>\n",
       "    <tr>\n",
       "      <td>std</td>\n",
       "      <td>190.313730</td>\n",
       "    </tr>\n",
       "    <tr>\n",
       "      <td>min</td>\n",
       "      <td>0.000000</td>\n",
       "    </tr>\n",
       "    <tr>\n",
       "      <td>25%</td>\n",
       "      <td>282.000000</td>\n",
       "    </tr>\n",
       "    <tr>\n",
       "      <td>50%</td>\n",
       "      <td>422.000000</td>\n",
       "    </tr>\n",
       "    <tr>\n",
       "      <td>75%</td>\n",
       "      <td>545.000000</td>\n",
       "    </tr>\n",
       "    <tr>\n",
       "      <td>max</td>\n",
       "      <td>1435.000000</td>\n",
       "    </tr>\n",
       "  </tbody>\n",
       "</table>\n",
       "</div>"
      ],
      "text/plain": [
       "       duration_call\n",
       "count    2229.000000\n",
       "mean      417.934948\n",
       "std       190.313730\n",
       "min         0.000000\n",
       "25%       282.000000\n",
       "50%       422.000000\n",
       "75%       545.000000\n",
       "max      1435.000000"
      ]
     },
     "execution_count": 23,
     "metadata": {},
     "output_type": "execute_result"
    }
   ],
   "source": [
    "\n",
    "smart_data[['duration_call']].describe()"
   ]
  },
  {
   "cell_type": "markdown",
   "metadata": {},
   "source": [
    "в среднем пользователь smart обычно тратит за месяц 417 мин. (среднее)\n",
    "\n",
    "ст.откл. = 190 мин"
   ]
  },
  {
   "cell_type": "code",
   "execution_count": 24,
   "metadata": {},
   "outputs": [
    {
     "data": {
      "text/plain": [
       "duration_call    36203.066652\n",
       "dtype: float64"
      ]
     },
     "execution_count": 24,
     "metadata": {},
     "output_type": "execute_result"
    }
   ],
   "source": [
    "#посчитаем дисперсию\n",
    "variance_smart = np.var(smart_data[['duration_call']])\n",
    "variance_smart"
   ]
  },
  {
   "cell_type": "code",
   "execution_count": 25,
   "metadata": {},
   "outputs": [
    {
     "data": {
      "text/plain": [
       "duration_call    190.271035\n",
       "dtype: float64"
      ]
     },
     "execution_count": 25,
     "metadata": {},
     "output_type": "execute_result"
    }
   ],
   "source": [
    "# и мат.ожидание \n",
    "expectation_smart = np.sqrt(variance_smart)\n",
    "expectation_smart"
   ]
  },
  {
   "cell_type": "markdown",
   "metadata": {},
   "source": [
    "Построим гистограмму."
   ]
  },
  {
   "cell_type": "code",
   "execution_count": 26,
   "metadata": {},
   "outputs": [
    {
     "data": {
      "text/plain": [
       "array([[<matplotlib.axes._subplots.AxesSubplot object at 0x7f10eab96610>]],\n",
       "      dtype=object)"
      ]
     },
     "execution_count": 26,
     "metadata": {},
     "output_type": "execute_result"
    },
    {
     "data": {
      "image/png": "[encoded data removed]",
      "text/plain": [
       "<Figure size 432x288 with 1 Axes>"
      ]
     },
     "metadata": {
      "needs_background": "light"
     },
     "output_type": "display_data"
    }
   ],
   "source": [
    "smart_data[['duration_call']].hist(bins=20)"
   ]
  },
  {
   "cell_type": "markdown",
   "metadata": {},
   "source": [
    "Распределение гистограммы можно назвать нормальным, видно, что абсолютное большинство абонентов тарифа smart используют от 350 до 550 минут звонков в месяц."
   ]
  },
  {
   "cell_type": "markdown",
   "metadata": {},
   "source": [
    "---------------------------------------------------"
   ]
  },
  {
   "cell_type": "code",
   "execution_count": 27,
   "metadata": {},
   "outputs": [
    {
     "data": {
      "text/html": [
       "<div>\n",
       "<style scoped>\n",
       "    .dataframe tbody tr th:only-of-type {\n",
       "        vertical-align: middle;\n",
       "    }\n",
       "\n",
       "    .dataframe tbody tr th {\n",
       "        vertical-align: top;\n",
       "    }\n",
       "\n",
       "    .dataframe thead th {\n",
       "        text-align: right;\n",
       "    }\n",
       "</style>\n",
       "<table border=\"1\" class=\"dataframe\">\n",
       "  <thead>\n",
       "    <tr style=\"text-align: right;\">\n",
       "      <th></th>\n",
       "      <th>duration_call</th>\n",
       "    </tr>\n",
       "  </thead>\n",
       "  <tbody>\n",
       "    <tr>\n",
       "      <td>count</td>\n",
       "      <td>985.000000</td>\n",
       "    </tr>\n",
       "    <tr>\n",
       "      <td>mean</td>\n",
       "      <td>526.623350</td>\n",
       "    </tr>\n",
       "    <tr>\n",
       "      <td>std</td>\n",
       "      <td>317.606098</td>\n",
       "    </tr>\n",
       "    <tr>\n",
       "      <td>min</td>\n",
       "      <td>0.000000</td>\n",
       "    </tr>\n",
       "    <tr>\n",
       "      <td>25%</td>\n",
       "      <td>284.000000</td>\n",
       "    </tr>\n",
       "    <tr>\n",
       "      <td>50%</td>\n",
       "      <td>518.000000</td>\n",
       "    </tr>\n",
       "    <tr>\n",
       "      <td>75%</td>\n",
       "      <td>752.000000</td>\n",
       "    </tr>\n",
       "    <tr>\n",
       "      <td>max</td>\n",
       "      <td>1673.000000</td>\n",
       "    </tr>\n",
       "  </tbody>\n",
       "</table>\n",
       "</div>"
      ],
      "text/plain": [
       "       duration_call\n",
       "count     985.000000\n",
       "mean      526.623350\n",
       "std       317.606098\n",
       "min         0.000000\n",
       "25%       284.000000\n",
       "50%       518.000000\n",
       "75%       752.000000\n",
       "max      1673.000000"
      ]
     },
     "execution_count": 27,
     "metadata": {},
     "output_type": "execute_result"
    }
   ],
   "source": [
    "\n",
    "ultra_data[['duration_call']].describe()"
   ]
  },
  {
   "cell_type": "markdown",
   "metadata": {},
   "source": [
    "в среднем пользователь ultra обычно тратит за месяц 526 мин. (среднее)\n",
    "\n",
    "ст.откл. = 317 мин"
   ]
  },
  {
   "cell_type": "code",
   "execution_count": 28,
   "metadata": {},
   "outputs": [
    {
     "data": {
      "text/plain": [
       "duration_call    100771.223617\n",
       "dtype: float64"
      ]
     },
     "execution_count": 28,
     "metadata": {},
     "output_type": "execute_result"
    }
   ],
   "source": [
    "#посчитаем дисперсию\n",
    "variance_ultra = np.var(ultra_data[['duration_call']])\n",
    "variance_ultra"
   ]
  },
  {
   "cell_type": "code",
   "execution_count": 29,
   "metadata": {},
   "outputs": [
    {
     "data": {
      "text/plain": [
       "duration_call    317.444836\n",
       "dtype: float64"
      ]
     },
     "execution_count": 29,
     "metadata": {},
     "output_type": "execute_result"
    }
   ],
   "source": [
    "# и мат.ожидание \n",
    "expectation_ultra = np.sqrt(variance_ultra)\n",
    "expectation_ultra"
   ]
  },
  {
   "cell_type": "markdown",
   "metadata": {},
   "source": [
    "Построим гистограмму."
   ]
  },
  {
   "cell_type": "code",
   "execution_count": 30,
   "metadata": {},
   "outputs": [
    {
     "data": {
      "text/plain": [
       "array([[<matplotlib.axes._subplots.AxesSubplot object at 0x7f10e9ec6cd0>]],\n",
       "      dtype=object)"
      ]
     },
     "execution_count": 30,
     "metadata": {},
     "output_type": "execute_result"
    },
    {
     "data": {
      "image/png": "[encoded data removed]",
      "text/plain": [
       "<Figure size 432x288 with 1 Axes>"
      ]
     },
     "metadata": {
      "needs_background": "light"
     },
     "output_type": "display_data"
    }
   ],
   "source": [
    "ultra_data[['duration_call']].hist(bins=20)"
   ]
  },
  {
   "cell_type": "markdown",
   "metadata": {},
   "source": [
    "Распределение гистограммы можно назвать нормальным, видно, что абсолютное большинство абонентов тарифа ultra используют от 400 до 550 минут звонков в месяц."
   ]
  },
  {
   "cell_type": "markdown",
   "metadata": {},
   "source": [
    " **Пользователи smart тарифа используют не сильно меньшее минут в месяц, чем пользователи ultra. Скорее всего, пользователи ultra выбирают этот тариф не из-за количества минут, а по другим причинам. Однако, распределение на гистограммах неодинаковое и можно заметить, что есть ряд пользователей ultra, которые всё-таки используют большее количество минут по назначению, хотя никто и не достигает лимита в 3000 минут.**"
   ]
  },
  {
   "cell_type": "markdown",
   "metadata": {},
   "source": [
    "#### Проанализируем сообщения"
   ]
  },
  {
   "cell_type": "code",
   "execution_count": 31,
   "metadata": {},
   "outputs": [
    {
     "data": {
      "text/html": [
       "<div>\n",
       "<style scoped>\n",
       "    .dataframe tbody tr th:only-of-type {\n",
       "        vertical-align: middle;\n",
       "    }\n",
       "\n",
       "    .dataframe tbody tr th {\n",
       "        vertical-align: top;\n",
       "    }\n",
       "\n",
       "    .dataframe thead th {\n",
       "        text-align: right;\n",
       "    }\n",
       "</style>\n",
       "<table border=\"1\" class=\"dataframe\">\n",
       "  <thead>\n",
       "    <tr style=\"text-align: right;\">\n",
       "      <th></th>\n",
       "      <th>count_messages</th>\n",
       "    </tr>\n",
       "  </thead>\n",
       "  <tbody>\n",
       "    <tr>\n",
       "      <td>count</td>\n",
       "      <td>2229.000000</td>\n",
       "    </tr>\n",
       "    <tr>\n",
       "      <td>mean</td>\n",
       "      <td>33.384029</td>\n",
       "    </tr>\n",
       "    <tr>\n",
       "      <td>std</td>\n",
       "      <td>28.227876</td>\n",
       "    </tr>\n",
       "    <tr>\n",
       "      <td>min</td>\n",
       "      <td>0.000000</td>\n",
       "    </tr>\n",
       "    <tr>\n",
       "      <td>25%</td>\n",
       "      <td>10.000000</td>\n",
       "    </tr>\n",
       "    <tr>\n",
       "      <td>50%</td>\n",
       "      <td>28.000000</td>\n",
       "    </tr>\n",
       "    <tr>\n",
       "      <td>75%</td>\n",
       "      <td>51.000000</td>\n",
       "    </tr>\n",
       "    <tr>\n",
       "      <td>max</td>\n",
       "      <td>143.000000</td>\n",
       "    </tr>\n",
       "  </tbody>\n",
       "</table>\n",
       "</div>"
      ],
      "text/plain": [
       "       count_messages\n",
       "count     2229.000000\n",
       "mean        33.384029\n",
       "std         28.227876\n",
       "min          0.000000\n",
       "25%         10.000000\n",
       "50%         28.000000\n",
       "75%         51.000000\n",
       "max        143.000000"
      ]
     },
     "execution_count": 31,
     "metadata": {},
     "output_type": "execute_result"
    }
   ],
   "source": [
    "smart_data[['count_messages']].describe()"
   ]
  },
  {
   "cell_type": "markdown",
   "metadata": {},
   "source": [
    "в среднем пользователь smart обычно отправляют за месяц 33 сообщений (среднее)\n",
    "\n",
    "ст.откл. = 28 сообщений"
   ]
  },
  {
   "cell_type": "code",
   "execution_count": 32,
   "metadata": {},
   "outputs": [
    {
     "data": {
      "text/html": [
       "<div>\n",
       "<style scoped>\n",
       "    .dataframe tbody tr th:only-of-type {\n",
       "        vertical-align: middle;\n",
       "    }\n",
       "\n",
       "    .dataframe tbody tr th {\n",
       "        vertical-align: top;\n",
       "    }\n",
       "\n",
       "    .dataframe thead th {\n",
       "        text-align: right;\n",
       "    }\n",
       "</style>\n",
       "<table border=\"1\" class=\"dataframe\">\n",
       "  <thead>\n",
       "    <tr style=\"text-align: right;\">\n",
       "      <th></th>\n",
       "      <th>count_messages</th>\n",
       "    </tr>\n",
       "  </thead>\n",
       "  <tbody>\n",
       "    <tr>\n",
       "      <td>count</td>\n",
       "      <td>985.000000</td>\n",
       "    </tr>\n",
       "    <tr>\n",
       "      <td>mean</td>\n",
       "      <td>49.363452</td>\n",
       "    </tr>\n",
       "    <tr>\n",
       "      <td>std</td>\n",
       "      <td>47.804457</td>\n",
       "    </tr>\n",
       "    <tr>\n",
       "      <td>min</td>\n",
       "      <td>0.000000</td>\n",
       "    </tr>\n",
       "    <tr>\n",
       "      <td>25%</td>\n",
       "      <td>6.000000</td>\n",
       "    </tr>\n",
       "    <tr>\n",
       "      <td>50%</td>\n",
       "      <td>38.000000</td>\n",
       "    </tr>\n",
       "    <tr>\n",
       "      <td>75%</td>\n",
       "      <td>79.000000</td>\n",
       "    </tr>\n",
       "    <tr>\n",
       "      <td>max</td>\n",
       "      <td>224.000000</td>\n",
       "    </tr>\n",
       "  </tbody>\n",
       "</table>\n",
       "</div>"
      ],
      "text/plain": [
       "       count_messages\n",
       "count      985.000000\n",
       "mean        49.363452\n",
       "std         47.804457\n",
       "min          0.000000\n",
       "25%          6.000000\n",
       "50%         38.000000\n",
       "75%         79.000000\n",
       "max        224.000000"
      ]
     },
     "execution_count": 32,
     "metadata": {},
     "output_type": "execute_result"
    }
   ],
   "source": [
    "ultra_data[['count_messages']].describe()"
   ]
  },
  {
   "cell_type": "markdown",
   "metadata": {},
   "source": [
    "в среднем пользователь ultra обычно отправляют за месяц 49 сообщений (среднее)\n",
    "\n",
    "ст.откл. = 47 сообщений"
   ]
  },
  {
   "cell_type": "code",
   "execution_count": 33,
   "metadata": {},
   "outputs": [
    {
     "data": {
      "text/plain": [
       "count_messages    796.455483\n",
       "dtype: float64"
      ]
     },
     "execution_count": 33,
     "metadata": {},
     "output_type": "execute_result"
    }
   ],
   "source": [
    "#посчитаем дисперсию smart\n",
    "variance_smart = np.var(smart_data[['count_messages']])\n",
    "variance_smart\n"
   ]
  },
  {
   "cell_type": "code",
   "execution_count": 34,
   "metadata": {},
   "outputs": [
    {
     "data": {
      "text/plain": [
       "count_messages    28.221543\n",
       "dtype: float64"
      ]
     },
     "execution_count": 34,
     "metadata": {},
     "output_type": "execute_result"
    }
   ],
   "source": [
    "# и мат.ожидание smart\n",
    "expectation_smart = np.sqrt(variance_smart)\n",
    "expectation_smart"
   ]
  },
  {
   "cell_type": "code",
   "execution_count": 35,
   "metadata": {},
   "outputs": [
    {
     "data": {
      "text/plain": [
       "count_messages    2282.946075\n",
       "dtype: float64"
      ]
     },
     "execution_count": 35,
     "metadata": {},
     "output_type": "execute_result"
    }
   ],
   "source": [
    "#посчитаем дисперсию ultra\n",
    "variance_ultra = np.var(ultra_data[['count_messages']])\n",
    "variance_ultra"
   ]
  },
  {
   "cell_type": "code",
   "execution_count": 36,
   "metadata": {},
   "outputs": [
    {
     "data": {
      "text/plain": [
       "count_messages    47.780185\n",
       "dtype: float64"
      ]
     },
     "execution_count": 36,
     "metadata": {},
     "output_type": "execute_result"
    }
   ],
   "source": [
    "# и мат.ожидание ultra\n",
    "expectation_ultra = np.sqrt(variance_ultra)\n",
    "expectation_ultra"
   ]
  },
  {
   "cell_type": "markdown",
   "metadata": {},
   "source": [
    "Построим гистограмму."
   ]
  },
  {
   "cell_type": "code",
   "execution_count": 37,
   "metadata": {},
   "outputs": [
    {
     "data": {
      "text/plain": [
       "array([[<matplotlib.axes._subplots.AxesSubplot object at 0x7f10e7d99a10>]],\n",
       "      dtype=object)"
      ]
     },
     "execution_count": 37,
     "metadata": {},
     "output_type": "execute_result"
    },
    {
     "data": {
      "image/png": "[encoded data removed]",
      "text/plain": [
       "<Figure size 432x288 with 1 Axes>"
      ]
     },
     "metadata": {
      "needs_background": "light"
     },
     "output_type": "display_data"
    }
   ],
   "source": [
    "smart_data[['count_messages']].hist()"
   ]
  },
  {
   "cell_type": "markdown",
   "metadata": {},
   "source": [
    "Гистограмма скошена вправо (среднее больше медианы). Получается, хотя большинство пользователей используют сообщения в рамках лимита - 50 - всё же есть те, кто значительно превышает лимит, тем самым принося выручку компании."
   ]
  },
  {
   "cell_type": "code",
   "execution_count": 38,
   "metadata": {},
   "outputs": [
    {
     "data": {
      "text/plain": [
       "array([[<matplotlib.axes._subplots.AxesSubplot object at 0x7f10e7d7b910>]],\n",
       "      dtype=object)"
      ]
     },
     "execution_count": 38,
     "metadata": {},
     "output_type": "execute_result"
    },
    {
     "data": {
      "image/png": "[encoded data removed]",
      "text/plain": [
       "<Figure size 432x288 with 1 Axes>"
      ]
     },
     "metadata": {
      "needs_background": "light"
     },
     "output_type": "display_data"
    }
   ],
   "source": [
    "ultra_data[['count_messages']].hist()"
   ]
  },
  {
   "cell_type": "markdown",
   "metadata": {},
   "source": [
    "Гистограмма здесь также скошена вправо"
   ]
  },
  {
   "cell_type": "markdown",
   "metadata": {},
   "source": [
    "**Кажется, основная масса пользователей ultra использует еще меньше сообщений, чем в smart. Однако, опять-таки, есть и те, кто отправляет 100 и больше сообщений. Но лимита в 1000 сообщений не достигает никто.**"
   ]
  },
  {
   "cell_type": "markdown",
   "metadata": {},
   "source": [
    "#### Проанализируем сипользование интернета"
   ]
  },
  {
   "cell_type": "code",
   "execution_count": 39,
   "metadata": {},
   "outputs": [
    {
     "data": {
      "text/html": [
       "<div>\n",
       "<style scoped>\n",
       "    .dataframe tbody tr th:only-of-type {\n",
       "        vertical-align: middle;\n",
       "    }\n",
       "\n",
       "    .dataframe tbody tr th {\n",
       "        vertical-align: top;\n",
       "    }\n",
       "\n",
       "    .dataframe thead th {\n",
       "        text-align: right;\n",
       "    }\n",
       "</style>\n",
       "<table border=\"1\" class=\"dataframe\">\n",
       "  <thead>\n",
       "    <tr style=\"text-align: right;\">\n",
       "      <th></th>\n",
       "      <th>gb_used</th>\n",
       "    </tr>\n",
       "  </thead>\n",
       "  <tbody>\n",
       "    <tr>\n",
       "      <td>count</td>\n",
       "      <td>2229.000000</td>\n",
       "    </tr>\n",
       "    <tr>\n",
       "      <td>mean</td>\n",
       "      <td>16.328847</td>\n",
       "    </tr>\n",
       "    <tr>\n",
       "      <td>std</td>\n",
       "      <td>5.747061</td>\n",
       "    </tr>\n",
       "    <tr>\n",
       "      <td>min</td>\n",
       "      <td>0.000000</td>\n",
       "    </tr>\n",
       "    <tr>\n",
       "      <td>25%</td>\n",
       "      <td>13.000000</td>\n",
       "    </tr>\n",
       "    <tr>\n",
       "      <td>50%</td>\n",
       "      <td>17.000000</td>\n",
       "    </tr>\n",
       "    <tr>\n",
       "      <td>75%</td>\n",
       "      <td>20.000000</td>\n",
       "    </tr>\n",
       "    <tr>\n",
       "      <td>max</td>\n",
       "      <td>38.000000</td>\n",
       "    </tr>\n",
       "  </tbody>\n",
       "</table>\n",
       "</div>"
      ],
      "text/plain": [
       "           gb_used\n",
       "count  2229.000000\n",
       "mean     16.328847\n",
       "std       5.747061\n",
       "min       0.000000\n",
       "25%      13.000000\n",
       "50%      17.000000\n",
       "75%      20.000000\n",
       "max      38.000000"
      ]
     },
     "execution_count": 39,
     "metadata": {},
     "output_type": "execute_result"
    }
   ],
   "source": [
    "smart_data[['gb_used']].describe()"
   ]
  },
  {
   "cell_type": "markdown",
   "metadata": {},
   "source": [
    "в среднем пользователь smart обычно тратит за месяц 16 gd (среднее)\n",
    "\n",
    "ст.откл. = 5 gb"
   ]
  },
  {
   "cell_type": "code",
   "execution_count": 40,
   "metadata": {},
   "outputs": [
    {
     "data": {
      "text/html": [
       "<div>\n",
       "<style scoped>\n",
       "    .dataframe tbody tr th:only-of-type {\n",
       "        vertical-align: middle;\n",
       "    }\n",
       "\n",
       "    .dataframe tbody tr th {\n",
       "        vertical-align: top;\n",
       "    }\n",
       "\n",
       "    .dataframe thead th {\n",
       "        text-align: right;\n",
       "    }\n",
       "</style>\n",
       "<table border=\"1\" class=\"dataframe\">\n",
       "  <thead>\n",
       "    <tr style=\"text-align: right;\">\n",
       "      <th></th>\n",
       "      <th>gb_used</th>\n",
       "    </tr>\n",
       "  </thead>\n",
       "  <tbody>\n",
       "    <tr>\n",
       "      <td>count</td>\n",
       "      <td>985.000000</td>\n",
       "    </tr>\n",
       "    <tr>\n",
       "      <td>mean</td>\n",
       "      <td>19.494416</td>\n",
       "    </tr>\n",
       "    <tr>\n",
       "      <td>std</td>\n",
       "      <td>9.853511</td>\n",
       "    </tr>\n",
       "    <tr>\n",
       "      <td>min</td>\n",
       "      <td>0.000000</td>\n",
       "    </tr>\n",
       "    <tr>\n",
       "      <td>25%</td>\n",
       "      <td>12.000000</td>\n",
       "    </tr>\n",
       "    <tr>\n",
       "      <td>50%</td>\n",
       "      <td>19.000000</td>\n",
       "    </tr>\n",
       "    <tr>\n",
       "      <td>75%</td>\n",
       "      <td>27.000000</td>\n",
       "    </tr>\n",
       "    <tr>\n",
       "      <td>max</td>\n",
       "      <td>49.000000</td>\n",
       "    </tr>\n",
       "  </tbody>\n",
       "</table>\n",
       "</div>"
      ],
      "text/plain": [
       "          gb_used\n",
       "count  985.000000\n",
       "mean    19.494416\n",
       "std      9.853511\n",
       "min      0.000000\n",
       "25%     12.000000\n",
       "50%     19.000000\n",
       "75%     27.000000\n",
       "max     49.000000"
      ]
     },
     "execution_count": 40,
     "metadata": {},
     "output_type": "execute_result"
    }
   ],
   "source": [
    "ultra_data[['gb_used']].describe()"
   ]
  },
  {
   "cell_type": "markdown",
   "metadata": {},
   "source": [
    "в среднем пользователь ultra обычно тратит за месяц 19 gd (среднее)\n",
    "\n",
    "ст.откл. = 10 gb"
   ]
  },
  {
   "cell_type": "code",
   "execution_count": 41,
   "metadata": {},
   "outputs": [
    {
     "data": {
      "text/plain": [
       "gb_used    33.013887\n",
       "dtype: float64"
      ]
     },
     "execution_count": 41,
     "metadata": {},
     "output_type": "execute_result"
    }
   ],
   "source": [
    "#посчитаем дисперсию smart\n",
    "variance_smart = np.var(smart_data[['gb_used']])\n",
    "variance_smart"
   ]
  },
  {
   "cell_type": "code",
   "execution_count": 42,
   "metadata": {},
   "outputs": [
    {
     "data": {
      "text/plain": [
       "gb_used    5.745771\n",
       "dtype: float64"
      ]
     },
     "execution_count": 42,
     "metadata": {},
     "output_type": "execute_result"
    }
   ],
   "source": [
    "# и мат.ожидание smart\n",
    "expectation_smart = np.sqrt(variance_smart)\n",
    "expectation_smart"
   ]
  },
  {
   "cell_type": "code",
   "execution_count": 43,
   "metadata": {},
   "outputs": [
    {
     "data": {
      "text/plain": [
       "gb_used    96.993116\n",
       "dtype: float64"
      ]
     },
     "execution_count": 43,
     "metadata": {},
     "output_type": "execute_result"
    }
   ],
   "source": [
    "#посчитаем дисперсию ultra\n",
    "variance_ultra = np.var(ultra_data[['gb_used']])\n",
    "variance_ultra"
   ]
  },
  {
   "cell_type": "code",
   "execution_count": 44,
   "metadata": {},
   "outputs": [
    {
     "data": {
      "text/plain": [
       "gb_used    9.848508\n",
       "dtype: float64"
      ]
     },
     "execution_count": 44,
     "metadata": {},
     "output_type": "execute_result"
    }
   ],
   "source": [
    "# и мат.ожидание ultra\n",
    "expectation_ultra = np.sqrt(variance_ultra)\n",
    "expectation_ultra"
   ]
  },
  {
   "cell_type": "markdown",
   "metadata": {},
   "source": [
    "Построим гистограмму."
   ]
  },
  {
   "cell_type": "code",
   "execution_count": 45,
   "metadata": {},
   "outputs": [
    {
     "data": {
      "text/plain": [
       "array([[<matplotlib.axes._subplots.AxesSubplot object at 0x7f10e7cc0550>]],\n",
       "      dtype=object)"
      ]
     },
     "execution_count": 45,
     "metadata": {},
     "output_type": "execute_result"
    },
    {
     "data": {
      "image/png": "[encoded data removed]",
      "text/plain": [
       "<Figure size 432x288 with 1 Axes>"
      ]
     },
     "metadata": {
      "needs_background": "light"
     },
     "output_type": "display_data"
    }
   ],
   "source": [
    "smart_data[['gb_used']].hist()"
   ]
  },
  {
   "cell_type": "markdown",
   "metadata": {},
   "source": [
    "Распределение нормальное, видим, что часть пользователей придерживается крайних значений лимита (15gb), однако вторая часть пользователей докупает недостающий трафик. Посмотрим на данные по второму тарифу."
   ]
  },
  {
   "cell_type": "code",
   "execution_count": 46,
   "metadata": {},
   "outputs": [
    {
     "data": {
      "text/plain": [
       "array([[<matplotlib.axes._subplots.AxesSubplot object at 0x7f10e7c20550>]],\n",
       "      dtype=object)"
      ]
     },
     "execution_count": 46,
     "metadata": {},
     "output_type": "execute_result"
    },
    {
     "data": {
      "image/png": "[encoded data removed]",
      "text/plain": [
       "<Figure size 432x288 with 1 Axes>"
      ]
     },
     "metadata": {
      "needs_background": "light"
     },
     "output_type": "display_data"
    }
   ],
   "source": [
    "ultra_data[['gb_used']].hist()"
   ]
  },
  {
   "cell_type": "markdown",
   "metadata": {},
   "source": [
    "Здесь становится понятно, почему основная масса пользователей тарифа ultra выбирает именно его. Они используют намного больше трафика, чем пользователи smart."
   ]
  },
  {
   "cell_type": "markdown",
   "metadata": {},
   "source": [
    "**Вывод:**\n",
    "\n",
    "**Пользователи smart тарифа используют чуть меньшее количество минут звонков и сообщений в месяц, чем пользователи ultra. Лимита на звонки и минуты в ultra в среднем не достигает никто. При этом интернетом пользователи ultra пользуются гораздо активнее. Скорее всего, пользователи ultra выбирают этот тариф из-за большего интернет-трафика.**\n",
    "\n",
    "**Отметим, что пользователи тарифа smart чаще переплачивают за недостающие менуты, сообщения и gb**"
   ]
  },
  {
   "cell_type": "markdown",
   "metadata": {},
   "source": [
    "### Проверим гипотезы"
   ]
  },
  {
   "cell_type": "markdown",
   "metadata": {},
   "source": [
    "#### Средняя выручка пользователей тарифов «Ультра» и «Смарт» различается"
   ]
  },
  {
   "cell_type": "markdown",
   "metadata": {},
   "source": [
    "Сформулируем нулевую и альтернативную гипотезы. Нулевую гипотезу будем формулировать так, чтобы использовать знак равенства. Альтернативную гипотезу сформулируем оттакливаясь от нулевой гипотезы.\n",
    "\n",
    "* H₀ - средняя выручка пользователей тарифов «Ультра» и «Смарт» равна\n",
    "* H₁ - средняя выручка пользователей тарифов «Ультра» и «Смарт» не равна"
   ]
  },
  {
   "cell_type": "code",
   "execution_count": 47,
   "metadata": {},
   "outputs": [],
   "source": [
    "#зададим критический уровень статистической значимости\n",
    "alpha = .05"
   ]
  },
  {
   "cell_type": "code",
   "execution_count": 48,
   "metadata": {},
   "outputs": [
    {
     "name": "stdout",
     "output_type": "stream",
     "text": [
      "p-значение: 1.4229814360764067e-160\n",
      "Отвергаем нулевую гипотезу\n",
      "\n",
      "Средняя выручка в месяц с пользователя тарифа smart - 1289.97\n",
      "Средняя выручка в месяц с пользователя тарифа ultra - 2070.15\n"
     ]
    }
   ],
   "source": [
    "results = st.ttest_ind(\n",
    "    smart_data['total_cost'],\n",
    "    ultra_data['total_cost']\n",
    ")\n",
    "\n",
    "print('p-значение:', results.pvalue)\n",
    "\n",
    "if (results.pvalue < alpha):\n",
    "    print(\"Отвергаем нулевую гипотезу\")\n",
    "else:\n",
    "    print(\"Не получилось отвергнуть нулевую гипотезу\")\n",
    "    \n",
    "print()    \n",
    "print('Средняя выручка в месяц с пользователя тарифа smart -', smart_data['total_cost'].mean().round(2))\n",
    "print('Средняя выручка в месяц с пользователя тарифа ultra -', ultra_data['total_cost'].mean().round(2))"
   ]
  },
  {
   "cell_type": "markdown",
   "metadata": {},
   "source": [
    "**Отвергаем первую гипотезу. Всё же между выручкой есть разница. По среднему значению видим, что выручка с пользователей тарифа ultra больше.**"
   ]
  },
  {
   "cell_type": "markdown",
   "metadata": {},
   "source": [
    "#### Средняя выручка пользователей из Москвы отличается от выручки пользователей из других регионов"
   ]
  },
  {
   "cell_type": "markdown",
   "metadata": {},
   "source": [
    "Сформулируем нулевую и альтернативную гипотезы:\n",
    "\n",
    "* H₀ - средняя выручка пользователей из Москвы и остальных регионов равна\n",
    "* H₁ - средняя выручка пользователей из Москвы и остальных регионов не равна"
   ]
  },
  {
   "cell_type": "code",
   "execution_count": 49,
   "metadata": {},
   "outputs": [],
   "source": [
    "# Отсортируем сводный DataFrame\n",
    "from_moscow = total_data.query('city == \"Москва\"')\n",
    "not_from_moscow = total_data.query('city != \"Москва\"')"
   ]
  },
  {
   "cell_type": "code",
   "execution_count": 50,
   "metadata": {},
   "outputs": [
    {
     "name": "stdout",
     "output_type": "stream",
     "text": [
      "p-значение: 0.5440152911670224\n",
      "Не получилось отвергнуть нулевую гипотезу\n",
      "\n",
      "Средняя выручка в месяц с пользователя из Москвы 1546.71\n",
      "Средняя выручка в месяц с пользователя не из Москвы 1524.94\n"
     ]
    }
   ],
   "source": [
    "results = st.ttest_ind(\n",
    "    from_moscow['total_cost'],\n",
    "    not_from_moscow['total_cost']\n",
    ")\n",
    "\n",
    "print('p-значение:', results.pvalue)\n",
    "\n",
    "if (results.pvalue < alpha):\n",
    "    print(\"Отвергаем нулевую гипотезу\")\n",
    "else:\n",
    "    print(\"Не получилось отвергнуть нулевую гипотезу\")\n",
    "    \n",
    "print()    \n",
    "print('Средняя выручка в месяц с пользователя из Москвы', from_moscow['total_cost'].mean().round(2))\n",
    "print('Средняя выручка в месяц с пользователя не из Москвы', not_from_moscow['total_cost'].mean().round(2))"
   ]
  },
  {
   "cell_type": "markdown",
   "metadata": {},
   "source": [
    "**Вторую гипотезу отвергнуть не удалось: выручка с пользователей-москвичей и пользователей из других регионов почти равнозначна.**"
   ]
  },
  {
   "cell_type": "markdown",
   "metadata": {},
   "source": [
    "### Общий вывод"
   ]
  },
  {
   "cell_type": "markdown",
   "metadata": {},
   "source": [
    "Тариф ultra приносит компании больше выручку. Стоит сфокусироваться на его продвижении повсеместно - в Москве и других регионах."
   ]
  }
 ],
 "metadata": {
  "ExecuteTimeLog": [
   {
    "duration": 836,
    "start_time": "2022-02-17T12:01:34.362Z"
   },
   {
    "duration": 180,
    "start_time": "2022-02-17T12:03:05.388Z"
   },
   {
    "duration": 181,
    "start_time": "2022-02-17T12:07:24.931Z"
   },
   {
    "duration": 3,
    "start_time": "2022-02-17T12:08:34.857Z"
   },
   {
    "duration": 445,
    "start_time": "2022-02-17T12:12:04.234Z"
   },
   {
    "duration": 441,
    "start_time": "2022-02-17T12:12:45.566Z"
   },
   {
    "duration": 562,
    "start_time": "2022-02-17T12:18:04.928Z"
   },
   {
    "duration": 460,
    "start_time": "2022-02-17T12:24:45.995Z"
   },
   {
    "duration": 471,
    "start_time": "2022-02-17T12:25:13.031Z"
   },
   {
    "duration": 973,
    "start_time": "2022-02-17T12:26:18.700Z"
   },
   {
    "duration": 799,
    "start_time": "2022-02-17T12:26:50.387Z"
   },
   {
    "duration": 480,
    "start_time": "2022-02-17T12:27:00.868Z"
   },
   {
    "duration": 2,
    "start_time": "2022-02-17T12:47:39.887Z"
   },
   {
    "duration": 448,
    "start_time": "2022-02-17T12:47:42.599Z"
   },
   {
    "duration": 71,
    "start_time": "2022-02-17T14:04:41.554Z"
   },
   {
    "duration": 14,
    "start_time": "2022-02-17T14:05:06.302Z"
   },
   {
    "duration": 17,
    "start_time": "2022-02-17T14:06:09.543Z"
   },
   {
    "duration": 6621,
    "start_time": "2022-02-17T14:22:07.395Z"
   },
   {
    "duration": 720,
    "start_time": "2022-02-17T14:23:33.909Z"
   },
   {
    "duration": 702,
    "start_time": "2022-02-17T14:23:57.499Z"
   },
   {
    "duration": 712,
    "start_time": "2022-02-17T14:25:03.829Z"
   },
   {
    "duration": 500,
    "start_time": "2022-02-17T14:25:33.271Z"
   },
   {
    "duration": 465,
    "start_time": "2022-02-17T14:26:34.363Z"
   },
   {
    "duration": 6878,
    "start_time": "2022-02-17T14:26:48.113Z"
   },
   {
    "duration": 18,
    "start_time": "2022-02-17T14:27:06.533Z"
   },
   {
    "duration": 17,
    "start_time": "2022-02-17T14:27:20.379Z"
   },
   {
    "duration": 19,
    "start_time": "2022-02-17T14:28:07.290Z"
   },
   {
    "duration": 72,
    "start_time": "2022-02-17T15:45:32.962Z"
   },
   {
    "duration": 54,
    "start_time": "2022-02-17T15:46:40.359Z"
   },
   {
    "duration": 3,
    "start_time": "2022-02-17T15:59:46.036Z"
   },
   {
    "duration": 3,
    "start_time": "2022-02-17T16:00:04.711Z"
   },
   {
    "duration": 3,
    "start_time": "2022-02-17T16:01:15.691Z"
   },
   {
    "duration": 18,
    "start_time": "2022-02-17T16:01:19.942Z"
   },
   {
    "duration": 63,
    "start_time": "2022-02-17T16:03:18.295Z"
   },
   {
    "duration": 16,
    "start_time": "2022-02-17T16:03:20.256Z"
   },
   {
    "duration": 3,
    "start_time": "2022-02-17T16:03:34.200Z"
   },
   {
    "duration": 475,
    "start_time": "2022-02-17T16:03:34.608Z"
   },
   {
    "duration": 72,
    "start_time": "2022-02-17T16:03:35.493Z"
   },
   {
    "duration": 16,
    "start_time": "2022-02-17T16:03:35.708Z"
   },
   {
    "duration": 53,
    "start_time": "2022-02-17T16:03:36.234Z"
   },
   {
    "duration": 16,
    "start_time": "2022-02-17T16:03:36.942Z"
   },
   {
    "duration": 83,
    "start_time": "2022-02-17T16:14:42.084Z"
   },
   {
    "duration": 658,
    "start_time": "2022-02-17T16:14:55.676Z"
   },
   {
    "duration": 56,
    "start_time": "2022-02-17T16:15:15.968Z"
   },
   {
    "duration": 82,
    "start_time": "2022-02-17T16:15:35.517Z"
   },
   {
    "duration": 50,
    "start_time": "2022-02-17T17:12:44.878Z"
   },
   {
    "duration": 34,
    "start_time": "2022-02-17T17:35:32.463Z"
   },
   {
    "duration": 29,
    "start_time": "2022-02-17T17:35:36.860Z"
   },
   {
    "duration": 46,
    "start_time": "2022-02-17T17:35:56.887Z"
   },
   {
    "duration": 47,
    "start_time": "2022-02-17T17:38:35.903Z"
   },
   {
    "duration": 41,
    "start_time": "2022-02-17T17:41:00.770Z"
   },
   {
    "duration": 42,
    "start_time": "2022-02-17T17:41:29.469Z"
   },
   {
    "duration": 43,
    "start_time": "2022-02-17T17:41:59.960Z"
   },
   {
    "duration": 2,
    "start_time": "2022-02-17T17:43:25.183Z"
   },
   {
    "duration": 405,
    "start_time": "2022-02-17T17:48:39.707Z"
   },
   {
    "duration": 39,
    "start_time": "2022-02-17T17:49:47.984Z"
   },
   {
    "duration": 6,
    "start_time": "2022-02-17T17:51:05.926Z"
   },
   {
    "duration": 55,
    "start_time": "2022-02-17T17:51:13.572Z"
   },
   {
    "duration": 1116,
    "start_time": "2022-02-17T18:14:43.547Z"
   },
   {
    "duration": 1258,
    "start_time": "2022-02-17T18:21:08.372Z"
   },
   {
    "duration": 5,
    "start_time": "2022-02-17T18:25:00.412Z"
   },
   {
    "duration": 261,
    "start_time": "2022-02-17T18:25:17.393Z"
   },
   {
    "duration": 80,
    "start_time": "2022-02-17T18:26:41.849Z"
   },
   {
    "duration": 289,
    "start_time": "2022-02-17T18:27:01.431Z"
   },
   {
    "duration": 290,
    "start_time": "2022-02-17T18:31:20.460Z"
   },
   {
    "duration": 292,
    "start_time": "2022-02-17T18:37:14.917Z"
   },
   {
    "duration": 67,
    "start_time": "2022-02-17T18:37:48.365Z"
   },
   {
    "duration": 13,
    "start_time": "2022-02-17T18:37:49.349Z"
   },
   {
    "duration": 13,
    "start_time": "2022-02-17T18:38:24.949Z"
   },
   {
    "duration": 13,
    "start_time": "2022-02-17T18:38:57.528Z"
   },
   {
    "duration": 53,
    "start_time": "2022-02-17T18:39:28.336Z"
   },
   {
    "duration": 44,
    "start_time": "2022-02-17T18:42:48.653Z"
   },
   {
    "duration": 35,
    "start_time": "2022-02-17T18:44:56.345Z"
   },
   {
    "duration": 36,
    "start_time": "2022-02-17T18:46:19.933Z"
   },
   {
    "duration": 909,
    "start_time": "2022-02-17T19:06:01.237Z"
   },
   {
    "duration": 1193,
    "start_time": "2022-02-17T19:06:39.237Z"
   },
   {
    "duration": 15,
    "start_time": "2022-02-17T19:28:11.005Z"
   },
   {
    "duration": 33,
    "start_time": "2022-02-17T19:29:07.671Z"
   },
   {
    "duration": 1466,
    "start_time": "2022-02-17T19:29:11.518Z"
   },
   {
    "duration": 913,
    "start_time": "2022-02-17T19:40:14.522Z"
   },
   {
    "duration": 960,
    "start_time": "2022-02-17T19:42:07.806Z"
   },
   {
    "duration": 123,
    "start_time": "2022-02-17T19:42:13.170Z"
   },
   {
    "duration": 5957,
    "start_time": "2022-02-17T19:42:13.766Z"
   },
   {
    "duration": 8213,
    "start_time": "2022-02-17T19:42:19.725Z"
   },
   {
    "duration": 4017,
    "start_time": "2022-02-17T19:42:27.940Z"
   },
   {
    "duration": 5950,
    "start_time": "2022-02-17T19:42:31.960Z"
   },
   {
    "duration": 5575,
    "start_time": "2022-02-17T19:42:37.912Z"
   },
   {
    "duration": 3,
    "start_time": "2022-02-17T19:42:43.489Z"
   },
   {
    "duration": 3,
    "start_time": "2022-02-17T19:44:24.612Z"
   },
   {
    "duration": 549,
    "start_time": "2022-02-17T19:44:26.988Z"
   },
   {
    "duration": 74,
    "start_time": "2022-02-17T19:44:33.005Z"
   },
   {
    "duration": 18,
    "start_time": "2022-02-17T19:44:34.428Z"
   },
   {
    "duration": 55,
    "start_time": "2022-02-17T19:44:38.916Z"
   },
   {
    "duration": 1214,
    "start_time": "2022-02-17T19:44:40.991Z"
   },
   {
    "duration": 61,
    "start_time": "2022-02-17T20:18:44.450Z"
   },
   {
    "duration": 24,
    "start_time": "2022-02-17T20:20:14.768Z"
   },
   {
    "duration": 25,
    "start_time": "2022-02-17T20:21:13.541Z"
   },
   {
    "duration": 27,
    "start_time": "2022-02-17T20:22:22.651Z"
   },
   {
    "duration": 30,
    "start_time": "2022-02-17T20:28:40.242Z"
   },
   {
    "duration": 35,
    "start_time": "2022-02-17T20:29:58.653Z"
   },
   {
    "duration": 22,
    "start_time": "2022-02-17T20:30:14.158Z"
   },
   {
    "duration": 16,
    "start_time": "2022-02-17T20:36:17.622Z"
   },
   {
    "duration": 3,
    "start_time": "2022-02-17T21:02:15.927Z"
   },
   {
    "duration": 4,
    "start_time": "2022-02-17T21:02:29.415Z"
   },
   {
    "duration": 4,
    "start_time": "2022-02-17T21:06:18.278Z"
   },
   {
    "duration": 5,
    "start_time": "2022-02-17T21:06:24.314Z"
   },
   {
    "duration": 317,
    "start_time": "2022-02-17T21:13:42.756Z"
   },
   {
    "duration": 263,
    "start_time": "2022-02-17T21:14:39.545Z"
   },
   {
    "duration": 271,
    "start_time": "2022-02-17T21:14:58.926Z"
   },
   {
    "duration": 271,
    "start_time": "2022-02-17T21:16:21.898Z"
   },
   {
    "duration": 6,
    "start_time": "2022-02-17T21:16:39.688Z"
   },
   {
    "duration": 6,
    "start_time": "2022-02-17T21:16:51.224Z"
   },
   {
    "duration": 9,
    "start_time": "2022-02-17T21:20:36.706Z"
   },
   {
    "duration": 239,
    "start_time": "2022-02-17T21:21:40.867Z"
   },
   {
    "duration": 1745,
    "start_time": "2022-02-17T21:22:22.935Z"
   },
   {
    "duration": 1745,
    "start_time": "2022-02-17T21:22:30.801Z"
   },
   {
    "duration": 13,
    "start_time": "2022-02-17T21:31:31.656Z"
   },
   {
    "duration": 14,
    "start_time": "2022-02-17T21:34:16.009Z"
   },
   {
    "duration": 20,
    "start_time": "2022-02-17T21:35:35.622Z"
   },
   {
    "duration": 20,
    "start_time": "2022-02-17T21:36:49.605Z"
   },
   {
    "duration": 254,
    "start_time": "2022-02-17T21:37:31.270Z"
   },
   {
    "duration": 64,
    "start_time": "2022-02-17T21:37:56.592Z"
   },
   {
    "duration": 47,
    "start_time": "2022-02-17T21:40:54.178Z"
   },
   {
    "duration": 45,
    "start_time": "2022-02-17T21:45:55.940Z"
   },
   {
    "duration": 99,
    "start_time": "2022-02-17T21:47:44.220Z"
   },
   {
    "duration": 101,
    "start_time": "2022-02-17T21:50:45.310Z"
   },
   {
    "duration": 83,
    "start_time": "2022-02-17T21:50:54.040Z"
   },
   {
    "duration": 146,
    "start_time": "2022-02-17T21:53:00.387Z"
   },
   {
    "duration": 129,
    "start_time": "2022-02-17T21:54:09.258Z"
   },
   {
    "duration": 155,
    "start_time": "2022-02-17T21:54:54.193Z"
   },
   {
    "duration": 161,
    "start_time": "2022-02-17T21:55:05.226Z"
   },
   {
    "duration": 159,
    "start_time": "2022-02-17T21:55:42.594Z"
   },
   {
    "duration": 152,
    "start_time": "2022-02-17T21:57:17.551Z"
   },
   {
    "duration": 15,
    "start_time": "2022-02-17T22:00:10.276Z"
   },
   {
    "duration": 25,
    "start_time": "2022-02-17T22:00:37.403Z"
   },
   {
    "duration": 47,
    "start_time": "2022-02-17T22:04:04.004Z"
   },
   {
    "duration": 37,
    "start_time": "2022-02-17T22:04:08.407Z"
   },
   {
    "duration": 38,
    "start_time": "2022-02-17T22:04:09.878Z"
   },
   {
    "duration": 156,
    "start_time": "2022-02-17T22:04:11.175Z"
   },
   {
    "duration": 24,
    "start_time": "2022-02-17T22:04:12.332Z"
   },
   {
    "duration": 272,
    "start_time": "2022-02-17T22:05:33.687Z"
   },
   {
    "duration": 50,
    "start_time": "2022-02-17T22:06:08.360Z"
   },
   {
    "duration": 49,
    "start_time": "2022-02-17T22:06:25.561Z"
   },
   {
    "duration": 36,
    "start_time": "2022-02-17T22:06:26.515Z"
   },
   {
    "duration": 37,
    "start_time": "2022-02-17T22:06:27.385Z"
   },
   {
    "duration": 151,
    "start_time": "2022-02-17T22:06:28.924Z"
   },
   {
    "duration": 25,
    "start_time": "2022-02-17T22:06:30.326Z"
   },
   {
    "duration": 45,
    "start_time": "2022-02-17T22:06:57.755Z"
   },
   {
    "duration": 34,
    "start_time": "2022-02-17T22:09:22.562Z"
   },
   {
    "duration": 35,
    "start_time": "2022-02-17T22:10:11.717Z"
   },
   {
    "duration": 40,
    "start_time": "2022-02-17T22:11:18.513Z"
   },
   {
    "duration": 3,
    "start_time": "2022-02-17T22:13:11.152Z"
   },
   {
    "duration": 761,
    "start_time": "2022-02-19T12:13:48.527Z"
   },
   {
    "duration": 678,
    "start_time": "2022-02-19T12:13:49.410Z"
   },
   {
    "duration": 97,
    "start_time": "2022-02-19T12:13:50.574Z"
   },
   {
    "duration": 21,
    "start_time": "2022-02-19T12:13:50.837Z"
   },
   {
    "duration": 86,
    "start_time": "2022-02-19T12:13:51.268Z"
   },
   {
    "duration": 1866,
    "start_time": "2022-02-19T12:13:51.734Z"
   },
   {
    "duration": 4067,
    "start_time": "2022-02-19T12:13:49.537Z"
   },
   {
    "duration": 4064,
    "start_time": "2022-02-19T12:13:49.542Z"
   },
   {
    "duration": 46,
    "start_time": "2022-02-19T12:13:53.943Z"
   },
   {
    "duration": 222,
    "start_time": "2022-02-19T12:13:55.040Z"
   },
   {
    "duration": 364,
    "start_time": "2022-02-19T12:13:56.121Z"
   },
   {
    "duration": 4,
    "start_time": "2022-02-19T12:14:02.495Z"
   },
   {
    "duration": 630,
    "start_time": "2022-02-19T12:14:04.286Z"
   },
   {
    "duration": 91,
    "start_time": "2022-02-19T12:14:07.528Z"
   },
   {
    "duration": 21,
    "start_time": "2022-02-19T12:14:08.522Z"
   },
   {
    "duration": 87,
    "start_time": "2022-02-19T12:14:09.910Z"
   },
   {
    "duration": 1837,
    "start_time": "2022-02-19T12:14:11.541Z"
   },
   {
    "duration": 68,
    "start_time": "2022-02-19T12:14:46.100Z"
   },
   {
    "duration": 58,
    "start_time": "2022-02-19T12:14:47.624Z"
   },
   {
    "duration": 44,
    "start_time": "2022-02-19T12:14:49.123Z"
   },
   {
    "duration": 209,
    "start_time": "2022-02-19T12:14:50.607Z"
   },
   {
    "duration": 123,
    "start_time": "2022-02-19T12:14:52.751Z"
   },
   {
    "duration": 149,
    "start_time": "2022-02-19T12:41:37.907Z"
   },
   {
    "duration": 393,
    "start_time": "2022-02-19T12:41:48.224Z"
   },
   {
    "duration": 398,
    "start_time": "2022-02-19T12:42:08.756Z"
   },
   {
    "duration": 6,
    "start_time": "2022-02-19T12:42:43.843Z"
   },
   {
    "duration": 462,
    "start_time": "2022-02-19T13:03:26.015Z"
   },
   {
    "duration": 440,
    "start_time": "2022-02-19T13:06:08.428Z"
   },
   {
    "duration": 394,
    "start_time": "2022-02-19T13:06:45.434Z"
   },
   {
    "duration": 10412,
    "start_time": "2022-02-19T13:07:22.786Z"
   },
   {
    "duration": 4,
    "start_time": "2022-02-19T13:07:42.853Z"
   },
   {
    "duration": 619,
    "start_time": "2022-02-19T13:07:44.048Z"
   },
   {
    "duration": 96,
    "start_time": "2022-02-19T13:07:46.690Z"
   },
   {
    "duration": 20,
    "start_time": "2022-02-19T13:07:47.290Z"
   },
   {
    "duration": 108,
    "start_time": "2022-02-19T13:07:48.387Z"
   },
   {
    "duration": 75,
    "start_time": "2022-02-19T13:07:49.556Z"
   },
   {
    "duration": 53,
    "start_time": "2022-02-19T13:07:50.892Z"
   },
   {
    "duration": 47,
    "start_time": "2022-02-19T13:07:51.894Z"
   },
   {
    "duration": 216,
    "start_time": "2022-02-19T13:07:52.862Z"
   },
   {
    "duration": 66,
    "start_time": "2022-02-19T13:07:54.458Z"
   },
   {
    "duration": 10473,
    "start_time": "2022-02-19T13:07:57.973Z"
   },
   {
    "duration": 257,
    "start_time": "2022-02-19T14:50:37.114Z"
   },
   {
    "duration": 567,
    "start_time": "2022-02-19T14:50:42.977Z"
   },
   {
    "duration": 453,
    "start_time": "2022-02-19T14:50:43.546Z"
   },
   {
    "duration": 75,
    "start_time": "2022-02-19T14:50:44.424Z"
   },
   {
    "duration": 15,
    "start_time": "2022-02-19T14:50:44.706Z"
   },
   {
    "duration": 60,
    "start_time": "2022-02-19T14:50:45.251Z"
   },
   {
    "duration": 57,
    "start_time": "2022-02-19T14:50:45.805Z"
   },
   {
    "duration": 46,
    "start_time": "2022-02-19T14:50:46.264Z"
   },
   {
    "duration": 35,
    "start_time": "2022-02-19T14:50:46.805Z"
   },
   {
    "duration": 177,
    "start_time": "2022-02-19T14:50:47.606Z"
   },
   {
    "duration": 40,
    "start_time": "2022-02-19T14:50:48.364Z"
   },
   {
    "duration": 15,
    "start_time": "2022-02-19T14:50:49.182Z"
   },
   {
    "duration": 203,
    "start_time": "2022-02-19T14:50:49.943Z"
   },
   {
    "duration": 15,
    "start_time": "2022-02-19T14:51:42.767Z"
   },
   {
    "duration": 216,
    "start_time": "2022-02-19T14:51:48.447Z"
   },
   {
    "duration": 37,
    "start_time": "2022-02-19T14:52:17.222Z"
   },
   {
    "duration": 15,
    "start_time": "2022-02-19T14:52:18.565Z"
   },
   {
    "duration": 192,
    "start_time": "2022-02-19T14:53:25.243Z"
   },
   {
    "duration": 4810,
    "start_time": "2022-02-19T14:55:43.655Z"
   },
   {
    "duration": 16,
    "start_time": "2022-02-19T14:56:20.053Z"
   },
   {
    "duration": 3,
    "start_time": "2022-02-19T14:57:13.163Z"
   },
   {
    "duration": 452,
    "start_time": "2022-02-19T14:57:13.911Z"
   },
   {
    "duration": 66,
    "start_time": "2022-02-19T14:57:15.744Z"
   },
   {
    "duration": 16,
    "start_time": "2022-02-19T14:57:16.365Z"
   },
   {
    "duration": 58,
    "start_time": "2022-02-19T14:57:17.583Z"
   },
   {
    "duration": 52,
    "start_time": "2022-02-19T14:57:19.081Z"
   },
   {
    "duration": 40,
    "start_time": "2022-02-19T14:57:20.432Z"
   },
   {
    "duration": 35,
    "start_time": "2022-02-19T14:57:21.813Z"
   },
   {
    "duration": 166,
    "start_time": "2022-02-19T14:57:23.271Z"
   },
   {
    "duration": 39,
    "start_time": "2022-02-19T14:57:24.812Z"
   },
   {
    "duration": 15,
    "start_time": "2022-02-19T14:57:25.574Z"
   },
   {
    "duration": 4754,
    "start_time": "2022-02-19T14:57:26.492Z"
   },
   {
    "duration": 199,
    "start_time": "2022-02-19T15:03:45.259Z"
   },
   {
    "duration": 5051,
    "start_time": "2022-02-19T15:05:14.133Z"
   },
   {
    "duration": 4595,
    "start_time": "2022-02-19T15:06:09.142Z"
   },
   {
    "duration": 13,
    "start_time": "2022-02-19T15:06:30.045Z"
   },
   {
    "duration": 683,
    "start_time": "2022-02-20T08:39:49.870Z"
   },
   {
    "duration": 510,
    "start_time": "2022-02-20T08:39:50.556Z"
   },
   {
    "duration": 107,
    "start_time": "2022-02-20T08:39:51.068Z"
   },
   {
    "duration": 20,
    "start_time": "2022-02-20T08:39:51.231Z"
   },
   {
    "duration": 66,
    "start_time": "2022-02-20T08:39:51.651Z"
   },
   {
    "duration": 65,
    "start_time": "2022-02-20T08:39:52.123Z"
   },
   {
    "duration": 53,
    "start_time": "2022-02-20T08:39:53.557Z"
   },
   {
    "duration": 37,
    "start_time": "2022-02-20T08:39:54.687Z"
   },
   {
    "duration": 181,
    "start_time": "2022-02-20T08:39:55.704Z"
   },
   {
    "duration": 42,
    "start_time": "2022-02-20T08:39:57.053Z"
   },
   {
    "duration": 14,
    "start_time": "2022-02-20T08:39:59.678Z"
   },
   {
    "duration": 10,
    "start_time": "2022-02-20T08:55:46.688Z"
   },
   {
    "duration": 28,
    "start_time": "2022-02-20T09:10:22.462Z"
   },
   {
    "duration": 3,
    "start_time": "2022-02-20T09:11:18.550Z"
   },
   {
    "duration": 501,
    "start_time": "2022-02-20T09:11:19.215Z"
   },
   {
    "duration": 71,
    "start_time": "2022-02-20T09:11:20.793Z"
   },
   {
    "duration": 17,
    "start_time": "2022-02-20T09:11:21.140Z"
   },
   {
    "duration": 66,
    "start_time": "2022-02-20T09:11:21.888Z"
   },
   {
    "duration": 55,
    "start_time": "2022-02-20T09:11:23.229Z"
   },
   {
    "duration": 40,
    "start_time": "2022-02-20T09:11:25.690Z"
   },
   {
    "duration": 36,
    "start_time": "2022-02-20T09:11:27.268Z"
   },
   {
    "duration": 164,
    "start_time": "2022-02-20T09:11:29.319Z"
   },
   {
    "duration": 46,
    "start_time": "2022-02-20T09:11:32.768Z"
   },
   {
    "duration": 26,
    "start_time": "2022-02-20T09:11:35.092Z"
   },
   {
    "duration": 8,
    "start_time": "2022-02-20T10:26:04.325Z"
   },
   {
    "duration": 4050,
    "start_time": "2022-02-20T10:34:04.421Z"
   },
   {
    "duration": 3,
    "start_time": "2022-02-20T10:35:08.595Z"
   },
   {
    "duration": 498,
    "start_time": "2022-02-20T10:35:09.667Z"
   },
   {
    "duration": 75,
    "start_time": "2022-02-20T10:35:12.560Z"
   },
   {
    "duration": 15,
    "start_time": "2022-02-20T10:35:13.324Z"
   },
   {
    "duration": 65,
    "start_time": "2022-02-20T10:35:14.524Z"
   },
   {
    "duration": 51,
    "start_time": "2022-02-20T10:35:15.870Z"
   },
   {
    "duration": 39,
    "start_time": "2022-02-20T10:35:17.103Z"
   },
   {
    "duration": 38,
    "start_time": "2022-02-20T10:35:18.410Z"
   },
   {
    "duration": 165,
    "start_time": "2022-02-20T10:35:19.818Z"
   },
   {
    "duration": 45,
    "start_time": "2022-02-20T10:35:21.455Z"
   },
   {
    "duration": 25,
    "start_time": "2022-02-20T10:35:24.485Z"
   },
   {
    "duration": 10,
    "start_time": "2022-02-20T10:35:25.664Z"
   },
   {
    "duration": 8,
    "start_time": "2022-02-20T10:35:27.951Z"
   },
   {
    "duration": 7,
    "start_time": "2022-02-20T10:35:37.315Z"
   },
   {
    "duration": 4239,
    "start_time": "2022-02-20T10:35:39.019Z"
   },
   {
    "duration": 671,
    "start_time": "2022-02-20T10:37:08.918Z"
   },
   {
    "duration": 6,
    "start_time": "2022-02-20T10:43:15.673Z"
   },
   {
    "duration": 133,
    "start_time": "2022-02-20T10:43:16.861Z"
   },
   {
    "duration": 152,
    "start_time": "2022-02-20T10:43:34.395Z"
   },
   {
    "duration": 6,
    "start_time": "2022-02-20T10:56:42.756Z"
   },
   {
    "duration": 148,
    "start_time": "2022-02-20T10:56:43.559Z"
   },
   {
    "duration": 9,
    "start_time": "2022-02-20T10:59:18.021Z"
   },
   {
    "duration": 154,
    "start_time": "2022-02-20T10:59:19.645Z"
   },
   {
    "duration": 6,
    "start_time": "2022-02-20T11:01:49.307Z"
   },
   {
    "duration": 151,
    "start_time": "2022-02-20T11:01:52.494Z"
   },
   {
    "duration": 7,
    "start_time": "2022-02-20T11:04:42.404Z"
   },
   {
    "duration": 160,
    "start_time": "2022-02-20T11:04:43.111Z"
   },
   {
    "duration": 7,
    "start_time": "2022-02-20T11:06:31.575Z"
   },
   {
    "duration": 157,
    "start_time": "2022-02-20T11:06:33.761Z"
   },
   {
    "duration": 7,
    "start_time": "2022-02-20T11:09:16.272Z"
   },
   {
    "duration": 139,
    "start_time": "2022-02-20T11:09:18.393Z"
   },
   {
    "duration": 7,
    "start_time": "2022-02-20T11:12:40.589Z"
   },
   {
    "duration": 147,
    "start_time": "2022-02-20T11:12:42.934Z"
   },
   {
    "duration": 6,
    "start_time": "2022-02-20T11:16:50.625Z"
   },
   {
    "duration": 178,
    "start_time": "2022-02-20T11:16:51.072Z"
   },
   {
    "duration": 160,
    "start_time": "2022-02-20T11:29:44.999Z"
   },
   {
    "duration": 27,
    "start_time": "2022-02-20T14:17:47.411Z"
   },
   {
    "duration": 157,
    "start_time": "2022-02-20T14:22:13.403Z"
   },
   {
    "duration": 7308,
    "start_time": "2022-02-20T14:23:24.216Z"
   },
   {
    "duration": 7380,
    "start_time": "2022-02-20T14:23:45.323Z"
   },
   {
    "duration": 84,
    "start_time": "2022-02-20T14:24:35.648Z"
   },
   {
    "duration": 31,
    "start_time": "2022-02-20T14:24:46.399Z"
   },
   {
    "duration": 27,
    "start_time": "2022-02-20T14:25:00.829Z"
   },
   {
    "duration": 113,
    "start_time": "2022-02-20T14:26:23.681Z"
   },
   {
    "duration": 260,
    "start_time": "2022-02-20T14:26:30.698Z"
   },
   {
    "duration": 26,
    "start_time": "2022-02-20T14:26:50.304Z"
   },
   {
    "duration": 37,
    "start_time": "2022-02-20T14:28:54.239Z"
   },
   {
    "duration": 83,
    "start_time": "2022-02-20T14:34:31.277Z"
   },
   {
    "duration": 282,
    "start_time": "2022-02-20T14:36:13.850Z"
   },
   {
    "duration": 32,
    "start_time": "2022-02-20T14:36:28.977Z"
   },
   {
    "duration": 30,
    "start_time": "2022-02-20T14:38:19.147Z"
   },
   {
    "duration": 29,
    "start_time": "2022-02-20T14:38:25.111Z"
   },
   {
    "duration": 21,
    "start_time": "2022-02-20T14:39:59.041Z"
   },
   {
    "duration": 21,
    "start_time": "2022-02-20T14:40:04.558Z"
   },
   {
    "duration": 19,
    "start_time": "2022-02-20T14:40:14.396Z"
   },
   {
    "duration": 30,
    "start_time": "2022-02-20T14:40:24.479Z"
   },
   {
    "duration": 412,
    "start_time": "2022-02-20T14:42:20.871Z"
   },
   {
    "duration": 6592,
    "start_time": "2022-02-20T14:43:02.198Z"
   },
   {
    "duration": 3,
    "start_time": "2022-02-20T14:43:18.012Z"
   },
   {
    "duration": 476,
    "start_time": "2022-02-20T14:43:18.660Z"
   },
   {
    "duration": 77,
    "start_time": "2022-02-20T14:43:20.552Z"
   },
   {
    "duration": 17,
    "start_time": "2022-02-20T14:43:21.275Z"
   },
   {
    "duration": 73,
    "start_time": "2022-02-20T14:43:22.309Z"
   },
   {
    "duration": 52,
    "start_time": "2022-02-20T14:43:23.584Z"
   },
   {
    "duration": 42,
    "start_time": "2022-02-20T14:43:24.777Z"
   },
   {
    "duration": 38,
    "start_time": "2022-02-20T14:43:26.148Z"
   },
   {
    "duration": 189,
    "start_time": "2022-02-20T14:43:28.966Z"
   },
   {
    "duration": 48,
    "start_time": "2022-02-20T14:43:32.772Z"
   },
   {
    "duration": 26,
    "start_time": "2022-02-20T14:43:33.543Z"
   },
   {
    "duration": 9,
    "start_time": "2022-02-20T14:43:33.874Z"
   },
   {
    "duration": 6,
    "start_time": "2022-02-20T14:43:34.585Z"
   },
   {
    "duration": 148,
    "start_time": "2022-02-20T14:43:34.981Z"
   },
   {
    "duration": 30,
    "start_time": "2022-02-20T14:43:35.792Z"
   },
   {
    "duration": 6915,
    "start_time": "2022-02-20T14:43:36.250Z"
   },
   {
    "duration": 615,
    "start_time": "2022-02-20T14:45:20.754Z"
   },
   {
    "duration": 336,
    "start_time": "2022-02-20T14:46:14.549Z"
   },
   {
    "duration": 13,
    "start_time": "2022-02-20T14:46:57.016Z"
   },
   {
    "duration": 246,
    "start_time": "2022-02-20T14:47:34.499Z"
   },
   {
    "duration": 6966,
    "start_time": "2022-02-20T14:48:05.705Z"
   },
   {
    "duration": 11,
    "start_time": "2022-02-20T14:49:16.197Z"
   },
   {
    "duration": 7953,
    "start_time": "2022-02-20T14:49:26.947Z"
   },
   {
    "duration": 6989,
    "start_time": "2022-02-20T14:50:02.368Z"
   },
   {
    "duration": 3,
    "start_time": "2022-02-20T14:50:50.569Z"
   },
   {
    "duration": 6,
    "start_time": "2022-02-20T14:51:23.668Z"
   },
   {
    "duration": 242,
    "start_time": "2022-02-20T14:51:35.966Z"
   },
   {
    "duration": 245,
    "start_time": "2022-02-20T14:51:46.972Z"
   },
   {
    "duration": 5,
    "start_time": "2022-02-20T14:52:03.060Z"
   },
   {
    "duration": 6567,
    "start_time": "2022-02-20T14:52:57.715Z"
   },
   {
    "duration": 13,
    "start_time": "2022-02-20T14:53:40.133Z"
   },
   {
    "duration": 7196,
    "start_time": "2022-02-20T14:53:42.438Z"
   },
   {
    "duration": 2,
    "start_time": "2022-02-20T14:55:01.152Z"
   },
   {
    "duration": 82,
    "start_time": "2022-02-20T14:55:22.202Z"
   },
   {
    "duration": 18,
    "start_time": "2022-02-20T14:57:57.577Z"
   },
   {
    "duration": 332,
    "start_time": "2022-02-20T14:59:51.896Z"
   },
   {
    "duration": 11,
    "start_time": "2022-02-20T15:00:46.028Z"
   },
   {
    "duration": 8,
    "start_time": "2022-02-20T15:05:56.105Z"
   },
   {
    "duration": 93,
    "start_time": "2022-02-20T15:06:02.613Z"
   },
   {
    "duration": 10,
    "start_time": "2022-02-20T15:07:58.080Z"
   },
   {
    "duration": 12,
    "start_time": "2022-02-20T15:08:05.720Z"
   },
   {
    "duration": 12,
    "start_time": "2022-02-20T15:10:27.421Z"
   },
   {
    "duration": 166,
    "start_time": "2022-02-20T15:12:11.875Z"
   },
   {
    "duration": 12,
    "start_time": "2022-02-20T15:12:52.809Z"
   },
   {
    "duration": 255,
    "start_time": "2022-02-20T15:13:22.963Z"
   },
   {
    "duration": 12,
    "start_time": "2022-02-20T15:13:49.611Z"
   },
   {
    "duration": 260,
    "start_time": "2022-02-20T15:15:26.158Z"
   },
   {
    "duration": 9,
    "start_time": "2022-02-20T15:15:49.758Z"
   },
   {
    "duration": 10,
    "start_time": "2022-02-20T15:18:14.153Z"
   },
   {
    "duration": 15,
    "start_time": "2022-02-20T15:18:51.153Z"
   },
   {
    "duration": 20,
    "start_time": "2022-02-20T15:20:34.532Z"
   },
   {
    "duration": 21,
    "start_time": "2022-02-20T15:20:39.310Z"
   },
   {
    "duration": 6,
    "start_time": "2022-02-20T15:21:02.232Z"
   },
   {
    "duration": 13,
    "start_time": "2022-02-20T15:21:39.821Z"
   },
   {
    "duration": 6639,
    "start_time": "2022-02-20T15:23:11.864Z"
   },
   {
    "duration": 7114,
    "start_time": "2022-02-20T15:24:40.581Z"
   },
   {
    "duration": 14,
    "start_time": "2022-02-20T15:25:03.905Z"
   },
   {
    "duration": 8746,
    "start_time": "2022-02-20T15:25:27.319Z"
   },
   {
    "duration": 13,
    "start_time": "2022-02-20T15:25:48.515Z"
   },
   {
    "duration": 3,
    "start_time": "2022-02-20T15:27:16.191Z"
   },
   {
    "duration": 30,
    "start_time": "2022-02-20T15:29:55.775Z"
   },
   {
    "duration": 42,
    "start_time": "2022-02-20T15:31:12.999Z"
   },
   {
    "duration": 42,
    "start_time": "2022-02-20T15:34:34.223Z"
   },
   {
    "duration": 11,
    "start_time": "2022-02-20T15:34:57.725Z"
   },
   {
    "duration": 13,
    "start_time": "2022-02-20T15:34:58.657Z"
   },
   {
    "duration": 11,
    "start_time": "2022-02-20T15:35:02.069Z"
   },
   {
    "duration": 599,
    "start_time": "2022-02-20T19:24:11.492Z"
   },
   {
    "duration": 527,
    "start_time": "2022-02-20T19:24:13.493Z"
   },
   {
    "duration": 65,
    "start_time": "2022-02-20T19:24:14.379Z"
   },
   {
    "duration": 13,
    "start_time": "2022-02-20T19:24:14.607Z"
   },
   {
    "duration": 71,
    "start_time": "2022-02-20T19:24:15.056Z"
   },
   {
    "duration": 50,
    "start_time": "2022-02-20T19:24:15.494Z"
   },
   {
    "duration": 44,
    "start_time": "2022-02-20T19:24:15.980Z"
   },
   {
    "duration": 30,
    "start_time": "2022-02-20T19:24:16.423Z"
   },
   {
    "duration": 155,
    "start_time": "2022-02-20T19:24:16.892Z"
   },
   {
    "duration": 38,
    "start_time": "2022-02-20T19:24:17.381Z"
   },
   {
    "duration": 21,
    "start_time": "2022-02-20T19:24:17.841Z"
   },
   {
    "duration": 10,
    "start_time": "2022-02-20T19:24:18.101Z"
   },
   {
    "duration": 5,
    "start_time": "2022-02-20T19:24:18.708Z"
   },
   {
    "duration": 126,
    "start_time": "2022-02-20T19:24:18.960Z"
   },
   {
    "duration": 36,
    "start_time": "2022-02-20T19:24:19.585Z"
   },
   {
    "duration": 17,
    "start_time": "2022-02-20T19:24:20.146Z"
   },
   {
    "duration": 17,
    "start_time": "2022-02-20T19:24:20.546Z"
   },
   {
    "duration": 11,
    "start_time": "2022-02-20T19:24:20.916Z"
   },
   {
    "duration": 10,
    "start_time": "2022-02-20T19:26:27.251Z"
   },
   {
    "duration": 168,
    "start_time": "2022-02-20T19:31:00.766Z"
   },
   {
    "duration": 104,
    "start_time": "2022-02-20T19:31:16.314Z"
   },
   {
    "duration": 38,
    "start_time": "2022-02-20T19:31:34.355Z"
   },
   {
    "duration": 408,
    "start_time": "2022-02-20T19:31:59.412Z"
   },
   {
    "duration": 44,
    "start_time": "2022-02-20T19:32:18.141Z"
   },
   {
    "duration": 333,
    "start_time": "2022-02-20T19:33:09.198Z"
   },
   {
    "duration": 46,
    "start_time": "2022-02-20T19:33:38.778Z"
   },
   {
    "duration": 7,
    "start_time": "2022-02-20T19:37:06.086Z"
   },
   {
    "duration": 7,
    "start_time": "2022-02-20T19:37:13.629Z"
   },
   {
    "duration": 776,
    "start_time": "2022-02-20T21:12:52.030Z"
   },
   {
    "duration": 672,
    "start_time": "2022-02-20T21:12:52.810Z"
   },
   {
    "duration": 112,
    "start_time": "2022-02-20T21:12:54.524Z"
   },
   {
    "duration": 23,
    "start_time": "2022-02-20T21:12:54.985Z"
   },
   {
    "duration": 89,
    "start_time": "2022-02-20T21:12:55.882Z"
   },
   {
    "duration": 90,
    "start_time": "2022-02-20T21:12:56.898Z"
   },
   {
    "duration": 69,
    "start_time": "2022-02-20T21:12:58.452Z"
   },
   {
    "duration": 51,
    "start_time": "2022-02-20T21:13:01.245Z"
   },
   {
    "duration": 242,
    "start_time": "2022-02-20T21:13:02.498Z"
   },
   {
    "duration": 67,
    "start_time": "2022-02-20T21:13:04.547Z"
   },
   {
    "duration": 37,
    "start_time": "2022-02-20T21:13:06.189Z"
   },
   {
    "duration": 12,
    "start_time": "2022-02-20T21:13:07.033Z"
   },
   {
    "duration": 9,
    "start_time": "2022-02-20T21:13:12.854Z"
   },
   {
    "duration": 238,
    "start_time": "2022-02-20T21:13:14.289Z"
   },
   {
    "duration": 62,
    "start_time": "2022-02-20T21:13:29.581Z"
   },
   {
    "duration": 352,
    "start_time": "2022-02-20T21:16:43.158Z"
   },
   {
    "duration": 8,
    "start_time": "2022-02-20T21:17:49.685Z"
   },
   {
    "duration": 57,
    "start_time": "2022-02-20T21:18:12.359Z"
   },
   {
    "duration": 310,
    "start_time": "2022-02-20T21:20:30.183Z"
   },
   {
    "duration": 336,
    "start_time": "2022-02-20T21:21:06.125Z"
   },
   {
    "duration": 62,
    "start_time": "2022-02-20T21:21:55.914Z"
   },
   {
    "duration": 1166,
    "start_time": "2022-02-20T21:26:12.202Z"
   },
   {
    "duration": 57,
    "start_time": "2022-02-20T21:26:26.962Z"
   },
   {
    "duration": 328,
    "start_time": "2022-02-20T21:26:52.292Z"
   },
   {
    "duration": 60,
    "start_time": "2022-02-20T21:27:22.539Z"
   },
   {
    "duration": 14,
    "start_time": "2022-02-20T21:29:13.399Z"
   },
   {
    "duration": 19,
    "start_time": "2022-02-20T21:29:14.045Z"
   },
   {
    "duration": 15,
    "start_time": "2022-02-20T21:29:14.660Z"
   },
   {
    "duration": 3,
    "start_time": "2022-02-20T21:45:11.530Z"
   },
   {
    "duration": 25,
    "start_time": "2022-02-20T21:50:10.313Z"
   },
   {
    "duration": 89,
    "start_time": "2022-02-20T21:51:22.515Z"
   },
   {
    "duration": 782,
    "start_time": "2022-02-21T18:21:47.746Z"
   },
   {
    "duration": 618,
    "start_time": "2022-02-21T18:21:53.469Z"
   },
   {
    "duration": 107,
    "start_time": "2022-02-21T18:21:56.549Z"
   },
   {
    "duration": 23,
    "start_time": "2022-02-21T18:21:57.278Z"
   },
   {
    "duration": 91,
    "start_time": "2022-02-21T18:21:58.411Z"
   },
   {
    "duration": 87,
    "start_time": "2022-02-21T18:21:59.575Z"
   },
   {
    "duration": 76,
    "start_time": "2022-02-21T18:22:00.558Z"
   },
   {
    "duration": 52,
    "start_time": "2022-02-21T18:22:01.509Z"
   },
   {
    "duration": 237,
    "start_time": "2022-02-21T18:22:02.406Z"
   },
   {
    "duration": 59,
    "start_time": "2022-02-21T18:22:03.471Z"
   },
   {
    "duration": 34,
    "start_time": "2022-02-21T18:22:04.501Z"
   },
   {
    "duration": 12,
    "start_time": "2022-02-21T18:22:05.039Z"
   },
   {
    "duration": 9,
    "start_time": "2022-02-21T18:22:06.188Z"
   },
   {
    "duration": 290,
    "start_time": "2022-02-21T18:22:06.832Z"
   },
   {
    "duration": 65,
    "start_time": "2022-02-21T18:22:08.258Z"
   },
   {
    "duration": 25,
    "start_time": "2022-02-21T18:22:08.936Z"
   },
   {
    "duration": 13,
    "start_time": "2022-02-21T18:22:10.209Z"
   },
   {
    "duration": 22,
    "start_time": "2022-02-21T18:22:10.822Z"
   },
   {
    "duration": 13,
    "start_time": "2022-02-21T18:22:11.426Z"
   },
   {
    "duration": 372,
    "start_time": "2022-02-21T18:22:20.862Z"
   },
   {
    "duration": 23,
    "start_time": "2022-02-21T18:23:38.677Z"
   },
   {
    "duration": 23,
    "start_time": "2022-02-21T18:24:38.312Z"
   },
   {
    "duration": 21,
    "start_time": "2022-02-21T18:26:16.920Z"
   },
   {
    "duration": 23,
    "start_time": "2022-02-21T18:26:43.581Z"
   },
   {
    "duration": 6,
    "start_time": "2022-02-21T18:39:27.721Z"
   },
   {
    "duration": 9,
    "start_time": "2022-02-21T18:40:36.390Z"
   },
   {
    "duration": 7,
    "start_time": "2022-02-21T18:40:51.849Z"
   },
   {
    "duration": 316,
    "start_time": "2022-02-21T18:42:36.405Z"
   },
   {
    "duration": 7,
    "start_time": "2022-02-21T18:43:04.682Z"
   },
   {
    "duration": 7,
    "start_time": "2022-02-21T18:43:41.850Z"
   },
   {
    "duration": 9,
    "start_time": "2022-02-21T20:50:25.458Z"
   },
   {
    "duration": 7,
    "start_time": "2022-02-21T21:02:22.716Z"
   },
   {
    "duration": 3,
    "start_time": "2022-02-21T21:03:24.610Z"
   },
   {
    "duration": 7,
    "start_time": "2022-02-21T21:08:47.485Z"
   },
   {
    "duration": 7,
    "start_time": "2022-02-21T21:09:03.424Z"
   },
   {
    "duration": 7,
    "start_time": "2022-02-21T21:16:21.436Z"
   },
   {
    "duration": 6,
    "start_time": "2022-02-21T21:18:02.749Z"
   },
   {
    "duration": 9,
    "start_time": "2022-02-21T21:18:18.778Z"
   },
   {
    "duration": 7,
    "start_time": "2022-02-21T21:18:29.451Z"
   },
   {
    "duration": 6,
    "start_time": "2022-02-21T21:18:37.352Z"
   },
   {
    "duration": 14,
    "start_time": "2022-02-21T21:19:27.590Z"
   },
   {
    "duration": 23,
    "start_time": "2022-02-21T21:19:37.121Z"
   },
   {
    "duration": 8,
    "start_time": "2022-02-21T21:19:48.843Z"
   },
   {
    "duration": 7,
    "start_time": "2022-02-21T21:19:53.683Z"
   },
   {
    "duration": 23,
    "start_time": "2022-02-21T21:20:04.663Z"
   },
   {
    "duration": 3,
    "start_time": "2022-02-21T21:21:04.100Z"
   },
   {
    "duration": 9,
    "start_time": "2022-02-21T21:32:23.439Z"
   },
   {
    "duration": 9,
    "start_time": "2022-02-21T21:36:09.174Z"
   },
   {
    "duration": 7,
    "start_time": "2022-02-21T21:36:11.304Z"
   },
   {
    "duration": 578,
    "start_time": "2022-02-22T16:48:37.735Z"
   },
   {
    "duration": 476,
    "start_time": "2022-02-22T16:48:42.281Z"
   },
   {
    "duration": 75,
    "start_time": "2022-02-22T16:48:45.181Z"
   },
   {
    "duration": 13,
    "start_time": "2022-02-22T16:48:45.869Z"
   },
   {
    "duration": 62,
    "start_time": "2022-02-22T16:48:47.155Z"
   },
   {
    "duration": 59,
    "start_time": "2022-02-22T16:48:48.349Z"
   },
   {
    "duration": 46,
    "start_time": "2022-02-22T16:48:49.875Z"
   },
   {
    "duration": 35,
    "start_time": "2022-02-22T16:48:51.443Z"
   },
   {
    "duration": 175,
    "start_time": "2022-02-22T16:48:54.931Z"
   },
   {
    "duration": 38,
    "start_time": "2022-02-22T16:48:56.372Z"
   },
   {
    "duration": 20,
    "start_time": "2022-02-22T16:48:57.639Z"
   },
   {
    "duration": 8,
    "start_time": "2022-02-22T16:48:58.347Z"
   },
   {
    "duration": 5,
    "start_time": "2022-02-22T16:48:59.749Z"
   },
   {
    "duration": 124,
    "start_time": "2022-02-22T16:49:00.395Z"
   },
   {
    "duration": 40,
    "start_time": "2022-02-22T16:49:01.748Z"
   },
   {
    "duration": 16,
    "start_time": "2022-02-22T16:49:02.361Z"
   },
   {
    "duration": 9,
    "start_time": "2022-02-22T16:49:03.942Z"
   },
   {
    "duration": 11,
    "start_time": "2022-02-22T16:49:04.608Z"
   },
   {
    "duration": 9,
    "start_time": "2022-02-22T16:49:05.291Z"
   },
   {
    "duration": 14,
    "start_time": "2022-02-22T16:49:07.727Z"
   },
   {
    "duration": 16,
    "start_time": "2022-02-22T16:49:10.051Z"
   },
   {
    "duration": 6,
    "start_time": "2022-02-22T16:49:12.200Z"
   },
   {
    "duration": 5,
    "start_time": "2022-02-22T16:49:12.922Z"
   },
   {
    "duration": 14,
    "start_time": "2022-02-22T16:49:14.349Z"
   },
   {
    "duration": 7,
    "start_time": "2022-02-22T16:49:17.424Z"
   },
   {
    "duration": 4,
    "start_time": "2022-02-22T16:49:18.623Z"
   },
   {
    "duration": 52,
    "start_time": "2022-02-22T17:14:31.629Z"
   },
   {
    "duration": 404,
    "start_time": "2022-02-22T17:22:50.056Z"
   },
   {
    "duration": 226,
    "start_time": "2022-02-22T17:23:03.479Z"
   },
   {
    "duration": 54,
    "start_time": "2022-02-22T17:23:15.973Z"
   },
   {
    "duration": 53,
    "start_time": "2022-02-22T17:23:24.719Z"
   },
   {
    "duration": 4482,
    "start_time": "2022-02-22T17:23:43.413Z"
   },
   {
    "duration": 199,
    "start_time": "2022-02-22T17:24:01.915Z"
   },
   {
    "duration": 53,
    "start_time": "2022-02-22T17:26:19.937Z"
   },
   {
    "duration": 183,
    "start_time": "2022-02-22T17:30:19.559Z"
   },
   {
    "duration": 76,
    "start_time": "2022-02-22T17:30:28.325Z"
   },
   {
    "duration": 705,
    "start_time": "2022-02-22T17:44:56.300Z"
   },
   {
    "duration": 41,
    "start_time": "2022-02-22T17:45:12.430Z"
   },
   {
    "duration": 40,
    "start_time": "2022-02-22T17:46:36.572Z"
   },
   {
    "duration": 42,
    "start_time": "2022-02-22T17:46:52.033Z"
   },
   {
    "duration": 38,
    "start_time": "2022-02-22T17:48:49.920Z"
   },
   {
    "duration": 2,
    "start_time": "2022-02-22T17:49:36.890Z"
   },
   {
    "duration": 3,
    "start_time": "2022-02-22T17:50:02.939Z"
   },
   {
    "duration": 589,
    "start_time": "2022-02-22T19:53:04.819Z"
   },
   {
    "duration": 475,
    "start_time": "2022-02-22T19:53:06.892Z"
   },
   {
    "duration": 75,
    "start_time": "2022-02-22T19:53:09.129Z"
   },
   {
    "duration": 14,
    "start_time": "2022-02-22T19:53:10.787Z"
   },
   {
    "duration": 63,
    "start_time": "2022-02-22T19:53:11.649Z"
   },
   {
    "duration": 61,
    "start_time": "2022-02-22T19:53:12.475Z"
   },
   {
    "duration": 51,
    "start_time": "2022-02-22T19:53:13.342Z"
   },
   {
    "duration": 37,
    "start_time": "2022-02-22T19:53:14.496Z"
   },
   {
    "duration": 178,
    "start_time": "2022-02-22T19:53:15.731Z"
   },
   {
    "duration": 37,
    "start_time": "2022-02-22T19:53:16.701Z"
   },
   {
    "duration": 24,
    "start_time": "2022-02-22T19:53:17.681Z"
   },
   {
    "duration": 8,
    "start_time": "2022-02-22T19:53:18.298Z"
   },
   {
    "duration": 6,
    "start_time": "2022-02-22T19:53:19.441Z"
   },
   {
    "duration": 140,
    "start_time": "2022-02-22T19:53:19.904Z"
   },
   {
    "duration": 44,
    "start_time": "2022-02-22T19:53:20.751Z"
   },
   {
    "duration": 3,
    "start_time": "2022-02-22T19:53:21.176Z"
   },
   {
    "duration": 9,
    "start_time": "2022-02-22T19:53:24.051Z"
   },
   {
    "duration": 12,
    "start_time": "2022-02-22T19:53:24.739Z"
   },
   {
    "duration": 9,
    "start_time": "2022-02-22T19:53:25.497Z"
   },
   {
    "duration": 2,
    "start_time": "2022-02-22T19:53:26.725Z"
   },
   {
    "duration": 17,
    "start_time": "2022-02-22T19:53:30.021Z"
   },
   {
    "duration": 18,
    "start_time": "2022-02-22T19:53:39.258Z"
   },
   {
    "duration": 9,
    "start_time": "2022-02-22T19:58:18.380Z"
   },
   {
    "duration": 8,
    "start_time": "2022-02-22T19:58:57.236Z"
   },
   {
    "duration": 49,
    "start_time": "2022-02-22T20:00:29.459Z"
   },
   {
    "duration": 3,
    "start_time": "2022-02-22T20:00:36.261Z"
   },
   {
    "duration": 11,
    "start_time": "2022-02-22T20:00:37.321Z"
   },
   {
    "duration": 12,
    "start_time": "2022-02-22T20:00:38.659Z"
   },
   {
    "duration": 9,
    "start_time": "2022-02-22T20:00:39.029Z"
   },
   {
    "duration": 18,
    "start_time": "2022-02-22T20:00:40.253Z"
   },
   {
    "duration": 9,
    "start_time": "2022-02-22T20:00:42.197Z"
   },
   {
    "duration": 12,
    "start_time": "2022-02-22T20:01:46.307Z"
   },
   {
    "duration": 8,
    "start_time": "2022-02-22T20:02:03.418Z"
   },
   {
    "duration": 8,
    "start_time": "2022-02-22T20:08:01.528Z"
   },
   {
    "duration": 7,
    "start_time": "2022-02-22T20:08:11.222Z"
   },
   {
    "duration": 8,
    "start_time": "2022-02-22T20:13:44.202Z"
   },
   {
    "duration": 8,
    "start_time": "2022-02-22T20:13:55.873Z"
   },
   {
    "duration": 8,
    "start_time": "2022-02-22T20:14:23.428Z"
   },
   {
    "duration": 7,
    "start_time": "2022-02-22T20:14:28.345Z"
   },
   {
    "duration": 15,
    "start_time": "2022-02-22T20:17:30.239Z"
   },
   {
    "duration": 5,
    "start_time": "2022-02-22T20:24:36.922Z"
   },
   {
    "duration": 249,
    "start_time": "2022-02-22T20:24:47.709Z"
   },
   {
    "duration": 5,
    "start_time": "2022-02-22T20:25:02.709Z"
   },
   {
    "duration": 5,
    "start_time": "2022-02-22T20:25:30.448Z"
   },
   {
    "duration": 614,
    "start_time": "2022-02-23T09:58:33.792Z"
   },
   {
    "duration": 554,
    "start_time": "2022-02-23T09:58:34.974Z"
   },
   {
    "duration": 79,
    "start_time": "2022-02-23T09:58:36.800Z"
   },
   {
    "duration": 15,
    "start_time": "2022-02-23T09:58:37.094Z"
   },
   {
    "duration": 65,
    "start_time": "2022-02-23T09:58:38.130Z"
   },
   {
    "duration": 60,
    "start_time": "2022-02-23T09:58:38.933Z"
   },
   {
    "duration": 46,
    "start_time": "2022-02-23T09:58:39.758Z"
   },
   {
    "duration": 35,
    "start_time": "2022-02-23T09:58:40.684Z"
   },
   {
    "duration": 180,
    "start_time": "2022-02-23T09:58:41.591Z"
   },
   {
    "duration": 45,
    "start_time": "2022-02-23T09:58:42.522Z"
   },
   {
    "duration": 25,
    "start_time": "2022-02-23T09:58:43.456Z"
   },
   {
    "duration": 12,
    "start_time": "2022-02-23T09:58:43.974Z"
   },
   {
    "duration": 6,
    "start_time": "2022-02-23T09:58:45.185Z"
   },
   {
    "duration": 154,
    "start_time": "2022-02-23T09:58:45.947Z"
   },
   {
    "duration": 49,
    "start_time": "2022-02-23T09:58:47.576Z"
   },
   {
    "duration": 3,
    "start_time": "2022-02-23T09:58:48.310Z"
   },
   {
    "duration": 9,
    "start_time": "2022-02-23T09:58:49.771Z"
   },
   {
    "duration": 12,
    "start_time": "2022-02-23T09:58:50.479Z"
   },
   {
    "duration": 9,
    "start_time": "2022-02-23T09:58:51.196Z"
   },
   {
    "duration": 19,
    "start_time": "2022-02-23T09:58:52.324Z"
   },
   {
    "duration": 17,
    "start_time": "2022-02-23T09:58:54.108Z"
   },
   {
    "duration": 7,
    "start_time": "2022-02-23T10:01:50.540Z"
   },
   {
    "duration": 7,
    "start_time": "2022-02-23T10:02:50.149Z"
   },
   {
    "duration": 9,
    "start_time": "2022-02-23T10:03:02.959Z"
   },
   {
    "duration": 390,
    "start_time": "2022-02-23T10:10:40.836Z"
   },
   {
    "duration": 76,
    "start_time": "2022-02-23T10:13:37.292Z"
   },
   {
    "duration": 4,
    "start_time": "2022-02-23T10:13:58.152Z"
   },
   {
    "duration": 260,
    "start_time": "2022-02-23T10:20:45.869Z"
   },
   {
    "duration": 5,
    "start_time": "2022-02-23T10:21:22.517Z"
   },
   {
    "duration": 6,
    "start_time": "2022-02-23T10:24:10.843Z"
   },
   {
    "duration": 7,
    "start_time": "2022-02-23T10:29:33.416Z"
   },
   {
    "duration": 311,
    "start_time": "2022-02-23T10:30:05.103Z"
   },
   {
    "duration": 5,
    "start_time": "2022-02-23T10:33:13.654Z"
   },
   {
    "duration": 6,
    "start_time": "2022-02-23T10:34:14.055Z"
   },
   {
    "duration": 18,
    "start_time": "2022-02-23T10:46:17.137Z"
   },
   {
    "duration": 7,
    "start_time": "2022-02-23T10:49:21.354Z"
   },
   {
    "duration": 5,
    "start_time": "2022-02-23T10:49:23.764Z"
   },
   {
    "duration": 254,
    "start_time": "2022-02-23T10:49:26.058Z"
   },
   {
    "duration": 262,
    "start_time": "2022-02-23T11:02:52.726Z"
   },
   {
    "duration": 317,
    "start_time": "2022-02-23T11:11:06.234Z"
   },
   {
    "duration": 3,
    "start_time": "2022-02-23T12:43:52.411Z"
   },
   {
    "duration": 7,
    "start_time": "2022-02-23T12:44:22.746Z"
   },
   {
    "duration": 13,
    "start_time": "2022-02-23T12:44:24.458Z"
   },
   {
    "duration": 7,
    "start_time": "2022-02-23T12:44:26.652Z"
   },
   {
    "duration": 6,
    "start_time": "2022-02-23T12:44:26.888Z"
   },
   {
    "duration": 235,
    "start_time": "2022-02-23T12:44:28.236Z"
   },
   {
    "duration": 13,
    "start_time": "2022-02-23T12:44:29.831Z"
   },
   {
    "duration": 7,
    "start_time": "2022-02-23T12:44:30.884Z"
   },
   {
    "duration": 6,
    "start_time": "2022-02-23T12:44:31.406Z"
   },
   {
    "duration": 240,
    "start_time": "2022-02-23T12:44:32.376Z"
   },
   {
    "duration": 14,
    "start_time": "2022-02-23T13:06:28.378Z"
   },
   {
    "duration": 15,
    "start_time": "2022-02-23T13:06:29.704Z"
   },
   {
    "duration": 76,
    "start_time": "2022-02-23T13:08:27.970Z"
   },
   {
    "duration": 77,
    "start_time": "2022-02-23T13:08:58.605Z"
   },
   {
    "duration": 7,
    "start_time": "2022-02-23T13:11:35.400Z"
   },
   {
    "duration": 7,
    "start_time": "2022-02-23T13:11:36.718Z"
   },
   {
    "duration": 18,
    "start_time": "2022-02-23T13:14:35.968Z"
   },
   {
    "duration": 25,
    "start_time": "2022-02-23T13:15:42.054Z"
   },
   {
    "duration": 8,
    "start_time": "2022-02-23T13:15:57.859Z"
   },
   {
    "duration": 79,
    "start_time": "2022-02-23T13:16:19.904Z"
   },
   {
    "duration": 7,
    "start_time": "2022-02-23T13:16:58.589Z"
   },
   {
    "duration": 7,
    "start_time": "2022-02-23T13:18:17.811Z"
   },
   {
    "duration": 7,
    "start_time": "2022-02-23T13:19:53.650Z"
   },
   {
    "duration": 8,
    "start_time": "2022-02-23T13:33:17.956Z"
   },
   {
    "duration": 5,
    "start_time": "2022-02-23T13:33:18.770Z"
   },
   {
    "duration": 8,
    "start_time": "2022-02-23T13:34:47.876Z"
   },
   {
    "duration": 6,
    "start_time": "2022-02-23T13:34:48.594Z"
   },
   {
    "duration": 8,
    "start_time": "2022-02-23T13:36:25.930Z"
   },
   {
    "duration": 6,
    "start_time": "2022-02-23T13:36:26.536Z"
   },
   {
    "duration": 7,
    "start_time": "2022-02-23T13:36:29.571Z"
   },
   {
    "duration": 4,
    "start_time": "2022-02-23T13:36:31.674Z"
   },
   {
    "duration": 6,
    "start_time": "2022-02-23T13:36:33.892Z"
   },
   {
    "duration": 7,
    "start_time": "2022-02-23T13:37:10.541Z"
   },
   {
    "duration": 13,
    "start_time": "2022-02-23T13:49:08.299Z"
   },
   {
    "duration": 7,
    "start_time": "2022-02-23T13:49:09.219Z"
   },
   {
    "duration": 6,
    "start_time": "2022-02-23T13:49:09.706Z"
   },
   {
    "duration": 8,
    "start_time": "2022-02-23T13:49:10.318Z"
   },
   {
    "duration": 4,
    "start_time": "2022-02-23T13:49:10.809Z"
   },
   {
    "duration": 7,
    "start_time": "2022-02-23T13:50:53.249Z"
   },
   {
    "duration": 5,
    "start_time": "2022-02-23T13:50:54.739Z"
   },
   {
    "duration": 232,
    "start_time": "2022-02-23T13:51:12.650Z"
   },
   {
    "duration": 220,
    "start_time": "2022-02-23T13:51:44.620Z"
   },
   {
    "duration": 244,
    "start_time": "2022-02-23T13:52:22.368Z"
   },
   {
    "duration": 228,
    "start_time": "2022-02-23T13:52:29.711Z"
   },
   {
    "duration": 234,
    "start_time": "2022-02-23T13:52:50.517Z"
   },
   {
    "duration": 202,
    "start_time": "2022-02-23T14:07:58.591Z"
   },
   {
    "duration": 255,
    "start_time": "2022-02-23T14:08:14.997Z"
   },
   {
    "duration": 15,
    "start_time": "2022-02-23T14:16:28.721Z"
   },
   {
    "duration": 77,
    "start_time": "2022-02-23T14:17:27.797Z"
   },
   {
    "duration": 14,
    "start_time": "2022-02-23T14:17:43.935Z"
   },
   {
    "duration": 88,
    "start_time": "2022-02-23T14:20:00.056Z"
   },
   {
    "duration": 247,
    "start_time": "2022-02-23T14:21:03.867Z"
   },
   {
    "duration": 7,
    "start_time": "2022-02-23T14:21:09.291Z"
   },
   {
    "duration": 7,
    "start_time": "2022-02-23T14:21:27.375Z"
   },
   {
    "duration": 5,
    "start_time": "2022-02-23T14:21:28.910Z"
   },
   {
    "duration": 7,
    "start_time": "2022-02-23T14:23:21.327Z"
   },
   {
    "duration": 6,
    "start_time": "2022-02-23T14:23:22.359Z"
   },
   {
    "duration": 7,
    "start_time": "2022-02-23T14:23:23.381Z"
   },
   {
    "duration": 6,
    "start_time": "2022-02-23T14:23:24.271Z"
   },
   {
    "duration": 231,
    "start_time": "2022-02-23T14:25:30.302Z"
   },
   {
    "duration": 297,
    "start_time": "2022-02-23T14:25:39.832Z"
   },
   {
    "duration": 238,
    "start_time": "2022-02-23T14:25:58.309Z"
   },
   {
    "duration": 255,
    "start_time": "2022-02-23T14:26:33.004Z"
   },
   {
    "duration": 254,
    "start_time": "2022-02-23T14:26:46.731Z"
   },
   {
    "duration": 233,
    "start_time": "2022-02-23T14:27:03.417Z"
   },
   {
    "duration": 223,
    "start_time": "2022-02-23T14:27:18.508Z"
   },
   {
    "duration": 271,
    "start_time": "2022-02-23T14:27:37.700Z"
   },
   {
    "duration": 269,
    "start_time": "2022-02-23T14:27:46.960Z"
   },
   {
    "duration": 230,
    "start_time": "2022-02-23T14:28:21.509Z"
   },
   {
    "duration": 2,
    "start_time": "2022-02-23T14:40:50.006Z"
   },
   {
    "duration": 3,
    "start_time": "2022-02-23T14:41:11.677Z"
   },
   {
    "duration": 3,
    "start_time": "2022-02-23T14:42:27.217Z"
   },
   {
    "duration": 3,
    "start_time": "2022-02-23T14:44:35.199Z"
   },
   {
    "duration": 274,
    "start_time": "2022-02-23T14:45:07.704Z"
   },
   {
    "duration": 464,
    "start_time": "2022-02-23T14:45:25.334Z"
   },
   {
    "duration": 7,
    "start_time": "2022-02-23T14:48:37.466Z"
   },
   {
    "duration": 2,
    "start_time": "2022-02-23T14:52:07.346Z"
   },
   {
    "duration": 8,
    "start_time": "2022-02-23T14:56:21.658Z"
   },
   {
    "duration": 19,
    "start_time": "2022-02-23T14:56:28.485Z"
   },
   {
    "duration": 9,
    "start_time": "2022-02-23T15:01:08.632Z"
   },
   {
    "duration": 1287,
    "start_time": "2022-02-23T15:22:30.861Z"
   },
   {
    "duration": 272,
    "start_time": "2022-02-23T15:23:07.866Z"
   },
   {
    "duration": 273,
    "start_time": "2022-02-23T15:23:30.150Z"
   },
   {
    "duration": 369,
    "start_time": "2022-02-23T15:23:49.528Z"
   },
   {
    "duration": 250,
    "start_time": "2022-02-23T15:24:08.984Z"
   },
   {
    "duration": 261,
    "start_time": "2022-02-23T15:24:15.450Z"
   },
   {
    "duration": 982,
    "start_time": "2022-03-06T07:58:07.964Z"
   },
   {
    "duration": 478,
    "start_time": "2022-03-06T07:58:08.948Z"
   },
   {
    "duration": 91,
    "start_time": "2022-03-06T07:58:09.428Z"
   },
   {
    "duration": 16,
    "start_time": "2022-03-06T07:58:09.521Z"
   },
   {
    "duration": 78,
    "start_time": "2022-03-06T07:58:09.538Z"
   },
   {
    "duration": 59,
    "start_time": "2022-03-06T07:58:09.618Z"
   },
   {
    "duration": 64,
    "start_time": "2022-03-06T07:58:09.679Z"
   },
   {
    "duration": 36,
    "start_time": "2022-03-06T07:58:09.745Z"
   },
   {
    "duration": 195,
    "start_time": "2022-03-06T07:58:09.783Z"
   },
   {
    "duration": 59,
    "start_time": "2022-03-06T07:58:09.980Z"
   },
   {
    "duration": 27,
    "start_time": "2022-03-06T07:58:10.041Z"
   },
   {
    "duration": 31,
    "start_time": "2022-03-06T07:58:10.070Z"
   },
   {
    "duration": 7,
    "start_time": "2022-03-06T07:58:10.103Z"
   },
   {
    "duration": 157,
    "start_time": "2022-03-06T07:58:10.112Z"
   },
   {
    "duration": 61,
    "start_time": "2022-03-06T07:58:10.272Z"
   },
   {
    "duration": 3,
    "start_time": "2022-03-06T07:58:10.334Z"
   },
   {
    "duration": 16,
    "start_time": "2022-03-06T07:58:10.339Z"
   },
   {
    "duration": 14,
    "start_time": "2022-03-06T07:58:10.357Z"
   },
   {
    "duration": 29,
    "start_time": "2022-03-06T07:58:10.373Z"
   },
   {
    "duration": 23,
    "start_time": "2022-03-06T07:58:10.404Z"
   },
   {
    "duration": 14,
    "start_time": "2022-03-06T07:58:10.429Z"
   },
   {
    "duration": 18,
    "start_time": "2022-03-06T07:58:10.445Z"
   },
   {
    "duration": 7,
    "start_time": "2022-03-06T07:58:10.467Z"
   },
   {
    "duration": 29,
    "start_time": "2022-03-06T07:58:10.476Z"
   },
   {
    "duration": 364,
    "start_time": "2022-03-06T07:58:10.507Z"
   },
   {
    "duration": 13,
    "start_time": "2022-03-06T07:58:10.873Z"
   },
   {
    "duration": 18,
    "start_time": "2022-03-06T07:58:10.887Z"
   },
   {
    "duration": 7,
    "start_time": "2022-03-06T07:58:10.907Z"
   },
   {
    "duration": 243,
    "start_time": "2022-03-06T07:58:10.915Z"
   },
   {
    "duration": 13,
    "start_time": "2022-03-06T07:58:11.160Z"
   },
   {
    "duration": 27,
    "start_time": "2022-03-06T07:58:11.175Z"
   },
   {
    "duration": 7,
    "start_time": "2022-03-06T07:58:11.204Z"
   },
   {
    "duration": 8,
    "start_time": "2022-03-06T07:58:11.213Z"
   },
   {
    "duration": 9,
    "start_time": "2022-03-06T07:58:11.223Z"
   },
   {
    "duration": 8,
    "start_time": "2022-03-06T07:58:11.234Z"
   },
   {
    "duration": 251,
    "start_time": "2022-03-06T07:58:11.244Z"
   },
   {
    "duration": 219,
    "start_time": "2022-03-06T07:58:11.501Z"
   },
   {
    "duration": 13,
    "start_time": "2022-03-06T07:58:11.722Z"
   },
   {
    "duration": 15,
    "start_time": "2022-03-06T07:58:11.737Z"
   },
   {
    "duration": 10,
    "start_time": "2022-03-06T07:58:11.754Z"
   },
   {
    "duration": 36,
    "start_time": "2022-03-06T07:58:11.766Z"
   },
   {
    "duration": 7,
    "start_time": "2022-03-06T07:58:11.804Z"
   },
   {
    "duration": 26,
    "start_time": "2022-03-06T07:58:11.813Z"
   },
   {
    "duration": 210,
    "start_time": "2022-03-06T07:58:11.841Z"
   },
   {
    "duration": 225,
    "start_time": "2022-03-06T07:58:12.054Z"
   },
   {
    "duration": 3,
    "start_time": "2022-03-06T07:58:12.281Z"
   },
   {
    "duration": 18,
    "start_time": "2022-03-06T07:58:12.286Z"
   },
   {
    "duration": 15,
    "start_time": "2022-03-06T07:58:12.306Z"
   },
   {
    "duration": 14,
    "start_time": "2022-03-06T07:58:12.323Z"
   },
   {
    "duration": 40,
    "start_time": "2022-03-06T08:13:59.145Z"
   },
   {
    "duration": 36,
    "start_time": "2022-03-06T08:14:06.984Z"
   },
   {
    "duration": 5,
    "start_time": "2022-03-06T08:14:54.018Z"
   },
   {
    "duration": 11,
    "start_time": "2022-03-06T08:17:59.583Z"
   },
   {
    "duration": 139,
    "start_time": "2022-03-06T08:21:31.126Z"
   },
   {
    "duration": 139,
    "start_time": "2022-03-06T08:22:20.071Z"
   },
   {
    "duration": 141,
    "start_time": "2022-03-06T08:24:08.995Z"
   },
   {
    "duration": 303,
    "start_time": "2022-03-06T08:38:08.273Z"
   },
   {
    "duration": 282,
    "start_time": "2022-03-07T10:22:33.910Z"
   },
   {
    "duration": 1181,
    "start_time": "2022-03-07T10:23:18.047Z"
   },
   {
    "duration": 512,
    "start_time": "2022-03-07T10:23:19.231Z"
   },
   {
    "duration": 80,
    "start_time": "2022-03-07T10:23:20.209Z"
   },
   {
    "duration": 17,
    "start_time": "2022-03-07T10:23:20.448Z"
   },
   {
    "duration": 68,
    "start_time": "2022-03-07T10:23:21.242Z"
   },
   {
    "duration": 60,
    "start_time": "2022-03-07T10:23:21.801Z"
   },
   {
    "duration": 62,
    "start_time": "2022-03-07T10:23:22.952Z"
   },
   {
    "duration": 53,
    "start_time": "2022-03-07T10:23:23.780Z"
   },
   {
    "duration": 171,
    "start_time": "2022-03-07T10:23:24.681Z"
   },
   {
    "duration": 45,
    "start_time": "2022-03-07T10:23:25.323Z"
   },
   {
    "duration": 25,
    "start_time": "2022-03-07T10:23:26.671Z"
   },
   {
    "duration": 9,
    "start_time": "2022-03-07T10:23:27.614Z"
   },
   {
    "duration": 9,
    "start_time": "2022-03-07T10:23:28.665Z"
   },
   {
    "duration": 146,
    "start_time": "2022-03-07T10:23:29.755Z"
   },
   {
    "duration": 9,
    "start_time": "2022-03-07T10:23:31.576Z"
   },
   {
    "duration": 15,
    "start_time": "2022-03-07T10:23:51.923Z"
   },
   {
    "duration": 12,
    "start_time": "2022-03-07T10:26:42.990Z"
   },
   {
    "duration": 26,
    "start_time": "2022-03-07T10:26:56.874Z"
   },
   {
    "duration": 8,
    "start_time": "2022-03-07T10:41:40.130Z"
   },
   {
    "duration": 305,
    "start_time": "2022-03-07T10:41:57.473Z"
   },
   {
    "duration": 20,
    "start_time": "2022-03-07T10:47:25.806Z"
   },
   {
    "duration": 15,
    "start_time": "2022-03-07T10:48:51.230Z"
   },
   {
    "duration": 48,
    "start_time": "2022-03-07T10:54:44.077Z"
   },
   {
    "duration": 77,
    "start_time": "2022-03-07T11:30:55.538Z"
   },
   {
    "duration": 7,
    "start_time": "2022-03-07T11:42:04.292Z"
   },
   {
    "duration": 9,
    "start_time": "2022-03-07T11:42:58.452Z"
   },
   {
    "duration": 6,
    "start_time": "2022-03-07T11:42:59.037Z"
   },
   {
    "duration": 341,
    "start_time": "2022-03-07T11:43:12.067Z"
   },
   {
    "duration": 232,
    "start_time": "2022-03-07T11:43:22.295Z"
   },
   {
    "duration": 221,
    "start_time": "2022-03-07T11:43:30.044Z"
   },
   {
    "duration": 14,
    "start_time": "2022-03-07T11:43:51.542Z"
   },
   {
    "duration": 8,
    "start_time": "2022-03-07T11:44:27.242Z"
   },
   {
    "duration": 6,
    "start_time": "2022-03-07T11:44:31.531Z"
   },
   {
    "duration": 232,
    "start_time": "2022-03-07T11:44:36.157Z"
   },
   {
    "duration": 209,
    "start_time": "2022-03-07T11:44:41.778Z"
   },
   {
    "duration": 13,
    "start_time": "2022-03-07T11:48:59.918Z"
   },
   {
    "duration": 15,
    "start_time": "2022-03-07T11:49:21.792Z"
   },
   {
    "duration": 7,
    "start_time": "2022-03-07T11:49:44.163Z"
   },
   {
    "duration": 5,
    "start_time": "2022-03-07T11:50:04.429Z"
   },
   {
    "duration": 7,
    "start_time": "2022-03-07T11:50:13.319Z"
   },
   {
    "duration": 5,
    "start_time": "2022-03-07T11:50:14.046Z"
   },
   {
    "duration": 208,
    "start_time": "2022-03-07T11:50:22.880Z"
   },
   {
    "duration": 200,
    "start_time": "2022-03-07T11:50:49.476Z"
   },
   {
    "duration": 14,
    "start_time": "2022-03-07T11:51:12.703Z"
   },
   {
    "duration": 15,
    "start_time": "2022-03-07T11:51:31.462Z"
   },
   {
    "duration": 7,
    "start_time": "2022-03-07T11:51:58.029Z"
   },
   {
    "duration": 6,
    "start_time": "2022-03-07T11:51:59.637Z"
   },
   {
    "duration": 8,
    "start_time": "2022-03-07T11:52:07.344Z"
   },
   {
    "duration": 6,
    "start_time": "2022-03-07T11:52:14.942Z"
   },
   {
    "duration": 210,
    "start_time": "2022-03-07T11:52:35.482Z"
   },
   {
    "duration": 208,
    "start_time": "2022-03-07T11:54:37.686Z"
   },
   {
    "duration": 2,
    "start_time": "2022-03-07T11:56:24.179Z"
   },
   {
    "duration": 502,
    "start_time": "2022-03-07T11:56:25.525Z"
   },
   {
    "duration": 74,
    "start_time": "2022-03-07T11:56:27.271Z"
   },
   {
    "duration": 16,
    "start_time": "2022-03-07T11:56:27.612Z"
   },
   {
    "duration": 83,
    "start_time": "2022-03-07T11:56:28.663Z"
   },
   {
    "duration": 48,
    "start_time": "2022-03-07T11:56:29.355Z"
   },
   {
    "duration": 38,
    "start_time": "2022-03-07T11:56:30.932Z"
   },
   {
    "duration": 35,
    "start_time": "2022-03-07T11:56:32.033Z"
   },
   {
    "duration": 193,
    "start_time": "2022-03-07T11:56:33.133Z"
   },
   {
    "duration": 41,
    "start_time": "2022-03-07T11:56:33.838Z"
   },
   {
    "duration": 28,
    "start_time": "2022-03-07T11:56:36.954Z"
   },
   {
    "duration": 9,
    "start_time": "2022-03-07T11:56:40.551Z"
   },
   {
    "duration": 7,
    "start_time": "2022-03-07T11:56:41.640Z"
   },
   {
    "duration": 145,
    "start_time": "2022-03-07T11:56:42.887Z"
   },
   {
    "duration": 25,
    "start_time": "2022-03-07T11:56:44.201Z"
   },
   {
    "duration": 50,
    "start_time": "2022-03-07T11:56:45.777Z"
   },
   {
    "duration": 3,
    "start_time": "2022-03-07T11:56:46.272Z"
   },
   {
    "duration": 10,
    "start_time": "2022-03-07T11:56:47.833Z"
   },
   {
    "duration": 13,
    "start_time": "2022-03-07T11:56:48.295Z"
   },
   {
    "duration": 9,
    "start_time": "2022-03-07T11:56:48.885Z"
   },
   {
    "duration": 19,
    "start_time": "2022-03-07T11:56:50.535Z"
   },
   {
    "duration": 21,
    "start_time": "2022-03-07T11:57:00.750Z"
   },
   {
    "duration": 14,
    "start_time": "2022-03-07T11:57:01.987Z"
   },
   {
    "duration": 7,
    "start_time": "2022-03-07T11:57:03.241Z"
   },
   {
    "duration": 6,
    "start_time": "2022-03-07T11:57:03.617Z"
   },
   {
    "duration": 290,
    "start_time": "2022-03-07T11:57:04.303Z"
   },
   {
    "duration": 16,
    "start_time": "2022-03-07T11:57:05.613Z"
   },
   {
    "duration": 7,
    "start_time": "2022-03-07T11:57:06.092Z"
   },
   {
    "duration": 7,
    "start_time": "2022-03-07T11:57:06.295Z"
   },
   {
    "duration": 220,
    "start_time": "2022-03-07T11:57:06.737Z"
   },
   {
    "duration": 15,
    "start_time": "2022-03-07T11:57:07.833Z"
   },
   {
    "duration": 14,
    "start_time": "2022-03-07T11:57:08.284Z"
   },
   {
    "duration": 7,
    "start_time": "2022-03-07T11:57:08.738Z"
   },
   {
    "duration": 6,
    "start_time": "2022-03-07T11:57:08.979Z"
   },
   {
    "duration": 6,
    "start_time": "2022-03-07T11:57:09.180Z"
   },
   {
    "duration": 5,
    "start_time": "2022-03-07T11:57:09.420Z"
   },
   {
    "duration": 204,
    "start_time": "2022-03-07T11:57:10.362Z"
   },
   {
    "duration": 209,
    "start_time": "2022-03-07T11:57:11.218Z"
   },
   {
    "duration": 14,
    "start_time": "2022-03-07T11:57:12.856Z"
   },
   {
    "duration": 14,
    "start_time": "2022-03-07T11:57:13.573Z"
   },
   {
    "duration": 6,
    "start_time": "2022-03-07T11:57:14.316Z"
   },
   {
    "duration": 6,
    "start_time": "2022-03-07T11:57:14.698Z"
   },
   {
    "duration": 7,
    "start_time": "2022-03-07T11:57:15.080Z"
   },
   {
    "duration": 5,
    "start_time": "2022-03-07T11:57:15.456Z"
   },
   {
    "duration": 208,
    "start_time": "2022-03-07T11:57:16.183Z"
   },
   {
    "duration": 202,
    "start_time": "2022-03-07T11:57:17.255Z"
   },
   {
    "duration": 3,
    "start_time": "2022-03-07T11:57:28.709Z"
   },
   {
    "duration": 6351,
    "start_time": "2022-03-07T11:57:29.158Z"
   },
   {
    "duration": 5854,
    "start_time": "2022-03-07T11:59:18.145Z"
   },
   {
    "duration": 2,
    "start_time": "2022-03-07T11:59:37.070Z"
   },
   {
    "duration": 5599,
    "start_time": "2022-03-07T11:59:49.212Z"
   },
   {
    "duration": 10,
    "start_time": "2022-03-07T12:00:03.747Z"
   },
   {
    "duration": 9,
    "start_time": "2022-03-07T12:00:57.926Z"
   },
   {
    "duration": 5586,
    "start_time": "2022-03-07T12:02:22.167Z"
   },
   {
    "duration": 9,
    "start_time": "2022-03-07T12:02:37.695Z"
   },
   {
    "duration": 8,
    "start_time": "2022-03-07T12:02:38.713Z"
   },
   {
    "duration": 253,
    "start_time": "2022-03-08T07:24:48.621Z"
   },
   {
    "duration": 909,
    "start_time": "2022-03-08T07:24:56.145Z"
   },
   {
    "duration": 485,
    "start_time": "2022-03-08T07:24:57.056Z"
   },
   {
    "duration": 94,
    "start_time": "2022-03-08T07:24:57.544Z"
   },
   {
    "duration": 15,
    "start_time": "2022-03-08T07:24:57.640Z"
   },
   {
    "duration": 79,
    "start_time": "2022-03-08T07:24:57.656Z"
   },
   {
    "duration": 71,
    "start_time": "2022-03-08T07:24:57.737Z"
   },
   {
    "duration": 45,
    "start_time": "2022-03-08T07:24:57.810Z"
   },
   {
    "duration": 47,
    "start_time": "2022-03-08T07:24:57.858Z"
   },
   {
    "duration": 179,
    "start_time": "2022-03-08T07:24:57.907Z"
   },
   {
    "duration": 48,
    "start_time": "2022-03-08T07:24:58.087Z"
   },
   {
    "duration": 26,
    "start_time": "2022-03-08T07:24:58.136Z"
   },
   {
    "duration": 8,
    "start_time": "2022-03-08T07:24:58.164Z"
   },
   {
    "duration": 7,
    "start_time": "2022-03-08T07:24:58.202Z"
   },
   {
    "duration": 154,
    "start_time": "2022-03-08T07:24:58.211Z"
   },
   {
    "duration": 36,
    "start_time": "2022-03-08T07:24:58.366Z"
   },
   {
    "duration": 53,
    "start_time": "2022-03-08T07:24:58.404Z"
   },
   {
    "duration": 2,
    "start_time": "2022-03-08T07:24:58.460Z"
   },
   {
    "duration": 38,
    "start_time": "2022-03-08T07:24:58.464Z"
   },
   {
    "duration": 13,
    "start_time": "2022-03-08T07:24:58.504Z"
   },
   {
    "duration": 12,
    "start_time": "2022-03-08T07:24:58.519Z"
   },
   {
    "duration": 27,
    "start_time": "2022-03-08T07:24:58.532Z"
   },
   {
    "duration": 60,
    "start_time": "2022-03-08T07:24:58.561Z"
   },
   {
    "duration": 15,
    "start_time": "2022-03-08T07:24:58.626Z"
   },
   {
    "duration": 9,
    "start_time": "2022-03-08T07:24:58.644Z"
   },
   {
    "duration": 8,
    "start_time": "2022-03-08T07:24:58.655Z"
   },
   {
    "duration": 371,
    "start_time": "2022-03-08T07:24:58.665Z"
   },
   {
    "duration": 15,
    "start_time": "2022-03-08T07:24:59.038Z"
   },
   {
    "duration": 12,
    "start_time": "2022-03-08T07:24:59.055Z"
   },
   {
    "duration": 29,
    "start_time": "2022-03-08T07:24:59.069Z"
   },
   {
    "duration": 221,
    "start_time": "2022-03-08T07:24:59.101Z"
   },
   {
    "duration": 15,
    "start_time": "2022-03-08T07:24:59.324Z"
   },
   {
    "duration": 25,
    "start_time": "2022-03-08T07:24:59.341Z"
   },
   {
    "duration": 16,
    "start_time": "2022-03-08T07:24:59.369Z"
   },
   {
    "duration": 34,
    "start_time": "2022-03-08T07:24:59.388Z"
   },
   {
    "duration": 18,
    "start_time": "2022-03-08T07:24:59.424Z"
   },
   {
    "duration": 11,
    "start_time": "2022-03-08T07:24:59.444Z"
   },
   {
    "duration": 201,
    "start_time": "2022-03-08T07:24:59.457Z"
   },
   {
    "duration": 199,
    "start_time": "2022-03-08T07:24:59.660Z"
   },
   {
    "duration": 12,
    "start_time": "2022-03-08T07:24:59.860Z"
   },
   {
    "duration": 29,
    "start_time": "2022-03-08T07:24:59.874Z"
   },
   {
    "duration": 10,
    "start_time": "2022-03-08T07:24:59.905Z"
   },
   {
    "duration": 10,
    "start_time": "2022-03-08T07:24:59.916Z"
   },
   {
    "duration": 8,
    "start_time": "2022-03-08T07:24:59.928Z"
   },
   {
    "duration": 8,
    "start_time": "2022-03-08T07:24:59.938Z"
   },
   {
    "duration": 224,
    "start_time": "2022-03-08T07:24:59.948Z"
   },
   {
    "duration": 214,
    "start_time": "2022-03-08T07:25:00.173Z"
   },
   {
    "duration": 2,
    "start_time": "2022-03-08T07:25:00.389Z"
   },
   {
    "duration": 18,
    "start_time": "2022-03-08T07:25:00.393Z"
   },
   {
    "duration": 9,
    "start_time": "2022-03-08T07:25:00.413Z"
   },
   {
    "duration": 32,
    "start_time": "2022-03-08T07:25:00.425Z"
   },
   {
    "duration": 25,
    "start_time": "2022-03-08T07:25:31.144Z"
   }
  ],
  "kernelspec": {
   "display_name": "Python 3 (ipykernel)",
   "language": "python",
   "name": "python3"
  },
  "language_info": {
   "codemirror_mode": {
    "name": "ipython",
    "version": 3
   },
   "file_extension": ".py",
   "mimetype": "text/x-python",
   "name": "python",
   "nbconvert_exporter": "python",
   "pygments_lexer": "ipython3",
   "version": "3.10.4"
  },
  "toc": {
   "base_numbering": 1,
   "nav_menu": {},
   "number_sections": true,
   "sideBar": true,
   "skip_h1_title": true,
   "title_cell": "Table of Contents",
   "title_sidebar": "Contents",
   "toc_cell": false,
   "toc_position": {},
   "toc_section_display": true,
   "toc_window_display": false
  }
 },
 "nbformat": 4,
 "nbformat_minor": 2
}
