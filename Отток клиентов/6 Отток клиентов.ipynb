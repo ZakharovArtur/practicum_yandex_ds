{
 "cells": [
  {
   "cell_type": "markdown",
   "metadata": {
    "toc": true
   },
   "source": [
    "<h1>Содержание<span class=\"tocSkip\"></span></h1>\n",
    "<div class=\"toc\"><ul class=\"toc-item\"><li><span><a href=\"#Подготовка-данных\" data-toc-modified-id=\"Подготовка-данных-1\"><span class=\"toc-item-num\">1&nbsp;&nbsp;</span>Подготовка данных</a></span></li><li><span><a href=\"#Исследование-задачи\" data-toc-modified-id=\"Исследование-задачи-2\"><span class=\"toc-item-num\">2&nbsp;&nbsp;</span>Исследование задачи</a></span></li><li><span><a href=\"#Борьба-с-дисбалансом\" data-toc-modified-id=\"Борьба-с-дисбалансом-3\"><span class=\"toc-item-num\">3&nbsp;&nbsp;</span>Борьба с дисбалансом</a></span></li><li><span><a href=\"#Тестирование-модели\" data-toc-modified-id=\"Тестирование-модели-4\"><span class=\"toc-item-num\">4&nbsp;&nbsp;</span>Тестирование модели</a></span></li><li><span><a href=\"#Чек-лист-готовности-проекта\" data-toc-modified-id=\"Чек-лист-готовности-проекта-5\"><span class=\"toc-item-num\">5&nbsp;&nbsp;</span>Чек-лист готовности проекта</a></span></li></ul></div>"
   ]
  },
  {
   "cell_type": "markdown",
   "metadata": {},
   "source": [
    "# Прогнозирование оттока клиентов"
   ]
  },
  {
   "cell_type": "markdown",
   "metadata": {},
   "source": [
    "Из «Бета-Банка» стали уходить клиенты. Каждый месяц. Немного, но заметно. Банковские маркетологи посчитали: сохранять текущих клиентов дешевле, чем привлекать новых.\n",
    "\n",
    "Нужно спрогнозировать, уйдёт клиент из банка в ближайшее время или нет. Вам предоставлены исторические данные о поведении клиентов и расторжении договоров с банком. \n",
    "\n",
    "Постройте модель с предельно большим значением *F1*-меры. Чтобы сдать проект успешно, нужно довести метрику до 0.59. Проверьте *F1*-меру на тестовой выборке самостоятельно.\n",
    "\n",
    "Дополнительно измеряйте *AUC-ROC*, сравнивайте её значение с *F1*-мерой.\n",
    "\n",
    "Источник данных: [https://www.kaggle.com/barelydedicated/bank-customer-churn-modeling](https://www.kaggle.com/barelydedicated/bank-customer-churn-modeling)"
   ]
  },
  {
   "cell_type": "markdown",
   "metadata": {},
   "source": [
    "## Подготовка данных"
   ]
  },
  {
   "cell_type": "code",
   "execution_count": 96,
   "metadata": {},
   "outputs": [],
   "source": [
    "import pandas as pd\n",
    "import matplotlib.pyplot as plt\n",
    "import numpy as np\n",
    "from sklearn.tree import DecisionTreeClassifier\n",
    "from sklearn.ensemble import RandomForestClassifier\n",
    "from sklearn.linear_model import LogisticRegression\n",
    "from sklearn.model_selection import train_test_split\n",
    "from sklearn.preprocessing import StandardScaler\n",
    "from sklearn.metrics import f1_score\n",
    "from sklearn.utils import shuffle\n",
    "from sklearn.metrics import roc_curve\n",
    "from sklearn.metrics import roc_auc_score"
   ]
  },
  {
   "cell_type": "code",
   "execution_count": 97,
   "metadata": {},
   "outputs": [],
   "source": [
    "df=pd.read_csv('/datasets/Churn.csv')"
   ]
  },
  {
   "cell_type": "code",
   "execution_count": 98,
   "metadata": {},
   "outputs": [
    {
     "name": "stdout",
     "output_type": "stream",
     "text": [
      "<class 'pandas.core.frame.DataFrame'>\n",
      "RangeIndex: 10000 entries, 0 to 9999\n",
      "Data columns (total 14 columns):\n",
      " #   Column           Non-Null Count  Dtype  \n",
      "---  ------           --------------  -----  \n",
      " 0   RowNumber        10000 non-null  int64  \n",
      " 1   CustomerId       10000 non-null  int64  \n",
      " 2   Surname          10000 non-null  object \n",
      " 3   CreditScore      10000 non-null  int64  \n",
      " 4   Geography        10000 non-null  object \n",
      " 5   Gender           10000 non-null  object \n",
      " 6   Age              10000 non-null  int64  \n",
      " 7   Tenure           9091 non-null   float64\n",
      " 8   Balance          10000 non-null  float64\n",
      " 9   NumOfProducts    10000 non-null  int64  \n",
      " 10  HasCrCard        10000 non-null  int64  \n",
      " 11  IsActiveMember   10000 non-null  int64  \n",
      " 12  EstimatedSalary  10000 non-null  float64\n",
      " 13  Exited           10000 non-null  int64  \n",
      "dtypes: float64(3), int64(8), object(3)\n",
      "memory usage: 1.1+ MB\n"
     ]
    }
   ],
   "source": [
    "df.info()"
   ]
  },
  {
   "cell_type": "code",
   "execution_count": 99,
   "metadata": {},
   "outputs": [
    {
     "data": {
      "text/html": [
       "<div>\n",
       "<style scoped>\n",
       "    .dataframe tbody tr th:only-of-type {\n",
       "        vertical-align: middle;\n",
       "    }\n",
       "\n",
       "    .dataframe tbody tr th {\n",
       "        vertical-align: top;\n",
       "    }\n",
       "\n",
       "    .dataframe thead th {\n",
       "        text-align: right;\n",
       "    }\n",
       "</style>\n",
       "<table border=\"1\" class=\"dataframe\">\n",
       "  <thead>\n",
       "    <tr style=\"text-align: right;\">\n",
       "      <th></th>\n",
       "      <th>RowNumber</th>\n",
       "      <th>CustomerId</th>\n",
       "      <th>Surname</th>\n",
       "      <th>CreditScore</th>\n",
       "      <th>Geography</th>\n",
       "      <th>Gender</th>\n",
       "      <th>Age</th>\n",
       "      <th>Tenure</th>\n",
       "      <th>Balance</th>\n",
       "      <th>NumOfProducts</th>\n",
       "      <th>HasCrCard</th>\n",
       "      <th>IsActiveMember</th>\n",
       "      <th>EstimatedSalary</th>\n",
       "      <th>Exited</th>\n",
       "    </tr>\n",
       "  </thead>\n",
       "  <tbody>\n",
       "    <tr>\n",
       "      <th>0</th>\n",
       "      <td>1</td>\n",
       "      <td>15634602</td>\n",
       "      <td>Hargrave</td>\n",
       "      <td>619</td>\n",
       "      <td>France</td>\n",
       "      <td>Female</td>\n",
       "      <td>42</td>\n",
       "      <td>2.0</td>\n",
       "      <td>0.00</td>\n",
       "      <td>1</td>\n",
       "      <td>1</td>\n",
       "      <td>1</td>\n",
       "      <td>101348.88</td>\n",
       "      <td>1</td>\n",
       "    </tr>\n",
       "    <tr>\n",
       "      <th>1</th>\n",
       "      <td>2</td>\n",
       "      <td>15647311</td>\n",
       "      <td>Hill</td>\n",
       "      <td>608</td>\n",
       "      <td>Spain</td>\n",
       "      <td>Female</td>\n",
       "      <td>41</td>\n",
       "      <td>1.0</td>\n",
       "      <td>83807.86</td>\n",
       "      <td>1</td>\n",
       "      <td>0</td>\n",
       "      <td>1</td>\n",
       "      <td>112542.58</td>\n",
       "      <td>0</td>\n",
       "    </tr>\n",
       "    <tr>\n",
       "      <th>2</th>\n",
       "      <td>3</td>\n",
       "      <td>15619304</td>\n",
       "      <td>Onio</td>\n",
       "      <td>502</td>\n",
       "      <td>France</td>\n",
       "      <td>Female</td>\n",
       "      <td>42</td>\n",
       "      <td>8.0</td>\n",
       "      <td>159660.80</td>\n",
       "      <td>3</td>\n",
       "      <td>1</td>\n",
       "      <td>0</td>\n",
       "      <td>113931.57</td>\n",
       "      <td>1</td>\n",
       "    </tr>\n",
       "    <tr>\n",
       "      <th>3</th>\n",
       "      <td>4</td>\n",
       "      <td>15701354</td>\n",
       "      <td>Boni</td>\n",
       "      <td>699</td>\n",
       "      <td>France</td>\n",
       "      <td>Female</td>\n",
       "      <td>39</td>\n",
       "      <td>1.0</td>\n",
       "      <td>0.00</td>\n",
       "      <td>2</td>\n",
       "      <td>0</td>\n",
       "      <td>0</td>\n",
       "      <td>93826.63</td>\n",
       "      <td>0</td>\n",
       "    </tr>\n",
       "    <tr>\n",
       "      <th>4</th>\n",
       "      <td>5</td>\n",
       "      <td>15737888</td>\n",
       "      <td>Mitchell</td>\n",
       "      <td>850</td>\n",
       "      <td>Spain</td>\n",
       "      <td>Female</td>\n",
       "      <td>43</td>\n",
       "      <td>2.0</td>\n",
       "      <td>125510.82</td>\n",
       "      <td>1</td>\n",
       "      <td>1</td>\n",
       "      <td>1</td>\n",
       "      <td>79084.10</td>\n",
       "      <td>0</td>\n",
       "    </tr>\n",
       "  </tbody>\n",
       "</table>\n",
       "</div>"
      ],
      "text/plain": [
       "   RowNumber  CustomerId   Surname  CreditScore Geography  Gender  Age  \\\n",
       "0          1    15634602  Hargrave          619    France  Female   42   \n",
       "1          2    15647311      Hill          608     Spain  Female   41   \n",
       "2          3    15619304      Onio          502    France  Female   42   \n",
       "3          4    15701354      Boni          699    France  Female   39   \n",
       "4          5    15737888  Mitchell          850     Spain  Female   43   \n",
       "\n",
       "   Tenure    Balance  NumOfProducts  HasCrCard  IsActiveMember  \\\n",
       "0     2.0       0.00              1          1               1   \n",
       "1     1.0   83807.86              1          0               1   \n",
       "2     8.0  159660.80              3          1               0   \n",
       "3     1.0       0.00              2          0               0   \n",
       "4     2.0  125510.82              1          1               1   \n",
       "\n",
       "   EstimatedSalary  Exited  \n",
       "0        101348.88       1  \n",
       "1        112542.58       0  \n",
       "2        113931.57       1  \n",
       "3         93826.63       0  \n",
       "4         79084.10       0  "
      ]
     },
     "metadata": {},
     "output_type": "display_data"
    }
   ],
   "source": [
    "display(df.head())"
   ]
  },
  {
   "cell_type": "markdown",
   "metadata": {},
   "source": [
    "**Признаки**\n",
    "* RowNumber — индекс строки в данных\n",
    "* CustomerId — уникальный идентификатор клиента\n",
    "* Surname — фамилия\n",
    "* CreditScore — кредитный рейтинг\n",
    "* Geography — страна проживания\n",
    "* Gender — пол\n",
    "* Age — возраст\n",
    "* Tenure — сколько лет человек является клиентом банка\n",
    "* Balance — баланс на счёте\n",
    "* NumOfProducts — количество продуктов банка, используемых клиентом\n",
    "* HasCrCard — наличие кредитной карты\n",
    "* IsActiveMember — активность клиента\n",
    "* EstimatedSalary — предполагаемая зарплата\n",
    "\n",
    "**Целевой признак**\n",
    "* Exited — факт ухода клиента"
   ]
  },
  {
   "cell_type": "markdown",
   "metadata": {},
   "source": [
    "**В данных присутствуют столбцы, которые не нужны. Их можно удалить. В анализе они не нужны. Также есть пропуски в колонке Tenure. Это означает, что у клиента нет ее. Значит можно просто заменить 0 и перевести в целочисленный тип.**"
   ]
  },
  {
   "cell_type": "code",
   "execution_count": 100,
   "metadata": {},
   "outputs": [],
   "source": [
    "# Удаляю лишние столбцы\n",
    "del_col=['RowNumber','EstimatedSalary','CustomerId','Surname']\n",
    "df=df.drop(del_col,axis=1)"
   ]
  },
  {
   "cell_type": "code",
   "execution_count": 101,
   "metadata": {},
   "outputs": [],
   "source": [
    "# Заполняю пропуски 0\n",
    "df['Tenure']=df['Tenure'].fillna(0).astype('int64')"
   ]
  },
  {
   "cell_type": "code",
   "execution_count": 102,
   "metadata": {},
   "outputs": [
    {
     "name": "stdout",
     "output_type": "stream",
     "text": [
      "<class 'pandas.core.frame.DataFrame'>\n",
      "RangeIndex: 10000 entries, 0 to 9999\n",
      "Data columns (total 10 columns):\n",
      " #   Column          Non-Null Count  Dtype  \n",
      "---  ------          --------------  -----  \n",
      " 0   CreditScore     10000 non-null  int64  \n",
      " 1   Geography       10000 non-null  object \n",
      " 2   Gender          10000 non-null  object \n",
      " 3   Age             10000 non-null  int64  \n",
      " 4   Tenure          10000 non-null  int64  \n",
      " 5   Balance         10000 non-null  float64\n",
      " 6   NumOfProducts   10000 non-null  int64  \n",
      " 7   HasCrCard       10000 non-null  int64  \n",
      " 8   IsActiveMember  10000 non-null  int64  \n",
      " 9   Exited          10000 non-null  int64  \n",
      "dtypes: float64(1), int64(7), object(2)\n",
      "memory usage: 781.4+ KB\n"
     ]
    }
   ],
   "source": [
    "df.info()"
   ]
  },
  {
   "cell_type": "markdown",
   "metadata": {},
   "source": [
    "## Исследование задачи"
   ]
  },
  {
   "cell_type": "code",
   "execution_count": 103,
   "metadata": {},
   "outputs": [
    {
     "data": {
      "text/plain": [
       "<AxesSubplot:title={'center':'Соотношение тех, кто остался и тех кто ушел'}>"
      ]
     },
     "execution_count": 103,
     "metadata": {},
     "output_type": "execute_result"
    },
    {
     "data": {
      "image/png": "[encoded data removed]",
      "text/plain": [
       "<Figure size 720x432 with 1 Axes>"
      ]
     },
     "metadata": {
      "needs_background": "light"
     },
     "output_type": "display_data"
    }
   ],
   "source": [
    "# Рисую гистограмму значений оттока и оставшихся клиентов\n",
    "df['Exited'].value_counts().plot(kind='bar',grid=True,figsize=(10,6),title='Соотношение тех, кто остался и тех кто ушел')"
   ]
  },
  {
   "cell_type": "markdown",
   "metadata": {},
   "source": [
    "Соотношение оттока и тех кто остался 1:4. Вывод: такое соотношение говорит, что присутствует дисбаланс в данных."
   ]
  },
  {
   "cell_type": "markdown",
   "metadata": {},
   "source": [
    "**One hot encoder**\n",
    "\n",
    "Избавляемся от категориальных признаков методом One hot encoder"
   ]
  },
  {
   "cell_type": "code",
   "execution_count": 104,
   "metadata": {},
   "outputs": [],
   "source": [
    "df_ohe=pd.get_dummies(df,drop_first=True) # вызываем метод get_dummies для избавления от категориальных признаков"
   ]
  },
  {
   "cell_type": "code",
   "execution_count": 105,
   "metadata": {},
   "outputs": [],
   "source": [
    "target=df_ohe['Exited'] # Целевой признак\n",
    "features=df_ohe.drop(['Exited'],axis=1) # Признаки"
   ]
  },
  {
   "cell_type": "code",
   "execution_count": 106,
   "metadata": {},
   "outputs": [
    {
     "name": "stdout",
     "output_type": "stream",
     "text": [
      "Обучающая выборка: (6000, 10)\n",
      "(6000,)\n",
      "Валидационная выборка: (2000, 10)\n",
      "(2000,)\n",
      "Тестовая выборка: (2000, 10)\n",
      "(2000,)\n"
     ]
    }
   ],
   "source": [
    "#Разбиваем данные после OHE на шесть выборок:\n",
    "#train_features, valid_features, features_test, train_target, valid_target, target_test \n",
    "\n",
    "train_features, valid_features, train_target, valid_target = train_test_split(features, target, test_size=0.4, random_state=1234)\n",
    "features_test, valid_features, target_test, valid_target = train_test_split(valid_features, valid_target, test_size=0.5, random_state=1234)\n",
    "\n",
    "print('Обучающая выборка:',train_features.shape)\n",
    "print(train_target.shape)\n",
    "print('Валидационная выборка:',valid_features.shape)\n",
    "print(valid_target.shape)\n",
    "print('Тестовая выборка:',features_test.shape)\n",
    "print(target_test.shape)"
   ]
  },
  {
   "cell_type": "code",
   "execution_count": 154,
   "metadata": {},
   "outputs": [],
   "source": [
    "pd.options.mode.chained_assignment = None\n",
    "# Стандартизируем тестовую и валидную выборку, т.к есть значения и маленькие и очень большие. \n",
    "numeric=['CreditScore','Age','Tenure','Balance','NumOfProducts','HasCrCard','IsActiveMember']\n",
    "scaler=StandardScaler()\n",
    "scaler.fit(train_features[numeric])\n",
    "train_features[numeric]=scaler.transform(train_features[numeric])\n",
    "valid_features[numeric]=scaler.transform(valid_features[numeric])"
   ]
  },
  {
   "cell_type": "markdown",
   "metadata": {},
   "source": [
    "**Строю модель без учета баланса**\n"
   ]
  },
  {
   "cell_type": "markdown",
   "metadata": {},
   "source": [
    "\n",
    "**Обучение с помощью модели Дерево решения**"
   ]
  },
  {
   "cell_type": "code",
   "execution_count": 13,
   "metadata": {},
   "outputs": [
    {
     "name": "stdout",
     "output_type": "stream",
     "text": [
      "max_depth: 7 F1: 0.5733512786002692\n"
     ]
    }
   ],
   "source": [
    "# Циклом ищем лучший гиперпараметр max_depth\n",
    "best_model_tree = None\n",
    "best_est = 0\n",
    "best_f1_score = 0\n",
    "\n",
    "for depth in range(1, 50, 1):\n",
    "    model_tree=DecisionTreeClassifier(max_depth=depth, random_state=1234).fit(train_features,train_target)\n",
    "    prediction=model_tree.predict(valid_features)\n",
    "    ff1_score = f1_score(valid_target, prediction)\n",
    "    if ff1_score > best_f1_score:\n",
    "        best_model_tree = model_tree \n",
    "        best_est = depth \n",
    "        best_f1_score = ff1_score\n",
    "            \n",
    "print('max_depth:', best_est,'F1:', best_f1_score)"
   ]
  },
  {
   "cell_type": "markdown",
   "metadata": {},
   "source": [
    "**Обучение с помощью модели Случайный лес**"
   ]
  },
  {
   "cell_type": "code",
   "execution_count": 14,
   "metadata": {},
   "outputs": [
    {
     "name": "stdout",
     "output_type": "stream",
     "text": [
      "max_depth: 16 F1: 0.6005509641873279 n_estimators: 27\n"
     ]
    }
   ],
   "source": [
    "# Циклом ищем лучший гиперпараметр max_depth и гиперпараметр n_estimators (количество деревьев)\n",
    "best_model_forest = None\n",
    "best_est = 0\n",
    "best_f1_score = 0\n",
    "best_n_estimators = 0\n",
    "\n",
    "for depth in range(1, 20, 1):\n",
    "    for estim in range(1, 51, 1):\n",
    "        model_forest = RandomForestClassifier(max_depth = depth, n_estimators = estim, random_state = 1234)\n",
    "        model_forest.fit(train_features, train_target)\n",
    "        prediction = model_forest.predict(valid_features)\n",
    "        ff1_score = f1_score(valid_target, prediction)\n",
    "        if ff1_score > best_f1_score:\n",
    "            best_model_forest = model_forest \n",
    "            best_est = depth \n",
    "            best_f1_score = ff1_score\n",
    "            best_n_estimators = estim\n",
    "            \n",
    "print('max_depth:', best_est,'F1:', best_f1_score, 'n_estimators:', best_n_estimators)"
   ]
  },
  {
   "cell_type": "markdown",
   "metadata": {},
   "source": [
    "**Обучение с помощью модели Логистической регрессии**"
   ]
  },
  {
   "cell_type": "code",
   "execution_count": 15,
   "metadata": {},
   "outputs": [
    {
     "name": "stdout",
     "output_type": "stream",
     "text": [
      "F1: 0.3395585738539898\n"
     ]
    }
   ],
   "source": [
    "model_logistic=LogisticRegression().fit(train_features,train_target)\n",
    "prediction=model_logistic.predict(valid_features)\n",
    "print('F1:',f1_score(valid_target,prediction))"
   ]
  },
  {
   "cell_type": "markdown",
   "metadata": {},
   "source": [
    "**Исследование метрика AUC-ROC**"
   ]
  },
  {
   "cell_type": "code",
   "execution_count": 16,
   "metadata": {},
   "outputs": [],
   "source": [
    "probabilities_tree = best_model_tree.predict_proba(valid_features)\n",
    "probabilities_one_valid_tree = probabilities_tree[:,1]\n",
    "fpr_tree, tpr_tree, thresholds = roc_curve(valid_target, probabilities_one_valid_tree)"
   ]
  },
  {
   "cell_type": "code",
   "execution_count": 17,
   "metadata": {},
   "outputs": [],
   "source": [
    "auc_roc_tree = roc_auc_score(valid_target, probabilities_one_valid_tree)"
   ]
  },
  {
   "cell_type": "code",
   "execution_count": 18,
   "metadata": {},
   "outputs": [
    {
     "data": {
      "text/plain": [
       "0.813745204507945"
      ]
     },
     "execution_count": 18,
     "metadata": {},
     "output_type": "execute_result"
    }
   ],
   "source": [
    "auc_roc_tree"
   ]
  },
  {
   "cell_type": "code",
   "execution_count": 19,
   "metadata": {},
   "outputs": [],
   "source": [
    "probabilities_forest = best_model_forest.predict_proba(valid_features)\n",
    "probabilities_one_valid_forest = probabilities_forest[:,1]\n",
    "fpr_forest, tpr_forest, thresholds = roc_curve(valid_target, probabilities_one_valid_forest)"
   ]
  },
  {
   "cell_type": "code",
   "execution_count": 20,
   "metadata": {},
   "outputs": [],
   "source": [
    "auc_roc_forest = roc_auc_score(valid_target, probabilities_one_valid_forest)"
   ]
  },
  {
   "cell_type": "code",
   "execution_count": 21,
   "metadata": {},
   "outputs": [
    {
     "data": {
      "text/plain": [
       "0.8347220621090097"
      ]
     },
     "execution_count": 21,
     "metadata": {},
     "output_type": "execute_result"
    }
   ],
   "source": [
    "auc_roc_forest"
   ]
  },
  {
   "cell_type": "code",
   "execution_count": 22,
   "metadata": {},
   "outputs": [],
   "source": [
    "probabilities_reg = model_logistic.predict_proba(valid_features)\n",
    "probabilities_one_valid_reg = probabilities_reg[:,1]\n",
    "fpr_log, tpr_log, thresholds = roc_curve(valid_target, probabilities_one_valid_reg)"
   ]
  },
  {
   "cell_type": "code",
   "execution_count": 23,
   "metadata": {},
   "outputs": [],
   "source": [
    "auc_roc_reg = roc_auc_score(valid_target, probabilities_one_valid_reg)"
   ]
  },
  {
   "cell_type": "code",
   "execution_count": 24,
   "metadata": {},
   "outputs": [
    {
     "data": {
      "text/plain": [
       "0.7652255504692249"
      ]
     },
     "execution_count": 24,
     "metadata": {},
     "output_type": "execute_result"
    }
   ],
   "source": [
    "auc_roc_reg"
   ]
  },
  {
   "cell_type": "code",
   "execution_count": 25,
   "metadata": {},
   "outputs": [
    {
     "data": {
      "text/plain": [
       "<Figure size 432x288 with 0 Axes>"
      ]
     },
     "metadata": {},
     "output_type": "display_data"
    },
    {
     "data": {
      "image/png": "[encoded data removed]",
      "text/plain": [
       "<Figure size 720x504 with 1 Axes>"
      ]
     },
     "metadata": {
      "needs_background": "light"
     },
     "output_type": "display_data"
    }
   ],
   "source": [
    "plt.figure()\n",
    "\n",
    "plt.figure(figsize=(10, 7))\n",
    "plt.plot([0, 1], [0, 1], linestyle='--')\n",
    "plt.xlim([0.0, 1.0])\n",
    "plt.ylim([0.0, 1.0])\n",
    "plt.plot(fpr_tree, tpr_tree)\n",
    "plt.plot(fpr_forest, tpr_forest)\n",
    "plt.plot(fpr_log, tpr_log)\n",
    "plt.xlabel('False Positive Rate')\n",
    "plt.ylabel('True Positive Rate')\n",
    "plt.title('ROC-кривая')\n",
    "plt.legend(('Случайная модель', 'Дерево решения', 'Случайный лес', 'Логистическая регрессия'),\n",
    "           loc= 'upper left') \n",
    "plt.show()"
   ]
  },
  {
   "cell_type": "markdown",
   "metadata": {},
   "source": [
    "**Общий вывод:**\n",
    "\n",
    "Рассматривая данные с дисбалансом (но с данными переведенныи в категориальные и стандартизированные), по трем моделям можно сделать вывод, что лучший результат показала модель Случайный лес. При лучшем значении max_depth=16 и n_estimators=27, мы имеем F1 меру =0,60 на валидной выборке."
   ]
  },
  {
   "cell_type": "markdown",
   "metadata": {},
   "source": [
    "## Борьба с дисбалансом"
   ]
  },
  {
   "cell_type": "markdown",
   "metadata": {},
   "source": [
    "**Воспользуемся функцией Upsampling и увеличим количество клиентов оттока (target == 1)**"
   ]
  },
  {
   "cell_type": "code",
   "execution_count": 26,
   "metadata": {},
   "outputs": [],
   "source": [
    "## Функция Upsampling\n",
    "def upsampling (features, target, repeat):\n",
    "    #Разделяем выборку по значениям целевой функции\n",
    "    target_one = target[target == 1]\n",
    "    target_null = target[target == 0] \n",
    "    features_one = features[target == 1]\n",
    "    features_null = features[target == 0]\n",
    "    \n",
    "    #Увеличиваем и соединяем обратно\n",
    "    upsampling_features = pd.concat([features_null] + [features_one] * repeat)\n",
    "    upsampling_target = pd.concat([target_null] + [target_one] * repeat)\n",
    "    \n",
    "    # Перемешиваем\n",
    "    upsampling_features, upsampling_target = shuffle(upsampling_features, upsampling_target, random_state=1234)\n",
    "    \n",
    "    return upsampling_features, upsampling_target"
   ]
  },
  {
   "cell_type": "code",
   "execution_count": 27,
   "metadata": {},
   "outputs": [],
   "source": [
    "features_balance_up, target_balance_up = upsampling(train_features, train_target, 4)"
   ]
  },
  {
   "cell_type": "code",
   "execution_count": 28,
   "metadata": {},
   "outputs": [],
   "source": [
    "features_valid_balance_up, target_valid_balance_up = upsampling(valid_features, valid_target, 4)"
   ]
  },
  {
   "cell_type": "code",
   "execution_count": 29,
   "metadata": {},
   "outputs": [
    {
     "name": "stdout",
     "output_type": "stream",
     "text": [
      "max_depth: 5 F1: 0.7613469985358713\n",
      "CPU times: user 1.91 s, sys: 3.96 ms, total: 1.91 s\n",
      "Wall time: 1.94 s\n"
     ]
    }
   ],
   "source": [
    "%%time\n",
    "# Циклом ищем лучший гиперпораметр max_depth\n",
    "best_model_tree_1 = None\n",
    "best_est = 0\n",
    "best_f1_score = 0\n",
    "\n",
    "for depth in range(1, 50, 1):\n",
    "    model_tree = DecisionTreeClassifier(max_depth=depth, random_state=1234)\n",
    "    model_tree.fit(features_balance_up, target_balance_up)\n",
    "    prediction = model_tree.predict(features_valid_balance_up)\n",
    "    ff1_score = f1_score(target_valid_balance_up, prediction)\n",
    "    if ff1_score > best_f1_score:\n",
    "        best_model_tree_1 = model_tree\n",
    "        best_est = depth \n",
    "        best_f1_score = ff1_score\n",
    "            \n",
    "print('max_depth:', best_est,'F1:', best_f1_score)"
   ]
  },
  {
   "cell_type": "code",
   "execution_count": 123,
   "metadata": {},
   "outputs": [
    {
     "name": "stdout",
     "output_type": "stream",
     "text": [
      "max_depth: 4 F1: 0.42653061224489797\n",
      "CPU times: user 1.44 s, sys: 8 µs, total: 1.44 s\n",
      "Wall time: 1.44 s\n"
     ]
    }
   ],
   "source": [
    "%%time\n",
    "# Циклом ищем лучший гиперпораметр max_depth\n",
    "best_model_tree_2 = None\n",
    "best_est = 0\n",
    "best_f1_score = 0\n",
    "\n",
    "for depth in range(1, 50, 1):\n",
    "    model_tree = DecisionTreeClassifier(class_weight='balanced', max_depth=depth, random_state=1234)\n",
    "    model_tree.fit(features_balance_up, target_balance_up)\n",
    "    prediction = model_tree.predict(features_valid_balance_up)\n",
    "    ff1_score = f1_score(target_valid_balance_up, prediction)\n",
    "    if ff1_score > best_f1_score:\n",
    "        best_model_tree_2 = model_tree \n",
    "        best_est = depth \n",
    "        best_f1_score = ff1_score\n",
    "            \n",
    "print('max_depth:', best_est,'F1:', best_f1_score)"
   ]
  },
  {
   "cell_type": "code",
   "execution_count": 31,
   "metadata": {},
   "outputs": [
    {
     "name": "stdout",
     "output_type": "stream",
     "text": [
      "max_depth: 8 F1: 0.7736424649176327 n_estimators: 50\n",
      "CPU times: user 4min 4s, sys: 699 ms, total: 4min 5s\n",
      "Wall time: 4min 7s\n"
     ]
    }
   ],
   "source": [
    "%%time\n",
    "# Циклом ищем лучший гиперпораметр max_depth и гиперпораметр n_estimators (количество деревьев)\n",
    "best_model_forest_1 = None\n",
    "best_est = 0\n",
    "best_f1_score = 0\n",
    "best_n_estimators = 0\n",
    "\n",
    "for depth in range(1, 20, 1):\n",
    "    for estim in range(1, 51, 1):\n",
    "        model_forest = RandomForestClassifier( max_depth = depth, n_estimators = estim, random_state = 1234)\n",
    "        model_forest.fit(features_balance_up, target_balance_up)\n",
    "        prediction = model_forest.predict(features_valid_balance_up)\n",
    "        ff1_score = f1_score(target_valid_balance_up, prediction)\n",
    "        if ff1_score > best_f1_score:\n",
    "            best_model_forest_1 = model_forest \n",
    "            best_est = depth \n",
    "            best_f1_score = ff1_score\n",
    "            best_n_estimators = estim\n",
    "            \n",
    "print('max_depth:', best_est,'F1:', best_f1_score, 'n_estimators:', best_n_estimators)"
   ]
  },
  {
   "cell_type": "code",
   "execution_count": 32,
   "metadata": {},
   "outputs": [
    {
     "name": "stdout",
     "output_type": "stream",
     "text": [
      "max_depth: 8 F1: 0.7781528076096962 n_estimators: 18\n",
      "CPU times: user 4min 4s, sys: 768 ms, total: 4min 5s\n",
      "Wall time: 4min 6s\n"
     ]
    }
   ],
   "source": [
    "%%time\n",
    "# Циклом ищем лучший гиперпораметр max_depth и гиперпораметр n_estimators (количество деревьев)\n",
    "best_model_forest_2 = None\n",
    "best_est = 0\n",
    "best_f1_score = 0\n",
    "best_n_estimators = 0\n",
    "\n",
    "for depth in range(1, 20, 1):\n",
    "    for estim in range(1, 51, 1):\n",
    "        model_forest = RandomForestClassifier(class_weight='balanced', max_depth = depth, n_estimators = estim, random_state = 1234)\n",
    "        model_forest.fit(features_balance_up, target_balance_up)\n",
    "        prediction = model_forest.predict(features_valid_balance_up)\n",
    "        ff1_score = f1_score(target_valid_balance_up, prediction)\n",
    "        if ff1_score > best_f1_score:\n",
    "            best_model_forest_2 = model_forest \n",
    "            best_est = depth \n",
    "            best_f1_score = ff1_score\n",
    "            best_n_estimators = estim\n",
    "            \n",
    "print('max_depth:', best_est,'F1:', best_f1_score, 'n_estimators:', best_n_estimators)"
   ]
  },
  {
   "cell_type": "code",
   "execution_count": 33,
   "metadata": {},
   "outputs": [
    {
     "name": "stdout",
     "output_type": "stream",
     "text": [
      "F1: 0.713904536021346\n",
      "CPU times: user 90.8 ms, sys: 80.2 ms, total: 171 ms\n",
      "Wall time: 179 ms\n"
     ]
    }
   ],
   "source": [
    "%%time\n",
    "model_logistic_1=LogisticRegression(solver='liblinear').fit(features_balance_up,target_balance_up)\n",
    "prediction=model_logistic_1.predict(features_valid_balance_up)\n",
    "print('F1:',f1_score(target_valid_balance_up,prediction))"
   ]
  },
  {
   "cell_type": "code",
   "execution_count": 34,
   "metadata": {},
   "outputs": [
    {
     "name": "stdout",
     "output_type": "stream",
     "text": [
      "F1: 0.7142857142857143\n",
      "CPU times: user 60.1 ms, sys: 60 ms, total: 120 ms\n",
      "Wall time: 98.4 ms\n"
     ]
    }
   ],
   "source": [
    "%%time\n",
    "model_logistic_2=LogisticRegression(class_weight='balanced',solver='liblinear').fit(features_balance_up,target_balance_up)\n",
    "prediction=model_logistic_2.predict(features_valid_balance_up)\n",
    "print('F1:',f1_score(target_valid_balance_up,prediction))"
   ]
  },
  {
   "cell_type": "markdown",
   "metadata": {},
   "source": [
    "**Воспользуемся функцией Downsampling и уберем часть оставшихся клиентов (target==0)**"
   ]
  },
  {
   "cell_type": "code",
   "execution_count": 35,
   "metadata": {},
   "outputs": [],
   "source": [
    "def downsampling(features,target,fraction):\n",
    "    features_null=features[target==0]\n",
    "    features_one=features[target==1]\n",
    "    target_null=target[target==0]\n",
    "    target_one=target[target==1]\n",
    "    \n",
    "    downsampling_features=pd.concat([features_null.sample(frac=fraction, random_state=1234)]+[features_one])\n",
    "    downsampling_target=pd.concat([target_null.sample(frac=fraction, random_state=1234)]+[target_one])\n",
    "    \n",
    "    downsampling_features,downsampling_target=shuffle(downsampling_features,downsampling_target,random_state=1234)\n",
    "    return downsampling_features,downsampling_target"
   ]
  },
  {
   "cell_type": "code",
   "execution_count": 36,
   "metadata": {},
   "outputs": [],
   "source": [
    "features_balance_up,target_balance_up=downsampling(features,target,0.25)"
   ]
  },
  {
   "cell_type": "code",
   "execution_count": 37,
   "metadata": {},
   "outputs": [],
   "source": [
    "features_valid_balance_up2, target_valid_balance_up2 =downsampling(valid_features, valid_target,0.25)"
   ]
  },
  {
   "cell_type": "markdown",
   "metadata": {},
   "source": []
  },
  {
   "cell_type": "markdown",
   "metadata": {},
   "source": [
    "**После балансирования данных. Обучение Дерево решения**"
   ]
  },
  {
   "cell_type": "code",
   "execution_count": 114,
   "metadata": {},
   "outputs": [
    {
     "name": "stdout",
     "output_type": "stream",
     "text": [
      "max_depth: 4 F1: 0.5726027397260275\n",
      "CPU times: user 1.43 s, sys: 3.97 ms, total: 1.44 s\n",
      "Wall time: 1.44 s\n"
     ]
    }
   ],
   "source": [
    "%%time\n",
    "# Циклом ищем лучший гиперпораметр max_depth\n",
    "best_model_tree_3 = None\n",
    "best_est = 0\n",
    "best_f1_score = 0\n",
    "\n",
    "for depth in range(1, 50, 1):\n",
    "    model_tree = DecisionTreeClassifier( max_depth=depth, random_state=1234)\n",
    "    model_tree.fit(features_balance_up, target_balance_up)\n",
    "    prediction = model_tree.predict(features_valid_balance_up2)\n",
    "    ff1_score = f1_score(target_valid_balance_up2, prediction)\n",
    "    if ff1_score > best_f1_score:\n",
    "        best_model_tree_3 = model_tree \n",
    "        best_est = depth \n",
    "        best_f1_score = ff1_score\n",
    "            \n",
    "print('max_depth:', best_est,'F1:', best_f1_score)"
   ]
  },
  {
   "cell_type": "code",
   "execution_count": 39,
   "metadata": {},
   "outputs": [
    {
     "name": "stdout",
     "output_type": "stream",
     "text": [
      "max_depth: 4 F1: 0.5726027397260275\n",
      "CPU times: user 1.44 s, sys: 3.97 ms, total: 1.44 s\n",
      "Wall time: 1.46 s\n"
     ]
    }
   ],
   "source": [
    "%%time\n",
    "# Циклом ищем лучший гиперпораметр max_depth\n",
    "best_model_tree_4 = None\n",
    "best_est = 0\n",
    "best_f1_score = 0\n",
    "\n",
    "for depth in range(1, 50, 1):\n",
    "    model_tree = DecisionTreeClassifier(class_weight='balanced', max_depth=depth, random_state=1234)\n",
    "    model_tree.fit(features_balance_up, target_balance_up)\n",
    "    prediction = model_tree.predict(features_valid_balance_up2)\n",
    "    ff1_score = f1_score(target_valid_balance_up2, prediction)\n",
    "    if ff1_score > best_f1_score:\n",
    "        best_model_tree_4 = model_tree \n",
    "        best_est = depth \n",
    "        best_f1_score = ff1_score\n",
    "            \n",
    "print('max_depth:', best_est,'F1:', best_f1_score)"
   ]
  },
  {
   "cell_type": "markdown",
   "metadata": {},
   "source": [
    "**После балансирования данных. Обучение Случайный лес**"
   ]
  },
  {
   "cell_type": "code",
   "execution_count": 119,
   "metadata": {},
   "outputs": [
    {
     "name": "stdout",
     "output_type": "stream",
     "text": [
      "max_depth: 6 F1: 0.451948051948052 n_estimators: 5\n",
      "CPU times: user 2min 17s, sys: 468 ms, total: 2min 18s\n",
      "Wall time: 2min 18s\n"
     ]
    }
   ],
   "source": [
    "%%time\n",
    "# Циклом ищем лучший гиперпораметр max_depth и гиперпораметр n_estimators (количество деревьев)\n",
    "best_model_forest_3 = None\n",
    "best_est = 0\n",
    "best_f1_score = 0\n",
    "best_n_estimators = 0\n",
    "\n",
    "for depth in range(1, 20, 1):\n",
    "    for estim in range(1, 51, 1):\n",
    "        model_forest = RandomForestClassifier(max_depth = depth, n_estimators = estim, random_state = 1234)\n",
    "        model_forest.fit(features_balance_up, target_balance_up)\n",
    "        prediction = model_forest.predict(features_valid_balance_up2)\n",
    "        ff1_score = f1_score(target_valid_balance_up2, prediction)\n",
    "        if ff1_score > best_f1_score:\n",
    "            best_model_forest_3 = model_forest \n",
    "            best_est = depth \n",
    "            best_f1_score = ff1_score\n",
    "            best_n_estimators = estim\n",
    "            \n",
    "print('max_depth:', best_est,'F1:', best_f1_score, 'n_estimators:', best_n_estimators)"
   ]
  },
  {
   "cell_type": "code",
   "execution_count": 41,
   "metadata": {},
   "outputs": [
    {
     "name": "stdout",
     "output_type": "stream",
     "text": [
      "max_depth: 6 F1: 0.6991720331186754 n_estimators: 3\n",
      "CPU times: user 2min 25s, sys: 572 ms, total: 2min 26s\n",
      "Wall time: 2min 26s\n"
     ]
    }
   ],
   "source": [
    "%%time\n",
    "# Циклом ищем лучший гиперпораметр max_depth и гиперпораметр n_estimators (количество деревьев)\n",
    "best_model_forest_4 = None\n",
    "best_est = 0\n",
    "best_f1_score = 0\n",
    "best_n_estimators = 0\n",
    "\n",
    "for depth in range(1, 20, 1):\n",
    "    for estim in range(1, 51, 1):\n",
    "        model_forest = RandomForestClassifier(class_weight='balanced', max_depth = depth, n_estimators = estim, random_state = 1234)\n",
    "        model_forest.fit(features_balance_up, target_balance_up)\n",
    "        prediction = model_forest.predict(features_valid_balance_up2)\n",
    "        ff1_score = f1_score(target_valid_balance_up2, prediction)\n",
    "        if ff1_score > best_f1_score:\n",
    "            best_model_forest_4 = model_forest \n",
    "            best_est = depth \n",
    "            best_f1_score = ff1_score\n",
    "            best_n_estimators = estim\n",
    "            \n",
    "print('max_depth:', best_est,'F1:', best_f1_score, 'n_estimators:', best_n_estimators)"
   ]
  },
  {
   "cell_type": "markdown",
   "metadata": {},
   "source": [
    "**После балансирования данных. Обучение Логистической регрессии**"
   ]
  },
  {
   "cell_type": "code",
   "execution_count": 42,
   "metadata": {},
   "outputs": [
    {
     "name": "stdout",
     "output_type": "stream",
     "text": [
      "F1: 0.7175398633257403\n",
      "CPU times: user 9.19 ms, sys: 3.99 ms, total: 13.2 ms\n",
      "Wall time: 11 ms\n"
     ]
    }
   ],
   "source": [
    "%%time\n",
    "model_logistic_3=LogisticRegression(solver='liblinear').fit(features_valid_balance_up2,target_valid_balance_up2)\n",
    "prediction=model_logistic_3.predict(features_valid_balance_up2)\n",
    "print('F1:',f1_score(target_valid_balance_up2,prediction))"
   ]
  },
  {
   "cell_type": "code",
   "execution_count": 43,
   "metadata": {},
   "outputs": [
    {
     "name": "stdout",
     "output_type": "stream",
     "text": [
      "F1: 0.7011764705882353\n",
      "CPU times: user 10.2 ms, sys: 0 ns, total: 10.2 ms\n",
      "Wall time: 9.44 ms\n"
     ]
    }
   ],
   "source": [
    "%%time\n",
    "model_logistic_4=LogisticRegression(class_weight='balanced',solver='liblinear').fit(features_valid_balance_up2,target_valid_balance_up2)\n",
    "prediction=model_logistic_4.predict(features_valid_balance_up2)\n",
    "print('F1:',f1_score(target_valid_balance_up2,prediction))"
   ]
  },
  {
   "cell_type": "markdown",
   "metadata": {},
   "source": [
    "**Исследование метрика AUC-ROC после борьбы с дисбалансом**"
   ]
  },
  {
   "cell_type": "code",
   "execution_count": 44,
   "metadata": {},
   "outputs": [
    {
     "data": {
      "text/plain": [
       "0.8398717894463422"
      ]
     },
     "execution_count": 44,
     "metadata": {},
     "output_type": "execute_result"
    }
   ],
   "source": [
    "probabilities_tree = best_model_tree_1.predict_proba(features_valid_balance_up)\n",
    "probabilities_one_valid_tree = probabilities_tree[:,1]\n",
    "fpr_tree_1, tpr_tree_1, thresholds = roc_curve(target_valid_balance_up, probabilities_one_valid_tree)\n",
    "\n",
    "auc_roc_tree = roc_auc_score(target_valid_balance_up, probabilities_one_valid_tree)\n",
    "auc_roc_tree"
   ]
  },
  {
   "cell_type": "code",
   "execution_count": 45,
   "metadata": {},
   "outputs": [
    {
     "data": {
      "text/plain": [
       "0.8398717894463422"
      ]
     },
     "execution_count": 45,
     "metadata": {},
     "output_type": "execute_result"
    }
   ],
   "source": [
    "probabilities_tree = best_model_tree_2.predict_proba(features_valid_balance_up)\n",
    "probabilities_one_valid_tree = probabilities_tree[:,1]\n",
    "fpr_tree_2, tpr_tree_2, thresholds = roc_curve(target_valid_balance_up, probabilities_one_valid_tree)\n",
    "\n",
    "auc_roc_tree = roc_auc_score(target_valid_balance_up, probabilities_one_valid_tree)\n",
    "auc_roc_tree"
   ]
  },
  {
   "cell_type": "code",
   "execution_count": 46,
   "metadata": {},
   "outputs": [
    {
     "data": {
      "text/plain": [
       "0.6470182816424275"
      ]
     },
     "execution_count": 46,
     "metadata": {},
     "output_type": "execute_result"
    }
   ],
   "source": [
    "probabilities_tree = best_model_tree_3.predict_proba(features_valid_balance_up2)\n",
    "probabilities_one_valid_tree = probabilities_tree[:,1]\n",
    "fpr_tree_3, tpr_tree_3, thresholds = roc_curve(target_valid_balance_up2, probabilities_one_valid_tree)\n",
    "\n",
    "auc_roc_tree = roc_auc_score(target_valid_balance_up2, probabilities_one_valid_tree)\n",
    "auc_roc_tree"
   ]
  },
  {
   "cell_type": "code",
   "execution_count": 47,
   "metadata": {},
   "outputs": [
    {
     "data": {
      "text/plain": [
       "0.6470182816424275"
      ]
     },
     "execution_count": 47,
     "metadata": {},
     "output_type": "execute_result"
    }
   ],
   "source": [
    "probabilities_tree = best_model_tree_4.predict_proba(features_valid_balance_up2)\n",
    "probabilities_one_valid_tree = probabilities_tree[:,1]\n",
    "fpr_tree_4, tpr_tree_4, thresholds = roc_curve(target_valid_balance_up2, probabilities_one_valid_tree)\n",
    "\n",
    "auc_roc_tree = roc_auc_score(target_valid_balance_up2, probabilities_one_valid_tree)\n",
    "auc_roc_tree"
   ]
  },
  {
   "cell_type": "code",
   "execution_count": null,
   "metadata": {},
   "outputs": [],
   "source": []
  },
  {
   "cell_type": "code",
   "execution_count": 48,
   "metadata": {},
   "outputs": [
    {
     "data": {
      "text/plain": [
       "0.8529044374626976"
      ]
     },
     "execution_count": 48,
     "metadata": {},
     "output_type": "execute_result"
    }
   ],
   "source": [
    "probabilities_forest = best_model_forest_1.predict_proba(features_valid_balance_up)\n",
    "probabilities_one_valid_forest = probabilities_forest[:,1]\n",
    "fpr_forest_1, tpr_forest_1, thresholds = roc_curve(target_valid_balance_up, probabilities_one_valid_forest)\n",
    "\n",
    "auc_roc_forest = roc_auc_score(target_valid_balance_up, probabilities_one_valid_forest)\n",
    "auc_roc_forest"
   ]
  },
  {
   "cell_type": "code",
   "execution_count": 49,
   "metadata": {},
   "outputs": [
    {
     "data": {
      "text/plain": [
       "0.8542469563491659"
      ]
     },
     "execution_count": 49,
     "metadata": {},
     "output_type": "execute_result"
    }
   ],
   "source": [
    "probabilities_forest = best_model_forest_2.predict_proba(features_valid_balance_up)\n",
    "probabilities_one_valid_forest = probabilities_forest[:,1]\n",
    "fpr_forest_2, tpr_forest_2, thresholds = roc_curve(target_valid_balance_up, probabilities_one_valid_forest)\n",
    "\n",
    "auc_roc_forest = roc_auc_score(target_valid_balance_up, probabilities_one_valid_forest)\n",
    "auc_roc_forest"
   ]
  },
  {
   "cell_type": "code",
   "execution_count": 50,
   "metadata": {},
   "outputs": [
    {
     "data": {
      "text/plain": [
       "0.6457683546521815"
      ]
     },
     "execution_count": 50,
     "metadata": {},
     "output_type": "execute_result"
    }
   ],
   "source": [
    "probabilities_forest = best_model_forest_3.predict_proba(features_valid_balance_up2)\n",
    "probabilities_one_valid_forest = probabilities_forest[:,1]\n",
    "fpr_forest_3, tpr_forest_3, thresholds = roc_curve(target_valid_balance_up2, probabilities_one_valid_forest)\n",
    "\n",
    "auc_roc_forest = roc_auc_score(target_valid_balance_up2, probabilities_one_valid_forest)\n",
    "auc_roc_forest"
   ]
  },
  {
   "cell_type": "code",
   "execution_count": 51,
   "metadata": {},
   "outputs": [
    {
     "data": {
      "text/plain": [
       "0.6624613048303254"
      ]
     },
     "execution_count": 51,
     "metadata": {},
     "output_type": "execute_result"
    }
   ],
   "source": [
    "probabilities_forest = best_model_forest_4.predict_proba(features_valid_balance_up2)\n",
    "probabilities_one_valid_forest = probabilities_forest[:,1]\n",
    "fpr_forest_4, tpr_forest_4, thresholds = roc_curve(target_valid_balance_up2, probabilities_one_valid_forest)\n",
    "\n",
    "auc_roc_forest = roc_auc_score(target_valid_balance_up2, probabilities_one_valid_forest)\n",
    "auc_roc_forest"
   ]
  },
  {
   "cell_type": "code",
   "execution_count": null,
   "metadata": {},
   "outputs": [],
   "source": []
  },
  {
   "cell_type": "code",
   "execution_count": 52,
   "metadata": {},
   "outputs": [
    {
     "data": {
      "text/plain": [
       "0.7666775138301334"
      ]
     },
     "execution_count": 52,
     "metadata": {},
     "output_type": "execute_result"
    }
   ],
   "source": [
    "probabilities_reg = model_logistic_1.predict_proba(features_valid_balance_up)\n",
    "probabilities_one_valid_reg = probabilities_reg[:,1]\n",
    "fpr_log_1, tpr_log_1, thresholds = roc_curve(target_valid_balance_up, probabilities_one_valid_reg)\n",
    "\n",
    "auc_roc_reg = roc_auc_score(target_valid_balance_up, probabilities_one_valid_reg)\n",
    "auc_roc_reg"
   ]
  },
  {
   "cell_type": "code",
   "execution_count": 53,
   "metadata": {},
   "outputs": [
    {
     "data": {
      "text/plain": [
       "0.7666643804932005"
      ]
     },
     "execution_count": 53,
     "metadata": {},
     "output_type": "execute_result"
    }
   ],
   "source": [
    "probabilities_reg = model_logistic_2.predict_proba(features_valid_balance_up)\n",
    "probabilities_one_valid_reg = probabilities_reg[:,1]\n",
    "fpr_log_2, tpr_log_2, thresholds = roc_curve(target_valid_balance_up, probabilities_one_valid_reg)\n",
    "\n",
    "auc_roc_reg = roc_auc_score(target_valid_balance_up, probabilities_one_valid_reg)\n",
    "auc_roc_reg"
   ]
  },
  {
   "cell_type": "code",
   "execution_count": 54,
   "metadata": {},
   "outputs": [
    {
     "data": {
      "text/plain": [
       "0.7621166987909584"
      ]
     },
     "execution_count": 54,
     "metadata": {},
     "output_type": "execute_result"
    }
   ],
   "source": [
    "probabilities_reg = model_logistic_3.predict_proba(features_valid_balance_up2)\n",
    "probabilities_one_valid_reg = probabilities_reg[:,1]\n",
    "fpr_log_3, tpr_log_3, thresholds = roc_curve(target_valid_balance_up2, probabilities_one_valid_reg)\n",
    "\n",
    "auc_roc_reg = roc_auc_score(target_valid_balance_up2, probabilities_one_valid_reg)\n",
    "auc_roc_reg"
   ]
  },
  {
   "cell_type": "code",
   "execution_count": 55,
   "metadata": {},
   "outputs": [
    {
     "data": {
      "text/plain": [
       "0.7620232463057064"
      ]
     },
     "execution_count": 55,
     "metadata": {},
     "output_type": "execute_result"
    }
   ],
   "source": [
    "probabilities_reg = model_logistic_4.predict_proba(features_valid_balance_up2)\n",
    "probabilities_one_valid_reg = probabilities_reg[:,1]\n",
    "fpr_log_4, tpr_log_4, thresholds = roc_curve(target_valid_balance_up2, probabilities_one_valid_reg)\n",
    "\n",
    "auc_roc_reg = roc_auc_score(target_valid_balance_up2, probabilities_one_valid_reg)\n",
    "auc_roc_reg"
   ]
  },
  {
   "cell_type": "code",
   "execution_count": null,
   "metadata": {},
   "outputs": [],
   "source": []
  },
  {
   "cell_type": "code",
   "execution_count": 56,
   "metadata": {},
   "outputs": [
    {
     "data": {
      "text/plain": [
       "<Figure size 432x288 with 0 Axes>"
      ]
     },
     "metadata": {},
     "output_type": "display_data"
    },
    {
     "data": {
      "image/png": "[encoded data removed]",
      "text/plain": [
       "<Figure size 1440x1008 with 1 Axes>"
      ]
     },
     "metadata": {
      "needs_background": "light"
     },
     "output_type": "display_data"
    }
   ],
   "source": [
    "plt.figure()\n",
    "\n",
    "plt.figure(figsize=(20, 14))\n",
    "plt.plot([0, 1], [0, 1], linestyle='--')\n",
    "plt.xlim([0.0, 1.0])\n",
    "plt.ylim([0.0, 1.0])\n",
    "plt.plot(fpr_tree_1, tpr_tree_1)\n",
    "plt.plot(fpr_tree_2, tpr_tree_2)\n",
    "plt.plot(fpr_tree_3, tpr_tree_3)\n",
    "plt.plot(fpr_tree_4, tpr_tree_4)\n",
    "\n",
    "plt.plot(fpr_forest_1, tpr_forest_1)\n",
    "plt.plot(fpr_forest_2, tpr_forest_2)\n",
    "plt.plot(fpr_forest_3, tpr_forest_3)\n",
    "plt.plot(fpr_forest_4, tpr_forest_4)\n",
    "\n",
    "plt.plot(fpr_log_1, tpr_log_1)\n",
    "plt.plot(fpr_log_2, tpr_log_2)\n",
    "plt.plot(fpr_log_3, tpr_log_3)\n",
    "plt.plot(fpr_log_4, tpr_log_4)\n",
    "\n",
    "plt.xlabel('False Positive Rate')\n",
    "plt.ylabel('True Positive Rate')\n",
    "plt.title('ROC-кривая')\n",
    "plt.legend(('Случайная модель', \n",
    "            'Дерево решения 1', 'Дерево решения 2', 'Дерево решения 3', 'Дерево решения 4',\n",
    "            'Случайный лес 1', 'Случайный лес 2', 'Случайный лес 3', 'Случайный лес 4', \n",
    "            'Логистическая регрессия 1', 'Логистическая регрессия 2', 'Логистическая регрессия 3', 'Логистическая регрессия 4'),\n",
    "           loc= 'upper left') \n",
    "plt.show()"
   ]
  },
  {
   "cell_type": "markdown",
   "metadata": {},
   "source": [
    "**Общий вывод:**"
   ]
  },
  {
   "cell_type": "markdown",
   "metadata": {},
   "source": [
    "Значение площади под кривой. На сколько нашb моделb отличается от случайной.\n",
    "Лучший результат показала модель best_model_forest_1 без балансировки данных обученная на данных отбалансированных функцией Upsampling. F1 составила 0.77, при глубине 8 и количестве деревьев 50\n",
    "\n",
    "А среди данных маштабированных функцией Downsampling лучшей моделью стала best_model_forest_3. F1 составила 0.70, при глубине 4 и количестве деревьев 12\n",
    "\n",
    "Будем использовать их."
   ]
  },
  {
   "cell_type": "markdown",
   "metadata": {},
   "source": []
  },
  {
   "cell_type": "markdown",
   "metadata": {},
   "source": [
    "## Тестирование модели"
   ]
  },
  {
   "cell_type": "code",
   "execution_count": 57,
   "metadata": {},
   "outputs": [],
   "source": [
    "# features_test_balance_up, target_test_balance_up = upsampling(features_test, target_test, 4)"
   ]
  },
  {
   "cell_type": "code",
   "execution_count": 58,
   "metadata": {},
   "outputs": [
    {
     "name": "stdout",
     "output_type": "stream",
     "text": [
      "F1 0.16764705882352943\n"
     ]
    }
   ],
   "source": [
    "best_model_tree_1\n",
    "prediction = best_model_forest_1.predict(features_test)\n",
    "print('F1', f1_score(target_test, prediction))"
   ]
  },
  {
   "cell_type": "code",
   "execution_count": 59,
   "metadata": {},
   "outputs": [],
   "source": [
    "probabilities_forest = best_model_forest_1.predict_proba(features_test)\n",
    "probabilities_one_valid_forest = probabilities_forest[:,1]\n",
    "fpr_forest, tpr_forest, thresholds = roc_curve(target_test, probabilities_one_valid_forest)"
   ]
  },
  {
   "cell_type": "code",
   "execution_count": 60,
   "metadata": {},
   "outputs": [],
   "source": [
    "auc_roc_forest = roc_auc_score(target_test, probabilities_one_valid_forest)"
   ]
  },
  {
   "cell_type": "code",
   "execution_count": 61,
   "metadata": {},
   "outputs": [
    {
     "data": {
      "text/plain": [
       "0.35210129310344823"
      ]
     },
     "execution_count": 61,
     "metadata": {},
     "output_type": "execute_result"
    }
   ],
   "source": [
    "auc_roc_forest"
   ]
  },
  {
   "cell_type": "code",
   "execution_count": 62,
   "metadata": {},
   "outputs": [
    {
     "data": {
      "text/plain": [
       "<Figure size 432x288 with 0 Axes>"
      ]
     },
     "metadata": {},
     "output_type": "display_data"
    },
    {
     "data": {
      "image/png": "[encoded data removed]",
      "text/plain": [
       "<Figure size 1440x1008 with 1 Axes>"
      ]
     },
     "metadata": {
      "needs_background": "light"
     },
     "output_type": "display_data"
    }
   ],
   "source": [
    "plt.figure()\n",
    "\n",
    "plt.figure(figsize=(20, 14))\n",
    "plt.plot([0, 1], [0, 1], linestyle='--')\n",
    "plt.xlim([0.0, 1.0])\n",
    "plt.ylim([0.0, 1.0])\n",
    "\n",
    "plt.plot(fpr_forest, tpr_forest)\n",
    "\n",
    "plt.xlabel('False Positive Rate')\n",
    "plt.ylabel('True Positive Rate')\n",
    "plt.title('ROC-кривая')\n",
    "plt.legend(('Случайная модель', 'Случайный лес 1'),\n",
    "           loc= 'upper left') \n",
    "plt.show()"
   ]
  },
  {
   "cell_type": "markdown",
   "metadata": {},
   "source": [
    "**протестируем модель best_model_tree_3**"
   ]
  },
  {
   "cell_type": "code",
   "execution_count": 158,
   "metadata": {},
   "outputs": [
    {
     "name": "stdout",
     "output_type": "stream",
     "text": [
      "F1 0.5970178926441353\n"
     ]
    }
   ],
   "source": [
    "best_model_tree_3\n",
    "prediction = best_model_forest_3.predict(features_test)\n",
    "print('F1', f1_score(target_test, prediction))"
   ]
  },
  {
   "cell_type": "code",
   "execution_count": 136,
   "metadata": {},
   "outputs": [
    {
     "data": {
      "text/plain": [
       "0.8594446009328163"
      ]
     },
     "execution_count": 136,
     "metadata": {},
     "output_type": "execute_result"
    }
   ],
   "source": [
    "probabilities_forest = best_model_forest_3.predict_proba(features_test)\n",
    "probabilities_one_valid_forest = probabilities_forest[:,1]\n",
    "fpr_forest, tpr_forest, thresholds = roc_curve(target_test, probabilities_one_valid_forest)\n",
    "\n",
    "auc_roc_forest = roc_auc_score(target_test, probabilities_one_valid_forest)\n",
    "auc_roc_forest"
   ]
  },
  {
   "cell_type": "code",
   "execution_count": 65,
   "metadata": {},
   "outputs": [
    {
     "data": {
      "text/plain": [
       "<Figure size 432x288 with 0 Axes>"
      ]
     },
     "metadata": {},
     "output_type": "display_data"
    },
    {
     "data": {
      "image/png": "[encoded data removed]",
      "text/plain": [
       "<Figure size 1440x1008 with 1 Axes>"
      ]
     },
     "metadata": {
      "needs_background": "light"
     },
     "output_type": "display_data"
    }
   ],
   "source": [
    "plt.figure()\n",
    "\n",
    "plt.figure(figsize=(20, 14))\n",
    "plt.plot([0, 1], [0, 1], linestyle='--')\n",
    "plt.xlim([0.0, 1.0])\n",
    "plt.ylim([0.0, 1.0])\n",
    "\n",
    "plt.plot(fpr_forest, tpr_forest)\n",
    "\n",
    "plt.xlabel('False Positive Rate')\n",
    "plt.ylabel('True Positive Rate')\n",
    "plt.title('ROC-кривая')\n",
    "plt.legend(('Случайная модель', 'Случайный лес 3'),\n",
    "           loc= 'upper left') \n",
    "plt.show()"
   ]
  },
  {
   "cell_type": "markdown",
   "metadata": {},
   "source": [
    "**Общий вывод:**\n",
    "Тестование показало, что модель best_model_tree_3, обученная на данных отмаштабированных в меньшую сторону функцией Downsampling, выдает предсказания намного более точные нежели можель best_model_tree_1. \n",
    "\n",
    "В тоже время, необходимо отметить, что точность предсказаний упала, относительно результатов показанных на валидационной выборке."
   ]
  },
  {
   "cell_type": "code",
   "execution_count": null,
   "metadata": {},
   "outputs": [],
   "source": []
  }
 ],
 "metadata": {
  "ExecuteTimeLog": [
   {
    "duration": 1793,
    "start_time": "2022-03-26T16:40:05.587Z"
   },
   {
    "duration": 263,
    "start_time": "2022-03-26T16:40:08.927Z"
   },
   {
    "duration": 32,
    "start_time": "2022-03-26T16:40:30.120Z"
   },
   {
    "duration": 14,
    "start_time": "2022-03-26T16:40:54.962Z"
   },
   {
    "duration": 10,
    "start_time": "2022-03-26T16:41:19.117Z"
   },
   {
    "duration": 10,
    "start_time": "2022-03-26T16:41:34.278Z"
   },
   {
    "duration": 8,
    "start_time": "2022-03-26T16:41:43.519Z"
   },
   {
    "duration": 9,
    "start_time": "2022-03-26T16:41:50.450Z"
   },
   {
    "duration": 23,
    "start_time": "2022-03-26T16:43:04.237Z"
   },
   {
    "duration": 6,
    "start_time": "2022-03-26T16:52:00.101Z"
   },
   {
    "duration": 4,
    "start_time": "2022-03-26T16:53:45.335Z"
   },
   {
    "duration": 10,
    "start_time": "2022-03-26T17:00:00.839Z"
   },
   {
    "duration": 14,
    "start_time": "2022-03-26T17:00:20.535Z"
   },
   {
    "duration": 137,
    "start_time": "2022-03-26T17:04:46.835Z"
   },
   {
    "duration": 10,
    "start_time": "2022-03-26T18:30:23.552Z"
   },
   {
    "duration": 5,
    "start_time": "2022-03-26T18:30:36.975Z"
   },
   {
    "duration": 6,
    "start_time": "2022-03-26T18:30:48.473Z"
   },
   {
    "duration": 25,
    "start_time": "2022-03-26T18:32:16.197Z"
   },
   {
    "duration": 27,
    "start_time": "2022-03-26T18:46:54.576Z"
   },
   {
    "duration": 133,
    "start_time": "2022-03-26T18:52:25.055Z"
   },
   {
    "duration": 4995,
    "start_time": "2022-03-26T18:57:49.436Z"
   },
   {
    "duration": 175,
    "start_time": "2022-03-26T19:10:46.362Z"
   },
   {
    "duration": 114,
    "start_time": "2022-03-26T19:11:53.330Z"
   },
   {
    "duration": 127,
    "start_time": "2022-03-26T19:16:35.761Z"
   },
   {
    "duration": 148,
    "start_time": "2022-03-26T19:24:34.761Z"
   },
   {
    "duration": 130,
    "start_time": "2022-03-26T19:24:51.813Z"
   },
   {
    "duration": 250,
    "start_time": "2022-03-26T19:25:17.181Z"
   },
   {
    "duration": 132,
    "start_time": "2022-03-26T19:26:10.185Z"
   },
   {
    "duration": 125,
    "start_time": "2022-03-26T19:31:09.688Z"
   },
   {
    "duration": 130,
    "start_time": "2022-03-26T19:32:19.229Z"
   },
   {
    "duration": 134,
    "start_time": "2022-03-26T19:35:03.510Z"
   },
   {
    "duration": 5,
    "start_time": "2022-03-26T19:35:16.535Z"
   },
   {
    "duration": 35,
    "start_time": "2022-03-26T19:35:16.878Z"
   },
   {
    "duration": 12,
    "start_time": "2022-03-26T19:35:17.243Z"
   },
   {
    "duration": 24,
    "start_time": "2022-03-26T19:35:17.688Z"
   },
   {
    "duration": 5,
    "start_time": "2022-03-26T19:35:18.998Z"
   },
   {
    "duration": 9,
    "start_time": "2022-03-26T19:35:19.360Z"
   },
   {
    "duration": 14,
    "start_time": "2022-03-26T19:35:19.886Z"
   },
   {
    "duration": 144,
    "start_time": "2022-03-26T19:35:20.890Z"
   },
   {
    "duration": 13,
    "start_time": "2022-03-26T19:35:24.639Z"
   },
   {
    "duration": 6,
    "start_time": "2022-03-26T19:35:25.499Z"
   },
   {
    "duration": 9,
    "start_time": "2022-03-26T19:35:25.861Z"
   },
   {
    "duration": 27,
    "start_time": "2022-03-26T19:35:26.923Z"
   },
   {
    "duration": 160,
    "start_time": "2022-03-26T19:35:34.399Z"
   },
   {
    "duration": 5336,
    "start_time": "2022-03-26T19:35:38.010Z"
   },
   {
    "duration": 256,
    "start_time": "2022-03-26T19:35:47.817Z"
   },
   {
    "duration": 5202,
    "start_time": "2022-03-26T19:39:36.252Z"
   },
   {
    "duration": 370987,
    "start_time": "2022-03-26T19:42:12.380Z"
   },
   {
    "duration": 128,
    "start_time": "2022-03-26T19:55:28.413Z"
   },
   {
    "duration": 126,
    "start_time": "2022-03-26T19:56:02.223Z"
   },
   {
    "duration": 4887,
    "start_time": "2022-03-26T19:58:05.604Z"
   },
   {
    "duration": 410,
    "start_time": "2022-03-26T20:03:19.368Z"
   },
   {
    "duration": 4,
    "start_time": "2022-03-26T20:25:22.996Z"
   },
   {
    "duration": 4,
    "start_time": "2022-03-26T20:29:28.476Z"
   },
   {
    "duration": 12,
    "start_time": "2022-03-26T20:30:11.676Z"
   },
   {
    "duration": 553,
    "start_time": "2022-03-26T20:43:29.585Z"
   },
   {
    "duration": 1622,
    "start_time": "2022-03-26T20:44:19.521Z"
   },
   {
    "duration": 1224,
    "start_time": "2022-03-26T20:45:01.126Z"
   },
   {
    "duration": 125583,
    "start_time": "2022-03-26T20:54:52.825Z"
   },
   {
    "duration": 172489,
    "start_time": "2022-03-26T21:01:15.830Z"
   },
   {
    "duration": 31,
    "start_time": "2022-03-26T21:06:07.057Z"
   },
   {
    "duration": 1813,
    "start_time": "2022-03-26T21:12:28.915Z"
   },
   {
    "duration": 1211,
    "start_time": "2022-03-26T21:13:02.378Z"
   },
   {
    "duration": 4,
    "start_time": "2022-03-26T21:16:17.119Z"
   },
   {
    "duration": 29,
    "start_time": "2022-03-26T21:16:18.411Z"
   },
   {
    "duration": 15,
    "start_time": "2022-03-26T21:16:19.262Z"
   },
   {
    "duration": 19,
    "start_time": "2022-03-26T21:16:21.107Z"
   },
   {
    "duration": 5,
    "start_time": "2022-03-26T21:16:24.204Z"
   },
   {
    "duration": 5,
    "start_time": "2022-03-26T21:16:25.105Z"
   },
   {
    "duration": 17,
    "start_time": "2022-03-26T21:16:26.061Z"
   },
   {
    "duration": 123,
    "start_time": "2022-03-26T21:16:27.676Z"
   },
   {
    "duration": 10,
    "start_time": "2022-03-26T21:16:30.580Z"
   },
   {
    "duration": 6,
    "start_time": "2022-03-26T21:16:31.857Z"
   },
   {
    "duration": 7,
    "start_time": "2022-03-26T21:16:32.649Z"
   },
   {
    "duration": 29,
    "start_time": "2022-03-26T21:16:33.707Z"
   },
   {
    "duration": 1204,
    "start_time": "2022-03-26T21:16:36.080Z"
   },
   {
    "duration": 4967,
    "start_time": "2022-03-26T21:16:44.548Z"
   },
   {
    "duration": 148,
    "start_time": "2022-03-26T21:16:57.226Z"
   },
   {
    "duration": 4,
    "start_time": "2022-03-26T21:17:02.838Z"
   },
   {
    "duration": 9,
    "start_time": "2022-03-26T21:17:05.179Z"
   },
   {
    "duration": 1684,
    "start_time": "2022-03-26T21:17:10.092Z"
   },
   {
    "duration": 182454,
    "start_time": "2022-03-26T21:17:17.501Z"
   },
   {
    "duration": 29,
    "start_time": "2022-03-26T21:24:30.097Z"
   },
   {
    "duration": 6,
    "start_time": "2022-03-26T21:26:28.856Z"
   },
   {
    "duration": 5,
    "start_time": "2022-03-26T21:29:43.722Z"
   },
   {
    "duration": 3,
    "start_time": "2022-03-26T21:29:44.111Z"
   },
   {
    "duration": 23,
    "start_time": "2022-03-26T21:30:33.808Z"
   },
   {
    "duration": 5,
    "start_time": "2022-03-26T21:31:55.350Z"
   },
   {
    "duration": 4,
    "start_time": "2022-03-26T21:31:56.177Z"
   },
   {
    "duration": 13,
    "start_time": "2022-03-26T21:31:59.132Z"
   },
   {
    "duration": 6,
    "start_time": "2022-03-26T21:31:59.948Z"
   },
   {
    "duration": 4,
    "start_time": "2022-03-26T21:32:00.548Z"
   },
   {
    "duration": 188,
    "start_time": "2022-03-26T21:32:20.431Z"
   },
   {
    "duration": 11,
    "start_time": "2022-03-26T21:32:50.376Z"
   },
   {
    "duration": 64,
    "start_time": "2022-03-26T21:32:56.606Z"
   },
   {
    "duration": 6,
    "start_time": "2022-03-26T21:32:57.459Z"
   },
   {
    "duration": 4,
    "start_time": "2022-03-26T21:32:57.915Z"
   },
   {
    "duration": 166,
    "start_time": "2022-03-26T21:32:59.475Z"
   },
   {
    "duration": 1733,
    "start_time": "2022-03-26T21:38:12.358Z"
   },
   {
    "duration": 188733,
    "start_time": "2022-03-26T21:38:18.009Z"
   },
   {
    "duration": 27,
    "start_time": "2022-03-26T21:42:27.387Z"
   },
   {
    "duration": 7,
    "start_time": "2022-03-26T21:42:30.403Z"
   },
   {
    "duration": 6,
    "start_time": "2022-03-26T21:42:30.913Z"
   },
   {
    "duration": 12,
    "start_time": "2022-03-26T21:42:31.461Z"
   },
   {
    "duration": 23,
    "start_time": "2022-03-26T21:42:32.076Z"
   },
   {
    "duration": 5,
    "start_time": "2022-03-26T21:42:33.037Z"
   },
   {
    "duration": 4,
    "start_time": "2022-03-26T21:42:33.731Z"
   },
   {
    "duration": 8,
    "start_time": "2022-03-26T21:42:34.476Z"
   },
   {
    "duration": 6,
    "start_time": "2022-03-26T21:42:35.177Z"
   },
   {
    "duration": 3,
    "start_time": "2022-03-26T21:42:35.740Z"
   },
   {
    "duration": 174,
    "start_time": "2022-03-26T21:42:36.875Z"
   },
   {
    "duration": 169,
    "start_time": "2022-03-26T21:43:09.176Z"
   },
   {
    "duration": 158,
    "start_time": "2022-03-26T21:43:59.053Z"
   },
   {
    "duration": 188,
    "start_time": "2022-03-26T21:46:09.307Z"
   },
   {
    "duration": 4,
    "start_time": "2022-03-26T21:53:06.979Z"
   },
   {
    "duration": 9,
    "start_time": "2022-03-26T21:53:07.976Z"
   },
   {
    "duration": 1645,
    "start_time": "2022-03-27T10:04:44.254Z"
   },
   {
    "duration": 31,
    "start_time": "2022-03-27T10:04:45.901Z"
   },
   {
    "duration": 12,
    "start_time": "2022-03-27T10:04:45.934Z"
   },
   {
    "duration": 45,
    "start_time": "2022-03-27T10:04:45.948Z"
   },
   {
    "duration": 26,
    "start_time": "2022-03-27T10:04:45.996Z"
   },
   {
    "duration": 26,
    "start_time": "2022-03-27T10:04:46.023Z"
   },
   {
    "duration": 34,
    "start_time": "2022-03-27T10:04:46.050Z"
   },
   {
    "duration": 153,
    "start_time": "2022-03-27T10:04:46.086Z"
   },
   {
    "duration": 11,
    "start_time": "2022-03-27T10:04:46.241Z"
   },
   {
    "duration": 34,
    "start_time": "2022-03-27T10:04:46.254Z"
   },
   {
    "duration": 30,
    "start_time": "2022-03-27T10:04:46.289Z"
   },
   {
    "duration": 51,
    "start_time": "2022-03-27T10:04:46.328Z"
   },
   {
    "duration": 1241,
    "start_time": "2022-03-27T10:04:46.381Z"
   },
   {
    "duration": 353,
    "start_time": "2022-03-27T10:04:47.625Z"
   },
   {
    "duration": 0,
    "start_time": "2022-03-27T10:04:47.980Z"
   },
   {
    "duration": 0,
    "start_time": "2022-03-27T10:04:47.981Z"
   },
   {
    "duration": 0,
    "start_time": "2022-03-27T10:04:47.983Z"
   },
   {
    "duration": 0,
    "start_time": "2022-03-27T10:04:48.001Z"
   },
   {
    "duration": 0,
    "start_time": "2022-03-27T10:04:48.003Z"
   },
   {
    "duration": 0,
    "start_time": "2022-03-27T10:04:48.005Z"
   },
   {
    "duration": 0,
    "start_time": "2022-03-27T10:04:48.007Z"
   },
   {
    "duration": 0,
    "start_time": "2022-03-27T10:04:48.009Z"
   },
   {
    "duration": 0,
    "start_time": "2022-03-27T10:04:48.010Z"
   },
   {
    "duration": 0,
    "start_time": "2022-03-27T10:04:48.012Z"
   },
   {
    "duration": 0,
    "start_time": "2022-03-27T10:04:48.014Z"
   },
   {
    "duration": 0,
    "start_time": "2022-03-27T10:04:48.015Z"
   },
   {
    "duration": 1,
    "start_time": "2022-03-27T10:04:48.017Z"
   },
   {
    "duration": 0,
    "start_time": "2022-03-27T10:04:48.019Z"
   },
   {
    "duration": 0,
    "start_time": "2022-03-27T10:04:48.020Z"
   },
   {
    "duration": 0,
    "start_time": "2022-03-27T10:04:48.022Z"
   },
   {
    "duration": 0,
    "start_time": "2022-03-27T10:04:48.024Z"
   },
   {
    "duration": 0,
    "start_time": "2022-03-27T10:04:48.025Z"
   },
   {
    "duration": 2156,
    "start_time": "2022-03-27T10:15:31.453Z"
   },
   {
    "duration": 28,
    "start_time": "2022-03-27T10:15:33.611Z"
   },
   {
    "duration": 12,
    "start_time": "2022-03-27T10:15:33.640Z"
   },
   {
    "duration": 22,
    "start_time": "2022-03-27T10:15:33.654Z"
   },
   {
    "duration": 5,
    "start_time": "2022-03-27T10:15:33.678Z"
   },
   {
    "duration": 5,
    "start_time": "2022-03-27T10:15:33.684Z"
   },
   {
    "duration": 12,
    "start_time": "2022-03-27T10:15:33.702Z"
   },
   {
    "duration": 151,
    "start_time": "2022-03-27T10:15:33.715Z"
   },
   {
    "duration": 12,
    "start_time": "2022-03-27T10:15:33.868Z"
   },
   {
    "duration": 6,
    "start_time": "2022-03-27T10:15:33.881Z"
   },
   {
    "duration": 9,
    "start_time": "2022-03-27T10:15:33.900Z"
   },
   {
    "duration": 47,
    "start_time": "2022-03-27T10:15:33.912Z"
   },
   {
    "duration": 1841,
    "start_time": "2022-03-27T10:15:33.962Z"
   },
   {
    "duration": 640,
    "start_time": "2022-03-27T10:15:35.808Z"
   },
   {
    "duration": 0,
    "start_time": "2022-03-27T10:15:36.450Z"
   },
   {
    "duration": 0,
    "start_time": "2022-03-27T10:15:36.453Z"
   },
   {
    "duration": 0,
    "start_time": "2022-03-27T10:15:36.454Z"
   },
   {
    "duration": 0,
    "start_time": "2022-03-27T10:15:36.456Z"
   },
   {
    "duration": 0,
    "start_time": "2022-03-27T10:15:36.458Z"
   },
   {
    "duration": 0,
    "start_time": "2022-03-27T10:15:36.459Z"
   },
   {
    "duration": 0,
    "start_time": "2022-03-27T10:15:36.460Z"
   },
   {
    "duration": 0,
    "start_time": "2022-03-27T10:15:36.461Z"
   },
   {
    "duration": 0,
    "start_time": "2022-03-27T10:15:36.462Z"
   },
   {
    "duration": 0,
    "start_time": "2022-03-27T10:15:36.463Z"
   },
   {
    "duration": 0,
    "start_time": "2022-03-27T10:15:36.464Z"
   },
   {
    "duration": 0,
    "start_time": "2022-03-27T10:15:36.465Z"
   },
   {
    "duration": 0,
    "start_time": "2022-03-27T10:15:36.466Z"
   },
   {
    "duration": 0,
    "start_time": "2022-03-27T10:15:36.467Z"
   },
   {
    "duration": 0,
    "start_time": "2022-03-27T10:15:36.467Z"
   },
   {
    "duration": 0,
    "start_time": "2022-03-27T10:15:36.468Z"
   },
   {
    "duration": 0,
    "start_time": "2022-03-27T10:15:36.469Z"
   },
   {
    "duration": 0,
    "start_time": "2022-03-27T10:15:36.470Z"
   },
   {
    "duration": 1658,
    "start_time": "2022-03-27T10:29:14.818Z"
   },
   {
    "duration": 29,
    "start_time": "2022-03-27T10:29:16.478Z"
   },
   {
    "duration": 12,
    "start_time": "2022-03-27T10:29:16.509Z"
   },
   {
    "duration": 24,
    "start_time": "2022-03-27T10:29:16.523Z"
   },
   {
    "duration": 5,
    "start_time": "2022-03-27T10:29:16.549Z"
   },
   {
    "duration": 10,
    "start_time": "2022-03-27T10:29:16.555Z"
   },
   {
    "duration": 15,
    "start_time": "2022-03-27T10:29:16.566Z"
   },
   {
    "duration": 143,
    "start_time": "2022-03-27T10:29:16.583Z"
   },
   {
    "duration": 10,
    "start_time": "2022-03-27T10:29:16.733Z"
   },
   {
    "duration": 5,
    "start_time": "2022-03-27T10:29:16.745Z"
   },
   {
    "duration": 11,
    "start_time": "2022-03-27T10:29:16.751Z"
   },
   {
    "duration": 29,
    "start_time": "2022-03-27T10:29:16.763Z"
   },
   {
    "duration": 1199,
    "start_time": "2022-03-27T10:29:16.794Z"
   },
   {
    "duration": 343,
    "start_time": "2022-03-27T10:29:17.997Z"
   },
   {
    "duration": 0,
    "start_time": "2022-03-27T10:29:18.343Z"
   },
   {
    "duration": 0,
    "start_time": "2022-03-27T10:29:18.344Z"
   },
   {
    "duration": 0,
    "start_time": "2022-03-27T10:29:18.346Z"
   },
   {
    "duration": 0,
    "start_time": "2022-03-27T10:29:18.347Z"
   },
   {
    "duration": 0,
    "start_time": "2022-03-27T10:29:18.349Z"
   },
   {
    "duration": 0,
    "start_time": "2022-03-27T10:29:18.350Z"
   },
   {
    "duration": 0,
    "start_time": "2022-03-27T10:29:18.351Z"
   },
   {
    "duration": 0,
    "start_time": "2022-03-27T10:29:18.352Z"
   },
   {
    "duration": 0,
    "start_time": "2022-03-27T10:29:18.354Z"
   },
   {
    "duration": 0,
    "start_time": "2022-03-27T10:29:18.355Z"
   },
   {
    "duration": 0,
    "start_time": "2022-03-27T10:29:18.356Z"
   },
   {
    "duration": 0,
    "start_time": "2022-03-27T10:29:18.358Z"
   },
   {
    "duration": 0,
    "start_time": "2022-03-27T10:29:18.359Z"
   },
   {
    "duration": 0,
    "start_time": "2022-03-27T10:29:18.361Z"
   },
   {
    "duration": 0,
    "start_time": "2022-03-27T10:29:18.362Z"
   },
   {
    "duration": 0,
    "start_time": "2022-03-27T10:29:18.363Z"
   },
   {
    "duration": 0,
    "start_time": "2022-03-27T10:29:18.364Z"
   },
   {
    "duration": 0,
    "start_time": "2022-03-27T10:29:18.366Z"
   },
   {
    "duration": 2235,
    "start_time": "2022-03-27T11:12:54.873Z"
   },
   {
    "duration": 48,
    "start_time": "2022-03-27T11:12:57.111Z"
   },
   {
    "duration": 19,
    "start_time": "2022-03-27T11:12:57.161Z"
   },
   {
    "duration": 62,
    "start_time": "2022-03-27T11:12:57.183Z"
   },
   {
    "duration": 7,
    "start_time": "2022-03-27T11:12:57.248Z"
   },
   {
    "duration": 11,
    "start_time": "2022-03-27T11:12:57.257Z"
   },
   {
    "duration": 18,
    "start_time": "2022-03-27T11:12:57.270Z"
   },
   {
    "duration": 264,
    "start_time": "2022-03-27T11:12:57.290Z"
   },
   {
    "duration": 15,
    "start_time": "2022-03-27T11:12:57.557Z"
   },
   {
    "duration": 7,
    "start_time": "2022-03-27T11:12:57.574Z"
   },
   {
    "duration": 8,
    "start_time": "2022-03-27T11:12:57.583Z"
   },
   {
    "duration": 74,
    "start_time": "2022-03-27T11:12:57.593Z"
   },
   {
    "duration": 1765,
    "start_time": "2022-03-27T11:12:57.669Z"
   },
   {
    "duration": 520,
    "start_time": "2022-03-27T11:12:59.443Z"
   },
   {
    "duration": 0,
    "start_time": "2022-03-27T11:12:59.965Z"
   },
   {
    "duration": 0,
    "start_time": "2022-03-27T11:12:59.968Z"
   },
   {
    "duration": 0,
    "start_time": "2022-03-27T11:12:59.970Z"
   },
   {
    "duration": 0,
    "start_time": "2022-03-27T11:12:59.972Z"
   },
   {
    "duration": 0,
    "start_time": "2022-03-27T11:12:59.974Z"
   },
   {
    "duration": 0,
    "start_time": "2022-03-27T11:12:59.977Z"
   },
   {
    "duration": 0,
    "start_time": "2022-03-27T11:12:59.979Z"
   },
   {
    "duration": 0,
    "start_time": "2022-03-27T11:12:59.981Z"
   },
   {
    "duration": 0,
    "start_time": "2022-03-27T11:12:59.983Z"
   },
   {
    "duration": 0,
    "start_time": "2022-03-27T11:12:59.986Z"
   },
   {
    "duration": 0,
    "start_time": "2022-03-27T11:12:59.988Z"
   },
   {
    "duration": 0,
    "start_time": "2022-03-27T11:12:59.990Z"
   },
   {
    "duration": 0,
    "start_time": "2022-03-27T11:12:59.992Z"
   },
   {
    "duration": 0,
    "start_time": "2022-03-27T11:12:59.994Z"
   },
   {
    "duration": 0,
    "start_time": "2022-03-27T11:13:00.044Z"
   },
   {
    "duration": 0,
    "start_time": "2022-03-27T11:13:00.046Z"
   },
   {
    "duration": 0,
    "start_time": "2022-03-27T11:13:00.048Z"
   },
   {
    "duration": 0,
    "start_time": "2022-03-27T11:13:00.050Z"
   },
   {
    "duration": 7655,
    "start_time": "2022-03-27T11:14:06.324Z"
   },
   {
    "duration": 2049,
    "start_time": "2022-03-27T11:14:54.748Z"
   },
   {
    "duration": 57,
    "start_time": "2022-03-27T11:14:56.804Z"
   },
   {
    "duration": 26,
    "start_time": "2022-03-27T11:14:56.866Z"
   },
   {
    "duration": 69,
    "start_time": "2022-03-27T11:14:56.895Z"
   },
   {
    "duration": 5,
    "start_time": "2022-03-27T11:14:56.967Z"
   },
   {
    "duration": 11,
    "start_time": "2022-03-27T11:14:56.974Z"
   },
   {
    "duration": 27,
    "start_time": "2022-03-27T11:14:56.988Z"
   },
   {
    "duration": 254,
    "start_time": "2022-03-27T11:14:57.017Z"
   },
   {
    "duration": 17,
    "start_time": "2022-03-27T11:14:57.277Z"
   },
   {
    "duration": 16,
    "start_time": "2022-03-27T11:14:57.296Z"
   },
   {
    "duration": 29,
    "start_time": "2022-03-27T11:14:57.314Z"
   },
   {
    "duration": 53,
    "start_time": "2022-03-27T11:14:57.345Z"
   },
   {
    "duration": 1779,
    "start_time": "2022-03-27T11:14:57.400Z"
   },
   {
    "duration": 7896,
    "start_time": "2022-03-27T11:14:59.181Z"
   },
   {
    "duration": 269,
    "start_time": "2022-03-27T11:15:07.080Z"
   },
   {
    "duration": 92,
    "start_time": "2022-03-27T11:15:07.353Z"
   },
   {
    "duration": 19,
    "start_time": "2022-03-27T11:15:07.447Z"
   },
   {
    "duration": 2580,
    "start_time": "2022-03-27T11:15:07.468Z"
   },
   {
    "duration": 301143,
    "start_time": "2022-03-27T11:15:10.051Z"
   },
   {
    "duration": 147,
    "start_time": "2022-03-27T11:20:11.196Z"
   },
   {
    "duration": 10,
    "start_time": "2022-03-27T11:20:11.346Z"
   },
   {
    "duration": 12,
    "start_time": "2022-03-27T11:20:11.442Z"
   },
   {
    "duration": 9,
    "start_time": "2022-03-27T11:20:11.456Z"
   },
   {
    "duration": 41,
    "start_time": "2022-03-27T11:20:11.468Z"
   },
   {
    "duration": 36,
    "start_time": "2022-03-27T11:20:11.511Z"
   },
   {
    "duration": 5,
    "start_time": "2022-03-27T11:20:11.549Z"
   },
   {
    "duration": 16,
    "start_time": "2022-03-27T11:20:11.559Z"
   },
   {
    "duration": 7,
    "start_time": "2022-03-27T11:20:11.645Z"
   },
   {
    "duration": 99,
    "start_time": "2022-03-27T11:20:11.655Z"
   },
   {
    "duration": 308,
    "start_time": "2022-03-27T11:20:11.757Z"
   },
   {
    "duration": 6,
    "start_time": "2022-03-27T11:20:12.067Z"
   },
   {
    "duration": 14,
    "start_time": "2022-03-27T11:20:12.075Z"
   },
   {
    "duration": 15,
    "start_time": "2022-03-27T12:08:28.515Z"
   },
   {
    "duration": 2035,
    "start_time": "2022-03-27T12:09:52.261Z"
   },
   {
    "duration": 50,
    "start_time": "2022-03-27T12:09:54.299Z"
   },
   {
    "duration": 23,
    "start_time": "2022-03-27T12:09:54.352Z"
   },
   {
    "duration": 47,
    "start_time": "2022-03-27T12:09:54.377Z"
   },
   {
    "duration": 6,
    "start_time": "2022-03-27T12:09:54.444Z"
   },
   {
    "duration": 19,
    "start_time": "2022-03-27T12:09:54.452Z"
   },
   {
    "duration": 22,
    "start_time": "2022-03-27T12:09:54.473Z"
   },
   {
    "duration": 283,
    "start_time": "2022-03-27T12:09:54.497Z"
   },
   {
    "duration": 14,
    "start_time": "2022-03-27T12:09:54.783Z"
   },
   {
    "duration": 7,
    "start_time": "2022-03-27T12:09:54.799Z"
   },
   {
    "duration": 45,
    "start_time": "2022-03-27T12:09:54.808Z"
   },
   {
    "duration": 49,
    "start_time": "2022-03-27T12:09:54.856Z"
   },
   {
    "duration": 1565,
    "start_time": "2022-03-27T12:09:54.907Z"
   },
   {
    "duration": 6743,
    "start_time": "2022-03-27T12:09:56.477Z"
   },
   {
    "duration": 427,
    "start_time": "2022-03-27T12:10:03.223Z"
   },
   {
    "duration": 11,
    "start_time": "2022-03-27T12:10:03.653Z"
   },
   {
    "duration": 109,
    "start_time": "2022-03-27T12:10:03.673Z"
   },
   {
    "duration": 3064,
    "start_time": "2022-03-27T12:10:03.785Z"
   },
   {
    "duration": 258128,
    "start_time": "2022-03-27T12:10:06.851Z"
   },
   {
    "duration": 76,
    "start_time": "2022-03-27T12:14:24.982Z"
   },
   {
    "duration": 98,
    "start_time": "2022-03-27T12:14:25.063Z"
   },
   {
    "duration": 25,
    "start_time": "2022-03-27T12:14:25.163Z"
   },
   {
    "duration": 55,
    "start_time": "2022-03-27T12:14:25.191Z"
   },
   {
    "duration": 34,
    "start_time": "2022-03-27T12:14:25.248Z"
   },
   {
    "duration": 6,
    "start_time": "2022-03-27T12:14:25.286Z"
   },
   {
    "duration": 6,
    "start_time": "2022-03-27T12:14:25.295Z"
   },
   {
    "duration": 57,
    "start_time": "2022-03-27T12:14:25.303Z"
   },
   {
    "duration": 175,
    "start_time": "2022-03-27T12:14:25.368Z"
   },
   {
    "duration": 14,
    "start_time": "2022-03-27T12:14:25.545Z"
   },
   {
    "duration": 317,
    "start_time": "2022-03-27T12:14:25.567Z"
   },
   {
    "duration": 6,
    "start_time": "2022-03-27T12:14:25.887Z"
   },
   {
    "duration": 15,
    "start_time": "2022-03-27T12:14:25.896Z"
   },
   {
    "duration": 1855,
    "start_time": "2022-03-27T12:54:44.506Z"
   },
   {
    "duration": 27,
    "start_time": "2022-03-27T12:54:47.414Z"
   },
   {
    "duration": 20,
    "start_time": "2022-03-27T12:54:48.368Z"
   },
   {
    "duration": 37,
    "start_time": "2022-03-27T12:54:49.103Z"
   },
   {
    "duration": 6,
    "start_time": "2022-03-27T12:54:50.699Z"
   },
   {
    "duration": 5,
    "start_time": "2022-03-27T12:54:51.239Z"
   },
   {
    "duration": 12,
    "start_time": "2022-03-27T12:54:51.797Z"
   },
   {
    "duration": 155,
    "start_time": "2022-03-27T12:54:52.977Z"
   },
   {
    "duration": 14,
    "start_time": "2022-03-27T12:54:56.162Z"
   },
   {
    "duration": 7,
    "start_time": "2022-03-27T12:54:56.955Z"
   },
   {
    "duration": 15,
    "start_time": "2022-03-27T12:54:58.171Z"
   },
   {
    "duration": 31,
    "start_time": "2022-03-27T12:54:59.749Z"
   },
   {
    "duration": 1241,
    "start_time": "2022-03-27T12:55:03.105Z"
   },
   {
    "duration": 4792,
    "start_time": "2022-03-27T12:55:05.210Z"
   },
   {
    "duration": 300,
    "start_time": "2022-03-27T12:55:10.005Z"
   },
   {
    "duration": 116,
    "start_time": "2022-03-27T12:55:20.329Z"
   },
   {
    "duration": 1121,
    "start_time": "2022-03-27T12:56:00.486Z"
   },
   {
    "duration": 4703,
    "start_time": "2022-03-27T12:56:04.254Z"
   },
   {
    "duration": 245,
    "start_time": "2022-03-27T12:56:08.960Z"
   },
   {
    "duration": 10,
    "start_time": "2022-03-27T12:56:13.474Z"
   },
   {
    "duration": 4,
    "start_time": "2022-03-27T12:57:25.966Z"
   },
   {
    "duration": 24,
    "start_time": "2022-03-27T12:57:27.134Z"
   },
   {
    "duration": 14,
    "start_time": "2022-03-27T12:57:28.157Z"
   },
   {
    "duration": 23,
    "start_time": "2022-03-27T12:57:29.067Z"
   },
   {
    "duration": 5,
    "start_time": "2022-03-27T12:57:31.354Z"
   },
   {
    "duration": 5,
    "start_time": "2022-03-27T12:57:32.092Z"
   },
   {
    "duration": 13,
    "start_time": "2022-03-27T12:57:33.738Z"
   },
   {
    "duration": 138,
    "start_time": "2022-03-27T12:57:35.824Z"
   },
   {
    "duration": 13,
    "start_time": "2022-03-27T12:57:37.983Z"
   },
   {
    "duration": 6,
    "start_time": "2022-03-27T12:57:39.082Z"
   },
   {
    "duration": 11,
    "start_time": "2022-03-27T12:57:40.534Z"
   },
   {
    "duration": 1093,
    "start_time": "2022-03-27T12:57:49.872Z"
   },
   {
    "duration": 4738,
    "start_time": "2022-03-27T12:57:52.274Z"
   },
   {
    "duration": 1169,
    "start_time": "2022-03-27T12:58:07.156Z"
   },
   {
    "duration": 16,
    "start_time": "2022-03-27T12:58:10.742Z"
   },
   {
    "duration": 1499,
    "start_time": "2022-03-27T13:06:17.218Z"
   },
   {
    "duration": 29,
    "start_time": "2022-03-27T13:06:18.720Z"
   },
   {
    "duration": 14,
    "start_time": "2022-03-27T13:06:18.751Z"
   },
   {
    "duration": 41,
    "start_time": "2022-03-27T13:06:18.767Z"
   },
   {
    "duration": 6,
    "start_time": "2022-03-27T13:06:18.810Z"
   },
   {
    "duration": 6,
    "start_time": "2022-03-27T13:06:18.818Z"
   },
   {
    "duration": 13,
    "start_time": "2022-03-27T13:06:18.826Z"
   },
   {
    "duration": 185,
    "start_time": "2022-03-27T13:06:18.841Z"
   },
   {
    "duration": 11,
    "start_time": "2022-03-27T13:06:19.028Z"
   },
   {
    "duration": 5,
    "start_time": "2022-03-27T13:06:19.041Z"
   },
   {
    "duration": 13,
    "start_time": "2022-03-27T13:06:19.048Z"
   },
   {
    "duration": 61,
    "start_time": "2022-03-27T13:06:19.063Z"
   },
   {
    "duration": 1109,
    "start_time": "2022-03-27T13:06:19.126Z"
   },
   {
    "duration": 4516,
    "start_time": "2022-03-27T13:06:20.238Z"
   },
   {
    "duration": 252,
    "start_time": "2022-03-27T13:06:24.755Z"
   },
   {
    "duration": 96,
    "start_time": "2022-03-27T13:06:25.010Z"
   },
   {
    "duration": 103,
    "start_time": "2022-03-27T13:06:25.109Z"
   },
   {
    "duration": 1462,
    "start_time": "2022-03-27T13:06:25.214Z"
   },
   {
    "duration": 168481,
    "start_time": "2022-03-27T13:06:26.677Z"
   },
   {
    "duration": 26,
    "start_time": "2022-03-27T13:09:15.160Z"
   },
   {
    "duration": 98,
    "start_time": "2022-03-27T13:09:15.204Z"
   },
   {
    "duration": 99,
    "start_time": "2022-03-27T13:09:15.305Z"
   },
   {
    "duration": 8,
    "start_time": "2022-03-27T13:09:15.406Z"
   },
   {
    "duration": 27,
    "start_time": "2022-03-27T13:09:15.416Z"
   },
   {
    "duration": 5,
    "start_time": "2022-03-27T13:09:15.445Z"
   },
   {
    "duration": 7,
    "start_time": "2022-03-27T13:09:15.451Z"
   },
   {
    "duration": 45,
    "start_time": "2022-03-27T13:09:15.460Z"
   },
   {
    "duration": 103,
    "start_time": "2022-03-27T13:09:15.509Z"
   },
   {
    "duration": 9,
    "start_time": "2022-03-27T13:09:15.615Z"
   },
   {
    "duration": 245,
    "start_time": "2022-03-27T13:09:15.626Z"
   },
   {
    "duration": 6,
    "start_time": "2022-03-27T13:09:15.873Z"
   },
   {
    "duration": 27,
    "start_time": "2022-03-27T13:09:15.881Z"
   },
   {
    "duration": 7,
    "start_time": "2022-03-27T13:10:04.662Z"
   },
   {
    "duration": 5,
    "start_time": "2022-03-27T13:10:29.410Z"
   },
   {
    "duration": 28,
    "start_time": "2022-03-27T13:10:30.186Z"
   },
   {
    "duration": 14,
    "start_time": "2022-03-27T13:10:30.763Z"
   },
   {
    "duration": 23,
    "start_time": "2022-03-27T13:10:31.323Z"
   },
   {
    "duration": 6,
    "start_time": "2022-03-27T13:10:33.010Z"
   },
   {
    "duration": 4,
    "start_time": "2022-03-27T13:10:33.953Z"
   },
   {
    "duration": 16,
    "start_time": "2022-03-27T13:10:34.629Z"
   },
   {
    "duration": 149,
    "start_time": "2022-03-27T13:10:36.637Z"
   },
   {
    "duration": 12,
    "start_time": "2022-03-27T13:10:39.174Z"
   },
   {
    "duration": 6,
    "start_time": "2022-03-27T13:10:39.969Z"
   },
   {
    "duration": 12,
    "start_time": "2022-03-27T13:10:40.715Z"
   },
   {
    "duration": 29,
    "start_time": "2022-03-27T13:10:42.354Z"
   },
   {
    "duration": 1143,
    "start_time": "2022-03-27T13:10:44.419Z"
   },
   {
    "duration": 4769,
    "start_time": "2022-03-27T13:10:46.773Z"
   },
   {
    "duration": 160,
    "start_time": "2022-03-27T13:10:51.545Z"
   },
   {
    "duration": 113,
    "start_time": "2022-03-27T13:10:57.059Z"
   },
   {
    "duration": 5,
    "start_time": "2022-03-27T13:11:09.975Z"
   },
   {
    "duration": 10,
    "start_time": "2022-03-27T13:11:18.193Z"
   },
   {
    "duration": 9,
    "start_time": "2022-03-27T13:11:24.479Z"
   },
   {
    "duration": 9,
    "start_time": "2022-03-27T13:11:29.795Z"
   },
   {
    "duration": 1451,
    "start_time": "2022-03-27T13:11:37.018Z"
   },
   {
    "duration": 6,
    "start_time": "2022-03-27T13:11:47.073Z"
   },
   {
    "duration": 4,
    "start_time": "2022-03-27T13:17:27.135Z"
   },
   {
    "duration": 28,
    "start_time": "2022-03-27T13:17:27.745Z"
   },
   {
    "duration": 13,
    "start_time": "2022-03-27T13:17:28.267Z"
   },
   {
    "duration": 23,
    "start_time": "2022-03-27T13:17:28.787Z"
   },
   {
    "duration": 5,
    "start_time": "2022-03-27T13:17:30.346Z"
   },
   {
    "duration": 5,
    "start_time": "2022-03-27T13:17:30.747Z"
   },
   {
    "duration": 14,
    "start_time": "2022-03-27T13:17:31.323Z"
   },
   {
    "duration": 130,
    "start_time": "2022-03-27T13:17:32.357Z"
   },
   {
    "duration": 11,
    "start_time": "2022-03-27T13:17:33.823Z"
   },
   {
    "duration": 6,
    "start_time": "2022-03-27T13:17:34.299Z"
   },
   {
    "duration": 10,
    "start_time": "2022-03-27T13:17:34.870Z"
   },
   {
    "duration": 26,
    "start_time": "2022-03-27T13:17:35.553Z"
   },
   {
    "duration": 1067,
    "start_time": "2022-03-27T13:17:37.294Z"
   },
   {
    "duration": 4615,
    "start_time": "2022-03-27T13:17:38.362Z"
   },
   {
    "duration": 227,
    "start_time": "2022-03-27T13:17:42.979Z"
   },
   {
    "duration": 10,
    "start_time": "2022-03-27T13:17:46.266Z"
   },
   {
    "duration": 1433,
    "start_time": "2022-03-27T13:17:58.193Z"
   },
   {
    "duration": 7,
    "start_time": "2022-03-27T13:18:04.618Z"
   },
   {
    "duration": 136,
    "start_time": "2022-03-27T13:18:46.557Z"
   },
   {
    "duration": 7,
    "start_time": "2022-03-27T13:38:04.704Z"
   },
   {
    "duration": 4,
    "start_time": "2022-03-27T13:40:29.034Z"
   },
   {
    "duration": 28,
    "start_time": "2022-03-27T13:40:29.479Z"
   },
   {
    "duration": 14,
    "start_time": "2022-03-27T13:40:29.828Z"
   },
   {
    "duration": 22,
    "start_time": "2022-03-27T13:40:30.305Z"
   },
   {
    "duration": 5,
    "start_time": "2022-03-27T13:40:31.532Z"
   },
   {
    "duration": 5,
    "start_time": "2022-03-27T13:40:31.902Z"
   },
   {
    "duration": 15,
    "start_time": "2022-03-27T13:40:32.274Z"
   },
   {
    "duration": 141,
    "start_time": "2022-03-27T13:40:33.415Z"
   },
   {
    "duration": 16,
    "start_time": "2022-03-27T13:40:35.237Z"
   },
   {
    "duration": 7,
    "start_time": "2022-03-27T13:40:35.666Z"
   },
   {
    "duration": 15,
    "start_time": "2022-03-27T13:40:36.008Z"
   },
   {
    "duration": 38,
    "start_time": "2022-03-27T13:40:36.443Z"
   },
   {
    "duration": 1555,
    "start_time": "2022-03-27T13:40:38.249Z"
   },
   {
    "duration": 10,
    "start_time": "2022-03-27T13:40:51.337Z"
   },
   {
    "duration": 1169,
    "start_time": "2022-03-27T13:41:13.527Z"
   },
   {
    "duration": 14,
    "start_time": "2022-03-27T13:41:24.435Z"
   },
   {
    "duration": 11,
    "start_time": "2022-03-27T13:41:38.562Z"
   },
   {
    "duration": 1107,
    "start_time": "2022-03-27T13:41:50.364Z"
   },
   {
    "duration": 9,
    "start_time": "2022-03-27T13:41:56.366Z"
   },
   {
    "duration": 1945,
    "start_time": "2022-03-27T13:42:58.583Z"
   },
   {
    "duration": 9,
    "start_time": "2022-03-27T13:43:14.025Z"
   },
   {
    "duration": 1274,
    "start_time": "2022-03-27T13:43:23.004Z"
   },
   {
    "duration": 11,
    "start_time": "2022-03-27T13:43:28.870Z"
   },
   {
    "duration": 1312,
    "start_time": "2022-03-27T13:45:06.792Z"
   },
   {
    "duration": 10,
    "start_time": "2022-03-27T13:45:14.356Z"
   },
   {
    "duration": 1412,
    "start_time": "2022-03-27T13:46:04.882Z"
   },
   {
    "duration": 12,
    "start_time": "2022-03-27T13:46:15.046Z"
   },
   {
    "duration": 1117,
    "start_time": "2022-03-27T13:46:33.694Z"
   },
   {
    "duration": 1106,
    "start_time": "2022-03-27T13:48:16.559Z"
   },
   {
    "duration": 9,
    "start_time": "2022-03-27T13:48:37.930Z"
   },
   {
    "duration": 6,
    "start_time": "2022-03-27T13:48:49.142Z"
   },
   {
    "duration": 5,
    "start_time": "2022-03-27T13:49:00.740Z"
   },
   {
    "duration": 4971,
    "start_time": "2022-03-27T13:49:32.421Z"
   },
   {
    "duration": 31,
    "start_time": "2022-03-27T13:49:43.994Z"
   },
   {
    "duration": 6,
    "start_time": "2022-03-27T13:49:44.939Z"
   },
   {
    "duration": 3,
    "start_time": "2022-03-27T13:49:45.646Z"
   },
   {
    "duration": 373,
    "start_time": "2022-03-27T13:50:00.936Z"
   },
   {
    "duration": 11,
    "start_time": "2022-03-27T13:50:24.962Z"
   },
   {
    "duration": 6,
    "start_time": "2022-03-27T13:50:25.684Z"
   },
   {
    "duration": 5,
    "start_time": "2022-03-27T13:50:26.222Z"
   },
   {
    "duration": 199,
    "start_time": "2022-03-27T13:50:26.793Z"
   },
   {
    "duration": 134419,
    "start_time": "2022-03-27T13:53:07.105Z"
   },
   {
    "duration": 9,
    "start_time": "2022-03-27T14:00:22.603Z"
   },
   {
    "duration": 6,
    "start_time": "2022-03-27T14:00:23.329Z"
   },
   {
    "duration": 4,
    "start_time": "2022-03-27T14:00:23.787Z"
   },
   {
    "duration": 19,
    "start_time": "2022-03-27T14:00:24.350Z"
   },
   {
    "duration": 6,
    "start_time": "2022-03-27T14:00:26.316Z"
   },
   {
    "duration": 4,
    "start_time": "2022-03-27T14:00:26.991Z"
   },
   {
    "duration": 113,
    "start_time": "2022-03-27T14:00:27.889Z"
   },
   {
    "duration": 5,
    "start_time": "2022-03-27T14:00:29.050Z"
   },
   {
    "duration": 4,
    "start_time": "2022-03-27T14:00:29.852Z"
   },
   {
    "duration": 219,
    "start_time": "2022-03-27T14:00:31.005Z"
   },
   {
    "duration": 7,
    "start_time": "2022-03-27T14:05:53.832Z"
   },
   {
    "duration": 14,
    "start_time": "2022-03-27T14:07:17.181Z"
   },
   {
    "duration": 17,
    "start_time": "2022-03-27T14:08:41.827Z"
   },
   {
    "duration": 1860,
    "start_time": "2022-03-27T14:08:55.356Z"
   },
   {
    "duration": 27,
    "start_time": "2022-03-27T14:08:57.219Z"
   },
   {
    "duration": 16,
    "start_time": "2022-03-27T14:08:57.249Z"
   },
   {
    "duration": 55,
    "start_time": "2022-03-27T14:08:57.268Z"
   },
   {
    "duration": 5,
    "start_time": "2022-03-27T14:08:57.325Z"
   },
   {
    "duration": 9,
    "start_time": "2022-03-27T14:08:57.332Z"
   },
   {
    "duration": 15,
    "start_time": "2022-03-27T14:08:57.343Z"
   },
   {
    "duration": 206,
    "start_time": "2022-03-27T14:08:57.360Z"
   },
   {
    "duration": 14,
    "start_time": "2022-03-27T14:08:57.568Z"
   },
   {
    "duration": 10,
    "start_time": "2022-03-27T14:08:57.601Z"
   },
   {
    "duration": 16,
    "start_time": "2022-03-27T14:08:57.614Z"
   },
   {
    "duration": 29,
    "start_time": "2022-03-27T14:08:57.633Z"
   },
   {
    "duration": 1287,
    "start_time": "2022-03-27T14:08:57.665Z"
   },
   {
    "duration": 142348,
    "start_time": "2022-03-27T14:08:58.954Z"
   },
   {
    "duration": 501,
    "start_time": "2022-03-27T14:11:21.304Z"
   },
   {
    "duration": 93,
    "start_time": "2022-03-27T14:11:21.812Z"
   },
   {
    "duration": 6,
    "start_time": "2022-03-27T14:11:21.907Z"
   },
   {
    "duration": 7,
    "start_time": "2022-03-27T14:11:21.915Z"
   },
   {
    "duration": 24,
    "start_time": "2022-03-27T14:11:21.923Z"
   },
   {
    "duration": 6,
    "start_time": "2022-03-27T14:11:21.949Z"
   },
   {
    "duration": 47,
    "start_time": "2022-03-27T14:11:21.956Z"
   },
   {
    "duration": 18,
    "start_time": "2022-03-27T14:11:22.005Z"
   },
   {
    "duration": 9,
    "start_time": "2022-03-27T14:11:22.103Z"
   },
   {
    "duration": 15,
    "start_time": "2022-03-27T14:11:22.201Z"
   },
   {
    "duration": 309,
    "start_time": "2022-03-27T14:11:22.219Z"
   },
   {
    "duration": 7,
    "start_time": "2022-03-27T14:11:22.531Z"
   },
   {
    "duration": 18,
    "start_time": "2022-03-27T14:11:22.540Z"
   },
   {
    "duration": 2172,
    "start_time": "2022-03-27T14:11:22.563Z"
   },
   {
    "duration": 193571,
    "start_time": "2022-03-27T14:11:24.737Z"
   },
   {
    "duration": 23,
    "start_time": "2022-03-27T14:14:38.310Z"
   },
   {
    "duration": 7,
    "start_time": "2022-03-27T14:14:38.401Z"
   },
   {
    "duration": 10,
    "start_time": "2022-03-27T14:14:38.500Z"
   },
   {
    "duration": 11,
    "start_time": "2022-03-27T14:14:38.511Z"
   },
   {
    "duration": 28,
    "start_time": "2022-03-27T14:14:38.523Z"
   },
   {
    "duration": 5,
    "start_time": "2022-03-27T14:14:38.553Z"
   },
   {
    "duration": 6,
    "start_time": "2022-03-27T14:14:38.560Z"
   },
   {
    "duration": 36,
    "start_time": "2022-03-27T14:14:38.568Z"
   },
   {
    "duration": 96,
    "start_time": "2022-03-27T14:14:38.607Z"
   },
   {
    "duration": 101,
    "start_time": "2022-03-27T14:14:38.706Z"
   },
   {
    "duration": 204,
    "start_time": "2022-03-27T14:14:38.808Z"
   },
   {
    "duration": 5,
    "start_time": "2022-03-27T14:14:39.013Z"
   },
   {
    "duration": 18,
    "start_time": "2022-03-27T14:14:39.020Z"
   },
   {
    "duration": 12,
    "start_time": "2022-03-27T14:14:39.039Z"
   },
   {
    "duration": 23,
    "start_time": "2022-03-27T14:14:39.053Z"
   },
   {
    "duration": 28,
    "start_time": "2022-03-27T14:14:39.078Z"
   },
   {
    "duration": 4,
    "start_time": "2022-03-27T14:46:40.177Z"
   },
   {
    "duration": 29,
    "start_time": "2022-03-27T14:46:41.274Z"
   },
   {
    "duration": 13,
    "start_time": "2022-03-27T14:46:42.051Z"
   },
   {
    "duration": 19,
    "start_time": "2022-03-27T14:46:42.703Z"
   },
   {
    "duration": 5,
    "start_time": "2022-03-27T14:46:44.481Z"
   },
   {
    "duration": 4,
    "start_time": "2022-03-27T14:46:45.065Z"
   },
   {
    "duration": 15,
    "start_time": "2022-03-27T14:46:45.649Z"
   },
   {
    "duration": 181,
    "start_time": "2022-03-27T14:46:47.054Z"
   },
   {
    "duration": 11,
    "start_time": "2022-03-27T14:46:49.165Z"
   },
   {
    "duration": 7,
    "start_time": "2022-03-27T14:46:49.691Z"
   },
   {
    "duration": 13,
    "start_time": "2022-03-27T14:46:52.028Z"
   },
   {
    "duration": 38,
    "start_time": "2022-03-27T14:46:52.809Z"
   },
   {
    "duration": 1120,
    "start_time": "2022-03-27T14:46:57.875Z"
   },
   {
    "duration": 125474,
    "start_time": "2022-03-27T14:47:04.184Z"
   },
   {
    "duration": 310,
    "start_time": "2022-03-27T14:50:38.401Z"
   },
   {
    "duration": 7,
    "start_time": "2022-03-27T14:50:41.161Z"
   },
   {
    "duration": 5,
    "start_time": "2022-03-27T14:50:42.502Z"
   },
   {
    "duration": 4,
    "start_time": "2022-03-27T14:50:43.196Z"
   },
   {
    "duration": 19,
    "start_time": "2022-03-27T14:50:44.002Z"
   },
   {
    "duration": 6,
    "start_time": "2022-03-27T14:50:44.554Z"
   },
   {
    "duration": 5,
    "start_time": "2022-03-27T14:50:46.722Z"
   },
   {
    "duration": 15,
    "start_time": "2022-03-27T14:50:47.370Z"
   },
   {
    "duration": 6,
    "start_time": "2022-03-27T14:50:47.956Z"
   },
   {
    "duration": 4,
    "start_time": "2022-03-27T14:50:48.612Z"
   },
   {
    "duration": 163,
    "start_time": "2022-03-27T14:50:50.018Z"
   },
   {
    "duration": 5,
    "start_time": "2022-03-27T14:53:01.656Z"
   },
   {
    "duration": 16,
    "start_time": "2022-03-27T14:53:03.370Z"
   },
   {
    "duration": 978,
    "start_time": "2022-03-27T14:53:14.835Z"
   },
   {
    "duration": 102481,
    "start_time": "2022-03-27T14:54:06.054Z"
   },
   {
    "duration": 25,
    "start_time": "2022-03-27T14:57:48.962Z"
   },
   {
    "duration": 8,
    "start_time": "2022-03-27T14:58:03.153Z"
   },
   {
    "duration": 7,
    "start_time": "2022-03-27T14:58:03.983Z"
   },
   {
    "duration": 5,
    "start_time": "2022-03-27T14:58:04.701Z"
   },
   {
    "duration": 11,
    "start_time": "2022-03-27T14:58:05.536Z"
   },
   {
    "duration": 5,
    "start_time": "2022-03-27T14:58:07.032Z"
   },
   {
    "duration": 4,
    "start_time": "2022-03-27T14:58:07.657Z"
   },
   {
    "duration": 20,
    "start_time": "2022-03-27T14:58:08.447Z"
   },
   {
    "duration": 7,
    "start_time": "2022-03-27T14:58:09.192Z"
   },
   {
    "duration": 4,
    "start_time": "2022-03-27T14:58:09.861Z"
   },
   {
    "duration": 185,
    "start_time": "2022-03-27T14:58:12.681Z"
   },
   {
    "duration": 6,
    "start_time": "2022-03-27T15:00:16.557Z"
   },
   {
    "duration": 7,
    "start_time": "2022-03-27T15:00:23.295Z"
   },
   {
    "duration": 10,
    "start_time": "2022-03-27T15:00:24.465Z"
   },
   {
    "duration": 58,
    "start_time": "2022-03-27T15:00:28.343Z"
   },
   {
    "duration": 3221,
    "start_time": "2022-03-27T15:19:16.951Z"
   },
   {
    "duration": 41,
    "start_time": "2022-03-27T15:19:20.174Z"
   },
   {
    "duration": 14,
    "start_time": "2022-03-27T15:19:20.217Z"
   },
   {
    "duration": 27,
    "start_time": "2022-03-27T15:19:20.233Z"
   },
   {
    "duration": 12,
    "start_time": "2022-03-27T15:19:20.263Z"
   },
   {
    "duration": 15,
    "start_time": "2022-03-27T15:19:20.277Z"
   },
   {
    "duration": 14,
    "start_time": "2022-03-27T15:19:20.300Z"
   },
   {
    "duration": 162,
    "start_time": "2022-03-27T15:19:20.316Z"
   },
   {
    "duration": 24,
    "start_time": "2022-03-27T15:19:20.481Z"
   },
   {
    "duration": 19,
    "start_time": "2022-03-27T15:19:20.507Z"
   },
   {
    "duration": 19,
    "start_time": "2022-03-27T15:19:20.528Z"
   },
   {
    "duration": 41,
    "start_time": "2022-03-27T15:19:20.549Z"
   },
   {
    "duration": 1012,
    "start_time": "2022-03-27T15:19:20.592Z"
   },
   {
    "duration": 111643,
    "start_time": "2022-03-27T15:19:21.609Z"
   },
   {
    "duration": 459,
    "start_time": "2022-03-27T15:21:13.254Z"
   },
   {
    "duration": 89,
    "start_time": "2022-03-27T15:21:13.715Z"
   },
   {
    "duration": 7,
    "start_time": "2022-03-27T15:21:13.806Z"
   },
   {
    "duration": 89,
    "start_time": "2022-03-27T15:21:13.815Z"
   },
   {
    "duration": 20,
    "start_time": "2022-03-27T15:21:13.906Z"
   },
   {
    "duration": 6,
    "start_time": "2022-03-27T15:21:13.927Z"
   },
   {
    "duration": 5,
    "start_time": "2022-03-27T15:21:13.934Z"
   },
   {
    "duration": 61,
    "start_time": "2022-03-27T15:21:13.940Z"
   },
   {
    "duration": 6,
    "start_time": "2022-03-27T15:21:14.004Z"
   },
   {
    "duration": 92,
    "start_time": "2022-03-27T15:21:14.012Z"
   },
   {
    "duration": 186,
    "start_time": "2022-03-27T15:21:14.105Z"
   },
   {
    "duration": 4,
    "start_time": "2022-03-27T15:21:14.300Z"
   },
   {
    "duration": 13,
    "start_time": "2022-03-27T15:21:14.306Z"
   },
   {
    "duration": 1335,
    "start_time": "2022-03-27T15:21:14.320Z"
   },
   {
    "duration": 153357,
    "start_time": "2022-03-27T15:21:15.657Z"
   },
   {
    "duration": 87,
    "start_time": "2022-03-27T15:23:49.017Z"
   },
   {
    "duration": 8,
    "start_time": "2022-03-27T15:23:49.107Z"
   },
   {
    "duration": 16,
    "start_time": "2022-03-27T15:23:49.201Z"
   },
   {
    "duration": 28,
    "start_time": "2022-03-27T15:23:49.218Z"
   },
   {
    "duration": 39,
    "start_time": "2022-03-27T15:23:49.248Z"
   },
   {
    "duration": 7,
    "start_time": "2022-03-27T15:23:49.289Z"
   },
   {
    "duration": 11,
    "start_time": "2022-03-27T15:23:49.298Z"
   },
   {
    "duration": 33,
    "start_time": "2022-03-27T15:23:49.311Z"
   },
   {
    "duration": 62,
    "start_time": "2022-03-27T15:23:49.346Z"
   },
   {
    "duration": 113,
    "start_time": "2022-03-27T15:23:49.411Z"
   },
   {
    "duration": 174,
    "start_time": "2022-03-27T15:23:49.526Z"
   },
   {
    "duration": 4,
    "start_time": "2022-03-27T15:23:49.704Z"
   },
   {
    "duration": 36,
    "start_time": "2022-03-27T15:23:49.710Z"
   },
   {
    "duration": 25,
    "start_time": "2022-03-27T15:23:49.748Z"
   },
   {
    "duration": 38,
    "start_time": "2022-03-27T15:23:49.775Z"
   },
   {
    "duration": 27,
    "start_time": "2022-03-27T15:23:49.815Z"
   },
   {
    "duration": 29,
    "start_time": "2022-03-27T15:31:43.563Z"
   },
   {
    "duration": 115,
    "start_time": "2022-03-27T15:41:57.174Z"
   },
   {
    "duration": 20,
    "start_time": "2022-03-27T15:42:47.734Z"
   },
   {
    "duration": 19,
    "start_time": "2022-03-27T15:43:26.505Z"
   },
   {
    "duration": 17,
    "start_time": "2022-03-27T15:43:33.401Z"
   },
   {
    "duration": 19,
    "start_time": "2022-03-27T15:43:41.655Z"
   },
   {
    "duration": 6,
    "start_time": "2022-03-27T15:48:16.723Z"
   },
   {
    "duration": 19,
    "start_time": "2022-03-27T15:48:19.487Z"
   },
   {
    "duration": 6,
    "start_time": "2022-03-27T15:48:26.031Z"
   },
   {
    "duration": 6,
    "start_time": "2022-03-27T15:51:30.973Z"
   },
   {
    "duration": 18,
    "start_time": "2022-03-27T15:56:12.902Z"
   },
   {
    "duration": 16,
    "start_time": "2022-03-27T16:01:05.908Z"
   },
   {
    "duration": 16,
    "start_time": "2022-03-27T16:01:20.519Z"
   },
   {
    "duration": 15,
    "start_time": "2022-03-27T16:05:15.777Z"
   },
   {
    "duration": 5,
    "start_time": "2022-03-27T16:05:16.539Z"
   },
   {
    "duration": 4,
    "start_time": "2022-03-27T16:05:17.142Z"
   },
   {
    "duration": 144,
    "start_time": "2022-03-27T16:05:17.841Z"
   },
   {
    "duration": 2071,
    "start_time": "2022-03-27T16:16:33.906Z"
   },
   {
    "duration": 30,
    "start_time": "2022-03-27T16:16:35.982Z"
   },
   {
    "duration": 20,
    "start_time": "2022-03-27T16:16:36.015Z"
   },
   {
    "duration": 60,
    "start_time": "2022-03-27T16:16:36.038Z"
   },
   {
    "duration": 5,
    "start_time": "2022-03-27T16:16:36.101Z"
   },
   {
    "duration": 8,
    "start_time": "2022-03-27T16:16:36.108Z"
   },
   {
    "duration": 18,
    "start_time": "2022-03-27T16:16:36.118Z"
   },
   {
    "duration": 346,
    "start_time": "2022-03-27T16:16:36.139Z"
   },
   {
    "duration": 14,
    "start_time": "2022-03-27T16:16:36.488Z"
   },
   {
    "duration": 6,
    "start_time": "2022-03-27T16:16:36.505Z"
   },
   {
    "duration": 17,
    "start_time": "2022-03-27T16:16:36.513Z"
   },
   {
    "duration": 78,
    "start_time": "2022-03-27T16:16:36.532Z"
   },
   {
    "duration": 1424,
    "start_time": "2022-03-27T16:16:36.613Z"
   },
   {
    "duration": 200267,
    "start_time": "2022-03-27T16:16:38.039Z"
   },
   {
    "duration": 186,
    "start_time": "2022-03-27T16:19:58.309Z"
   },
   {
    "duration": 84,
    "start_time": "2022-03-27T16:19:58.499Z"
   },
   {
    "duration": 8,
    "start_time": "2022-03-27T16:19:58.587Z"
   },
   {
    "duration": 98,
    "start_time": "2022-03-27T16:19:58.598Z"
   },
   {
    "duration": 33,
    "start_time": "2022-03-27T16:19:58.699Z"
   },
   {
    "duration": 8,
    "start_time": "2022-03-27T16:19:58.735Z"
   },
   {
    "duration": 7,
    "start_time": "2022-03-27T16:19:58.746Z"
   },
   {
    "duration": 11,
    "start_time": "2022-03-27T16:19:58.784Z"
   },
   {
    "duration": 192,
    "start_time": "2022-03-27T16:19:58.797Z"
   },
   {
    "duration": 7,
    "start_time": "2022-03-27T16:19:58.991Z"
   },
   {
    "duration": 318,
    "start_time": "2022-03-27T16:19:59.001Z"
   },
   {
    "duration": 7,
    "start_time": "2022-03-27T16:19:59.322Z"
   },
   {
    "duration": 31,
    "start_time": "2022-03-27T16:19:59.332Z"
   },
   {
    "duration": 2100,
    "start_time": "2022-03-27T16:19:59.369Z"
   },
   {
    "duration": 270497,
    "start_time": "2022-03-27T16:20:01.472Z"
   },
   {
    "duration": 117,
    "start_time": "2022-03-27T16:24:31.971Z"
   },
   {
    "duration": 96,
    "start_time": "2022-03-27T16:24:32.091Z"
   },
   {
    "duration": 20,
    "start_time": "2022-03-27T16:24:32.190Z"
   },
   {
    "duration": 24,
    "start_time": "2022-03-27T16:24:32.213Z"
   },
   {
    "duration": 72,
    "start_time": "2022-03-27T16:24:32.240Z"
   },
   {
    "duration": 12,
    "start_time": "2022-03-27T16:24:32.315Z"
   },
   {
    "duration": 29,
    "start_time": "2022-03-27T16:24:32.329Z"
   },
   {
    "duration": 41,
    "start_time": "2022-03-27T16:24:32.361Z"
   },
   {
    "duration": 194,
    "start_time": "2022-03-27T16:24:32.405Z"
   },
   {
    "duration": 39,
    "start_time": "2022-03-27T16:24:32.602Z"
   },
   {
    "duration": 310,
    "start_time": "2022-03-27T16:24:32.643Z"
   },
   {
    "duration": 6,
    "start_time": "2022-03-27T16:24:32.956Z"
   },
   {
    "duration": 60,
    "start_time": "2022-03-27T16:24:32.965Z"
   },
   {
    "duration": 39,
    "start_time": "2022-03-27T16:24:33.028Z"
   },
   {
    "duration": 54,
    "start_time": "2022-03-27T16:24:33.069Z"
   },
   {
    "duration": 8,
    "start_time": "2022-03-27T16:24:33.125Z"
   },
   {
    "duration": 25,
    "start_time": "2022-03-27T16:24:33.135Z"
   },
   {
    "duration": 27,
    "start_time": "2022-03-27T16:24:33.162Z"
   },
   {
    "duration": 72,
    "start_time": "2022-03-27T16:24:33.191Z"
   },
   {
    "duration": 7,
    "start_time": "2022-03-27T16:24:33.266Z"
   },
   {
    "duration": 16,
    "start_time": "2022-03-27T16:24:33.276Z"
   },
   {
    "duration": 277,
    "start_time": "2022-03-27T16:24:33.295Z"
   },
   {
    "duration": 5,
    "start_time": "2022-03-27T16:26:38.926Z"
   },
   {
    "duration": 1916,
    "start_time": "2022-03-27T16:26:49.188Z"
   },
   {
    "duration": 31,
    "start_time": "2022-03-27T16:26:51.107Z"
   },
   {
    "duration": 19,
    "start_time": "2022-03-27T16:26:51.140Z"
   },
   {
    "duration": 52,
    "start_time": "2022-03-27T16:26:51.162Z"
   },
   {
    "duration": 5,
    "start_time": "2022-03-27T16:26:51.217Z"
   },
   {
    "duration": 7,
    "start_time": "2022-03-27T16:26:51.224Z"
   },
   {
    "duration": 51,
    "start_time": "2022-03-27T16:26:51.234Z"
   },
   {
    "duration": 247,
    "start_time": "2022-03-27T16:26:51.287Z"
   },
   {
    "duration": 17,
    "start_time": "2022-03-27T16:26:51.537Z"
   },
   {
    "duration": 26,
    "start_time": "2022-03-27T16:26:51.558Z"
   },
   {
    "duration": 16,
    "start_time": "2022-03-27T16:26:51.587Z"
   },
   {
    "duration": 34,
    "start_time": "2022-03-27T16:26:51.606Z"
   },
   {
    "duration": 1923,
    "start_time": "2022-03-27T16:26:51.642Z"
   },
   {
    "duration": 194287,
    "start_time": "2022-03-27T16:26:53.568Z"
   },
   {
    "duration": 135,
    "start_time": "2022-03-27T16:30:07.858Z"
   },
   {
    "duration": 88,
    "start_time": "2022-03-27T16:30:07.996Z"
   },
   {
    "duration": 99,
    "start_time": "2022-03-27T16:30:08.087Z"
   },
   {
    "duration": 11,
    "start_time": "2022-03-27T16:30:08.190Z"
   },
   {
    "duration": 40,
    "start_time": "2022-03-27T16:30:08.204Z"
   },
   {
    "duration": 11,
    "start_time": "2022-03-27T16:30:08.247Z"
   },
   {
    "duration": 11,
    "start_time": "2022-03-27T16:30:08.260Z"
   },
   {
    "duration": 27,
    "start_time": "2022-03-27T16:30:08.274Z"
   },
   {
    "duration": 182,
    "start_time": "2022-03-27T16:30:08.304Z"
   },
   {
    "duration": 17,
    "start_time": "2022-03-27T16:30:08.489Z"
   },
   {
    "duration": 308,
    "start_time": "2022-03-27T16:30:08.509Z"
   },
   {
    "duration": 6,
    "start_time": "2022-03-27T16:30:08.819Z"
   },
   {
    "duration": 26,
    "start_time": "2022-03-27T16:30:08.828Z"
   },
   {
    "duration": 1462,
    "start_time": "2022-03-27T16:30:08.859Z"
   },
   {
    "duration": 166999,
    "start_time": "2022-03-27T16:30:10.323Z"
   },
   {
    "duration": 164,
    "start_time": "2022-03-27T16:32:57.324Z"
   },
   {
    "duration": 9,
    "start_time": "2022-03-27T16:32:57.491Z"
   },
   {
    "duration": 79,
    "start_time": "2022-03-27T16:32:57.503Z"
   },
   {
    "duration": 6,
    "start_time": "2022-03-27T16:32:57.584Z"
   },
   {
    "duration": 12,
    "start_time": "2022-03-27T16:32:57.592Z"
   },
   {
    "duration": 7,
    "start_time": "2022-03-27T16:32:57.606Z"
   },
   {
    "duration": 7,
    "start_time": "2022-03-27T16:32:57.615Z"
   },
   {
    "duration": 69,
    "start_time": "2022-03-27T16:32:57.624Z"
   },
   {
    "duration": 93,
    "start_time": "2022-03-27T16:32:57.696Z"
   },
   {
    "duration": 6,
    "start_time": "2022-03-27T16:32:57.793Z"
   },
   {
    "duration": 364,
    "start_time": "2022-03-27T16:32:57.802Z"
   },
   {
    "duration": 13,
    "start_time": "2022-03-27T16:32:58.169Z"
   },
   {
    "duration": 30,
    "start_time": "2022-03-27T16:32:58.185Z"
   },
   {
    "duration": 31,
    "start_time": "2022-03-27T16:32:58.217Z"
   },
   {
    "duration": 26,
    "start_time": "2022-03-27T16:32:58.250Z"
   },
   {
    "duration": 11,
    "start_time": "2022-03-27T16:32:58.278Z"
   },
   {
    "duration": 25,
    "start_time": "2022-03-27T16:32:58.291Z"
   },
   {
    "duration": 17,
    "start_time": "2022-03-27T16:32:58.318Z"
   },
   {
    "duration": 21,
    "start_time": "2022-03-27T16:32:58.338Z"
   },
   {
    "duration": 14,
    "start_time": "2022-03-27T16:32:58.361Z"
   },
   {
    "duration": 10,
    "start_time": "2022-03-27T16:32:58.377Z"
   },
   {
    "duration": 360,
    "start_time": "2022-03-27T16:32:58.389Z"
   },
   {
    "duration": 95,
    "start_time": "2022-03-27T16:37:55.497Z"
   },
   {
    "duration": 17,
    "start_time": "2022-03-27T16:40:37.307Z"
   },
   {
    "duration": 7,
    "start_time": "2022-03-27T16:40:39.256Z"
   },
   {
    "duration": 5,
    "start_time": "2022-03-27T16:40:40.188Z"
   },
   {
    "duration": 298,
    "start_time": "2022-03-27T16:41:00.470Z"
   },
   {
    "duration": 301771,
    "start_time": "2022-03-27T16:43:11.149Z"
   },
   {
    "duration": 39,
    "start_time": "2022-03-27T16:50:19.568Z"
   },
   {
    "duration": 39,
    "start_time": "2022-03-27T16:50:52.917Z"
   },
   {
    "duration": 9,
    "start_time": "2022-03-27T16:50:53.360Z"
   },
   {
    "duration": 6,
    "start_time": "2022-03-27T16:50:53.828Z"
   },
   {
    "duration": 285,
    "start_time": "2022-03-27T16:50:59.069Z"
   },
   {
    "duration": 2239,
    "start_time": "2022-03-27T17:06:31.820Z"
   },
   {
    "duration": 39,
    "start_time": "2022-03-27T17:06:34.062Z"
   },
   {
    "duration": 19,
    "start_time": "2022-03-27T17:06:34.103Z"
   },
   {
    "duration": 60,
    "start_time": "2022-03-27T17:06:34.124Z"
   },
   {
    "duration": 11,
    "start_time": "2022-03-27T17:06:34.189Z"
   },
   {
    "duration": 10,
    "start_time": "2022-03-27T17:06:34.203Z"
   },
   {
    "duration": 26,
    "start_time": "2022-03-27T17:06:34.215Z"
   },
   {
    "duration": 284,
    "start_time": "2022-03-27T17:06:34.243Z"
   },
   {
    "duration": 16,
    "start_time": "2022-03-27T17:06:34.529Z"
   },
   {
    "duration": 8,
    "start_time": "2022-03-27T17:06:34.547Z"
   },
   {
    "duration": 40,
    "start_time": "2022-03-27T17:06:34.558Z"
   },
   {
    "duration": 35,
    "start_time": "2022-03-27T17:06:34.601Z"
   },
   {
    "duration": 1525,
    "start_time": "2022-03-27T17:06:34.638Z"
   },
   {
    "duration": 161887,
    "start_time": "2022-03-27T17:06:36.168Z"
   },
   {
    "duration": 127,
    "start_time": "2022-03-27T17:09:18.057Z"
   },
   {
    "duration": 9,
    "start_time": "2022-03-27T17:09:18.186Z"
   },
   {
    "duration": 94,
    "start_time": "2022-03-27T17:09:18.197Z"
   },
   {
    "duration": 9,
    "start_time": "2022-03-27T17:09:18.293Z"
   },
   {
    "duration": 24,
    "start_time": "2022-03-27T17:09:18.304Z"
   },
   {
    "duration": 6,
    "start_time": "2022-03-27T17:09:18.330Z"
   },
   {
    "duration": 6,
    "start_time": "2022-03-27T17:09:18.338Z"
   },
   {
    "duration": 113,
    "start_time": "2022-03-27T17:09:18.381Z"
   },
   {
    "duration": 88,
    "start_time": "2022-03-27T17:09:18.497Z"
   },
   {
    "duration": 12,
    "start_time": "2022-03-27T17:09:18.588Z"
   },
   {
    "duration": 335,
    "start_time": "2022-03-27T17:09:18.603Z"
   },
   {
    "duration": 6,
    "start_time": "2022-03-27T17:09:18.940Z"
   },
   {
    "duration": 18,
    "start_time": "2022-03-27T17:09:18.949Z"
   },
   {
    "duration": 2094,
    "start_time": "2022-03-27T17:09:18.983Z"
   },
   {
    "duration": 456078,
    "start_time": "2022-03-27T17:09:21.083Z"
   },
   {
    "duration": 54,
    "start_time": "2022-03-27T17:16:57.164Z"
   },
   {
    "duration": 98,
    "start_time": "2022-03-27T17:16:57.284Z"
   },
   {
    "duration": 9,
    "start_time": "2022-03-27T17:16:57.385Z"
   },
   {
    "duration": 7,
    "start_time": "2022-03-27T17:16:57.397Z"
   },
   {
    "duration": 75,
    "start_time": "2022-03-27T17:16:57.407Z"
   },
   {
    "duration": 8,
    "start_time": "2022-03-27T17:16:57.485Z"
   },
   {
    "duration": 6,
    "start_time": "2022-03-27T17:16:57.495Z"
   },
   {
    "duration": 80,
    "start_time": "2022-03-27T17:16:57.503Z"
   },
   {
    "duration": 8,
    "start_time": "2022-03-27T17:16:57.586Z"
   },
   {
    "duration": 135,
    "start_time": "2022-03-27T17:16:57.596Z"
   },
   {
    "duration": 396,
    "start_time": "2022-03-27T17:16:57.734Z"
   },
   {
    "duration": 5,
    "start_time": "2022-03-27T17:16:58.136Z"
   },
   {
    "duration": 26,
    "start_time": "2022-03-27T17:16:58.143Z"
   },
   {
    "duration": 30,
    "start_time": "2022-03-27T17:16:58.171Z"
   },
   {
    "duration": 50,
    "start_time": "2022-03-27T17:16:58.204Z"
   },
   {
    "duration": 137,
    "start_time": "2022-03-27T17:16:58.256Z"
   },
   {
    "duration": 90,
    "start_time": "2022-03-27T17:16:58.396Z"
   },
   {
    "duration": 31,
    "start_time": "2022-03-27T17:16:58.488Z"
   },
   {
    "duration": 18,
    "start_time": "2022-03-27T17:16:58.522Z"
   },
   {
    "duration": 54,
    "start_time": "2022-03-27T17:16:58.543Z"
   },
   {
    "duration": 8,
    "start_time": "2022-03-27T17:16:58.599Z"
   },
   {
    "duration": 28,
    "start_time": "2022-03-27T17:16:58.610Z"
   },
   {
    "duration": 141,
    "start_time": "2022-03-27T17:16:58.641Z"
   },
   {
    "duration": 113,
    "start_time": "2022-03-27T17:16:58.788Z"
   },
   {
    "duration": 30,
    "start_time": "2022-03-27T17:16:58.904Z"
   },
   {
    "duration": 384,
    "start_time": "2022-03-27T17:16:58.938Z"
   },
   {
    "duration": 9,
    "start_time": "2022-03-27T17:23:35.343Z"
   },
   {
    "duration": 18,
    "start_time": "2022-03-27T17:23:39.220Z"
   },
   {
    "duration": 1960,
    "start_time": "2022-03-27T17:23:53.100Z"
   },
   {
    "duration": 364,
    "start_time": "2022-03-27T17:24:14.843Z"
   },
   {
    "duration": 1256,
    "start_time": "2022-03-27T17:24:28.489Z"
   },
   {
    "duration": 2811,
    "start_time": "2022-03-27T17:24:37.837Z"
   },
   {
    "duration": 2145,
    "start_time": "2022-03-27T17:25:00.596Z"
   },
   {
    "duration": 355,
    "start_time": "2022-03-27T17:25:49.981Z"
   },
   {
    "duration": 1365,
    "start_time": "2022-03-27T17:26:21.092Z"
   },
   {
    "duration": 1582,
    "start_time": "2022-03-27T17:26:30.004Z"
   },
   {
    "duration": 221479,
    "start_time": "2022-03-27T17:27:56.512Z"
   },
   {
    "duration": 10,
    "start_time": "2022-03-27T17:32:09.148Z"
   },
   {
    "duration": 65,
    "start_time": "2022-03-27T17:32:09.456Z"
   },
   {
    "duration": 44,
    "start_time": "2022-03-27T17:32:09.738Z"
   },
   {
    "duration": 10,
    "start_time": "2022-03-27T17:32:10.054Z"
   },
   {
    "duration": 6,
    "start_time": "2022-03-27T17:32:10.599Z"
   },
   {
    "duration": 5,
    "start_time": "2022-03-27T17:32:11.168Z"
   },
   {
    "duration": 49,
    "start_time": "2022-03-27T17:32:11.695Z"
   },
   {
    "duration": 7,
    "start_time": "2022-03-27T17:32:12.150Z"
   },
   {
    "duration": 5,
    "start_time": "2022-03-27T17:32:12.523Z"
   },
   {
    "duration": 10,
    "start_time": "2022-03-27T17:32:12.859Z"
   },
   {
    "duration": 7,
    "start_time": "2022-03-27T17:32:13.263Z"
   },
   {
    "duration": 6,
    "start_time": "2022-03-27T17:32:13.630Z"
   },
   {
    "duration": 297,
    "start_time": "2022-03-27T17:32:14.012Z"
   },
   {
    "duration": 108,
    "start_time": "2022-03-27T17:35:35.180Z"
   },
   {
    "duration": 11,
    "start_time": "2022-03-27T17:35:36.602Z"
   },
   {
    "duration": 8,
    "start_time": "2022-03-27T17:35:37.080Z"
   },
   {
    "duration": 6,
    "start_time": "2022-03-27T17:35:37.430Z"
   },
   {
    "duration": 42,
    "start_time": "2022-03-27T17:35:37.796Z"
   },
   {
    "duration": 7,
    "start_time": "2022-03-27T17:35:38.269Z"
   },
   {
    "duration": 6,
    "start_time": "2022-03-27T17:35:38.739Z"
   },
   {
    "duration": 93,
    "start_time": "2022-03-27T17:35:39.190Z"
   },
   {
    "duration": 7,
    "start_time": "2022-03-27T17:35:39.760Z"
   },
   {
    "duration": 6,
    "start_time": "2022-03-27T17:35:40.187Z"
   },
   {
    "duration": 282,
    "start_time": "2022-03-27T17:35:41.250Z"
   },
   {
    "duration": 12,
    "start_time": "2022-03-27T17:35:54.956Z"
   },
   {
    "duration": 53,
    "start_time": "2022-03-27T17:35:55.190Z"
   },
   {
    "duration": 90,
    "start_time": "2022-03-27T17:35:55.394Z"
   },
   {
    "duration": 9,
    "start_time": "2022-03-27T17:35:55.608Z"
   },
   {
    "duration": 6,
    "start_time": "2022-03-27T17:35:55.785Z"
   },
   {
    "duration": 5,
    "start_time": "2022-03-27T17:35:55.969Z"
   },
   {
    "duration": 50,
    "start_time": "2022-03-27T17:35:56.180Z"
   },
   {
    "duration": 7,
    "start_time": "2022-03-27T17:35:56.388Z"
   },
   {
    "duration": 5,
    "start_time": "2022-03-27T17:35:56.624Z"
   },
   {
    "duration": 20,
    "start_time": "2022-03-27T17:35:56.915Z"
   },
   {
    "duration": 8,
    "start_time": "2022-03-27T17:35:57.161Z"
   },
   {
    "duration": 6,
    "start_time": "2022-03-27T17:35:57.416Z"
   },
   {
    "duration": 401,
    "start_time": "2022-03-27T17:35:57.611Z"
   },
   {
    "duration": 4,
    "start_time": "2022-03-27T17:36:49.173Z"
   },
   {
    "duration": 4,
    "start_time": "2022-03-27T17:36:49.525Z"
   },
   {
    "duration": 151728,
    "start_time": "2022-03-27T17:38:07.108Z"
   },
   {
    "duration": 2108,
    "start_time": "2022-03-27T17:41:39.438Z"
   },
   {
    "duration": 1491,
    "start_time": "2022-03-27T17:42:16.183Z"
   },
   {
    "duration": 1791,
    "start_time": "2022-03-27T17:42:27.906Z"
   },
   {
    "duration": 11,
    "start_time": "2022-03-27T17:42:44.082Z"
   },
   {
    "duration": 20,
    "start_time": "2022-03-27T17:42:44.306Z"
   },
   {
    "duration": 92,
    "start_time": "2022-03-27T17:42:44.490Z"
   },
   {
    "duration": 23,
    "start_time": "2022-03-27T17:42:44.683Z"
   },
   {
    "duration": 9,
    "start_time": "2022-03-27T17:42:44.880Z"
   },
   {
    "duration": 7,
    "start_time": "2022-03-27T17:42:45.102Z"
   },
   {
    "duration": 17,
    "start_time": "2022-03-27T17:42:45.307Z"
   },
   {
    "duration": 8,
    "start_time": "2022-03-27T17:42:45.526Z"
   },
   {
    "duration": 6,
    "start_time": "2022-03-27T17:42:46.034Z"
   },
   {
    "duration": 85,
    "start_time": "2022-03-27T17:42:46.503Z"
   },
   {
    "duration": 9,
    "start_time": "2022-03-27T17:42:47.351Z"
   },
   {
    "duration": 6,
    "start_time": "2022-03-27T17:42:47.646Z"
   },
   {
    "duration": 11,
    "start_time": "2022-03-27T17:43:06.748Z"
   },
   {
    "duration": 8,
    "start_time": "2022-03-27T17:43:06.992Z"
   },
   {
    "duration": 5,
    "start_time": "2022-03-27T17:43:07.173Z"
   },
   {
    "duration": 14,
    "start_time": "2022-03-27T17:43:07.375Z"
   },
   {
    "duration": 6,
    "start_time": "2022-03-27T17:43:07.575Z"
   },
   {
    "duration": 6,
    "start_time": "2022-03-27T17:43:07.782Z"
   },
   {
    "duration": 17,
    "start_time": "2022-03-27T17:43:07.998Z"
   },
   {
    "duration": 8,
    "start_time": "2022-03-27T17:43:08.199Z"
   },
   {
    "duration": 7,
    "start_time": "2022-03-27T17:43:08.783Z"
   },
   {
    "duration": 425,
    "start_time": "2022-03-27T17:43:09.487Z"
   },
   {
    "duration": 2140,
    "start_time": "2022-03-27T18:16:53.446Z"
   },
   {
    "duration": 32,
    "start_time": "2022-03-27T18:16:55.589Z"
   },
   {
    "duration": 20,
    "start_time": "2022-03-27T18:16:55.623Z"
   },
   {
    "duration": 53,
    "start_time": "2022-03-27T18:16:55.646Z"
   },
   {
    "duration": 5,
    "start_time": "2022-03-27T18:16:55.703Z"
   },
   {
    "duration": 6,
    "start_time": "2022-03-27T18:16:55.710Z"
   },
   {
    "duration": 16,
    "start_time": "2022-03-27T18:16:55.719Z"
   },
   {
    "duration": 357,
    "start_time": "2022-03-27T18:16:55.768Z"
   },
   {
    "duration": 20,
    "start_time": "2022-03-27T18:16:56.128Z"
   },
   {
    "duration": 21,
    "start_time": "2022-03-27T18:16:56.151Z"
   },
   {
    "duration": 20,
    "start_time": "2022-03-27T18:16:56.175Z"
   },
   {
    "duration": 77,
    "start_time": "2022-03-27T18:16:56.198Z"
   },
   {
    "duration": 2178,
    "start_time": "2022-03-27T18:16:56.278Z"
   },
   {
    "duration": 2081,
    "start_time": "2022-03-27T18:30:25.614Z"
   },
   {
    "duration": 41,
    "start_time": "2022-03-27T18:30:27.698Z"
   },
   {
    "duration": 13,
    "start_time": "2022-03-27T18:30:27.741Z"
   },
   {
    "duration": 25,
    "start_time": "2022-03-27T18:30:27.757Z"
   },
   {
    "duration": 5,
    "start_time": "2022-03-27T18:30:27.783Z"
   },
   {
    "duration": 6,
    "start_time": "2022-03-27T18:30:27.802Z"
   },
   {
    "duration": 13,
    "start_time": "2022-03-27T18:30:27.810Z"
   },
   {
    "duration": 196,
    "start_time": "2022-03-27T18:30:27.825Z"
   },
   {
    "duration": 10,
    "start_time": "2022-03-27T18:30:28.023Z"
   },
   {
    "duration": 4,
    "start_time": "2022-03-27T18:30:28.036Z"
   },
   {
    "duration": 10,
    "start_time": "2022-03-27T18:30:28.042Z"
   },
   {
    "duration": 56,
    "start_time": "2022-03-27T18:30:28.054Z"
   },
   {
    "duration": 1080,
    "start_time": "2022-03-27T18:30:28.112Z"
   },
   {
    "duration": 2109,
    "start_time": "2022-03-28T08:04:52.946Z"
   },
   {
    "duration": 45,
    "start_time": "2022-03-28T08:04:55.058Z"
   },
   {
    "duration": 19,
    "start_time": "2022-03-28T08:04:55.105Z"
   },
   {
    "duration": 42,
    "start_time": "2022-03-28T08:04:55.126Z"
   },
   {
    "duration": 6,
    "start_time": "2022-03-28T08:04:55.172Z"
   },
   {
    "duration": 5,
    "start_time": "2022-03-28T08:04:55.180Z"
   },
   {
    "duration": 21,
    "start_time": "2022-03-28T08:04:55.187Z"
   },
   {
    "duration": 280,
    "start_time": "2022-03-28T08:04:55.211Z"
   },
   {
    "duration": 14,
    "start_time": "2022-03-28T08:04:55.493Z"
   },
   {
    "duration": 5,
    "start_time": "2022-03-28T08:04:55.509Z"
   },
   {
    "duration": 35,
    "start_time": "2022-03-28T08:04:55.516Z"
   },
   {
    "duration": 39,
    "start_time": "2022-03-28T08:04:55.553Z"
   },
   {
    "duration": 1456,
    "start_time": "2022-03-28T08:04:55.594Z"
   },
   {
    "duration": 163914,
    "start_time": "2022-03-28T08:04:57.055Z"
   },
   {
    "duration": 280,
    "start_time": "2022-03-28T08:07:40.971Z"
   },
   {
    "duration": 98,
    "start_time": "2022-03-28T08:07:41.345Z"
   },
   {
    "duration": 7,
    "start_time": "2022-03-28T08:07:41.446Z"
   },
   {
    "duration": 5,
    "start_time": "2022-03-28T08:07:41.455Z"
   },
   {
    "duration": 28,
    "start_time": "2022-03-28T08:07:41.462Z"
   },
   {
    "duration": 5,
    "start_time": "2022-03-28T08:07:41.493Z"
   },
   {
    "duration": 7,
    "start_time": "2022-03-28T08:07:41.500Z"
   },
   {
    "duration": 11,
    "start_time": "2022-03-28T08:07:41.543Z"
   },
   {
    "duration": 189,
    "start_time": "2022-03-28T08:07:41.556Z"
   },
   {
    "duration": 7,
    "start_time": "2022-03-28T08:07:41.747Z"
   },
   {
    "duration": 300,
    "start_time": "2022-03-28T08:07:41.756Z"
   },
   {
    "duration": 5,
    "start_time": "2022-03-28T08:07:42.059Z"
   },
   {
    "duration": 20,
    "start_time": "2022-03-28T08:07:42.066Z"
   },
   {
    "duration": 1345,
    "start_time": "2022-03-28T08:07:42.088Z"
   },
   {
    "duration": 1265,
    "start_time": "2022-03-28T08:07:43.443Z"
   },
   {
    "duration": 47,
    "start_time": "2022-03-28T08:07:44.710Z"
   },
   {
    "duration": 86,
    "start_time": "2022-03-28T08:07:44.760Z"
   },
   {
    "duration": 101,
    "start_time": "2022-03-28T08:07:44.850Z"
   },
   {
    "duration": 19,
    "start_time": "2022-03-28T08:07:44.953Z"
   },
   {
    "duration": 18,
    "start_time": "2022-03-28T08:07:44.974Z"
   },
   {
    "duration": 15,
    "start_time": "2022-03-28T08:07:44.994Z"
   },
   {
    "duration": 20,
    "start_time": "2022-03-28T08:07:45.012Z"
   },
   {
    "duration": 25,
    "start_time": "2022-03-28T08:07:45.034Z"
   },
   {
    "duration": 104,
    "start_time": "2022-03-28T08:07:45.142Z"
   },
   {
    "duration": 21,
    "start_time": "2022-03-28T08:07:45.249Z"
   },
   {
    "duration": 296,
    "start_time": "2022-03-28T08:07:45.272Z"
   },
   {
    "duration": 3,
    "start_time": "2022-03-28T08:07:45.574Z"
   },
   {
    "duration": 16,
    "start_time": "2022-03-28T08:07:45.580Z"
   },
   {
    "duration": 20,
    "start_time": "2022-03-28T08:07:45.598Z"
   },
   {
    "duration": 31,
    "start_time": "2022-03-28T08:07:45.621Z"
   },
   {
    "duration": 91,
    "start_time": "2022-03-28T08:07:45.654Z"
   },
   {
    "duration": 104,
    "start_time": "2022-03-28T08:07:45.748Z"
   },
   {
    "duration": 12,
    "start_time": "2022-03-28T08:07:45.854Z"
   },
   {
    "duration": 7,
    "start_time": "2022-03-28T08:07:45.868Z"
   },
   {
    "duration": 27,
    "start_time": "2022-03-28T08:07:45.877Z"
   },
   {
    "duration": 6,
    "start_time": "2022-03-28T08:07:45.906Z"
   },
   {
    "duration": 7,
    "start_time": "2022-03-28T08:07:45.914Z"
   },
   {
    "duration": 20,
    "start_time": "2022-03-28T08:07:45.943Z"
   },
   {
    "duration": 100,
    "start_time": "2022-03-28T08:07:46.046Z"
   },
   {
    "duration": 5,
    "start_time": "2022-03-28T08:07:46.149Z"
   },
   {
    "duration": 313,
    "start_time": "2022-03-28T08:07:46.157Z"
   },
   {
    "duration": 425,
    "start_time": "2022-03-28T08:35:45.420Z"
   },
   {
    "duration": 1884,
    "start_time": "2022-03-28T17:47:40.793Z"
   },
   {
    "duration": 27,
    "start_time": "2022-03-28T17:47:45.922Z"
   },
   {
    "duration": 15,
    "start_time": "2022-03-28T17:47:47.396Z"
   },
   {
    "duration": 24,
    "start_time": "2022-03-28T17:47:48.090Z"
   },
   {
    "duration": 5,
    "start_time": "2022-03-28T17:47:51.879Z"
   },
   {
    "duration": 5,
    "start_time": "2022-03-28T17:47:53.112Z"
   },
   {
    "duration": 14,
    "start_time": "2022-03-28T17:47:53.649Z"
   },
   {
    "duration": 203,
    "start_time": "2022-03-28T17:47:55.053Z"
   },
   {
    "duration": 12,
    "start_time": "2022-03-28T17:47:57.254Z"
   },
   {
    "duration": 5,
    "start_time": "2022-03-28T17:47:57.706Z"
   },
   {
    "duration": 13,
    "start_time": "2022-03-28T17:47:58.131Z"
   },
   {
    "duration": 43,
    "start_time": "2022-03-28T17:47:58.544Z"
   },
   {
    "duration": 1152,
    "start_time": "2022-03-28T17:48:00.683Z"
   },
   {
    "duration": 178343,
    "start_time": "2022-03-28T17:48:03.668Z"
   },
   {
    "duration": 399,
    "start_time": "2022-03-28T17:58:02.412Z"
   },
   {
    "duration": 7,
    "start_time": "2022-03-28T17:58:04.234Z"
   },
   {
    "duration": 6,
    "start_time": "2022-03-28T17:58:05.069Z"
   },
   {
    "duration": 4,
    "start_time": "2022-03-28T17:58:05.946Z"
   },
   {
    "duration": 27,
    "start_time": "2022-03-28T17:58:07.335Z"
   },
   {
    "duration": 6,
    "start_time": "2022-03-28T17:58:08.584Z"
   },
   {
    "duration": 5,
    "start_time": "2022-03-28T17:58:09.379Z"
   },
   {
    "duration": 23,
    "start_time": "2022-03-28T17:58:11.078Z"
   },
   {
    "duration": 6,
    "start_time": "2022-03-28T17:58:11.644Z"
   },
   {
    "duration": 4,
    "start_time": "2022-03-28T17:58:12.228Z"
   },
   {
    "duration": 188,
    "start_time": "2022-03-28T17:58:16.717Z"
   },
   {
    "duration": 5,
    "start_time": "2022-03-28T17:58:20.856Z"
   },
   {
    "duration": 15,
    "start_time": "2022-03-28T17:58:23.375Z"
   },
   {
    "duration": 1494,
    "start_time": "2022-03-28T17:58:24.877Z"
   },
   {
    "duration": 1493,
    "start_time": "2022-03-28T17:58:32.170Z"
   },
   {
    "duration": 1273,
    "start_time": "2022-03-28T17:58:41.941Z"
   },
   {
    "duration": 1323,
    "start_time": "2022-03-28T17:58:47.522Z"
   },
   {
    "duration": 83,
    "start_time": "2022-03-28T17:59:07.319Z"
   },
   {
    "duration": 29,
    "start_time": "2022-03-28T17:59:10.276Z"
   },
   {
    "duration": 5,
    "start_time": "2022-03-28T17:59:35.478Z"
   },
   {
    "duration": 11,
    "start_time": "2022-03-28T17:59:36.956Z"
   },
   {
    "duration": 770,
    "start_time": "2022-03-28T17:59:59.062Z"
   },
   {
    "duration": 847,
    "start_time": "2022-03-28T18:00:01.475Z"
   },
   {
    "duration": 921,
    "start_time": "2022-03-28T18:00:33.397Z"
   },
   {
    "duration": 871,
    "start_time": "2022-03-28T18:00:39.651Z"
   },
   {
    "duration": 26,
    "start_time": "2022-03-28T18:00:53.495Z"
   },
   {
    "duration": 24,
    "start_time": "2022-03-28T18:00:54.472Z"
   },
   {
    "duration": 10,
    "start_time": "2022-03-28T18:00:58.087Z"
   },
   {
    "duration": 10,
    "start_time": "2022-03-28T18:00:58.835Z"
   },
   {
    "duration": 9,
    "start_time": "2022-03-28T18:00:59.631Z"
   },
   {
    "duration": 10,
    "start_time": "2022-03-28T18:01:01.509Z"
   },
   {
    "duration": 15,
    "start_time": "2022-03-28T18:03:29.906Z"
   },
   {
    "duration": 15,
    "start_time": "2022-03-28T18:03:31.594Z"
   },
   {
    "duration": 14,
    "start_time": "2022-03-28T18:03:32.114Z"
   },
   {
    "duration": 15,
    "start_time": "2022-03-28T18:03:32.594Z"
   },
   {
    "duration": 42,
    "start_time": "2022-03-28T18:03:34.466Z"
   },
   {
    "duration": 16,
    "start_time": "2022-03-28T18:03:34.846Z"
   },
   {
    "duration": 13,
    "start_time": "2022-03-28T18:03:35.283Z"
   },
   {
    "duration": 14,
    "start_time": "2022-03-28T18:03:35.738Z"
   },
   {
    "duration": 344,
    "start_time": "2022-03-28T18:03:37.174Z"
   },
   {
    "duration": 372,
    "start_time": "2022-03-28T18:11:57.905Z"
   },
   {
    "duration": 261,
    "start_time": "2022-03-28T18:13:23.113Z"
   },
   {
    "duration": 362,
    "start_time": "2022-03-28T18:13:47.772Z"
   },
   {
    "duration": 247,
    "start_time": "2022-03-28T18:14:27.719Z"
   },
   {
    "duration": 364,
    "start_time": "2022-03-28T18:14:37.780Z"
   },
   {
    "duration": 11,
    "start_time": "2022-03-28T18:17:16.169Z"
   },
   {
    "duration": 10,
    "start_time": "2022-03-28T18:20:37.712Z"
   },
   {
    "duration": 11,
    "start_time": "2022-03-28T18:20:38.467Z"
   },
   {
    "duration": 10,
    "start_time": "2022-03-28T18:21:19.651Z"
   },
   {
    "duration": 14,
    "start_time": "2022-03-28T18:21:20.226Z"
   },
   {
    "duration": 12,
    "start_time": "2022-03-28T18:24:16.287Z"
   },
   {
    "duration": 5,
    "start_time": "2022-03-28T18:24:27.173Z"
   },
   {
    "duration": 4,
    "start_time": "2022-03-28T18:24:28.313Z"
   },
   {
    "duration": 237,
    "start_time": "2022-03-28T18:26:26.493Z"
   },
   {
    "duration": 1704,
    "start_time": "2022-03-28T18:59:14.523Z"
   },
   {
    "duration": 33,
    "start_time": "2022-03-28T18:59:16.229Z"
   },
   {
    "duration": 16,
    "start_time": "2022-03-28T18:59:16.263Z"
   },
   {
    "duration": 20,
    "start_time": "2022-03-28T18:59:16.281Z"
   },
   {
    "duration": 4,
    "start_time": "2022-03-28T18:59:16.303Z"
   },
   {
    "duration": 23,
    "start_time": "2022-03-28T18:59:16.309Z"
   },
   {
    "duration": 11,
    "start_time": "2022-03-28T18:59:16.334Z"
   },
   {
    "duration": 170,
    "start_time": "2022-03-28T18:59:16.347Z"
   },
   {
    "duration": 17,
    "start_time": "2022-03-28T18:59:16.519Z"
   },
   {
    "duration": 4,
    "start_time": "2022-03-28T18:59:16.539Z"
   },
   {
    "duration": 13,
    "start_time": "2022-03-28T18:59:16.545Z"
   },
   {
    "duration": 26,
    "start_time": "2022-03-28T18:59:16.560Z"
   },
   {
    "duration": 1106,
    "start_time": "2022-03-28T18:59:16.588Z"
   },
   {
    "duration": 121575,
    "start_time": "2022-03-28T18:59:17.695Z"
   },
   {
    "duration": 261,
    "start_time": "2022-03-28T19:01:19.272Z"
   },
   {
    "duration": 97,
    "start_time": "2022-03-28T19:01:19.535Z"
   },
   {
    "duration": 6,
    "start_time": "2022-03-28T19:01:19.634Z"
   },
   {
    "duration": 5,
    "start_time": "2022-03-28T19:01:19.641Z"
   },
   {
    "duration": 28,
    "start_time": "2022-03-28T19:01:19.648Z"
   },
   {
    "duration": 5,
    "start_time": "2022-03-28T19:01:19.678Z"
   },
   {
    "duration": 6,
    "start_time": "2022-03-28T19:01:19.685Z"
   },
   {
    "duration": 45,
    "start_time": "2022-03-28T19:01:19.693Z"
   },
   {
    "duration": 100,
    "start_time": "2022-03-28T19:01:19.742Z"
   },
   {
    "duration": 6,
    "start_time": "2022-03-28T19:01:19.844Z"
   },
   {
    "duration": 255,
    "start_time": "2022-03-28T19:01:19.851Z"
   },
   {
    "duration": 4,
    "start_time": "2022-03-28T19:01:20.108Z"
   },
   {
    "duration": 25,
    "start_time": "2022-03-28T19:01:20.114Z"
   },
   {
    "duration": 1355,
    "start_time": "2022-03-28T19:01:20.143Z"
   },
   {
    "duration": 1467,
    "start_time": "2022-03-28T19:01:21.500Z"
   },
   {
    "duration": 169424,
    "start_time": "2022-03-28T19:01:22.969Z"
   },
   {
    "duration": 172950,
    "start_time": "2022-03-28T19:04:12.395Z"
   },
   {
    "duration": 97,
    "start_time": "2022-03-28T19:07:05.347Z"
   },
   {
    "duration": 190,
    "start_time": "2022-03-28T19:07:05.446Z"
   },
   {
    "duration": 93,
    "start_time": "2022-03-28T19:07:05.639Z"
   },
   {
    "duration": 14,
    "start_time": "2022-03-28T19:07:05.735Z"
   },
   {
    "duration": 839,
    "start_time": "2022-03-28T19:07:05.751Z"
   },
   {
    "duration": 860,
    "start_time": "2022-03-28T19:07:06.591Z"
   },
   {
    "duration": 95516,
    "start_time": "2022-03-28T19:07:07.453Z"
   },
   {
    "duration": 97700,
    "start_time": "2022-03-28T19:08:42.971Z"
   },
   {
    "duration": 67,
    "start_time": "2022-03-28T19:10:20.673Z"
   },
   {
    "duration": 138,
    "start_time": "2022-03-28T19:10:20.742Z"
   },
   {
    "duration": 100,
    "start_time": "2022-03-28T19:10:20.933Z"
   },
   {
    "duration": 15,
    "start_time": "2022-03-28T19:10:21.035Z"
   },
   {
    "duration": 14,
    "start_time": "2022-03-28T19:10:21.053Z"
   },
   {
    "duration": 14,
    "start_time": "2022-03-28T19:10:21.069Z"
   },
   {
    "duration": 64,
    "start_time": "2022-03-28T19:10:21.085Z"
   },
   {
    "duration": 20,
    "start_time": "2022-03-28T19:10:21.151Z"
   },
   {
    "duration": 12,
    "start_time": "2022-03-28T19:10:21.173Z"
   },
   {
    "duration": 12,
    "start_time": "2022-03-28T19:10:21.186Z"
   },
   {
    "duration": 40,
    "start_time": "2022-03-28T19:10:21.200Z"
   },
   {
    "duration": 190,
    "start_time": "2022-03-28T19:10:21.243Z"
   },
   {
    "duration": 105,
    "start_time": "2022-03-28T19:10:21.436Z"
   },
   {
    "duration": 107,
    "start_time": "2022-03-28T19:10:21.544Z"
   },
   {
    "duration": 540,
    "start_time": "2022-03-28T19:10:21.732Z"
   },
   {
    "duration": 2,
    "start_time": "2022-03-28T19:10:22.274Z"
   },
   {
    "duration": 25,
    "start_time": "2022-03-28T19:10:22.278Z"
   },
   {
    "duration": 22,
    "start_time": "2022-03-28T19:10:22.305Z"
   },
   {
    "duration": 15,
    "start_time": "2022-03-28T19:10:22.329Z"
   },
   {
    "duration": 40,
    "start_time": "2022-03-28T19:10:22.346Z"
   },
   {
    "duration": 22,
    "start_time": "2022-03-28T19:10:22.388Z"
   },
   {
    "duration": 7,
    "start_time": "2022-03-28T19:10:22.412Z"
   },
   {
    "duration": 21,
    "start_time": "2022-03-28T19:10:22.421Z"
   },
   {
    "duration": 276,
    "start_time": "2022-03-28T19:10:22.444Z"
   },
   {
    "duration": 21,
    "start_time": "2022-03-28T19:13:49.009Z"
   },
   {
    "duration": 11,
    "start_time": "2022-03-28T19:15:04.993Z"
   },
   {
    "duration": 23,
    "start_time": "2022-03-28T19:15:06.307Z"
   },
   {
    "duration": 24,
    "start_time": "2022-03-28T19:15:07.755Z"
   },
   {
    "duration": 5,
    "start_time": "2022-03-28T19:15:08.808Z"
   },
   {
    "duration": 5,
    "start_time": "2022-03-28T19:15:09.497Z"
   },
   {
    "duration": 261,
    "start_time": "2022-03-28T19:15:10.544Z"
   },
   {
    "duration": 12,
    "start_time": "2022-03-28T19:15:31.288Z"
   },
   {
    "duration": 28,
    "start_time": "2022-03-28T19:15:32.537Z"
   },
   {
    "duration": 23,
    "start_time": "2022-03-28T19:15:33.591Z"
   },
   {
    "duration": 7,
    "start_time": "2022-03-28T19:15:34.633Z"
   },
   {
    "duration": 4,
    "start_time": "2022-03-28T19:15:35.550Z"
   },
   {
    "duration": 253,
    "start_time": "2022-03-28T19:15:36.378Z"
   },
   {
    "duration": 12,
    "start_time": "2022-03-28T19:16:09.418Z"
   },
   {
    "duration": 19,
    "start_time": "2022-03-28T19:16:10.398Z"
   },
   {
    "duration": 18,
    "start_time": "2022-03-28T19:16:11.815Z"
   },
   {
    "duration": 5,
    "start_time": "2022-03-28T19:16:12.421Z"
   },
   {
    "duration": 4,
    "start_time": "2022-03-28T19:16:12.823Z"
   },
   {
    "duration": 259,
    "start_time": "2022-03-28T19:16:13.709Z"
   },
   {
    "duration": 8,
    "start_time": "2022-03-28T19:18:41.523Z"
   },
   {
    "duration": 17,
    "start_time": "2022-03-28T19:18:43.667Z"
   },
   {
    "duration": 6,
    "start_time": "2022-03-28T19:18:44.274Z"
   },
   {
    "duration": 5,
    "start_time": "2022-03-28T19:18:44.694Z"
   },
   {
    "duration": 253,
    "start_time": "2022-03-28T19:18:45.570Z"
   },
   {
    "duration": 8,
    "start_time": "2022-03-28T19:18:59.536Z"
   },
   {
    "duration": 5,
    "start_time": "2022-03-28T19:19:00.453Z"
   },
   {
    "duration": 5,
    "start_time": "2022-03-28T19:19:01.835Z"
   },
   {
    "duration": 262,
    "start_time": "2022-03-28T19:19:02.988Z"
   },
   {
    "duration": 15,
    "start_time": "2022-03-28T19:36:52.507Z"
   },
   {
    "duration": 13,
    "start_time": "2022-03-28T19:36:53.681Z"
   },
   {
    "duration": 11,
    "start_time": "2022-03-28T19:36:55.208Z"
   },
   {
    "duration": 7,
    "start_time": "2022-03-28T19:36:55.565Z"
   },
   {
    "duration": 4,
    "start_time": "2022-03-28T19:36:56.252Z"
   },
   {
    "duration": 370,
    "start_time": "2022-03-28T19:36:59.297Z"
   },
   {
    "duration": 268,
    "start_time": "2022-03-28T19:44:18.372Z"
   },
   {
    "duration": 284,
    "start_time": "2022-03-28T19:44:52.511Z"
   },
   {
    "duration": 283,
    "start_time": "2022-03-28T19:45:26.586Z"
   },
   {
    "duration": 292,
    "start_time": "2022-03-28T19:45:58.224Z"
   },
   {
    "duration": 300,
    "start_time": "2022-03-28T19:46:40.635Z"
   },
   {
    "duration": 261,
    "start_time": "2022-03-28T19:46:54.702Z"
   },
   {
    "duration": 249,
    "start_time": "2022-03-28T19:47:29.550Z"
   },
   {
    "duration": 8,
    "start_time": "2022-03-28T19:48:17.315Z"
   },
   {
    "duration": 7,
    "start_time": "2022-03-28T19:48:30.700Z"
   },
   {
    "duration": 5,
    "start_time": "2022-03-28T19:48:33.313Z"
   },
   {
    "duration": 4,
    "start_time": "2022-03-28T19:48:33.730Z"
   },
   {
    "duration": 253,
    "start_time": "2022-03-28T19:48:34.613Z"
   },
   {
    "duration": 8,
    "start_time": "2022-03-28T19:54:44.217Z"
   },
   {
    "duration": 13,
    "start_time": "2022-03-28T19:54:51.742Z"
   },
   {
    "duration": 8,
    "start_time": "2022-03-28T19:54:52.899Z"
   },
   {
    "duration": 1457,
    "start_time": "2022-03-28T19:55:20.770Z"
   },
   {
    "duration": 1555,
    "start_time": "2022-03-28T20:23:36.802Z"
   },
   {
    "duration": 33,
    "start_time": "2022-03-28T20:23:38.359Z"
   },
   {
    "duration": 14,
    "start_time": "2022-03-28T20:23:38.394Z"
   },
   {
    "duration": 17,
    "start_time": "2022-03-28T20:23:38.410Z"
   },
   {
    "duration": 5,
    "start_time": "2022-03-28T20:23:38.431Z"
   },
   {
    "duration": 6,
    "start_time": "2022-03-28T20:23:38.438Z"
   },
   {
    "duration": 23,
    "start_time": "2022-03-28T20:23:38.446Z"
   },
   {
    "duration": 181,
    "start_time": "2022-03-28T20:23:38.471Z"
   },
   {
    "duration": 11,
    "start_time": "2022-03-28T20:23:38.654Z"
   },
   {
    "duration": 4,
    "start_time": "2022-03-28T20:23:38.669Z"
   },
   {
    "duration": 13,
    "start_time": "2022-03-28T20:23:38.675Z"
   },
   {
    "duration": 56,
    "start_time": "2022-03-28T20:23:38.690Z"
   },
   {
    "duration": 1131,
    "start_time": "2022-03-28T20:23:38.747Z"
   },
   {
    "duration": 123680,
    "start_time": "2022-03-28T20:23:39.880Z"
   },
   {
    "duration": 271,
    "start_time": "2022-03-28T20:25:43.562Z"
   },
   {
    "duration": 103,
    "start_time": "2022-03-28T20:25:43.836Z"
   },
   {
    "duration": 9,
    "start_time": "2022-03-28T20:25:43.941Z"
   },
   {
    "duration": 8,
    "start_time": "2022-03-28T20:25:43.952Z"
   },
   {
    "duration": 27,
    "start_time": "2022-03-28T20:25:43.962Z"
   },
   {
    "duration": 6,
    "start_time": "2022-03-28T20:25:43.990Z"
   },
   {
    "duration": 5,
    "start_time": "2022-03-28T20:25:43.998Z"
   },
   {
    "duration": 130,
    "start_time": "2022-03-28T20:25:44.005Z"
   },
   {
    "duration": 94,
    "start_time": "2022-03-28T20:25:44.138Z"
   },
   {
    "duration": 7,
    "start_time": "2022-03-28T20:25:44.234Z"
   },
   {
    "duration": 233,
    "start_time": "2022-03-28T20:25:44.243Z"
   },
   {
    "duration": 4,
    "start_time": "2022-03-28T20:25:44.478Z"
   },
   {
    "duration": 14,
    "start_time": "2022-03-28T20:25:44.484Z"
   },
   {
    "duration": 31,
    "start_time": "2022-03-28T20:25:44.502Z"
   },
   {
    "duration": 1399,
    "start_time": "2022-03-28T20:25:44.535Z"
   },
   {
    "duration": 1528,
    "start_time": "2022-03-28T20:25:45.936Z"
   },
   {
    "duration": 172814,
    "start_time": "2022-03-28T20:25:47.466Z"
   },
   {
    "duration": 176597,
    "start_time": "2022-03-28T20:28:40.282Z"
   },
   {
    "duration": 64,
    "start_time": "2022-03-28T20:31:36.881Z"
   },
   {
    "duration": 200,
    "start_time": "2022-03-28T20:31:37.033Z"
   },
   {
    "duration": 5,
    "start_time": "2022-03-28T20:31:37.235Z"
   },
   {
    "duration": 19,
    "start_time": "2022-03-28T20:31:37.242Z"
   },
   {
    "duration": 10,
    "start_time": "2022-03-28T20:31:37.263Z"
   },
   {
    "duration": 862,
    "start_time": "2022-03-28T20:31:37.275Z"
   },
   {
    "duration": 866,
    "start_time": "2022-03-28T20:31:38.140Z"
   },
   {
    "duration": 93668,
    "start_time": "2022-03-28T20:31:39.008Z"
   },
   {
    "duration": 94937,
    "start_time": "2022-03-28T20:33:12.678Z"
   },
   {
    "duration": 17,
    "start_time": "2022-03-28T20:34:47.616Z"
   },
   {
    "duration": 12,
    "start_time": "2022-03-28T20:34:47.635Z"
   },
   {
    "duration": 11,
    "start_time": "2022-03-28T20:34:47.649Z"
   },
   {
    "duration": 10,
    "start_time": "2022-03-28T20:34:47.662Z"
   },
   {
    "duration": 11,
    "start_time": "2022-03-28T20:34:47.673Z"
   },
   {
    "duration": 47,
    "start_time": "2022-03-28T20:34:47.686Z"
   },
   {
    "duration": 40,
    "start_time": "2022-03-28T20:34:47.735Z"
   },
   {
    "duration": 21,
    "start_time": "2022-03-28T20:34:47.778Z"
   },
   {
    "duration": 38,
    "start_time": "2022-03-28T20:34:47.801Z"
   },
   {
    "duration": 11,
    "start_time": "2022-03-28T20:34:47.841Z"
   },
   {
    "duration": 296,
    "start_time": "2022-03-28T20:34:47.854Z"
   },
   {
    "duration": 0,
    "start_time": "2022-03-28T20:34:48.152Z"
   },
   {
    "duration": 0,
    "start_time": "2022-03-28T20:34:48.153Z"
   },
   {
    "duration": 0,
    "start_time": "2022-03-28T20:34:48.154Z"
   },
   {
    "duration": 0,
    "start_time": "2022-03-28T20:34:48.155Z"
   },
   {
    "duration": 0,
    "start_time": "2022-03-28T20:34:48.156Z"
   },
   {
    "duration": 0,
    "start_time": "2022-03-28T20:34:48.158Z"
   },
   {
    "duration": 0,
    "start_time": "2022-03-28T20:34:48.159Z"
   },
   {
    "duration": 0,
    "start_time": "2022-03-28T20:34:48.160Z"
   },
   {
    "duration": 0,
    "start_time": "2022-03-28T20:34:48.161Z"
   },
   {
    "duration": 0,
    "start_time": "2022-03-28T20:34:48.162Z"
   },
   {
    "duration": 0,
    "start_time": "2022-03-28T20:34:48.163Z"
   },
   {
    "duration": 0,
    "start_time": "2022-03-28T20:34:48.165Z"
   },
   {
    "duration": 15,
    "start_time": "2022-03-28T20:41:28.085Z"
   },
   {
    "duration": 13,
    "start_time": "2022-03-28T20:41:29.967Z"
   },
   {
    "duration": 12,
    "start_time": "2022-03-28T20:41:35.782Z"
   },
   {
    "duration": 10,
    "start_time": "2022-03-28T20:41:36.910Z"
   },
   {
    "duration": 421,
    "start_time": "2022-03-28T20:41:39.727Z"
   },
   {
    "duration": 278,
    "start_time": "2022-03-28T20:42:56.312Z"
   },
   {
    "duration": 383,
    "start_time": "2022-03-28T20:43:14.321Z"
   },
   {
    "duration": 10,
    "start_time": "2022-03-28T20:44:19.359Z"
   },
   {
    "duration": 9,
    "start_time": "2022-03-28T20:45:26.975Z"
   },
   {
    "duration": 28,
    "start_time": "2022-03-28T20:45:28.490Z"
   },
   {
    "duration": 27,
    "start_time": "2022-03-28T20:45:30.189Z"
   },
   {
    "duration": 6,
    "start_time": "2022-03-28T20:45:31.281Z"
   },
   {
    "duration": 4,
    "start_time": "2022-03-28T20:45:31.866Z"
   },
   {
    "duration": 259,
    "start_time": "2022-03-28T20:45:33.104Z"
   },
   {
    "duration": 9,
    "start_time": "2022-03-28T20:50:31.400Z"
   },
   {
    "duration": 17,
    "start_time": "2022-03-28T20:50:32.204Z"
   },
   {
    "duration": 16,
    "start_time": "2022-03-28T20:50:33.135Z"
   },
   {
    "duration": 6,
    "start_time": "2022-03-28T20:50:33.997Z"
   },
   {
    "duration": 4,
    "start_time": "2022-03-28T20:50:34.660Z"
   },
   {
    "duration": 261,
    "start_time": "2022-03-28T20:50:35.892Z"
   },
   {
    "duration": 16,
    "start_time": "2022-03-28T20:54:48.305Z"
   },
   {
    "duration": 19,
    "start_time": "2022-03-28T20:54:48.745Z"
   },
   {
    "duration": 254,
    "start_time": "2022-03-28T20:54:49.750Z"
   },
   {
    "duration": 352,
    "start_time": "2022-03-28T20:58:45.579Z"
   },
   {
    "duration": 279,
    "start_time": "2022-03-28T20:59:06.229Z"
   },
   {
    "duration": 374,
    "start_time": "2022-03-28T20:59:12.957Z"
   },
   {
    "duration": 263,
    "start_time": "2022-03-28T20:59:34.037Z"
   },
   {
    "duration": 384,
    "start_time": "2022-03-28T21:01:47.457Z"
   },
   {
    "duration": 2171,
    "start_time": "2022-03-29T10:12:47.998Z"
   },
   {
    "duration": 38,
    "start_time": "2022-03-29T10:12:50.172Z"
   },
   {
    "duration": 19,
    "start_time": "2022-03-29T10:12:50.212Z"
   },
   {
    "duration": 24,
    "start_time": "2022-03-29T10:12:50.242Z"
   },
   {
    "duration": 6,
    "start_time": "2022-03-29T10:12:50.268Z"
   },
   {
    "duration": 9,
    "start_time": "2022-03-29T10:12:50.276Z"
   },
   {
    "duration": 19,
    "start_time": "2022-03-29T10:12:50.287Z"
   },
   {
    "duration": 271,
    "start_time": "2022-03-29T10:12:50.308Z"
   },
   {
    "duration": 18,
    "start_time": "2022-03-29T10:12:50.582Z"
   },
   {
    "duration": 8,
    "start_time": "2022-03-29T10:12:50.604Z"
   },
   {
    "duration": 42,
    "start_time": "2022-03-29T10:12:50.614Z"
   },
   {
    "duration": 38,
    "start_time": "2022-03-29T10:12:50.658Z"
   },
   {
    "duration": 1668,
    "start_time": "2022-03-29T10:12:50.699Z"
   },
   {
    "duration": 162664,
    "start_time": "2022-03-29T10:12:52.369Z"
   },
   {
    "duration": 309,
    "start_time": "2022-03-29T10:15:35.036Z"
   },
   {
    "duration": 96,
    "start_time": "2022-03-29T10:15:35.348Z"
   },
   {
    "duration": 27,
    "start_time": "2022-03-29T10:15:35.446Z"
   },
   {
    "duration": 8,
    "start_time": "2022-03-29T10:15:35.475Z"
   },
   {
    "duration": 43,
    "start_time": "2022-03-29T10:15:35.485Z"
   },
   {
    "duration": 17,
    "start_time": "2022-03-29T10:15:35.531Z"
   },
   {
    "duration": 37,
    "start_time": "2022-03-29T10:15:35.550Z"
   },
   {
    "duration": 57,
    "start_time": "2022-03-29T10:15:35.589Z"
   },
   {
    "duration": 100,
    "start_time": "2022-03-29T10:15:35.650Z"
   },
   {
    "duration": 116,
    "start_time": "2022-03-29T10:15:35.753Z"
   },
   {
    "duration": 300,
    "start_time": "2022-03-29T10:15:35.871Z"
   },
   {
    "duration": 6,
    "start_time": "2022-03-29T10:15:36.174Z"
   },
   {
    "duration": 15,
    "start_time": "2022-03-29T10:15:36.182Z"
   },
   {
    "duration": 10,
    "start_time": "2022-03-29T10:15:36.203Z"
   },
   {
    "duration": 1956,
    "start_time": "2022-03-29T10:15:36.242Z"
   },
   {
    "duration": 2130,
    "start_time": "2022-03-29T10:15:38.200Z"
   },
   {
    "duration": 240271,
    "start_time": "2022-03-29T10:15:40.333Z"
   },
   {
    "duration": 245921,
    "start_time": "2022-03-29T10:19:40.606Z"
   },
   {
    "duration": 114,
    "start_time": "2022-03-29T10:23:46.530Z"
   },
   {
    "duration": 131,
    "start_time": "2022-03-29T10:23:46.648Z"
   },
   {
    "duration": 99,
    "start_time": "2022-03-29T10:23:46.845Z"
   },
   {
    "duration": 15,
    "start_time": "2022-03-29T10:23:46.946Z"
   },
   {
    "duration": 11,
    "start_time": "2022-03-29T10:23:46.964Z"
   },
   {
    "duration": 1009,
    "start_time": "2022-03-29T10:23:46.977Z"
   },
   {
    "duration": 1055,
    "start_time": "2022-03-29T10:23:47.988Z"
   },
   {
    "duration": 128261,
    "start_time": "2022-03-29T10:23:49.045Z"
   },
   {
    "duration": 126679,
    "start_time": "2022-03-29T10:25:57.309Z"
   },
   {
    "duration": 18,
    "start_time": "2022-03-29T10:28:03.991Z"
   },
   {
    "duration": 40,
    "start_time": "2022-03-29T10:28:04.012Z"
   },
   {
    "duration": 13,
    "start_time": "2022-03-29T10:28:04.054Z"
   },
   {
    "duration": 13,
    "start_time": "2022-03-29T10:28:04.069Z"
   },
   {
    "duration": 12,
    "start_time": "2022-03-29T10:28:04.084Z"
   },
   {
    "duration": 56,
    "start_time": "2022-03-29T10:28:04.098Z"
   },
   {
    "duration": 40,
    "start_time": "2022-03-29T10:28:04.156Z"
   },
   {
    "duration": 55,
    "start_time": "2022-03-29T10:28:04.198Z"
   },
   {
    "duration": 15,
    "start_time": "2022-03-29T10:28:04.255Z"
   },
   {
    "duration": 13,
    "start_time": "2022-03-29T10:28:04.272Z"
   },
   {
    "duration": 156,
    "start_time": "2022-03-29T10:28:04.287Z"
   },
   {
    "duration": 96,
    "start_time": "2022-03-29T10:28:04.446Z"
   },
   {
    "duration": 100,
    "start_time": "2022-03-29T10:28:04.545Z"
   },
   {
    "duration": 13,
    "start_time": "2022-03-29T10:28:04.647Z"
   },
   {
    "duration": 658,
    "start_time": "2022-03-29T10:28:04.662Z"
   },
   {
    "duration": 15,
    "start_time": "2022-03-29T10:28:05.323Z"
   },
   {
    "duration": 33,
    "start_time": "2022-03-29T10:28:05.340Z"
   },
   {
    "duration": 31,
    "start_time": "2022-03-29T10:28:05.376Z"
   },
   {
    "duration": 38,
    "start_time": "2022-03-29T10:28:05.409Z"
   },
   {
    "duration": 8,
    "start_time": "2022-03-29T10:28:05.449Z"
   },
   {
    "duration": 469,
    "start_time": "2022-03-29T10:28:05.459Z"
   },
   {
    "duration": 25,
    "start_time": "2022-03-29T10:28:05.931Z"
   },
   {
    "duration": 19,
    "start_time": "2022-03-29T10:28:05.958Z"
   },
   {
    "duration": 464,
    "start_time": "2022-03-29T10:28:05.979Z"
   },
   {
    "duration": 228,
    "start_time": "2022-03-29T10:28:06.450Z"
   },
   {
    "duration": 1850,
    "start_time": "2022-03-29T11:32:58.964Z"
   },
   {
    "duration": 32,
    "start_time": "2022-03-29T11:33:00.816Z"
   },
   {
    "duration": 15,
    "start_time": "2022-03-29T11:33:00.849Z"
   },
   {
    "duration": 18,
    "start_time": "2022-03-29T11:33:00.867Z"
   },
   {
    "duration": 9,
    "start_time": "2022-03-29T11:33:00.887Z"
   },
   {
    "duration": 8,
    "start_time": "2022-03-29T11:33:00.898Z"
   },
   {
    "duration": 39,
    "start_time": "2022-03-29T11:33:00.908Z"
   },
   {
    "duration": 186,
    "start_time": "2022-03-29T11:33:00.949Z"
   },
   {
    "duration": 14,
    "start_time": "2022-03-29T11:33:01.137Z"
   },
   {
    "duration": 11,
    "start_time": "2022-03-29T11:33:01.154Z"
   },
   {
    "duration": 18,
    "start_time": "2022-03-29T11:33:01.167Z"
   },
   {
    "duration": 50,
    "start_time": "2022-03-29T11:33:01.187Z"
   },
   {
    "duration": 1191,
    "start_time": "2022-03-29T11:33:01.240Z"
   },
   {
    "duration": 130762,
    "start_time": "2022-03-29T11:33:02.436Z"
   },
   {
    "duration": 353,
    "start_time": "2022-03-29T11:35:13.200Z"
   },
   {
    "duration": 98,
    "start_time": "2022-03-29T11:35:13.556Z"
   },
   {
    "duration": 23,
    "start_time": "2022-03-29T11:35:13.731Z"
   },
   {
    "duration": 8,
    "start_time": "2022-03-29T11:35:13.756Z"
   },
   {
    "duration": 24,
    "start_time": "2022-03-29T11:35:13.766Z"
   },
   {
    "duration": 6,
    "start_time": "2022-03-29T11:35:13.793Z"
   },
   {
    "duration": 5,
    "start_time": "2022-03-29T11:35:13.801Z"
   },
   {
    "duration": 39,
    "start_time": "2022-03-29T11:35:13.808Z"
   },
   {
    "duration": 102,
    "start_time": "2022-03-29T11:35:13.852Z"
   },
   {
    "duration": 10,
    "start_time": "2022-03-29T11:35:13.956Z"
   },
   {
    "duration": 232,
    "start_time": "2022-03-29T11:35:13.968Z"
   },
   {
    "duration": 4,
    "start_time": "2022-03-29T11:35:14.202Z"
   },
   {
    "duration": 28,
    "start_time": "2022-03-29T11:35:14.208Z"
   },
   {
    "duration": 9,
    "start_time": "2022-03-29T11:35:14.242Z"
   },
   {
    "duration": 1509,
    "start_time": "2022-03-29T11:35:14.253Z"
   },
   {
    "duration": 1600,
    "start_time": "2022-03-29T11:35:15.763Z"
   },
   {
    "duration": 181932,
    "start_time": "2022-03-29T11:35:17.364Z"
   },
   {
    "duration": 187532,
    "start_time": "2022-03-29T11:38:19.298Z"
   },
   {
    "duration": 114,
    "start_time": "2022-03-29T11:41:26.832Z"
   },
   {
    "duration": 190,
    "start_time": "2022-03-29T11:41:26.949Z"
   },
   {
    "duration": 12,
    "start_time": "2022-03-29T11:41:27.141Z"
   },
   {
    "duration": 24,
    "start_time": "2022-03-29T11:41:27.235Z"
   },
   {
    "duration": 14,
    "start_time": "2022-03-29T11:41:27.261Z"
   },
   {
    "duration": 811,
    "start_time": "2022-03-29T11:41:27.278Z"
   },
   {
    "duration": 885,
    "start_time": "2022-03-29T11:41:28.091Z"
   },
   {
    "duration": 100151,
    "start_time": "2022-03-29T11:41:28.977Z"
   },
   {
    "duration": 100710,
    "start_time": "2022-03-29T11:43:09.131Z"
   },
   {
    "duration": 13,
    "start_time": "2022-03-29T11:44:49.844Z"
   },
   {
    "duration": 12,
    "start_time": "2022-03-29T11:44:49.859Z"
   },
   {
    "duration": 10,
    "start_time": "2022-03-29T11:44:49.873Z"
   },
   {
    "duration": 11,
    "start_time": "2022-03-29T11:44:49.885Z"
   },
   {
    "duration": 50,
    "start_time": "2022-03-29T11:44:49.897Z"
   },
   {
    "duration": 11,
    "start_time": "2022-03-29T11:44:49.949Z"
   },
   {
    "duration": 38,
    "start_time": "2022-03-29T11:44:49.961Z"
   },
   {
    "duration": 46,
    "start_time": "2022-03-29T11:44:50.001Z"
   },
   {
    "duration": 13,
    "start_time": "2022-03-29T11:44:50.049Z"
   },
   {
    "duration": 15,
    "start_time": "2022-03-29T11:44:50.064Z"
   },
   {
    "duration": 74,
    "start_time": "2022-03-29T11:44:50.081Z"
   },
   {
    "duration": 104,
    "start_time": "2022-03-29T11:44:50.234Z"
   },
   {
    "duration": 114,
    "start_time": "2022-03-29T11:44:50.341Z"
   },
   {
    "duration": 10,
    "start_time": "2022-03-29T11:44:50.457Z"
   },
   {
    "duration": 447,
    "start_time": "2022-03-29T11:44:50.469Z"
   },
   {
    "duration": 2,
    "start_time": "2022-03-29T11:44:50.918Z"
   },
   {
    "duration": 34,
    "start_time": "2022-03-29T11:44:50.922Z"
   },
   {
    "duration": 21,
    "start_time": "2022-03-29T11:44:50.958Z"
   },
   {
    "duration": 6,
    "start_time": "2022-03-29T11:44:50.981Z"
   },
   {
    "duration": 9,
    "start_time": "2022-03-29T11:44:50.989Z"
   },
   {
    "duration": 299,
    "start_time": "2022-03-29T11:44:51.000Z"
   },
   {
    "duration": 12,
    "start_time": "2022-03-29T11:44:51.301Z"
   },
   {
    "duration": 33,
    "start_time": "2022-03-29T11:44:51.315Z"
   },
   {
    "duration": 284,
    "start_time": "2022-03-29T11:44:51.350Z"
   },
   {
    "duration": 1656,
    "start_time": "2022-03-29T11:56:02.562Z"
   },
   {
    "duration": 48,
    "start_time": "2022-03-29T11:56:05.714Z"
   },
   {
    "duration": 15,
    "start_time": "2022-03-29T11:56:06.547Z"
   },
   {
    "duration": 18,
    "start_time": "2022-03-29T11:56:07.008Z"
   },
   {
    "duration": 5,
    "start_time": "2022-03-29T11:56:09.578Z"
   },
   {
    "duration": 5,
    "start_time": "2022-03-29T11:56:10.039Z"
   },
   {
    "duration": 13,
    "start_time": "2022-03-29T11:56:10.588Z"
   },
   {
    "duration": 149,
    "start_time": "2022-03-29T11:56:12.694Z"
   },
   {
    "duration": 11,
    "start_time": "2022-03-29T11:56:14.829Z"
   },
   {
    "duration": 7,
    "start_time": "2022-03-29T11:56:15.270Z"
   },
   {
    "duration": 12,
    "start_time": "2022-03-29T11:56:16.571Z"
   },
   {
    "duration": 30,
    "start_time": "2022-03-29T11:56:24.300Z"
   },
   {
    "duration": 2244,
    "start_time": "2022-03-29T12:38:23.252Z"
   },
   {
    "duration": 31,
    "start_time": "2022-03-29T12:38:25.499Z"
   },
   {
    "duration": 21,
    "start_time": "2022-03-29T12:38:25.533Z"
   },
   {
    "duration": 54,
    "start_time": "2022-03-29T12:38:25.559Z"
   },
   {
    "duration": 8,
    "start_time": "2022-03-29T12:38:25.617Z"
   },
   {
    "duration": 27,
    "start_time": "2022-03-29T12:38:25.627Z"
   },
   {
    "duration": 31,
    "start_time": "2022-03-29T12:38:25.656Z"
   },
   {
    "duration": 246,
    "start_time": "2022-03-29T12:38:25.689Z"
   },
   {
    "duration": 14,
    "start_time": "2022-03-29T12:38:25.937Z"
   },
   {
    "duration": 28,
    "start_time": "2022-03-29T12:38:25.954Z"
   },
   {
    "duration": 17,
    "start_time": "2022-03-29T12:38:25.985Z"
   },
   {
    "duration": 47,
    "start_time": "2022-03-29T12:38:26.006Z"
   },
   {
    "duration": 1437,
    "start_time": "2022-03-29T12:38:26.056Z"
   },
   {
    "duration": 164504,
    "start_time": "2022-03-29T12:38:27.499Z"
   },
   {
    "duration": 378,
    "start_time": "2022-03-29T12:41:12.005Z"
   },
   {
    "duration": 99,
    "start_time": "2022-03-29T12:41:12.387Z"
   },
   {
    "duration": 7,
    "start_time": "2022-03-29T12:41:12.488Z"
   },
   {
    "duration": 6,
    "start_time": "2022-03-29T12:41:12.497Z"
   },
   {
    "duration": 32,
    "start_time": "2022-03-29T12:41:12.506Z"
   },
   {
    "duration": 7,
    "start_time": "2022-03-29T12:41:12.540Z"
   },
   {
    "duration": 36,
    "start_time": "2022-03-29T12:41:12.549Z"
   },
   {
    "duration": 95,
    "start_time": "2022-03-29T12:41:12.588Z"
   },
   {
    "duration": 97,
    "start_time": "2022-03-29T12:41:12.686Z"
   },
   {
    "duration": 6,
    "start_time": "2022-03-29T12:41:12.785Z"
   },
   {
    "duration": 302,
    "start_time": "2022-03-29T12:41:12.794Z"
   },
   {
    "duration": 7,
    "start_time": "2022-03-29T12:41:13.098Z"
   },
   {
    "duration": 20,
    "start_time": "2022-03-29T12:41:13.107Z"
   },
   {
    "duration": 10,
    "start_time": "2022-03-29T12:41:13.129Z"
   },
   {
    "duration": 1944,
    "start_time": "2022-03-29T12:41:13.142Z"
   },
   {
    "duration": 2087,
    "start_time": "2022-03-29T12:41:15.089Z"
   },
   {
    "duration": 247375,
    "start_time": "2022-03-29T12:41:17.179Z"
   },
   {
    "duration": 246442,
    "start_time": "2022-03-29T12:45:24.556Z"
   },
   {
    "duration": 184,
    "start_time": "2022-03-29T12:49:31.000Z"
   },
   {
    "duration": 109,
    "start_time": "2022-03-29T12:49:31.187Z"
   },
   {
    "duration": 7,
    "start_time": "2022-03-29T12:49:31.383Z"
   },
   {
    "duration": 25,
    "start_time": "2022-03-29T12:49:31.393Z"
   },
   {
    "duration": 25,
    "start_time": "2022-03-29T12:49:31.421Z"
   },
   {
    "duration": 1147,
    "start_time": "2022-03-29T12:49:31.448Z"
   },
   {
    "duration": 1463,
    "start_time": "2022-03-29T12:49:32.598Z"
   },
   {
    "duration": 135672,
    "start_time": "2022-03-29T12:49:34.064Z"
   },
   {
    "duration": 146867,
    "start_time": "2022-03-29T12:51:49.742Z"
   },
   {
    "duration": 16,
    "start_time": "2022-03-29T12:54:16.611Z"
   },
   {
    "duration": 15,
    "start_time": "2022-03-29T12:54:16.629Z"
   },
   {
    "duration": 47,
    "start_time": "2022-03-29T12:54:16.646Z"
   },
   {
    "duration": 14,
    "start_time": "2022-03-29T12:54:16.695Z"
   },
   {
    "duration": 17,
    "start_time": "2022-03-29T12:54:16.711Z"
   },
   {
    "duration": 21,
    "start_time": "2022-03-29T12:54:16.730Z"
   },
   {
    "duration": 43,
    "start_time": "2022-03-29T12:54:16.782Z"
   },
   {
    "duration": 25,
    "start_time": "2022-03-29T12:54:16.827Z"
   },
   {
    "duration": 15,
    "start_time": "2022-03-29T12:54:16.882Z"
   },
   {
    "duration": 15,
    "start_time": "2022-03-29T12:54:16.899Z"
   },
   {
    "duration": 167,
    "start_time": "2022-03-29T12:54:16.917Z"
   },
   {
    "duration": 18,
    "start_time": "2022-03-29T12:54:17.087Z"
   },
   {
    "duration": 178,
    "start_time": "2022-03-29T12:54:17.108Z"
   },
   {
    "duration": 13,
    "start_time": "2022-03-29T12:54:17.288Z"
   },
   {
    "duration": 668,
    "start_time": "2022-03-29T12:54:17.303Z"
   },
   {
    "duration": 3,
    "start_time": "2022-03-29T12:54:17.975Z"
   },
   {
    "duration": 35,
    "start_time": "2022-03-29T12:54:17.981Z"
   },
   {
    "duration": 30,
    "start_time": "2022-03-29T12:54:18.018Z"
   },
   {
    "duration": 34,
    "start_time": "2022-03-29T12:54:18.051Z"
   },
   {
    "duration": 6,
    "start_time": "2022-03-29T12:54:18.088Z"
   },
   {
    "duration": 456,
    "start_time": "2022-03-29T12:54:18.096Z"
   },
   {
    "duration": 32,
    "start_time": "2022-03-29T12:54:18.554Z"
   },
   {
    "duration": 18,
    "start_time": "2022-03-29T12:54:18.588Z"
   },
   {
    "duration": 498,
    "start_time": "2022-03-29T12:54:18.609Z"
   },
   {
    "duration": 15,
    "start_time": "2022-03-29T13:08:02.834Z"
   },
   {
    "duration": 18,
    "start_time": "2022-03-29T13:08:05.752Z"
   },
   {
    "duration": 27,
    "start_time": "2022-03-29T13:08:07.833Z"
   },
   {
    "duration": 164,
    "start_time": "2022-03-29T13:08:09.632Z"
   },
   {
    "duration": 15,
    "start_time": "2022-03-29T13:08:12.393Z"
   },
   {
    "duration": 6,
    "start_time": "2022-03-29T13:09:52.466Z"
   },
   {
    "duration": 22,
    "start_time": "2022-03-29T13:10:04.953Z"
   },
   {
    "duration": 10,
    "start_time": "2022-03-29T13:11:05.474Z"
   },
   {
    "duration": 15,
    "start_time": "2022-03-29T13:11:14.025Z"
   },
   {
    "duration": 15,
    "start_time": "2022-03-29T13:11:17.193Z"
   },
   {
    "duration": 13,
    "start_time": "2022-03-29T13:11:19.592Z"
   },
   {
    "duration": 15,
    "start_time": "2022-03-29T13:11:19.994Z"
   },
   {
    "duration": 7,
    "start_time": "2022-03-29T13:11:55.306Z"
   },
   {
    "duration": 31,
    "start_time": "2022-03-29T13:11:55.316Z"
   },
   {
    "duration": 18,
    "start_time": "2022-03-29T13:11:55.349Z"
   },
   {
    "duration": 29,
    "start_time": "2022-03-29T13:11:55.370Z"
   },
   {
    "duration": 8,
    "start_time": "2022-03-29T13:11:55.403Z"
   },
   {
    "duration": 8,
    "start_time": "2022-03-29T13:11:55.414Z"
   },
   {
    "duration": 27,
    "start_time": "2022-03-29T13:11:55.424Z"
   },
   {
    "duration": 277,
    "start_time": "2022-03-29T13:11:55.453Z"
   },
   {
    "duration": 15,
    "start_time": "2022-03-29T13:11:55.734Z"
   },
   {
    "duration": 6,
    "start_time": "2022-03-29T13:11:55.752Z"
   },
   {
    "duration": 41,
    "start_time": "2022-03-29T13:11:55.760Z"
   },
   {
    "duration": 35,
    "start_time": "2022-03-29T13:11:55.803Z"
   },
   {
    "duration": 16,
    "start_time": "2022-03-29T13:12:06.392Z"
   },
   {
    "duration": 26,
    "start_time": "2022-03-29T13:12:19.514Z"
   },
   {
    "duration": 19,
    "start_time": "2022-03-29T13:12:27.226Z"
   },
   {
    "duration": 29,
    "start_time": "2022-03-29T13:12:27.714Z"
   },
   {
    "duration": 16,
    "start_time": "2022-03-29T13:12:35.353Z"
   },
   {
    "duration": 22,
    "start_time": "2022-03-29T13:12:37.193Z"
   },
   {
    "duration": 7,
    "start_time": "2022-03-29T13:12:52.517Z"
   },
   {
    "duration": 45,
    "start_time": "2022-03-29T13:12:52.527Z"
   },
   {
    "duration": 24,
    "start_time": "2022-03-29T13:12:52.574Z"
   },
   {
    "duration": 29,
    "start_time": "2022-03-29T13:12:52.601Z"
   },
   {
    "duration": 7,
    "start_time": "2022-03-29T13:12:52.634Z"
   },
   {
    "duration": 38,
    "start_time": "2022-03-29T13:12:52.644Z"
   },
   {
    "duration": 22,
    "start_time": "2022-03-29T13:12:52.686Z"
   },
   {
    "duration": 318,
    "start_time": "2022-03-29T13:12:52.710Z"
   },
   {
    "duration": 15,
    "start_time": "2022-03-29T13:12:53.030Z"
   },
   {
    "duration": 8,
    "start_time": "2022-03-29T13:12:53.047Z"
   },
   {
    "duration": 36,
    "start_time": "2022-03-29T13:12:53.058Z"
   },
   {
    "duration": 56,
    "start_time": "2022-03-29T13:12:53.097Z"
   },
   {
    "duration": 6,
    "start_time": "2022-03-29T13:13:34.745Z"
   },
   {
    "duration": 13,
    "start_time": "2022-03-29T13:13:37.313Z"
   },
   {
    "duration": 11,
    "start_time": "2022-03-29T13:13:38.874Z"
   },
   {
    "duration": 13,
    "start_time": "2022-03-29T13:13:47.024Z"
   },
   {
    "duration": 16,
    "start_time": "2022-03-29T13:13:56.713Z"
   },
   {
    "duration": 3,
    "start_time": "2022-03-29T13:16:49.395Z"
   },
   {
    "duration": 1444,
    "start_time": "2022-03-29T13:16:59.394Z"
   },
   {
    "duration": 16,
    "start_time": "2022-03-29T13:17:12.153Z"
   },
   {
    "duration": 144035,
    "start_time": "2022-03-29T13:17:26.873Z"
   },
   {
    "duration": 19,
    "start_time": "2022-03-29T13:19:50.912Z"
   },
   {
    "duration": 9,
    "start_time": "2022-03-29T13:20:45.232Z"
   },
   {
    "duration": 138893,
    "start_time": "2022-03-29T13:20:53.753Z"
   },
   {
    "duration": 13,
    "start_time": "2022-03-29T13:23:12.650Z"
   },
   {
    "duration": 14,
    "start_time": "2022-03-29T13:25:49.124Z"
   },
   {
    "duration": 4,
    "start_time": "2022-03-29T13:26:40.254Z"
   },
   {
    "duration": 1450,
    "start_time": "2022-03-29T13:26:43.853Z"
   },
   {
    "duration": 13,
    "start_time": "2022-03-29T13:26:54.253Z"
   },
   {
    "duration": 16,
    "start_time": "2022-03-29T13:27:00.686Z"
   },
   {
    "duration": 13,
    "start_time": "2022-03-29T13:27:05.926Z"
   },
   {
    "duration": 31,
    "start_time": "2022-03-29T13:29:37.934Z"
   },
   {
    "duration": 15,
    "start_time": "2022-03-29T13:29:41.653Z"
   },
   {
    "duration": 13,
    "start_time": "2022-03-29T13:29:51.293Z"
   },
   {
    "duration": 13,
    "start_time": "2022-03-29T13:29:53.693Z"
   },
   {
    "duration": 11,
    "start_time": "2022-03-29T13:29:55.861Z"
   },
   {
    "duration": 11,
    "start_time": "2022-03-29T13:29:58.366Z"
   },
   {
    "duration": 16,
    "start_time": "2022-03-29T13:30:04.724Z"
   },
   {
    "duration": 52,
    "start_time": "2022-03-29T13:31:57.597Z"
   },
   {
    "duration": 16,
    "start_time": "2022-03-29T13:32:04.966Z"
   },
   {
    "duration": 20,
    "start_time": "2022-03-29T13:32:07.853Z"
   },
   {
    "duration": 16,
    "start_time": "2022-03-29T13:32:17.773Z"
   },
   {
    "duration": 13,
    "start_time": "2022-03-29T13:32:23.782Z"
   },
   {
    "duration": 28,
    "start_time": "2022-03-29T13:32:27.785Z"
   },
   {
    "duration": 11,
    "start_time": "2022-03-29T13:32:32.818Z"
   },
   {
    "duration": 11,
    "start_time": "2022-03-29T13:32:35.796Z"
   },
   {
    "duration": 11,
    "start_time": "2022-03-29T13:32:37.893Z"
   },
   {
    "duration": 11,
    "start_time": "2022-03-29T13:32:53.120Z"
   },
   {
    "duration": 12,
    "start_time": "2022-03-29T13:32:58.659Z"
   },
   {
    "duration": 30,
    "start_time": "2022-03-29T13:33:50.157Z"
   },
   {
    "duration": 31,
    "start_time": "2022-03-29T13:34:04.130Z"
   },
   {
    "duration": 36,
    "start_time": "2022-03-29T13:34:21.459Z"
   },
   {
    "duration": 35,
    "start_time": "2022-03-29T13:34:26.678Z"
   },
   {
    "duration": 35,
    "start_time": "2022-03-29T13:34:41.938Z"
   },
   {
    "duration": 17,
    "start_time": "2022-03-29T13:34:48.594Z"
   },
   {
    "duration": 27,
    "start_time": "2022-03-29T13:34:51.665Z"
   },
   {
    "duration": 13,
    "start_time": "2022-03-29T13:34:55.353Z"
   },
   {
    "duration": 14,
    "start_time": "2022-03-29T13:35:37.601Z"
   },
   {
    "duration": 31,
    "start_time": "2022-03-29T13:36:37.577Z"
   },
   {
    "duration": 12,
    "start_time": "2022-03-29T13:38:08.057Z"
   },
   {
    "duration": 12,
    "start_time": "2022-03-29T13:38:12.258Z"
   },
   {
    "duration": 13,
    "start_time": "2022-03-29T13:38:15.224Z"
   },
   {
    "duration": 15,
    "start_time": "2022-03-29T13:38:18.842Z"
   }
  ],
  "kernelspec": {
   "display_name": "Python 3 (ipykernel)",
   "language": "python",
   "name": "python3"
  },
  "language_info": {
   "codemirror_mode": {
    "name": "ipython",
    "version": 3
   },
   "file_extension": ".py",
   "mimetype": "text/x-python",
   "name": "python",
   "nbconvert_exporter": "python",
   "pygments_lexer": "ipython3",
   "version": "3.10.4"
  },
  "toc": {
   "base_numbering": 1,
   "nav_menu": {},
   "number_sections": true,
   "sideBar": true,
   "skip_h1_title": true,
   "title_cell": "Содержание",
   "title_sidebar": "Contents",
   "toc_cell": true,
   "toc_position": {
    "height": "696px",
    "left": "107px",
    "top": "112.229px",
    "width": "346.667px"
   },
   "toc_section_display": true,
   "toc_window_display": true
  }
 },
 "nbformat": 4,
 "nbformat_minor": 2
}
